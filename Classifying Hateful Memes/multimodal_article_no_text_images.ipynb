{
 "cells": [
  {
   "cell_type": "markdown",
   "id": "increasing-starter",
   "metadata": {
    "id": "increasing-starter",
    "pycharm": {
     "name": "#%% md\n"
    }
   },
   "source": [
    "## How to get high score using MMBT and CLIP in Hateful Memes Competition"
   ]
  },
  {
   "cell_type": "markdown",
   "id": "equipped-anaheim",
   "metadata": {
    "id": "equipped-anaheim",
    "pycharm": {
     "name": "#%% md\n"
    }
   },
   "source": [
    "#### Use CLIP as a feature encoder for Multimodal Bitransformer and make MMBT really work with Huggingface Transformers to get surprisingly high accuracy"
   ]
  },
  {
   "cell_type": "markdown",
   "id": "dental-membership",
   "metadata": {
    "id": "dental-membership",
    "pycharm": {
     "name": "#%% md\n"
    }
   },
   "source": [
    "The additional stage of <a href=https://www.drivendata.org/competitions/64/hateful-memes/>Hateful Memes Competition</a> from Facebook ended a few months ago. My team was lucky enough to take part in this competition and even get pretty good results (we took tenth place). How we did it and what methods we used - I'll tell you in this article. "
   ]
  },
  {
   "cell_type": "markdown",
   "id": "pacific-saturday",
   "metadata": {
    "id": "pacific-saturday",
    "pycharm": {
     "name": "#%% md\n"
    }
   },
   "source": [
    "## Problem description"
   ]
  },
  {
   "cell_type": "markdown",
   "id": "opening-seventh",
   "metadata": {
    "id": "opening-seventh",
    "pycharm": {
     "name": "#%% md\n"
    }
   },
   "source": [
    "At first glance, the problem that had to be solved in the competition is quite simple - to determine whether a meme is hateful or not using text and image data from it. In reality, the problem is complicated by the many ambiguities inherent in our speech, as well as by the presence of sarcasm and irony, with the definition of which neural networks have problems. You can read more about the competition and the tasks it posed in the corresponding <a href=https://arxiv.org/pdf/2005.04790v2.pdf>paper</a>. \n",
    "\n",
    "<img src=https://drivendata-public-assets.s3.amazonaws.com/memes-overview.png />\n",
    "Image from <a href=https://www.drivendata.org/competitions/64/hateful-memes/>DrivenData</a>"
   ]
  },
  {
   "cell_type": "markdown",
   "id": "another-collapse",
   "metadata": {
    "id": "another-collapse",
    "pycharm": {
     "name": "#%% md\n"
    }
   },
   "source": [
    "## Data Overview"
   ]
  },
  {
   "cell_type": "markdown",
   "id": "local-hazard",
   "metadata": {
    "id": "local-hazard",
    "pycharm": {
     "name": "#%% md\n"
    }
   },
   "source": [
    "During the competition, a downloadable zip file was provided. Now competition data can be found at this <a href=https://hatefulmemeschallenge.com/>link</a>.\n",
    "\n",
    "The zip file includes a folder with images and several json files with images annotations.\n",
    "\n",
    "<b>img/</b> folder contains all the images of the challenge dataset including train, dev and test split. The images are named \\<id>.png, where \\<id> is a unique 5 digit number.  \n",
    "\n",
    "**train.jsonl, dev_seen.jsonl, dev_unseen.jsonl** — json files where each line has a dictionary of key-value pairs of data about the images. The dictionary includes\n",
    "\n",
    "- **id** The unique identifier between the img directory and the .jsonl files, e.g., \"id\": 13894.\n",
    "- **img** The actual meme filename, e.g., \"img\": img/13894.png, note that the filename contains the img directory described above, and that the filename stem is the id.\n",
    "- **text** The raw text string embedded in the meme image, e.g., img/13894.png has \"text\": \"putting bows on your pet\"\n",
    "- **label** where 1 -> \"hateful\" and 0 -> \"non-hateful\"\n",
    "\n",
    "\n",
    "For example:\n",
    "\n",
    "{\"id\":23058,\"img\":\"img\\/23058.png\",\"label\":0,\"text\":\"don't be afraid to love again everyone is not like your ex\"}\n",
    "\n",
    "**test_seen.jsnol** includes mentioned keys, except <b>label</b>."
   ]
  },
  {
   "cell_type": "markdown",
   "id": "norman-zambia",
   "metadata": {
    "id": "norman-zambia",
    "pycharm": {
     "name": "#%% md\n"
    }
   },
   "source": [
    "## Performance metric"
   ]
  },
  {
   "cell_type": "markdown",
   "id": "funky-anger",
   "metadata": {
    "id": "funky-anger",
    "pycharm": {
     "name": "#%% md\n"
    }
   },
   "source": [
    "Model performance and leaderboard rankings were determined using the **AUC ROC** or the Area Under the Curve of the Receiver Operating Characteristic. The metric measures how well your binary classifier discriminates between the classes as its decision threshold is varied. \n",
    "\n",
    "<img src=images/auroc.png />\n",
    "\n",
    "Another metric was the accuracy of  predictions, given by the ratio of correct predictions to the total number of predictions made. \n",
    "\n",
    "<img src=images/accuracy.png />"
   ]
  },
  {
   "cell_type": "markdown",
   "id": "awful-realtor",
   "metadata": {
    "id": "awful-realtor",
    "pycharm": {
     "name": "#%% md\n"
    }
   },
   "source": [
    "## Our approach"
   ]
  },
  {
   "cell_type": "markdown",
   "id": "built-thermal",
   "metadata": {
    "id": "built-thermal",
    "pycharm": {
     "name": "#%% md\n"
    }
   },
   "source": [
    "There are many models and frameworks for working with multimodal data, the one that stands out the most is <a href=https://mmf.sh/>MMF</a> from Facebook. <a href=https://mmf.sh/>MMF</a> provides a simple interface for accessing many powerful multimodal models. But we, as big fans of <a href=https://github.com/huggingface/transformers>Huggingface Transformers</a>, decided not to go the easy way. We decided to find out what multimodal models are available in <a href=https://github.com/huggingface/transformers>Transformers</a> and how to get the most out of them. It turned out that only one model of this kind is currently available in Transformers - <b><a href=\"https://huggingface.co/transformers/summary.html#multimodal-models\">Multimodal Bitransformer (MMBT)</a></b>. Making this model work was not so easy, but this made the task only more interesting. \n",
    "\n",
    "<img width='700px' src='images/MMBT.png'/>\n",
    "MMBT architecture, from <a href='https://arxiv.org/abs/1909.02950'>Supervised Multimodal Bitransformers for Classifying Images and Text paper</a>\n",
    "\n",
    "MMBT fuses information from text and image encoders. <a href='https://huggingface.co/transformers/model_doc/bert.html'>BERT</a> is used as text encoder and <a href='https://pytorch.org/hub/pytorch_vision_resnet/'>ResNet</a> as image encoder. We took advantage of MMBT architecture flexibility and replaced ResNet with <a href=https://github.com/openai/CLIP>CLIP</a> for image encoding.  <b>CLIP</b> pre-trains an image encoder and a text encoder to predict which images were paired with which texts in a dataset. Our assumption was that features from CLIP are more versatile and better suited for a multimodal domain.\n",
    "\n",
    "<img width='700px' src='https://raw.githubusercontent.com/openai/CLIP/main/CLIP.png'/>\n",
    "Summary of CLIP model’s approach, from <a href='https://arxiv.org/abs/2103.00020'>Learning Transferable Visual Models From Natural Language Supervision paper</a>\n",
    "\n",
    "For text encoding we used <a href=https://huggingface.co/Hate-speech-CNERG/bert-base-uncased-hatexplain>bert-base-uncased-hatexplain</a> model which is available in Huggingface Hub. This model was created for hatespeech detection in English, so in our case features from it are better than from <a href=https://huggingface.co/bert-base-uncased>bert-base-uncased</a> that was used in MMBT initially. \n",
    "\n",
    "Final MMBT model was finetuned on a train dataset and validated on dev_seen dataset.\n",
    "\n",
    "We also augmented texts in train dataset using controlled <a href=\"https://huggingface.co/transformers/model_doc/gpt2.html\">GPT-2</a> and <a href=\"https://github.com/dsfsi/textaugment#eda-easy-data-augmentation-techniques-for-boosting-performance-on-text-classification-tasks\">Easy Data Augmentation</a> method. This increased the accuracy of our model by an additional few percent. Augmentation is beyond the scope of this article, and I will probably write about it separately if you find this article and our approach interesting. "
   ]
  },
  {
   "cell_type": "markdown",
   "id": "capable-sender",
   "metadata": {
    "id": "capable-sender",
    "pycharm": {
     "name": "#%% md\n"
    }
   },
   "source": [
    "## Implementation"
   ]
  },
  {
   "cell_type": "markdown",
   "id": "static-denial",
   "metadata": {
    "id": "static-denial",
    "pycharm": {
     "name": "#%% md\n"
    }
   },
   "source": [
    "There will be a lot of code in this section of the article, but I will try to explain all the important parts in detail for a better understanding.\n",
    "\n",
    "First, let's import the required libraries. We will need\n",
    "\n",
    "- Transformers version >=4.8.2\n",
    "- Pytorch version 1.8.1\n",
    "- torchvision 0.9.1\n",
    "- scikit-learn 0.23.2 \n",
    "- Pillow >=8.2.0\n",
    "- tqdm >= 4.60.0\n",
    "- matplotlib >= 3.3.4\n",
    "- numpy >=1.19.5\n",
    "- <a href=https://github.com/openai/CLIP>CLIP</a> (that can be installed from repository). \n",
    "\n",
    "CLIP is now <a href=https://huggingface.co/transformers/model_doc/clip.html>accesible</a> directly in Huggingface Transformers, but at the time of the implementation of our approach it was not there yet. To get the most out of our model, we also used the <a href=https://github.com/facebookresearch/madgrad>MADGRAD</a> optimizer. "
   ]
  },
  {
   "cell_type": "code",
   "execution_count": 2,
   "id": "f61650d6-45b4-4c2a-9aa7-3a3bcd89ffe6",
   "metadata": {
    "pycharm": {
     "name": "#%%\n"
    }
   },
   "outputs": [],
   "source": [
    "#!pip uninstall -y -r <(pip freeze)\n",
    "#import gc\n",
    "#gc.collect()\n",
    "#torch.cuda.empty_cache()"
   ]
  },
  {
   "cell_type": "code",
   "execution_count": 3,
   "id": "940f182c",
   "metadata": {
    "colab": {
     "base_uri": "https://localhost:8080/"
    },
    "id": "940f182c",
    "outputId": "442aa479-fd61-4ac3-e956-1a0048b86f37",
    "pycharm": {
     "name": "#%%\n"
    }
   },
   "outputs": [
    {
     "name": "stdout",
     "output_type": "stream",
     "text": [
      "Requirement already satisfied: tensorflow in ./.local/lib/python3.7/site-packages (2.11.0)\n",
      "Requirement already satisfied: gast<=0.4.0,>=0.2.1 in ./.local/lib/python3.7/site-packages (from tensorflow) (0.4.0)\n",
      "Requirement already satisfied: libclang>=13.0.0 in ./.local/lib/python3.7/site-packages (from tensorflow) (16.0.0)\n",
      "Requirement already satisfied: packaging in /opt/conda/lib/python3.7/site-packages (from tensorflow) (23.0)\n",
      "Requirement already satisfied: tensorflow-io-gcs-filesystem>=0.23.1 in ./.local/lib/python3.7/site-packages (from tensorflow) (0.32.0)\n",
      "Requirement already satisfied: flatbuffers>=2.0 in ./.local/lib/python3.7/site-packages (from tensorflow) (23.3.3)\n",
      "Requirement already satisfied: termcolor>=1.1.0 in ./.local/lib/python3.7/site-packages (from tensorflow) (2.2.0)\n",
      "Requirement already satisfied: opt-einsum>=2.3.2 in ./.local/lib/python3.7/site-packages (from tensorflow) (3.3.0)\n",
      "Requirement already satisfied: protobuf<3.20,>=3.9.2 in ./.local/lib/python3.7/site-packages (from tensorflow) (3.19.6)\n",
      "Requirement already satisfied: absl-py>=1.0.0 in /opt/conda/lib/python3.7/site-packages (from tensorflow) (1.4.0)\n",
      "Requirement already satisfied: keras<2.12,>=2.11.0 in ./.local/lib/python3.7/site-packages (from tensorflow) (2.11.0)\n",
      "Requirement already satisfied: tensorflow-estimator<2.12,>=2.11.0 in ./.local/lib/python3.7/site-packages (from tensorflow) (2.11.0)\n",
      "Requirement already satisfied: setuptools in /opt/conda/lib/python3.7/site-packages (from tensorflow) (67.6.0)\n",
      "Requirement already satisfied: h5py>=2.9.0 in ./.local/lib/python3.7/site-packages (from tensorflow) (3.8.0)\n",
      "Requirement already satisfied: six>=1.12.0 in /opt/conda/lib/python3.7/site-packages (from tensorflow) (1.16.0)\n",
      "Requirement already satisfied: google-pasta>=0.1.1 in ./.local/lib/python3.7/site-packages (from tensorflow) (0.2.0)\n",
      "Requirement already satisfied: numpy>=1.20 in /opt/conda/lib/python3.7/site-packages (from tensorflow) (1.21.6)\n",
      "Requirement already satisfied: grpcio<2.0,>=1.24.3 in /opt/conda/lib/python3.7/site-packages (from tensorflow) (1.51.3)\n",
      "Requirement already satisfied: tensorboard<2.12,>=2.11 in ./.local/lib/python3.7/site-packages (from tensorflow) (2.11.2)\n",
      "Requirement already satisfied: astunparse>=1.6.0 in ./.local/lib/python3.7/site-packages (from tensorflow) (1.6.3)\n",
      "Requirement already satisfied: wrapt>=1.11.0 in /opt/conda/lib/python3.7/site-packages (from tensorflow) (1.15.0)\n",
      "Requirement already satisfied: typing-extensions>=3.6.6 in /opt/conda/lib/python3.7/site-packages (from tensorflow) (4.5.0)\n",
      "Requirement already satisfied: wheel<1.0,>=0.23.0 in /opt/conda/lib/python3.7/site-packages (from astunparse>=1.6.0->tensorflow) (0.40.0)\n",
      "Requirement already satisfied: google-auth<3,>=1.6.3 in /opt/conda/lib/python3.7/site-packages (from tensorboard<2.12,>=2.11->tensorflow) (2.16.3)\n",
      "Requirement already satisfied: requests<3,>=2.21.0 in /opt/conda/lib/python3.7/site-packages (from tensorboard<2.12,>=2.11->tensorflow) (2.28.2)\n",
      "Requirement already satisfied: werkzeug>=1.0.1 in ./.local/lib/python3.7/site-packages (from tensorboard<2.12,>=2.11->tensorflow) (2.2.3)\n",
      "Requirement already satisfied: tensorboard-plugin-wit>=1.6.0 in ./.local/lib/python3.7/site-packages (from tensorboard<2.12,>=2.11->tensorflow) (1.8.1)\n",
      "Requirement already satisfied: google-auth-oauthlib<0.5,>=0.4.1 in ./.local/lib/python3.7/site-packages (from tensorboard<2.12,>=2.11->tensorflow) (0.4.6)\n",
      "Requirement already satisfied: tensorboard-data-server<0.7.0,>=0.6.0 in ./.local/lib/python3.7/site-packages (from tensorboard<2.12,>=2.11->tensorflow) (0.6.1)\n",
      "Requirement already satisfied: markdown>=2.6.8 in ./.local/lib/python3.7/site-packages (from tensorboard<2.12,>=2.11->tensorflow) (3.4.3)\n",
      "Requirement already satisfied: pyasn1-modules>=0.2.1 in /opt/conda/lib/python3.7/site-packages (from google-auth<3,>=1.6.3->tensorboard<2.12,>=2.11->tensorflow) (0.2.8)\n",
      "Requirement already satisfied: cachetools<6.0,>=2.0.0 in /opt/conda/lib/python3.7/site-packages (from google-auth<3,>=1.6.3->tensorboard<2.12,>=2.11->tensorflow) (5.3.0)\n",
      "Requirement already satisfied: rsa<5,>=3.1.4 in /opt/conda/lib/python3.7/site-packages (from google-auth<3,>=1.6.3->tensorboard<2.12,>=2.11->tensorflow) (4.9)\n",
      "Requirement already satisfied: requests-oauthlib>=0.7.0 in /opt/conda/lib/python3.7/site-packages (from google-auth-oauthlib<0.5,>=0.4.1->tensorboard<2.12,>=2.11->tensorflow) (1.3.1)\n",
      "Requirement already satisfied: importlib-metadata>=4.4 in /opt/conda/lib/python3.7/site-packages (from markdown>=2.6.8->tensorboard<2.12,>=2.11->tensorflow) (6.0.1)\n",
      "Requirement already satisfied: idna<4,>=2.5 in /opt/conda/lib/python3.7/site-packages (from requests<3,>=2.21.0->tensorboard<2.12,>=2.11->tensorflow) (3.4)\n",
      "Requirement already satisfied: certifi>=2017.4.17 in /opt/conda/lib/python3.7/site-packages (from requests<3,>=2.21.0->tensorboard<2.12,>=2.11->tensorflow) (2022.12.7)\n",
      "Requirement already satisfied: charset-normalizer<4,>=2 in /opt/conda/lib/python3.7/site-packages (from requests<3,>=2.21.0->tensorboard<2.12,>=2.11->tensorflow) (2.1.1)\n",
      "Requirement already satisfied: urllib3<1.27,>=1.21.1 in /opt/conda/lib/python3.7/site-packages (from requests<3,>=2.21.0->tensorboard<2.12,>=2.11->tensorflow) (1.26.15)\n",
      "Requirement already satisfied: MarkupSafe>=2.1.1 in /opt/conda/lib/python3.7/site-packages (from werkzeug>=1.0.1->tensorboard<2.12,>=2.11->tensorflow) (2.1.2)\n",
      "Requirement already satisfied: zipp>=0.5 in /opt/conda/lib/python3.7/site-packages (from importlib-metadata>=4.4->markdown>=2.6.8->tensorboard<2.12,>=2.11->tensorflow) (3.15.0)\n",
      "Requirement already satisfied: pyasn1<0.5.0,>=0.4.6 in /opt/conda/lib/python3.7/site-packages (from pyasn1-modules>=0.2.1->google-auth<3,>=1.6.3->tensorboard<2.12,>=2.11->tensorflow) (0.4.8)\n",
      "Requirement already satisfied: oauthlib>=3.0.0 in /opt/conda/lib/python3.7/site-packages (from requests-oauthlib>=0.7.0->google-auth-oauthlib<0.5,>=0.4.1->tensorboard<2.12,>=2.11->tensorflow) (3.2.2)\n",
      "Requirement already satisfied: keras in ./.local/lib/python3.7/site-packages (2.11.0)\n",
      "Collecting Transformers\n",
      "  Using cached transformers-4.28.1-py3-none-any.whl (7.0 MB)\n",
      "Collecting regex!=2019.12.17\n",
      "  Using cached regex-2022.10.31-cp37-cp37m-manylinux_2_17_x86_64.manylinux2014_x86_64.whl (757 kB)\n",
      "Requirement already satisfied: importlib-metadata in /opt/conda/lib/python3.7/site-packages (from Transformers) (6.0.1)\n",
      "Requirement already satisfied: requests in /opt/conda/lib/python3.7/site-packages (from Transformers) (2.28.2)\n",
      "Requirement already satisfied: pyyaml>=5.1 in /opt/conda/lib/python3.7/site-packages (from Transformers) (6.0)\n",
      "Requirement already satisfied: numpy>=1.17 in /opt/conda/lib/python3.7/site-packages (from Transformers) (1.21.6)\n",
      "Requirement already satisfied: tqdm>=4.27 in /opt/conda/lib/python3.7/site-packages (from Transformers) (4.64.1)\n",
      "Collecting tokenizers!=0.11.3,<0.14,>=0.11.1\n",
      "  Using cached tokenizers-0.13.3-cp37-cp37m-manylinux_2_17_x86_64.manylinux2014_x86_64.whl (7.8 MB)\n",
      "Requirement already satisfied: packaging>=20.0 in /opt/conda/lib/python3.7/site-packages (from Transformers) (23.0)\n",
      "Collecting huggingface-hub<1.0,>=0.11.0\n",
      "  Using cached huggingface_hub-0.14.0-py3-none-any.whl (224 kB)\n",
      "Requirement already satisfied: filelock in /opt/conda/lib/python3.7/site-packages (from Transformers) (3.10.6)\n",
      "Requirement already satisfied: fsspec in /opt/conda/lib/python3.7/site-packages (from huggingface-hub<1.0,>=0.11.0->Transformers) (2023.1.0)\n",
      "Requirement already satisfied: typing-extensions>=3.7.4.3 in /opt/conda/lib/python3.7/site-packages (from huggingface-hub<1.0,>=0.11.0->Transformers) (4.5.0)\n",
      "Requirement already satisfied: zipp>=0.5 in /opt/conda/lib/python3.7/site-packages (from importlib-metadata->Transformers) (3.15.0)\n",
      "Requirement already satisfied: urllib3<1.27,>=1.21.1 in /opt/conda/lib/python3.7/site-packages (from requests->Transformers) (1.26.15)\n",
      "Requirement already satisfied: charset-normalizer<4,>=2 in /opt/conda/lib/python3.7/site-packages (from requests->Transformers) (2.1.1)\n",
      "Requirement already satisfied: certifi>=2017.4.17 in /opt/conda/lib/python3.7/site-packages (from requests->Transformers) (2022.12.7)\n",
      "Requirement already satisfied: idna<4,>=2.5 in /opt/conda/lib/python3.7/site-packages (from requests->Transformers) (3.4)\n",
      "Installing collected packages: tokenizers, regex, huggingface-hub, Transformers\n",
      "Successfully installed Transformers-4.28.1 huggingface-hub-0.14.0 regex-2022.10.31 tokenizers-0.13.3\n",
      "Requirement already satisfied: torch in /opt/conda/lib/python3.7/site-packages (1.12.1+cu113)\n",
      "Requirement already satisfied: typing-extensions in /opt/conda/lib/python3.7/site-packages (from torch) (4.5.0)\n",
      "Requirement already satisfied: torchvision in /opt/conda/lib/python3.7/site-packages (0.13.1+cu113)\n",
      "Requirement already satisfied: numpy in /opt/conda/lib/python3.7/site-packages (from torchvision) (1.21.6)\n",
      "Requirement already satisfied: typing-extensions in /opt/conda/lib/python3.7/site-packages (from torchvision) (4.5.0)\n",
      "Requirement already satisfied: pillow!=8.3.*,>=5.3.0 in /opt/conda/lib/python3.7/site-packages (from torchvision) (9.4.0)\n",
      "Requirement already satisfied: torch==1.12.1 in /opt/conda/lib/python3.7/site-packages (from torchvision) (1.12.1+cu113)\n",
      "Requirement already satisfied: requests in /opt/conda/lib/python3.7/site-packages (from torchvision) (2.28.2)\n",
      "Requirement already satisfied: charset-normalizer<4,>=2 in /opt/conda/lib/python3.7/site-packages (from requests->torchvision) (2.1.1)\n",
      "Requirement already satisfied: idna<4,>=2.5 in /opt/conda/lib/python3.7/site-packages (from requests->torchvision) (3.4)\n",
      "Requirement already satisfied: certifi>=2017.4.17 in /opt/conda/lib/python3.7/site-packages (from requests->torchvision) (2022.12.7)\n",
      "Requirement already satisfied: urllib3<1.27,>=1.21.1 in /opt/conda/lib/python3.7/site-packages (from requests->torchvision) (1.26.15)\n",
      "Requirement already satisfied: scikit-learn in /opt/conda/lib/python3.7/site-packages (1.0.2)\n",
      "Requirement already satisfied: scipy>=1.1.0 in /opt/conda/lib/python3.7/site-packages (from scikit-learn) (1.7.3)\n",
      "Requirement already satisfied: numpy>=1.14.6 in /opt/conda/lib/python3.7/site-packages (from scikit-learn) (1.21.6)\n",
      "Requirement already satisfied: threadpoolctl>=2.0.0 in /opt/conda/lib/python3.7/site-packages (from scikit-learn) (3.1.0)\n",
      "Requirement already satisfied: joblib>=0.11 in /opt/conda/lib/python3.7/site-packages (from scikit-learn) (1.2.0)\n",
      "Requirement already satisfied: Pillow in /opt/conda/lib/python3.7/site-packages (9.4.0)\n",
      "Requirement already satisfied: tqdm in /opt/conda/lib/python3.7/site-packages (4.64.1)\n",
      "Requirement already satisfied: matplotlib in /opt/conda/lib/python3.7/site-packages (3.5.3)\n",
      "Requirement already satisfied: fonttools>=4.22.0 in /opt/conda/lib/python3.7/site-packages (from matplotlib) (4.38.0)\n",
      "Requirement already satisfied: cycler>=0.10 in /opt/conda/lib/python3.7/site-packages (from matplotlib) (0.11.0)\n",
      "Requirement already satisfied: numpy>=1.17 in /opt/conda/lib/python3.7/site-packages (from matplotlib) (1.21.6)\n",
      "Requirement already satisfied: kiwisolver>=1.0.1 in /opt/conda/lib/python3.7/site-packages (from matplotlib) (1.4.4)\n",
      "Requirement already satisfied: pillow>=6.2.0 in /opt/conda/lib/python3.7/site-packages (from matplotlib) (9.4.0)\n",
      "Requirement already satisfied: python-dateutil>=2.7 in /opt/conda/lib/python3.7/site-packages (from matplotlib) (2.8.2)\n",
      "Requirement already satisfied: pyparsing>=2.2.1 in /opt/conda/lib/python3.7/site-packages (from matplotlib) (3.0.9)\n",
      "Requirement already satisfied: packaging>=20.0 in /opt/conda/lib/python3.7/site-packages (from matplotlib) (23.0)\n",
      "Requirement already satisfied: typing-extensions in /opt/conda/lib/python3.7/site-packages (from kiwisolver>=1.0.1->matplotlib) (4.5.0)\n",
      "Requirement already satisfied: six>=1.5 in /opt/conda/lib/python3.7/site-packages (from python-dateutil>=2.7->matplotlib) (1.16.0)\n",
      "Requirement already satisfied: numpy in /opt/conda/lib/python3.7/site-packages (1.21.6)\n",
      "Collecting git+https://github.com/openai/CLIP.git\n",
      "  Cloning https://github.com/openai/CLIP.git to /tmp/pip-req-build-_aaezo1m\n",
      "  Running command git clone --filter=blob:none --quiet https://github.com/openai/CLIP.git /tmp/pip-req-build-_aaezo1m\n",
      "  Resolved https://github.com/openai/CLIP.git to commit a9b1bf5920416aaeaec965c25dd9e8f98c864f16\n",
      "  Preparing metadata (setup.py) ... \u001B[?25ldone\n",
      "\u001B[?25hCollecting ftfy\n",
      "  Using cached ftfy-6.1.1-py3-none-any.whl (53 kB)\n",
      "Requirement already satisfied: regex in /opt/conda/lib/python3.7/site-packages (from clip==1.0) (2022.10.31)\n",
      "Requirement already satisfied: tqdm in /opt/conda/lib/python3.7/site-packages (from clip==1.0) (4.64.1)\n",
      "Requirement already satisfied: torch in /opt/conda/lib/python3.7/site-packages (from clip==1.0) (1.12.1+cu113)\n",
      "Requirement already satisfied: torchvision in /opt/conda/lib/python3.7/site-packages (from clip==1.0) (0.13.1+cu113)\n",
      "Requirement already satisfied: wcwidth>=0.2.5 in /opt/conda/lib/python3.7/site-packages (from ftfy->clip==1.0) (0.2.6)\n",
      "Requirement already satisfied: typing-extensions in /opt/conda/lib/python3.7/site-packages (from torch->clip==1.0) (4.5.0)\n",
      "Requirement already satisfied: pillow!=8.3.*,>=5.3.0 in /opt/conda/lib/python3.7/site-packages (from torchvision->clip==1.0) (9.4.0)\n",
      "Requirement already satisfied: requests in /opt/conda/lib/python3.7/site-packages (from torchvision->clip==1.0) (2.28.2)\n",
      "Requirement already satisfied: numpy in /opt/conda/lib/python3.7/site-packages (from torchvision->clip==1.0) (1.21.6)\n",
      "Requirement already satisfied: idna<4,>=2.5 in /opt/conda/lib/python3.7/site-packages (from requests->torchvision->clip==1.0) (3.4)\n",
      "Requirement already satisfied: charset-normalizer<4,>=2 in /opt/conda/lib/python3.7/site-packages (from requests->torchvision->clip==1.0) (2.1.1)\n",
      "Requirement already satisfied: certifi>=2017.4.17 in /opt/conda/lib/python3.7/site-packages (from requests->torchvision->clip==1.0) (2022.12.7)\n",
      "Requirement already satisfied: urllib3<1.27,>=1.21.1 in /opt/conda/lib/python3.7/site-packages (from requests->torchvision->clip==1.0) (1.26.15)\n",
      "Building wheels for collected packages: clip\n",
      "  Building wheel for clip (setup.py) ... \u001B[?25ldone\n",
      "\u001B[?25h  Created wheel for clip: filename=clip-1.0-py3-none-any.whl size=1369370 sha256=a54862714c73400fae3591f86b8e63b8af52a905e46d5d71952b6d495c2514b5\n",
      "  Stored in directory: /tmp/pip-ephem-wheel-cache-rvasiz6i/wheels/fd/b9/c3/5b4470e35ed76e174bff77c92f91da82098d5e35fd5bc8cdac\n",
      "Successfully built clip\n",
      "Installing collected packages: ftfy, clip\n",
      "Successfully installed clip-1.0 ftfy-6.1.1\n",
      "Collecting madgrad\n",
      "  Using cached madgrad-1.3-py3-none-any.whl\n",
      "Installing collected packages: madgrad\n",
      "Successfully installed madgrad-1.3\n"
     ]
    }
   ],
   "source": [
    "!pip install tensorflow\n",
    "!pip install keras\n",
    "!pip install Transformers #version >=4.8.2\n",
    "!pip install torch #version 1.8.1\n",
    "!pip install torchvision #0.9.1\n",
    "!pip install scikit-learn #0.23.2\n",
    "!pip install Pillow #>=8.2.0\n",
    "!pip install tqdm #>= 4.60.0\n",
    "!pip install matplotlib #>= 3.3.4\n",
    "!pip install numpy #>=1.19.5\n",
    "!pip install git+https://github.com/openai/CLIP.git\n",
    "!pip install madgrad"
   ]
  },
  {
   "cell_type": "code",
   "execution_count": 4,
   "id": "coupled-inflation",
   "metadata": {
    "id": "coupled-inflation",
    "pycharm": {
     "name": "#%%\n"
    }
   },
   "outputs": [
    {
     "name": "stderr",
     "output_type": "stream",
     "text": [
      "2023-04-24 16:37:43.122402: I tensorflow/core/platform/cpu_feature_guard.cc:193] This TensorFlow binary is optimized with oneAPI Deep Neural Network Library (oneDNN) to use the following CPU instructions in performance-critical operations:  AVX2 FMA\n",
      "To enable them in other operations, rebuild TensorFlow with the appropriate compiler flags.\n",
      "2023-04-24 16:37:57.378036: W tensorflow/compiler/xla/stream_executor/platform/default/dso_loader.cc:64] Could not load dynamic library 'libnvinfer.so.7'; dlerror: libnvinfer.so.7: cannot open shared object file: No such file or directory; LD_LIBRARY_PATH: /usr/local/cuda/lib64:/usr/local/cuda/lib:/usr/local/lib/x86_64-linux-gnu:/usr/local/nvidia/lib:/usr/local/nvidia/lib64:/usr/local/nvidia/lib:/usr/local/nvidia/lib64\n",
      "2023-04-24 16:37:57.379415: W tensorflow/compiler/xla/stream_executor/platform/default/dso_loader.cc:64] Could not load dynamic library 'libnvinfer_plugin.so.7'; dlerror: libnvinfer_plugin.so.7: cannot open shared object file: No such file or directory; LD_LIBRARY_PATH: /usr/local/cuda/lib64:/usr/local/cuda/lib:/usr/local/lib/x86_64-linux-gnu:/usr/local/nvidia/lib:/usr/local/nvidia/lib64:/usr/local/nvidia/lib:/usr/local/nvidia/lib64\n",
      "2023-04-24 16:37:57.379441: W tensorflow/compiler/tf2tensorrt/utils/py_utils.cc:38] TF-TRT Warning: Cannot dlopen some TensorRT libraries. If you would like to use Nvidia GPU with TensorRT, please make sure the missing libraries mentioned above are installed properly.\n"
     ]
    }
   ],
   "source": [
    "import json\n",
    "import os\n",
    "from collections import Counter\n",
    "import random\n",
    "import numpy as np\n",
    "\n",
    "import torch\n",
    "import torch.nn as nn\n",
    "# import torchvision\n",
    "# import torchvision.transforms as transforms\n",
    "from PIL import Image\n",
    "from torch.utils.data import Dataset\n",
    "from torch.utils.data import DataLoader, RandomSampler, SequentialSampler\n",
    "\n",
    "from madgrad import MADGRAD\n",
    "\n",
    "from sklearn.metrics import f1_score, accuracy_score, roc_auc_score\n",
    "\n",
    "import clip\n",
    "import pickle\n",
    "\n",
    "from matplotlib import pyplot as plt\n",
    "from tqdm.notebook import tqdm\n",
    "\n",
    "import copy\n",
    "\n",
    "import transformers\n",
    "from transformers import (\n",
    "    AutoConfig,\n",
    "    AutoModel,\n",
    "    AutoTokenizer,\n",
    "    MMBTConfig,\n",
    "    MMBTModel,\n",
    "    MMBTForClassification,\n",
    "    get_linear_schedule_with_warmup,\n",
    ")"
   ]
  },
  {
   "cell_type": "code",
   "execution_count": 5,
   "id": "4d6757f9-1482-4ddf-b0b8-d31b7641422f",
   "metadata": {
    "pycharm": {
     "name": "#%%\n"
    }
   },
   "outputs": [],
   "source": [
    "#import tensorflow as tf\n",
    "#print(\"Num GPUs Available: \", len(tensorflow.config.list_physical_devices('GPU')))"
   ]
  },
  {
   "cell_type": "markdown",
   "id": "public-homeless",
   "metadata": {
    "id": "public-homeless",
    "pycharm": {
     "name": "#%% md\n"
    }
   },
   "source": [
    "Create a variable with available device, which will do all needed computations. We will need a GPU, so our device is CUDA."
   ]
  },
  {
   "cell_type": "code",
   "execution_count": 6,
   "id": "neural-stadium",
   "metadata": {
    "colab": {
     "base_uri": "https://localhost:8080/"
    },
    "id": "neural-stadium",
    "outputId": "dd2e473c-4b2b-4a2f-f888-1846acdc6743",
    "pycharm": {
     "name": "#%%\n"
    }
   },
   "outputs": [
    {
     "data": {
      "text/plain": [
       "device(type='cuda', index=0)"
      ]
     },
     "execution_count": 6,
     "metadata": {},
     "output_type": "execute_result"
    }
   ],
   "source": [
    "device = torch.device(\"cuda:0\" if torch.cuda.is_available() else \"cpu\")\n",
    "device"
   ]
  },
  {
   "cell_type": "markdown",
   "id": "nasty-fighter",
   "metadata": {
    "id": "nasty-fighter",
    "pycharm": {
     "name": "#%% md\n"
    }
   },
   "source": [
    "Load CLIP model and needed preprocessing."
   ]
  },
  {
   "cell_type": "code",
   "execution_count": 7,
   "id": "executed-comedy",
   "metadata": {
    "colab": {
     "base_uri": "https://localhost:8080/"
    },
    "id": "executed-comedy",
    "outputId": "18e194bf-f358-4cbb-ede2-f1fdcb3f6e3b",
    "pycharm": {
     "name": "#%%\n"
    }
   },
   "outputs": [],
   "source": [
    "clip_model, preprocess = clip.load(\"RN50x4\", device=device, jit=False)"
   ]
  },
  {
   "cell_type": "markdown",
   "id": "electoral-titanium",
   "metadata": {
    "id": "electoral-titanium",
    "pycharm": {
     "name": "#%% md\n"
    }
   },
   "source": [
    "Freeze weights of CLIP feature encoder, as we will not finetune it. "
   ]
  },
  {
   "cell_type": "code",
   "execution_count": 8,
   "id": "unavailable-empire",
   "metadata": {
    "id": "unavailable-empire",
    "pycharm": {
     "name": "#%%\n"
    }
   },
   "outputs": [],
   "source": [
    "for p in clip_model.parameters():\n",
    "    p.requires_grad = False"
   ]
  },
  {
   "cell_type": "markdown",
   "id": "outstanding-latest",
   "metadata": {
    "id": "outstanding-latest",
    "pycharm": {
     "name": "#%% md\n"
    }
   },
   "source": [
    "Initialize needed variables."
   ]
  },
  {
   "cell_type": "code",
   "execution_count": 9,
   "id": "common-arabic",
   "metadata": {
    "id": "common-arabic",
    "pycharm": {
     "name": "#%%\n"
    }
   },
   "outputs": [],
   "source": [
    "num_image_embeds = 4\n",
    "num_labels = 1\n",
    "gradient_accumulation_steps = 20\n",
    "data_dir = 'data'\n",
    "max_seq_length = 80 \n",
    "max_grad_norm = 0.5\n",
    "train_batch_size = 16\n",
    "eval_batch_size = 16\n",
    "image_encoder_size = 288\n",
    "image_features_size = 640\n",
    "num_train_epochs = 5"
   ]
  },
  {
   "cell_type": "markdown",
   "id": "horizontal-south",
   "metadata": {
    "id": "horizontal-south",
    "pycharm": {
     "name": "#%% md\n"
    }
   },
   "source": [
    "Create a function that will prepare an image for CLIP encoder in a special manner. This function will split image into three tiles (by height or width, depending on the aspect ratio of the image). Finally we will get four vectors after encoding (one vector for each tile and one vector for whole image that was padded to square)."
   ]
  },
  {
   "cell_type": "code",
   "execution_count": 10,
   "id": "preceding-advance",
   "metadata": {
    "id": "preceding-advance",
    "pycharm": {
     "name": "#%%\n"
    }
   },
   "outputs": [],
   "source": [
    "def slice_image(im, desired_size):\n",
    "    '''\n",
    "    Resize and slice image\n",
    "    '''\n",
    "    old_size = im.size  \n",
    "\n",
    "    ratio = float(desired_size)/min(old_size)\n",
    "    new_size = tuple([int(x*ratio) for x in old_size])\n",
    "\n",
    "    im = im.resize(new_size, Image.ANTIALIAS)\n",
    "    \n",
    "    ar = np.array(im)\n",
    "    images = []\n",
    "    if ar.shape[0] < ar.shape[1]:\n",
    "        middle = ar.shape[1] // 2\n",
    "        half = desired_size // 2\n",
    "        \n",
    "        images.append(Image.fromarray(ar[:, :desired_size]))\n",
    "        images.append(Image.fromarray(ar[:, middle-half:middle+half]))\n",
    "        images.append(Image.fromarray(ar[:, ar.shape[1]-desired_size:ar.shape[1]]))\n",
    "    else:\n",
    "        middle = ar.shape[0] // 2\n",
    "        half = desired_size // 2\n",
    "        \n",
    "        images.append(Image.fromarray(ar[:desired_size, :]))\n",
    "        images.append(Image.fromarray(ar[middle-half:middle+half, :]))\n",
    "        images.append(Image.fromarray(ar[ar.shape[0]-desired_size:ar.shape[0], :]))\n",
    "\n",
    "    return images"
   ]
  },
  {
   "cell_type": "code",
   "execution_count": 11,
   "id": "directed-landing",
   "metadata": {
    "id": "directed-landing",
    "pycharm": {
     "name": "#%%\n"
    }
   },
   "outputs": [],
   "source": [
    "def resize_pad_image(im, desired_size):\n",
    "    '''\n",
    "    Resize and pad image to a desired size\n",
    "    '''\n",
    "    old_size = im.size  \n",
    "\n",
    "    ratio = float(desired_size)/max(old_size)\n",
    "    new_size = tuple([int(x*ratio) for x in old_size])\n",
    "\n",
    "    im = im.resize(new_size, Image.ANTIALIAS)\n",
    "\n",
    "    # create a new image and paste the resized on it\n",
    "    new_im = Image.new(\"RGB\", (desired_size, desired_size))\n",
    "    new_im.paste(im, ((desired_size-new_size[0])//2,\n",
    "                        (desired_size-new_size[1])//2))\n",
    "\n",
    "    return new_im"
   ]
  },
  {
   "cell_type": "markdown",
   "id": "framed-rings",
   "metadata": {
    "id": "framed-rings",
    "pycharm": {
     "name": "#%% md\n"
    }
   },
   "source": [
    "Define a function, that will get image features from CLIP."
   ]
  },
  {
   "cell_type": "code",
   "execution_count": 12,
   "id": "practical-lyric",
   "metadata": {
    "id": "practical-lyric",
    "pycharm": {
     "name": "#%%\n"
    }
   },
   "outputs": [],
   "source": [
    "class ClipEncoderMulti(nn.Module):\n",
    "    def __init__(self, num_embeds, num_features=image_features_size):\n",
    "        super().__init__()        \n",
    "        self.model = clip_model\n",
    "        self.num_embeds = num_embeds\n",
    "        self.num_features = num_features\n",
    "\n",
    "    def forward(self, x):\n",
    "        # 4x3x288x288 -> 1x4x640\n",
    "        out = self.model.encode_image(x.view(-1,3,288,288))\n",
    "        out = out.view(-1, self.num_embeds, self.num_features).float()\n",
    "        return out  # Bx4x640"
   ]
  },
  {
   "cell_type": "code",
   "execution_count": 13,
   "id": "according-torture",
   "metadata": {
    "id": "according-torture",
    "pycharm": {
     "name": "#%%\n"
    }
   },
   "outputs": [],
   "source": [
    "# image_encoder = ClipEncoderMulti(4)\n",
    "# image = Image.open(\"dataset/img/42953.png\").convert(\"RGB\")\n",
    "\n",
    "# sliced_images = slice_image(image, 288)\n",
    "# sliced_images = [np.array(preprocess(im)) for im in sliced_images] \n",
    "\n",
    "# image = resize_pad_image(image, image_encoder_size)\n",
    "# image = np.array(preprocess(image))\n",
    "\n",
    "# sliced_images = [image] + sliced_images\n",
    "# sliced_images = torch.from_numpy(np.array(sliced_images)).to(device)\n",
    "\n",
    "# print(sliced_images.shape)\n",
    "# print(image_encoder(sliced_images).shape)"
   ]
  },
  {
   "cell_type": "code",
   "execution_count": 14,
   "id": "center-cologne",
   "metadata": {
    "id": "center-cologne",
    "pycharm": {
     "name": "#%%\n"
    }
   },
   "outputs": [],
   "source": [
    "# im = Image.open(\"dataset/img/01576.png\").convert(\"RGB\")\n",
    "# sliced_images = slice_image(im, 288) \n",
    "# for img in sliced_images:\n",
    "#     plt.figure()\n",
    "#     plt.imshow(img)\n",
    "#     print(img.size)"
   ]
  },
  {
   "cell_type": "markdown",
   "id": "incredible-electric",
   "metadata": {
    "id": "incredible-electric",
    "pycharm": {
     "name": "#%% md\n"
    }
   },
   "source": [
    "Create JsonlDataset class that will load texts and preprocessed images. <b>collate_fn</b> will group data from dataset in a format needed for our pytorch model."
   ]
  },
  {
   "cell_type": "code",
   "execution_count": 15,
   "id": "blind-terrorism",
   "metadata": {
    "id": "blind-terrorism",
    "pycharm": {
     "name": "#%%\n"
    }
   },
   "outputs": [],
   "source": [
    "class JsonlDataset(Dataset):\n",
    "    def __init__(self, data_path, tokenizer, transforms, max_seq_length):\n",
    "        self.data = [json.loads(l) for l in open(data_path)]\n",
    "        self.data_dir = os.path.dirname(data_path)\n",
    "        self.tokenizer = tokenizer\n",
    "        self.max_seq_length = max_seq_length\n",
    "\n",
    "        self.transforms = transforms\n",
    "\n",
    "    def __len__(self):\n",
    "        return len(self.data)\n",
    "\n",
    "    def __getitem__(self, index):\n",
    "        sentence = torch.LongTensor(self.tokenizer.encode(self.data[index][\"text\"], add_special_tokens=True))\n",
    "        start_token, sentence, end_token = sentence[0], sentence[1:-1], sentence[-1]\n",
    "        sentence = sentence[:self.max_seq_length]\n",
    "\n",
    "        label = torch.FloatTensor([self.data[index][\"label\"]])\n",
    "\n",
    "        image = Image.open(os.path.join(self.data_dir, self.data[index][\"img\"])).convert(\"RGB\")\n",
    "        sliced_images = slice_image(image, 288)\n",
    "        sliced_images = [np.array(self.transforms(im)) for im in sliced_images]\n",
    "        image = resize_pad_image(image, image_encoder_size)\n",
    "        image = np.array(self.transforms(image))\n",
    "        \n",
    "        sliced_images = [image] + sliced_images         \n",
    "        sliced_images = torch.from_numpy(np.array(sliced_images)).to(device)\n",
    "\n",
    "        return {\n",
    "            \"image_start_token\": start_token,            \n",
    "            \"image_end_token\": end_token,\n",
    "            \"sentence\": sentence,\n",
    "            \"image\": sliced_images,\n",
    "            \"label\": label            \n",
    "        }\n",
    "\n",
    "    def get_label_frequencies(self):\n",
    "        label_freqs = Counter()\n",
    "        for row in self.data:\n",
    "            label_freqs.update([row[\"label\"]])\n",
    "        return label_freqs\n",
    "    \n",
    "    def get_labels(self):\n",
    "        labels = []\n",
    "        for row in self.data:\n",
    "            labels.append(row[\"label\"])\n",
    "        return labels"
   ]
  },
  {
   "cell_type": "code",
   "execution_count": 16,
   "id": "restricted-portsmouth",
   "metadata": {
    "id": "restricted-portsmouth",
    "pycharm": {
     "name": "#%%\n"
    }
   },
   "outputs": [],
   "source": [
    "def collate_fn(batch):\n",
    "    lens = [len(row[\"sentence\"]) for row in batch]\n",
    "    bsz, max_seq_len = len(batch), max(lens)\n",
    "\n",
    "    mask_tensor = torch.zeros(bsz, max_seq_len, dtype=torch.long)\n",
    "    text_tensor = torch.zeros(bsz, max_seq_len, dtype=torch.long)\n",
    "\n",
    "    for i_batch, (input_row, length) in enumerate(zip(batch, lens)):\n",
    "        text_tensor[i_batch, :length] = input_row[\"sentence\"]\n",
    "        mask_tensor[i_batch, :length] = 1\n",
    "    \n",
    "    img_tensor = torch.stack([row[\"image\"] for row in batch])\n",
    "    tgt_tensor = torch.stack([row[\"label\"] for row in batch])\n",
    "    img_start_token = torch.stack([row[\"image_start_token\"] for row in batch])\n",
    "    img_end_token = torch.stack([row[\"image_end_token\"] for row in batch])\n",
    "\n",
    "    return text_tensor, mask_tensor, img_tensor, img_start_token, img_end_token, tgt_tensor"
   ]
  },
  {
   "cell_type": "markdown",
   "id": "twenty-plaza",
   "metadata": {
    "id": "twenty-plaza",
    "pycharm": {
     "name": "#%% md\n"
    }
   },
   "source": [
    "Define **load_examples** function that will load data described in json dataset into JsonlDataset object."
   ]
  },
  {
   "cell_type": "code",
   "execution_count": 17,
   "id": "valuable-hindu",
   "metadata": {
    "id": "valuable-hindu",
    "pycharm": {
     "name": "#%%\n"
    }
   },
   "outputs": [],
   "source": [
    "def load_examples(tokenizer, evaluate=False):\n",
    "    path = os.path.join(data_dir, \"dev.jsonl\" if evaluate else f\"train.jsonl\")\n",
    "    transforms = preprocess\n",
    "    dataset = JsonlDataset(path, tokenizer, transforms, max_seq_length - num_image_embeds - 2)\n",
    "    return dataset"
   ]
  },
  {
   "cell_type": "markdown",
   "id": "logical-failure",
   "metadata": {
    "id": "logical-failure",
    "pycharm": {
     "name": "#%% md\n"
    }
   },
   "source": [
    "Create functions to load and save model weights."
   ]
  },
  {
   "cell_type": "code",
   "execution_count": 18,
   "id": "offshore-corner",
   "metadata": {
    "id": "offshore-corner",
    "pycharm": {
     "name": "#%%\n"
    }
   },
   "outputs": [],
   "source": [
    "def save_checkpoint(save_path, model, valid_loss):\n",
    "\n",
    "    if save_path == None:\n",
    "        return\n",
    "    \n",
    "    state_dict = {'model_state_dict': model.state_dict(),\n",
    "                  'valid_loss': valid_loss}\n",
    "    \n",
    "    torch.save(state_dict, save_path)\n",
    "    print(f'Model saved to ==> {save_path}')\n",
    "    \n",
    "def load_checkpoint(load_path, model):\n",
    "    \n",
    "    if load_path==None:\n",
    "        return\n",
    "    \n",
    "    state_dict = torch.load(load_path, map_location=device)\n",
    "    print(f'Model loaded from <== {load_path}')\n",
    "    \n",
    "    model.load_state_dict(state_dict['model_state_dict'])\n",
    "    return state_dict['valid_loss']"
   ]
  },
  {
   "cell_type": "markdown",
   "id": "impaired-liverpool",
   "metadata": {
    "id": "impaired-liverpool",
    "pycharm": {
     "name": "#%% md\n"
    }
   },
   "source": [
    "Needed functions and classes are created, so we can load our models."
   ]
  },
  {
   "cell_type": "code",
   "execution_count": 19,
   "id": "conservative-priest",
   "metadata": {
    "colab": {
     "base_uri": "https://localhost:8080/",
     "height": 153,
     "referenced_widgets": [
      "6fc0be663d7d478bb70742880d4ceba9",
      "027285a07f42427da0b48df404b1ee40",
      "aa1eeeecbf284849995a3e785347f0cd",
      "d387fa7150c14e3bb052f7b51adf12d1",
      "b2879c34a35849a3afd6f4fdb8e6616f",
      "800cebf225b54813b6e1394b074f163c",
      "7470d25d1f9f43e989c20accdf159776",
      "2e870716634c40c0906fbbf3c0843b64",
      "b7711ef065484542b120449fb0ab035c",
      "d24203fc535c4de398ef31ae2556be4a",
      "d1859e4ee5274258b440d618ab513459",
      "d02a70a5f3d44a13919451ef0010ba0d",
      "b3969f0885e643d19288402e622eb324",
      "16d87487f571444f8643f5aaf00da255",
      "d108575164cd4de790c4708a5c161a1d",
      "444f919fcec94eca842297de8c4eb4d3",
      "bc77fb79c5144ec48f09d86dcec0f5f3",
      "ac69d08b05974ed995160cb07cc657d6",
      "929c47c55af644ff8b421778e4631ccf",
      "405e76e59a6d4931b3cee9025ad93759",
      "40de01a1d00e4f958a40fff8cd2bb025",
      "0fe5c6c46a4a45bc8722b252b2061380"
     ]
    },
    "id": "conservative-priest",
    "outputId": "db082798-1a66-4219-cd4f-c3c9548c6bbe",
    "pycharm": {
     "name": "#%%\n"
    }
   },
   "outputs": [
    {
     "name": "stderr",
     "output_type": "stream",
     "text": [
      "Some weights of the model checkpoint at Hate-speech-CNERG/bert-base-uncased-hatexplain were not used when initializing BertModel: ['classifier.weight', 'classifier.bias']\n",
      "- This IS expected if you are initializing BertModel from the checkpoint of a model trained on another task or with another architecture (e.g. initializing a BertForSequenceClassification model from a BertForPreTraining model).\n",
      "- This IS NOT expected if you are initializing BertModel from the checkpoint of a model that you expect to be exactly identical (initializing a BertForSequenceClassification model from a BertForSequenceClassification model).\n"
     ]
    }
   ],
   "source": [
    "model_name = 'Hate-speech-CNERG/bert-base-uncased-hatexplain'\n",
    "transformer_config = AutoConfig.from_pretrained(model_name) \n",
    "transformer = AutoModel.from_pretrained(model_name, config=transformer_config)\n",
    "img_encoder = ClipEncoderMulti(num_image_embeds)"
   ]
  },
  {
   "cell_type": "code",
   "execution_count": 20,
   "id": "periodic-prime",
   "metadata": {
    "colab": {
     "base_uri": "https://localhost:8080/",
     "height": 113,
     "referenced_widgets": [
      "378424ff268a4e1bbd73664e1bdc31f1",
      "99bad1c431684701916218807406cdde",
      "ea824cbce2164593a05f62245832e562",
      "bed94c5e421b467299cd3949b9f3fdb5",
      "770fa680457044fbab171ec17894258f",
      "3bc54c495c7b4006a86d2defc85a7c7e",
      "533630bdf2d14480b1702f37a774c4f7",
      "8047341a42db499eb4b3340c50b190cb",
      "1b815eaf945946e38a56e0719617546b",
      "82fac9ae3c1743b8a06a4857f41484df",
      "a68e9e7bb3d049ff84adb9564834d652",
      "08422ecc69f242899e91757263db9447",
      "429fc1973afa419eab0e697a3710e657",
      "dd2df7f88cd74b18877819399062edf8",
      "ba7be7b1eba74cdc867fc4855e747875",
      "bf107ed2a73d46c5becf88744ec39f82",
      "486258acf12147449d108b2acc8ba44b",
      "f0fb37c5777a4752bbf55dabcb4ab55b",
      "c06f11897d8348f3ab48eff61a10b598",
      "127d911f807946278206e260aef3e392",
      "4af3b697d69848fe9c626433fd55c9d7",
      "398328c7735142f784fad3072402e269",
      "93430e0258cd48b0bb039a5f22864945",
      "b27eb501d5a4461a9f49a8ecc1289e45",
      "1f484180b2a34c4181ca5004ae5e767a",
      "cd28cb8de25440539bfd5d1d6c28fa5c",
      "6d73d27a62054ad1a05814a17167a667",
      "487a33a912a34b029552a7204263cf92",
      "14824684827e497ea5573bf3acfe77ce",
      "cecc179303b842d38af247c21cce12cf",
      "98345c40386d467dba152e3d95022572",
      "09a41ce67bc64777af1f9a17023b8a24",
      "869cc3152c3645aab47a4ef5906edd90"
     ]
    },
    "id": "periodic-prime",
    "outputId": "f1e2c1c5-9c19-4518-c7c2-b33734dda0a9",
    "pycharm": {
     "name": "#%%\n"
    }
   },
   "outputs": [],
   "source": [
    "tokenizer = AutoTokenizer.from_pretrained(model_name, do_lower_case=True)"
   ]
  },
  {
   "cell_type": "code",
   "execution_count": 21,
   "id": "compact-excellence",
   "metadata": {
    "id": "compact-excellence",
    "pycharm": {
     "name": "#%%\n"
    }
   },
   "outputs": [],
   "source": [
    "config = MMBTConfig(transformer_config, num_labels=num_labels, modal_hidden_size=image_features_size)\n",
    "model = MMBTForClassification(config, transformer, img_encoder)"
   ]
  },
  {
   "cell_type": "code",
   "execution_count": 22,
   "id": "secure-executive",
   "metadata": {
    "id": "secure-executive",
    "pycharm": {
     "name": "#%%\n"
    }
   },
   "outputs": [],
   "source": [
    "model.to(device);"
   ]
  },
  {
   "cell_type": "markdown",
   "id": "least-mattress",
   "metadata": {
    "id": "least-mattress",
    "pycharm": {
     "name": "#%% md\n"
    }
   },
   "source": [
    "Load train and evaluation datasets and create dataloaders for these datasets."
   ]
  },
  {
   "cell_type": "code",
   "execution_count": 23,
   "id": "future-sport",
   "metadata": {
    "id": "future-sport",
    "pycharm": {
     "name": "#%%\n"
    }
   },
   "outputs": [],
   "source": [
    "train_dataset = load_examples(tokenizer, evaluate=False)\n",
    "eval_dataset = load_examples(tokenizer, evaluate=True)   \n",
    "\n",
    "train_sampler = RandomSampler(train_dataset)\n",
    "eval_sampler = SequentialSampler(eval_dataset)\n",
    "\n",
    "train_dataloader = DataLoader(\n",
    "        train_dataset,\n",
    "        sampler=train_sampler,\n",
    "        batch_size=train_batch_size,\n",
    "        collate_fn=collate_fn\n",
    "    )\n",
    "\n",
    "\n",
    "eval_dataloader = DataLoader(\n",
    "        eval_dataset, \n",
    "        sampler=eval_sampler, \n",
    "        batch_size=eval_batch_size, \n",
    "        collate_fn=collate_fn\n",
    "    )"
   ]
  },
  {
   "cell_type": "markdown",
   "id": "expanded-nashville",
   "metadata": {
    "id": "expanded-nashville",
    "pycharm": {
     "name": "#%% md\n"
    }
   },
   "source": [
    "Define model training parameters, optimizer and loss."
   ]
  },
  {
   "cell_type": "code",
   "execution_count": 24,
   "id": "collective-blogger",
   "metadata": {
    "id": "collective-blogger",
    "pycharm": {
     "name": "#%%\n"
    }
   },
   "outputs": [],
   "source": [
    "# Prepare optimizer and schedule (linear warmup and decay)\n",
    "no_decay = [\"bias\", \n",
    "            \"LayerNorm.weight\"\n",
    "           ]\n",
    "weight_decay = 0.0005\n",
    "\n",
    "optimizer_grouped_parameters = [\n",
    "        {\n",
    "            \"params\": [p for n, p in model.named_parameters() if not any(nd in n for nd in no_decay)],\n",
    "            \"weight_decay\": weight_decay,\n",
    "        },\n",
    "        {\"params\": [p for n, p in model.named_parameters() if any(nd in n for nd in no_decay)], \"weight_decay\": 0.0},\n",
    "    ]\n",
    "\n",
    "t_total = (len(train_dataloader) // gradient_accumulation_steps) * num_train_epochs\n",
    "warmup_steps = t_total // 10\n",
    "\n",
    "optimizer = MADGRAD(optimizer_grouped_parameters, lr=2e-4)\n",
    "\n",
    "scheduler = get_linear_schedule_with_warmup(\n",
    "        optimizer, warmup_steps, t_total\n",
    "    )\n",
    "\n",
    "criterion = nn.BCEWithLogitsLoss()"
   ]
  },
  {
   "cell_type": "markdown",
   "id": "gross-malawi",
   "metadata": {
    "id": "gross-malawi",
    "pycharm": {
     "name": "#%% md\n"
    }
   },
   "source": [
    "Define evaluation function that will take evaluation dataloader and calculate prediction AUC, <a href=\"https://scikit-learn.org/stable/modules/generated/sklearn.metrics.f1_score.html\">F1 score</a> and accuracy."
   ]
  },
  {
   "cell_type": "code",
   "execution_count": 25,
   "id": "pending-advocacy",
   "metadata": {
    "id": "pending-advocacy",
    "pycharm": {
     "name": "#%%\n"
    }
   },
   "outputs": [],
   "source": [
    "def evaluate(model, tokenizer, criterion, dataloader, tres = 0.5): \n",
    "    \n",
    "    # Eval!\n",
    "    eval_loss = 0.0\n",
    "    nb_eval_steps = 0\n",
    "    preds = None\n",
    "    proba = None\n",
    "    out_label_ids = None\n",
    "    for batch in dataloader:\n",
    "        model.eval()\n",
    "        batch = tuple(t.to(device) for t in batch)\n",
    "        with torch.no_grad():\n",
    "            labels = batch[5]\n",
    "            inputs = {\n",
    "                \"input_ids\": batch[0],\n",
    "                \"input_modal\": batch[2],\n",
    "                \"attention_mask\": batch[1],\n",
    "                \"modal_start_tokens\": batch[3],\n",
    "                \"modal_end_tokens\": batch[4],\n",
    "                \"return_dict\": False\n",
    "            }\n",
    "            outputs = model(**inputs)\n",
    "            logits = outputs[0]  # model outputs are always tuple in transformers (see doc)\n",
    "            tmp_eval_loss = criterion(logits, labels)\n",
    "            eval_loss += tmp_eval_loss.mean().item()\n",
    "        nb_eval_steps += 1\n",
    "        if preds is None:\n",
    "            preds = torch.sigmoid(logits).detach().cpu().numpy() > tres\n",
    "            proba = torch.sigmoid(logits).detach().cpu().numpy()\n",
    "            out_label_ids = labels.detach().cpu().numpy()\n",
    "        else:            \n",
    "            preds = np.append(preds, torch.sigmoid(logits).detach().cpu().numpy() > tres, axis=0)\n",
    "            proba = np.append(proba, torch.sigmoid(logits).detach().cpu().numpy(), axis=0)\n",
    "            out_label_ids = np.append(out_label_ids, labels.detach().cpu().numpy(), axis=0)\n",
    "    \n",
    "    eval_loss = eval_loss / nb_eval_steps\n",
    "\n",
    "    result = {\n",
    "        \"loss\": eval_loss,\n",
    "        \"accuracy\": accuracy_score(out_label_ids, preds),\n",
    "        \"AUC\": roc_auc_score(out_label_ids, proba),\n",
    "        \"micro_f1\": f1_score(out_label_ids, preds, average=\"micro\"),\n",
    "        \"prediction\": preds,\n",
    "        \"labels\": out_label_ids,\n",
    "        \"proba\": proba\n",
    "    }\n",
    "    \n",
    "    return result"
   ]
  },
  {
   "cell_type": "markdown",
   "id": "flush-creator",
   "metadata": {
    "id": "flush-creator",
    "pycharm": {
     "name": "#%% md\n"
    }
   },
   "source": [
    "Finally we can train our model. We specify minimun needed AUC value in <b>best_valid_auc</b> variable, so if the model achieves higher AUC on validation data than it was specified, we will save that model."
   ]
  },
  {
   "cell_type": "code",
   "execution_count": 26,
   "id": "continuous-asbestos",
   "metadata": {
    "colab": {
     "base_uri": "https://localhost:8080/",
     "height": 66,
     "referenced_widgets": [
      "e6b61238259b45ed95cbdd61f694ab6c",
      "5a21d1c276e5471b9d5672c3eb928be3",
      "4a96f4c295eb47fd80416618878672c5",
      "a78eb9ae941543a6af0df4c1ee2b2127",
      "1daed552d312484a88a92374ad13aff1",
      "9be77e72117747a8bdb19619030581b2",
      "6131ce7205cf4137be71a8077a6d8f4e",
      "6f48441e9c7f4e6c819d0f17b55c3074",
      "ea5dbade79d74f3f8ea1fef142a38f76",
      "723ea23fb9064ab69eba8f7d65955a57",
      "46b83315b2fb4d988a4c6600f9cbb83e"
     ]
    },
    "id": "continuous-asbestos",
    "outputId": "ba4b458a-0e2e-4b96-bb24-b4547647e943",
    "pycharm": {
     "name": "#%%\n"
    }
   },
   "outputs": [
    {
     "name": "stdout",
     "output_type": "stream",
     "text": [
      "Epoch 1 from 5\n"
     ]
    },
    {
     "data": {
      "application/vnd.jupyter.widget-view+json": {
       "model_id": "99bf979150c643e69f4bd029e1cf6633",
       "version_major": 2,
       "version_minor": 0
      },
      "text/plain": [
       "  0%|          | 0/532 [00:00<?, ?it/s]"
      ]
     },
     "metadata": {},
     "output_type": "display_data"
    },
    {
     "name": "stderr",
     "output_type": "stream",
     "text": [
      "/opt/conda/lib/python3.7/site-packages/ipykernel_launcher.py:10: DeprecationWarning: ANTIALIAS is deprecated and will be removed in Pillow 10 (2023-07-01). Use LANCZOS or Resampling.LANCZOS instead.\n",
      "  # Remove the CWD from sys.path while we load stuff.\n"
     ]
    },
    {
     "name": "stdout",
     "output_type": "stream",
     "text": [
      "Train loss: 0.0334 Val loss: 0.7362 Val acc: 0.5000 AUC: 0.4754\n"
     ]
    },
    {
     "name": "stderr",
     "output_type": "stream",
     "text": [
      "/opt/conda/lib/python3.7/site-packages/ipykernel_launcher.py:10: DeprecationWarning: ANTIALIAS is deprecated and will be removed in Pillow 10 (2023-07-01). Use LANCZOS or Resampling.LANCZOS instead.\n",
      "  # Remove the CWD from sys.path while we load stuff.\n"
     ]
    },
    {
     "name": "stdout",
     "output_type": "stream",
     "text": [
      "Train loss: 0.0331 Val loss: 0.7075 Val acc: 0.5220 AUC: 0.5414\n"
     ]
    },
    {
     "name": "stderr",
     "output_type": "stream",
     "text": [
      "/opt/conda/lib/python3.7/site-packages/ipykernel_launcher.py:10: DeprecationWarning: ANTIALIAS is deprecated and will be removed in Pillow 10 (2023-07-01). Use LANCZOS or Resampling.LANCZOS instead.\n",
      "  # Remove the CWD from sys.path while we load stuff.\n"
     ]
    },
    {
     "name": "stdout",
     "output_type": "stream",
     "text": [
      "Train loss: 0.0313 Val loss: 0.7221 Val acc: 0.5360 AUC: 0.6023\n"
     ]
    },
    {
     "name": "stderr",
     "output_type": "stream",
     "text": [
      "/opt/conda/lib/python3.7/site-packages/ipykernel_launcher.py:10: DeprecationWarning: ANTIALIAS is deprecated and will be removed in Pillow 10 (2023-07-01). Use LANCZOS or Resampling.LANCZOS instead.\n",
      "  # Remove the CWD from sys.path while we load stuff.\n"
     ]
    },
    {
     "name": "stdout",
     "output_type": "stream",
     "text": [
      "Train loss: 0.0300 Val loss: 0.7234 Val acc: 0.5540 AUC: 0.6079\n"
     ]
    },
    {
     "name": "stderr",
     "output_type": "stream",
     "text": [
      "/opt/conda/lib/python3.7/site-packages/ipykernel_launcher.py:10: DeprecationWarning: ANTIALIAS is deprecated and will be removed in Pillow 10 (2023-07-01). Use LANCZOS or Resampling.LANCZOS instead.\n",
      "  # Remove the CWD from sys.path while we load stuff.\n"
     ]
    },
    {
     "name": "stdout",
     "output_type": "stream",
     "text": [
      "Train loss: 0.0300 Val loss: 0.7096 Val acc: 0.5560 AUC: 0.6302\n"
     ]
    },
    {
     "name": "stderr",
     "output_type": "stream",
     "text": [
      "/opt/conda/lib/python3.7/site-packages/ipykernel_launcher.py:10: DeprecationWarning: ANTIALIAS is deprecated and will be removed in Pillow 10 (2023-07-01). Use LANCZOS or Resampling.LANCZOS instead.\n",
      "  # Remove the CWD from sys.path while we load stuff.\n"
     ]
    },
    {
     "name": "stdout",
     "output_type": "stream",
     "text": [
      "Train loss: 0.0287 Val loss: 0.8626 Val acc: 0.5400 AUC: 0.6384\n"
     ]
    },
    {
     "name": "stderr",
     "output_type": "stream",
     "text": [
      "/opt/conda/lib/python3.7/site-packages/ipykernel_launcher.py:10: DeprecationWarning: ANTIALIAS is deprecated and will be removed in Pillow 10 (2023-07-01). Use LANCZOS or Resampling.LANCZOS instead.\n",
      "  # Remove the CWD from sys.path while we load stuff.\n"
     ]
    },
    {
     "name": "stdout",
     "output_type": "stream",
     "text": [
      "Train loss: 0.0286 Val loss: 0.7605 Val acc: 0.5560 AUC: 0.6494\n",
      "\n",
      "\n",
      "Epoch 2 from 5\n"
     ]
    },
    {
     "data": {
      "application/vnd.jupyter.widget-view+json": {
       "model_id": "6293a1cdc9bf4a34ac5d869bdae4d39a",
       "version_major": 2,
       "version_minor": 0
      },
      "text/plain": [
       "  0%|          | 0/532 [00:00<?, ?it/s]"
      ]
     },
     "metadata": {},
     "output_type": "display_data"
    },
    {
     "name": "stderr",
     "output_type": "stream",
     "text": [
      "/opt/conda/lib/python3.7/site-packages/ipykernel_launcher.py:10: DeprecationWarning: ANTIALIAS is deprecated and will be removed in Pillow 10 (2023-07-01). Use LANCZOS or Resampling.LANCZOS instead.\n",
      "  # Remove the CWD from sys.path while we load stuff.\n"
     ]
    },
    {
     "name": "stdout",
     "output_type": "stream",
     "text": [
      "Train loss: 0.0273 Val loss: 0.7250 Val acc: 0.5740 AUC: 0.6518\n"
     ]
    },
    {
     "name": "stderr",
     "output_type": "stream",
     "text": [
      "/opt/conda/lib/python3.7/site-packages/ipykernel_launcher.py:10: DeprecationWarning: ANTIALIAS is deprecated and will be removed in Pillow 10 (2023-07-01). Use LANCZOS or Resampling.LANCZOS instead.\n",
      "  # Remove the CWD from sys.path while we load stuff.\n"
     ]
    },
    {
     "name": "stdout",
     "output_type": "stream",
     "text": [
      "Train loss: 0.0269 Val loss: 1.0333 Val acc: 0.5220 AUC: 0.6549\n"
     ]
    },
    {
     "name": "stderr",
     "output_type": "stream",
     "text": [
      "/opt/conda/lib/python3.7/site-packages/ipykernel_launcher.py:10: DeprecationWarning: ANTIALIAS is deprecated and will be removed in Pillow 10 (2023-07-01). Use LANCZOS or Resampling.LANCZOS instead.\n",
      "  # Remove the CWD from sys.path while we load stuff.\n"
     ]
    },
    {
     "name": "stdout",
     "output_type": "stream",
     "text": [
      "Train loss: 0.0270 Val loss: 0.6993 Val acc: 0.5920 AUC: 0.6577\n"
     ]
    },
    {
     "name": "stderr",
     "output_type": "stream",
     "text": [
      "/opt/conda/lib/python3.7/site-packages/ipykernel_launcher.py:10: DeprecationWarning: ANTIALIAS is deprecated and will be removed in Pillow 10 (2023-07-01). Use LANCZOS or Resampling.LANCZOS instead.\n",
      "  # Remove the CWD from sys.path while we load stuff.\n"
     ]
    },
    {
     "name": "stdout",
     "output_type": "stream",
     "text": [
      "Train loss: 0.0248 Val loss: 0.8528 Val acc: 0.5660 AUC: 0.6732\n"
     ]
    },
    {
     "name": "stderr",
     "output_type": "stream",
     "text": [
      "/opt/conda/lib/python3.7/site-packages/ipykernel_launcher.py:10: DeprecationWarning: ANTIALIAS is deprecated and will be removed in Pillow 10 (2023-07-01). Use LANCZOS or Resampling.LANCZOS instead.\n",
      "  # Remove the CWD from sys.path while we load stuff.\n"
     ]
    },
    {
     "name": "stdout",
     "output_type": "stream",
     "text": [
      "Train loss: 0.0277 Val loss: 0.8346 Val acc: 0.5880 AUC: 0.6882\n"
     ]
    },
    {
     "name": "stderr",
     "output_type": "stream",
     "text": [
      "/opt/conda/lib/python3.7/site-packages/ipykernel_launcher.py:10: DeprecationWarning: ANTIALIAS is deprecated and will be removed in Pillow 10 (2023-07-01). Use LANCZOS or Resampling.LANCZOS instead.\n",
      "  # Remove the CWD from sys.path while we load stuff.\n"
     ]
    },
    {
     "name": "stdout",
     "output_type": "stream",
     "text": [
      "Train loss: 0.0252 Val loss: 0.7376 Val acc: 0.5980 AUC: 0.6952\n"
     ]
    },
    {
     "name": "stderr",
     "output_type": "stream",
     "text": [
      "/opt/conda/lib/python3.7/site-packages/ipykernel_launcher.py:10: DeprecationWarning: ANTIALIAS is deprecated and will be removed in Pillow 10 (2023-07-01). Use LANCZOS or Resampling.LANCZOS instead.\n",
      "  # Remove the CWD from sys.path while we load stuff.\n"
     ]
    },
    {
     "name": "stdout",
     "output_type": "stream",
     "text": [
      "Train loss: 0.0265 Val loss: 0.7010 Val acc: 0.5960 AUC: 0.6979\n",
      "\n",
      "\n",
      "Epoch 3 from 5\n"
     ]
    },
    {
     "data": {
      "application/vnd.jupyter.widget-view+json": {
       "model_id": "d5d61a16ef8e439587bc17d224f31421",
       "version_major": 2,
       "version_minor": 0
      },
      "text/plain": [
       "  0%|          | 0/532 [00:00<?, ?it/s]"
      ]
     },
     "metadata": {},
     "output_type": "display_data"
    },
    {
     "name": "stderr",
     "output_type": "stream",
     "text": [
      "/opt/conda/lib/python3.7/site-packages/ipykernel_launcher.py:10: DeprecationWarning: ANTIALIAS is deprecated and will be removed in Pillow 10 (2023-07-01). Use LANCZOS or Resampling.LANCZOS instead.\n",
      "  # Remove the CWD from sys.path while we load stuff.\n"
     ]
    },
    {
     "name": "stdout",
     "output_type": "stream",
     "text": [
      "Train loss: 0.0231 Val loss: 0.7446 Val acc: 0.6160 AUC: 0.6985\n"
     ]
    },
    {
     "name": "stderr",
     "output_type": "stream",
     "text": [
      "/opt/conda/lib/python3.7/site-packages/ipykernel_launcher.py:10: DeprecationWarning: ANTIALIAS is deprecated and will be removed in Pillow 10 (2023-07-01). Use LANCZOS or Resampling.LANCZOS instead.\n",
      "  # Remove the CWD from sys.path while we load stuff.\n"
     ]
    },
    {
     "name": "stdout",
     "output_type": "stream",
     "text": [
      "Train loss: 0.0223 Val loss: 0.8903 Val acc: 0.5520 AUC: 0.6887\n"
     ]
    },
    {
     "name": "stderr",
     "output_type": "stream",
     "text": [
      "/opt/conda/lib/python3.7/site-packages/ipykernel_launcher.py:10: DeprecationWarning: ANTIALIAS is deprecated and will be removed in Pillow 10 (2023-07-01). Use LANCZOS or Resampling.LANCZOS instead.\n",
      "  # Remove the CWD from sys.path while we load stuff.\n"
     ]
    },
    {
     "name": "stdout",
     "output_type": "stream",
     "text": [
      "Train loss: 0.0216 Val loss: 0.8711 Val acc: 0.5680 AUC: 0.6909\n"
     ]
    },
    {
     "name": "stderr",
     "output_type": "stream",
     "text": [
      "/opt/conda/lib/python3.7/site-packages/ipykernel_launcher.py:10: DeprecationWarning: ANTIALIAS is deprecated and will be removed in Pillow 10 (2023-07-01). Use LANCZOS or Resampling.LANCZOS instead.\n",
      "  # Remove the CWD from sys.path while we load stuff.\n"
     ]
    },
    {
     "name": "stdout",
     "output_type": "stream",
     "text": [
      "Train loss: 0.0241 Val loss: 0.6664 Val acc: 0.6520 AUC: 0.6941\n"
     ]
    },
    {
     "name": "stderr",
     "output_type": "stream",
     "text": [
      "/opt/conda/lib/python3.7/site-packages/ipykernel_launcher.py:10: DeprecationWarning: ANTIALIAS is deprecated and will be removed in Pillow 10 (2023-07-01). Use LANCZOS or Resampling.LANCZOS instead.\n",
      "  # Remove the CWD from sys.path while we load stuff.\n"
     ]
    },
    {
     "name": "stdout",
     "output_type": "stream",
     "text": [
      "Train loss: 0.0242 Val loss: 0.9746 Val acc: 0.5400 AUC: 0.7050\n"
     ]
    },
    {
     "name": "stderr",
     "output_type": "stream",
     "text": [
      "/opt/conda/lib/python3.7/site-packages/ipykernel_launcher.py:10: DeprecationWarning: ANTIALIAS is deprecated and will be removed in Pillow 10 (2023-07-01). Use LANCZOS or Resampling.LANCZOS instead.\n",
      "  # Remove the CWD from sys.path while we load stuff.\n"
     ]
    },
    {
     "name": "stdout",
     "output_type": "stream",
     "text": [
      "Train loss: 0.0238 Val loss: 0.6520 Val acc: 0.6460 AUC: 0.7023\n"
     ]
    },
    {
     "name": "stderr",
     "output_type": "stream",
     "text": [
      "/opt/conda/lib/python3.7/site-packages/ipykernel_launcher.py:10: DeprecationWarning: ANTIALIAS is deprecated and will be removed in Pillow 10 (2023-07-01). Use LANCZOS or Resampling.LANCZOS instead.\n",
      "  # Remove the CWD from sys.path while we load stuff.\n"
     ]
    },
    {
     "name": "stdout",
     "output_type": "stream",
     "text": [
      "Train loss: 0.0245 Val loss: 0.8994 Val acc: 0.5360 AUC: 0.7128\n",
      "\n",
      "\n",
      "Epoch 4 from 5\n"
     ]
    },
    {
     "data": {
      "application/vnd.jupyter.widget-view+json": {
       "model_id": "71c5d21af0ce406fb9ce60598fbd508f",
       "version_major": 2,
       "version_minor": 0
      },
      "text/plain": [
       "  0%|          | 0/532 [00:00<?, ?it/s]"
      ]
     },
     "metadata": {},
     "output_type": "display_data"
    },
    {
     "name": "stderr",
     "output_type": "stream",
     "text": [
      "/opt/conda/lib/python3.7/site-packages/ipykernel_launcher.py:10: DeprecationWarning: ANTIALIAS is deprecated and will be removed in Pillow 10 (2023-07-01). Use LANCZOS or Resampling.LANCZOS instead.\n",
      "  # Remove the CWD from sys.path while we load stuff.\n"
     ]
    },
    {
     "name": "stdout",
     "output_type": "stream",
     "text": [
      "Train loss: 0.0219 Val loss: 0.6864 Val acc: 0.6100 AUC: 0.7119\n"
     ]
    },
    {
     "name": "stderr",
     "output_type": "stream",
     "text": [
      "/opt/conda/lib/python3.7/site-packages/ipykernel_launcher.py:10: DeprecationWarning: ANTIALIAS is deprecated and will be removed in Pillow 10 (2023-07-01). Use LANCZOS or Resampling.LANCZOS instead.\n",
      "  # Remove the CWD from sys.path while we load stuff.\n"
     ]
    },
    {
     "name": "stdout",
     "output_type": "stream",
     "text": [
      "Train loss: 0.0202 Val loss: 0.7836 Val acc: 0.6220 AUC: 0.7088\n"
     ]
    },
    {
     "name": "stderr",
     "output_type": "stream",
     "text": [
      "/opt/conda/lib/python3.7/site-packages/ipykernel_launcher.py:10: DeprecationWarning: ANTIALIAS is deprecated and will be removed in Pillow 10 (2023-07-01). Use LANCZOS or Resampling.LANCZOS instead.\n",
      "  # Remove the CWD from sys.path while we load stuff.\n"
     ]
    },
    {
     "name": "stdout",
     "output_type": "stream",
     "text": [
      "Train loss: 0.0190 Val loss: 0.8970 Val acc: 0.5880 AUC: 0.7143\n"
     ]
    },
    {
     "name": "stderr",
     "output_type": "stream",
     "text": [
      "/opt/conda/lib/python3.7/site-packages/ipykernel_launcher.py:10: DeprecationWarning: ANTIALIAS is deprecated and will be removed in Pillow 10 (2023-07-01). Use LANCZOS or Resampling.LANCZOS instead.\n",
      "  # Remove the CWD from sys.path while we load stuff.\n"
     ]
    },
    {
     "name": "stdout",
     "output_type": "stream",
     "text": [
      "Train loss: 0.0187 Val loss: 0.8459 Val acc: 0.5840 AUC: 0.7125\n"
     ]
    },
    {
     "name": "stderr",
     "output_type": "stream",
     "text": [
      "/opt/conda/lib/python3.7/site-packages/ipykernel_launcher.py:10: DeprecationWarning: ANTIALIAS is deprecated and will be removed in Pillow 10 (2023-07-01). Use LANCZOS or Resampling.LANCZOS instead.\n",
      "  # Remove the CWD from sys.path while we load stuff.\n"
     ]
    },
    {
     "name": "stdout",
     "output_type": "stream",
     "text": [
      "Train loss: 0.0201 Val loss: 0.8049 Val acc: 0.6120 AUC: 0.6981\n"
     ]
    },
    {
     "name": "stderr",
     "output_type": "stream",
     "text": [
      "/opt/conda/lib/python3.7/site-packages/ipykernel_launcher.py:10: DeprecationWarning: ANTIALIAS is deprecated and will be removed in Pillow 10 (2023-07-01). Use LANCZOS or Resampling.LANCZOS instead.\n",
      "  # Remove the CWD from sys.path while we load stuff.\n"
     ]
    },
    {
     "name": "stdout",
     "output_type": "stream",
     "text": [
      "Train loss: 0.0188 Val loss: 0.8049 Val acc: 0.6040 AUC: 0.7138\n"
     ]
    },
    {
     "name": "stderr",
     "output_type": "stream",
     "text": [
      "/opt/conda/lib/python3.7/site-packages/ipykernel_launcher.py:10: DeprecationWarning: ANTIALIAS is deprecated and will be removed in Pillow 10 (2023-07-01). Use LANCZOS or Resampling.LANCZOS instead.\n",
      "  # Remove the CWD from sys.path while we load stuff.\n"
     ]
    },
    {
     "name": "stdout",
     "output_type": "stream",
     "text": [
      "Train loss: 0.0200 Val loss: 0.7848 Val acc: 0.6120 AUC: 0.7291\n",
      "\n",
      "\n",
      "Epoch 5 from 5\n"
     ]
    },
    {
     "data": {
      "application/vnd.jupyter.widget-view+json": {
       "model_id": "b4add44e55a94b009037bc04d37b5cd9",
       "version_major": 2,
       "version_minor": 0
      },
      "text/plain": [
       "  0%|          | 0/532 [00:00<?, ?it/s]"
      ]
     },
     "metadata": {},
     "output_type": "display_data"
    },
    {
     "name": "stderr",
     "output_type": "stream",
     "text": [
      "/opt/conda/lib/python3.7/site-packages/ipykernel_launcher.py:10: DeprecationWarning: ANTIALIAS is deprecated and will be removed in Pillow 10 (2023-07-01). Use LANCZOS or Resampling.LANCZOS instead.\n",
      "  # Remove the CWD from sys.path while we load stuff.\n"
     ]
    },
    {
     "name": "stdout",
     "output_type": "stream",
     "text": [
      "Train loss: 0.0152 Val loss: 0.8309 Val acc: 0.6260 AUC: 0.7368\n"
     ]
    },
    {
     "name": "stderr",
     "output_type": "stream",
     "text": [
      "/opt/conda/lib/python3.7/site-packages/ipykernel_launcher.py:10: DeprecationWarning: ANTIALIAS is deprecated and will be removed in Pillow 10 (2023-07-01). Use LANCZOS or Resampling.LANCZOS instead.\n",
      "  # Remove the CWD from sys.path while we load stuff.\n"
     ]
    },
    {
     "name": "stdout",
     "output_type": "stream",
     "text": [
      "Train loss: 0.0151 Val loss: 0.7888 Val acc: 0.6500 AUC: 0.7364\n"
     ]
    },
    {
     "name": "stderr",
     "output_type": "stream",
     "text": [
      "/opt/conda/lib/python3.7/site-packages/ipykernel_launcher.py:10: DeprecationWarning: ANTIALIAS is deprecated and will be removed in Pillow 10 (2023-07-01). Use LANCZOS or Resampling.LANCZOS instead.\n",
      "  # Remove the CWD from sys.path while we load stuff.\n"
     ]
    },
    {
     "name": "stdout",
     "output_type": "stream",
     "text": [
      "Train loss: 0.0160 Val loss: 0.8976 Val acc: 0.6340 AUC: 0.7410\n"
     ]
    },
    {
     "name": "stderr",
     "output_type": "stream",
     "text": [
      "/opt/conda/lib/python3.7/site-packages/ipykernel_launcher.py:10: DeprecationWarning: ANTIALIAS is deprecated and will be removed in Pillow 10 (2023-07-01). Use LANCZOS or Resampling.LANCZOS instead.\n",
      "  # Remove the CWD from sys.path while we load stuff.\n"
     ]
    },
    {
     "name": "stdout",
     "output_type": "stream",
     "text": [
      "Train loss: 0.0156 Val loss: 0.8561 Val acc: 0.6500 AUC: 0.7400\n"
     ]
    },
    {
     "name": "stderr",
     "output_type": "stream",
     "text": [
      "/opt/conda/lib/python3.7/site-packages/ipykernel_launcher.py:10: DeprecationWarning: ANTIALIAS is deprecated and will be removed in Pillow 10 (2023-07-01). Use LANCZOS or Resampling.LANCZOS instead.\n",
      "  # Remove the CWD from sys.path while we load stuff.\n"
     ]
    },
    {
     "name": "stdout",
     "output_type": "stream",
     "text": [
      "Train loss: 0.0144 Val loss: 0.9345 Val acc: 0.6220 AUC: 0.7403\n"
     ]
    },
    {
     "name": "stderr",
     "output_type": "stream",
     "text": [
      "/opt/conda/lib/python3.7/site-packages/ipykernel_launcher.py:10: DeprecationWarning: ANTIALIAS is deprecated and will be removed in Pillow 10 (2023-07-01). Use LANCZOS or Resampling.LANCZOS instead.\n",
      "  # Remove the CWD from sys.path while we load stuff.\n"
     ]
    },
    {
     "name": "stdout",
     "output_type": "stream",
     "text": [
      "Train loss: 0.0160 Val loss: 0.8726 Val acc: 0.6260 AUC: 0.7377\n"
     ]
    },
    {
     "name": "stderr",
     "output_type": "stream",
     "text": [
      "/opt/conda/lib/python3.7/site-packages/ipykernel_launcher.py:10: DeprecationWarning: ANTIALIAS is deprecated and will be removed in Pillow 10 (2023-07-01). Use LANCZOS or Resampling.LANCZOS instead.\n",
      "  # Remove the CWD from sys.path while we load stuff.\n"
     ]
    },
    {
     "name": "stdout",
     "output_type": "stream",
     "text": [
      "Train loss: 0.0148 Val loss: 0.8682 Val acc: 0.6180 AUC: 0.7398\n",
      "\n",
      "\n"
     ]
    }
   ],
   "source": [
    "optimizer_step = 0\n",
    "global_step = 0\n",
    "train_step = 0\n",
    "tr_loss, logging_loss = 0.0, 0.0\n",
    "best_valid_auc = 0.75\n",
    "global_steps_list = []\n",
    "train_loss_list = []\n",
    "val_loss_list = []\n",
    "val_acc_list = []\n",
    "val_auc_list = []\n",
    "eval_every = len(train_dataloader) // 7\n",
    "running_loss = 0\n",
    "file_path=\"models/\"\n",
    "\n",
    "model.zero_grad()\n",
    "\n",
    "for i in range(num_train_epochs):\n",
    "    print(\"Epoch\", i+1, f\"from {num_train_epochs}\")\n",
    "    whole_y_pred=np.array([])\n",
    "    whole_y_t=np.array([])\n",
    "    for step, batch in enumerate(tqdm(train_dataloader)):\n",
    "        model.train()\n",
    "        batch = tuple(t.to(device) for t in batch)\n",
    "        labels = batch[5]\n",
    "        inputs = {\n",
    "            \"input_ids\": batch[0],\n",
    "            \"input_modal\": batch[2],\n",
    "            \"attention_mask\": batch[1],\n",
    "            \"modal_start_tokens\": batch[3],\n",
    "            \"modal_end_tokens\": batch[4],\n",
    "            \"return_dict\": False\n",
    "        }\n",
    "        outputs = model(**inputs)\n",
    "        logits = outputs[0]  # model outputs are always tuple in transformers (see doc)\n",
    "        loss = criterion(logits, labels)        \n",
    "        \n",
    "        if gradient_accumulation_steps > 1:\n",
    "            loss = loss / gradient_accumulation_steps\n",
    "            \n",
    "        loss.backward()\n",
    "        \n",
    "        tr_loss += loss.item()\n",
    "        running_loss += loss.item()\n",
    "        global_step += 1\n",
    "        \n",
    "        if (step + 1) % gradient_accumulation_steps == 0:\n",
    "            torch.nn.utils.clip_grad_norm_(model.parameters(), max_grad_norm)\n",
    "            optimizer.step()\n",
    "            scheduler.step()  # Update learning rate schedule         \n",
    "            \n",
    "            optimizer_step += 1\n",
    "            optimizer.zero_grad()   \n",
    "                        \n",
    "        if (step + 1) % eval_every == 0:\n",
    "            \n",
    "            average_train_loss = running_loss / eval_every\n",
    "            train_loss_list.append(average_train_loss)\n",
    "            global_steps_list.append(global_step)\n",
    "            running_loss = 0.0  \n",
    "            \n",
    "            val_result = evaluate(model, tokenizer, criterion, eval_dataloader)\n",
    "            \n",
    "            val_loss_list.append(val_result['loss'])\n",
    "            val_acc_list.append(val_result['accuracy'])\n",
    "            val_auc_list.append(val_result['AUC'])\n",
    "            \n",
    "            # checkpoint\n",
    "            if val_result['AUC'] > best_valid_auc:\n",
    "                best_valid_auc = val_result['AUC']\n",
    "                val_loss = val_result['loss']\n",
    "                val_acc = val_result['accuracy']\n",
    "                model_path = f'{file_path}/model-embs{num_image_embeds}-seq{max_seq_length}-auc{best_valid_auc:.3f}-loss{val_loss:.3f}-acc{val_acc:.3f}.pt'\n",
    "                print(f\"AUC improved, so saving this model\")  \n",
    "                save_checkpoint(model_path, model, val_result['loss'])              \n",
    "            \n",
    "            print(\"Train loss:\", f\"{average_train_loss:.4f}\", \n",
    "                  \"Val loss:\", f\"{val_result['loss']:.4f}\",\n",
    "                  \"Val acc:\", f\"{val_result['accuracy']:.4f}\",\n",
    "                  \"AUC:\", f\"{val_result['AUC']:.4f}\")   \n",
    "    print('\\n')"
   ]
  },
  {
   "cell_type": "markdown",
   "id": "pressed-norman",
   "metadata": {
    "id": "pressed-norman",
    "pycharm": {
     "name": "#%% md\n"
    }
   },
   "source": [
    "After training is complete, we can visualize results:"
   ]
  },
  {
   "cell_type": "code",
   "execution_count": 27,
   "id": "british-introduction",
   "metadata": {
    "colab": {
     "base_uri": "https://localhost:8080/",
     "height": 798
    },
    "id": "british-introduction",
    "outputId": "b6c453d8-35c7-44e9-cdbe-b63beac7068e",
    "pycharm": {
     "name": "#%%\n"
    }
   },
   "outputs": [
    {
     "data": {
      "image/png": "[encoded data removed]",
      "text/plain": [
       "<Figure size 640x480 with 1 Axes>"
      ]
     },
     "metadata": {},
     "output_type": "display_data"
    }
   ],
   "source": [
    "plt.plot(global_steps_list, val_auc_list)\n",
    "plt.grid()\n",
    "plt.xlabel('Global Steps')\n",
    "plt.ylabel('AUC')\n",
    "plt.title('MMBT Area Under the Curve')\n",
    "plt.show() "
   ]
  },
  {
   "cell_type": "markdown",
   "id": "moving-ending",
   "metadata": {
    "id": "moving-ending",
    "pycharm": {
     "name": "#%% md\n"
    }
   },
   "source": [
    "## Make predictions for submission"
   ]
  },
  {
   "cell_type": "markdown",
   "id": "opposite-physiology",
   "metadata": {
    "id": "opposite-physiology",
    "pycharm": {
     "name": "#%% md\n"
    }
   },
   "source": [
    "Now we can make a prediction for test data. Firstly we will create needed classes and functions for data loading and processing by analogy with the training stage."
   ]
  },
  {
   "cell_type": "code",
   "execution_count": 28,
   "id": "helpful-imaging",
   "metadata": {
    "id": "helpful-imaging",
    "pycharm": {
     "name": "#%%\n"
    }
   },
   "outputs": [],
   "source": [
    "import pandas as pd"
   ]
  },
  {
   "cell_type": "code",
   "execution_count": 29,
   "id": "functional-chicken",
   "metadata": {
    "id": "functional-chicken",
    "pycharm": {
     "name": "#%%\n"
    }
   },
   "outputs": [],
   "source": [
    "num_labels = 1\n",
    "data_dir = 'data'\n",
    "test_batch_size = 16"
   ]
  },
  {
   "cell_type": "code",
   "execution_count": 30,
   "id": "ethical-conference",
   "metadata": {
    "id": "ethical-conference",
    "pycharm": {
     "name": "#%%\n"
    }
   },
   "outputs": [],
   "source": [
    "class TestJsonlDataset(Dataset):\n",
    "    def __init__(self, data_path, tokenizer, transforms, max_seq_length):\n",
    "        self.data = [json.loads(l) for l in open(data_path)]\n",
    "        self.data_dir = os.path.dirname(data_path)\n",
    "        self.tokenizer = tokenizer\n",
    "        self.max_seq_length = max_seq_length\n",
    "        self.transforms = transforms\n",
    "\n",
    "    def __len__(self):\n",
    "        return len(self.data)\n",
    "\n",
    "    def __getitem__(self, index):\n",
    "        sentence = torch.LongTensor(self.tokenizer.encode(self.data[index][\"text\"], add_special_tokens=True))\n",
    "        start_token, sentence, end_token = sentence[0], sentence[1:-1], sentence[-1]\n",
    "        sentence = sentence[:self.max_seq_length]\n",
    "\n",
    "        id = torch.LongTensor([self.data[index][\"id\"]])        \n",
    "        image = Image.open(os.path.join(self.data_dir, self.data[index][\"img\"])).convert(\"RGB\")\n",
    "        sliced_images = slice_image(image, 288)\n",
    "        sliced_images = [np.array(self.transforms(im)) for im in sliced_images]\n",
    "        image = resize_pad_image(image, image_encoder_size)\n",
    "        image = np.array(self.transforms(image))        \n",
    "        sliced_images = [image] + sliced_images        \n",
    "        sliced_images = torch.from_numpy(np.array(sliced_images)).to(device)\n",
    "\n",
    "        return {\n",
    "            \"image_start_token\": start_token,            \n",
    "            \"image_end_token\": end_token,\n",
    "            \"sentence\": sentence,\n",
    "            \"image\": sliced_images,\n",
    "            \"id\": id,\n",
    "        }\n",
    "    \n",
    "def final_collate_fn(batch):\n",
    "    lens = [len(row[\"sentence\"]) for row in batch]\n",
    "    bsz, max_seq_len = len(batch), max(lens)\n",
    "\n",
    "    mask_tensor = torch.zeros(bsz, max_seq_len, dtype=torch.long)\n",
    "    text_tensor = torch.zeros(bsz, max_seq_len, dtype=torch.long)\n",
    "\n",
    "    for i_batch, (input_row, length) in enumerate(zip(batch, lens)):\n",
    "        text_tensor[i_batch, :length] = input_row[\"sentence\"]\n",
    "        mask_tensor[i_batch, :length] = 1\n",
    "\n",
    "    img_tensor = torch.stack([row[\"image\"] for row in batch])\n",
    "    id_tensor = torch.stack([row[\"id\"] for row in batch])\n",
    "    img_start_token = torch.stack([row[\"image_start_token\"] for row in batch])\n",
    "    img_end_token = torch.stack([row[\"image_end_token\"] for row in batch])\n",
    "\n",
    "    return text_tensor, mask_tensor, img_tensor, img_start_token, img_end_token, id_tensor\n",
    "\n",
    "def load_test_examples(test_file=\"test.jsonl\"):\n",
    "    path = os.path.join(data_dir, test_file)\n",
    "    dataset = TestJsonlDataset(path, tokenizer, preprocess, max_seq_length - num_image_embeds - 2)\n",
    "    return dataset\n",
    "\n",
    "def final_prediction(model, dataloader): \n",
    "    preds = None\n",
    "    proba = None\n",
    "    all_ids = None\n",
    "    for batch in tqdm(dataloader):\n",
    "        model.eval()\n",
    "        batch = tuple(t.to(device) for t in batch)\n",
    "        with torch.no_grad():\n",
    "            ids = batch[5]\n",
    "            inputs = {\n",
    "                \"input_ids\": batch[0],\n",
    "                \"input_modal\": batch[2],\n",
    "                \"attention_mask\": batch[1],\n",
    "                \"modal_start_tokens\": batch[3],\n",
    "                \"modal_end_tokens\": batch[4],\n",
    "                \"return_dict\": False\n",
    "            }\n",
    "            outputs = model(**inputs)\n",
    "            logits = outputs[0]\n",
    "        if preds is None:\n",
    "            all_ids = ids.detach().cpu().numpy()\n",
    "            preds = torch.sigmoid(logits).detach().cpu().numpy() > 0.5\n",
    "            proba = torch.sigmoid(logits).detach().cpu().numpy()            \n",
    "        else:  \n",
    "            all_ids = np.append(all_ids, ids.detach().cpu().numpy(), axis=0)\n",
    "            preds = np.append(preds, torch.sigmoid(logits).detach().cpu().numpy() > 0.5, axis=0)\n",
    "            proba = np.append(proba, torch.sigmoid(logits).detach().cpu().numpy(), axis=0)\n",
    "    \n",
    "    result = {\n",
    "        \"ids\": all_ids,\n",
    "        \"preds\": preds,\n",
    "        \"probs\": proba,\n",
    "    }\n",
    "    \n",
    "    return result"
   ]
  },
  {
   "cell_type": "code",
   "execution_count": 31,
   "id": "cellular-malta",
   "metadata": {
    "colab": {
     "base_uri": "https://localhost:8080/",
     "height": 311
    },
    "id": "cellular-malta",
    "outputId": "898c3961-9111-4ee8-a7cb-62e4edfd271e",
    "pycharm": {
     "name": "#%%\n"
    }
   },
   "outputs": [],
   "source": [
    "final_test = load_test_examples()"
   ]
  },
  {
   "cell_type": "code",
   "execution_count": 32,
   "id": "coastal-alpha",
   "metadata": {
    "id": "coastal-alpha",
    "pycharm": {
     "name": "#%%\n"
    }
   },
   "outputs": [],
   "source": [
    "final_test_sampler = SequentialSampler(final_test)\n",
    "\n",
    "final_test_dataloader = DataLoader(\n",
    "        final_test, \n",
    "        sampler=final_test_sampler, \n",
    "        batch_size=test_batch_size, \n",
    "        collate_fn=final_collate_fn\n",
    "    )"
   ]
  },
  {
   "cell_type": "markdown",
   "id": "smooth-antique",
   "metadata": {
    "id": "smooth-antique",
    "pycharm": {
     "name": "#%% md\n"
    }
   },
   "source": [
    "Finally we make a prediction and save it in a specified format."
   ]
  },
  {
   "cell_type": "code",
   "execution_count": 33,
   "id": "palestinian-seeking",
   "metadata": {
    "id": "palestinian-seeking",
    "pycharm": {
     "name": "#%%\n"
    }
   },
   "outputs": [
    {
     "data": {
      "application/vnd.jupyter.widget-view+json": {
       "model_id": "691f0337eb1c4a27a25464b10ed16702",
       "version_major": 2,
       "version_minor": 0
      },
      "text/plain": [
       "  0%|          | 0/63 [00:00<?, ?it/s]"
      ]
     },
     "metadata": {},
     "output_type": "display_data"
    },
    {
     "name": "stderr",
     "output_type": "stream",
     "text": [
      "/opt/conda/lib/python3.7/site-packages/ipykernel_launcher.py:10: DeprecationWarning: ANTIALIAS is deprecated and will be removed in Pillow 10 (2023-07-01). Use LANCZOS or Resampling.LANCZOS instead.\n",
      "  # Remove the CWD from sys.path while we load stuff.\n"
     ]
    }
   ],
   "source": [
    "results = final_prediction(model, final_test_dataloader)\n",
    "\n",
    "results['ids'] = results['ids'].reshape(-1)\n",
    "results['preds'] = results['preds'].reshape(-1)\n",
    "results['probs'] = results['probs'].reshape(-1)\n",
    "\n",
    "df = pd.DataFrame(results)\n",
    "df = df[['ids', 'probs', 'preds']]\n",
    "df.columns = ['id', 'proba', 'label']\n",
    "df.label = df.label.astype(int)\n",
    "\n",
    "df.to_csv('final_multimodal_prediction.csv', index=False, float_format='%.3f')"
   ]
  },
  {
   "cell_type": "markdown",
   "id": "special-meaning",
   "metadata": {
    "id": "special-meaning",
    "pycharm": {
     "name": "#%% md\n"
    }
   },
   "source": [
    "Thats it. In case the competition reopens, this prediction file can be sent there immediately. "
   ]
  },
  {
   "cell_type": "markdown",
   "id": "amended-afternoon",
   "metadata": {
    "id": "amended-afternoon",
    "pycharm": {
     "name": "#%% md\n"
    }
   },
   "source": [
    "## Conclusion"
   ]
  },
  {
   "cell_type": "markdown",
   "id": "prostate-flavor",
   "metadata": {
    "id": "prostate-flavor",
    "pycharm": {
     "name": "#%% md\n"
    }
   },
   "source": [
    "In this article I tried to describe in detail the concept and implementation of the approach that we used in Hateful Memes Competition from Facebook. The tasks that the competition set for us turned out to be extremely interesting and we had a lot of fun developing our approach to solve these tasks. I hope you enjoyed reading this article too. \n",
    "\n",
    "I also want to mention that to obtain maximum AUC, we combined the prediction of several variants of this model trained with different loss parameters and different augmentation options. But that's a topic for an entirely different article. "
   ]
  },
  {
   "cell_type": "code",
   "execution_count": null,
   "id": "31a54462-a85e-40a0-9043-f18e14d98326",
   "metadata": {
    "pycharm": {
     "name": "#%%\n"
    }
   },
   "outputs": [],
   "source": []
  }
 ],
 "metadata": {
  "colab": {
   "provenance": []
  },
  "kernelspec": {
   "display_name": "Pytorch (Local)",
   "language": "python",
   "name": "local-pytorch"
  },
  "language_info": {
   "codemirror_mode": {
    "name": "ipython",
    "version": 3
   },
   "file_extension": ".py",
   "mimetype": "text/x-python",
   "name": "python",
   "nbconvert_exporter": "python",
   "pygments_lexer": "ipython3",
   "version": "3.7.12"
  },
  "widgets": {
   "application/vnd.jupyter.widget-state+json": {
    "027285a07f42427da0b48df404b1ee40": {
     "model_module": "@jupyter-widgets/controls",
     "model_module_version": "1.5.0",
     "model_name": "HTMLModel",
     "state": {
      "_dom_classes": [],
      "_model_module": "@jupyter-widgets/controls",
      "_model_module_version": "1.5.0",
      "_model_name": "HTMLModel",
      "_view_count": null,
      "_view_module": "@jupyter-widgets/controls",
      "_view_module_version": "1.5.0",
      "_view_name": "HTMLView",
      "description": "",
      "description_tooltip": null,
      "layout": "IPY_MODEL_800cebf225b54813b6e1394b074f163c",
      "placeholder": "​",
      "style": "IPY_MODEL_7470d25d1f9f43e989c20accdf159776",
      "value": "Downloading (…)lve/main/config.json: 100%"
     }
    },
    "08422ecc69f242899e91757263db9447": {
     "model_module": "@jupyter-widgets/controls",
     "model_module_version": "1.5.0",
     "model_name": "HBoxModel",
     "state": {
      "_dom_classes": [],
      "_model_module": "@jupyter-widgets/controls",
      "_model_module_version": "1.5.0",
      "_model_name": "HBoxModel",
      "_view_count": null,
      "_view_module": "@jupyter-widgets/controls",
      "_view_module_version": "1.5.0",
      "_view_name": "HBoxView",
      "box_style": "",
      "children": [
       "IPY_MODEL_429fc1973afa419eab0e697a3710e657",
       "IPY_MODEL_dd2df7f88cd74b18877819399062edf8",
       "IPY_MODEL_ba7be7b1eba74cdc867fc4855e747875"
      ],
      "layout": "IPY_MODEL_bf107ed2a73d46c5becf88744ec39f82"
     }
    },
    "09a41ce67bc64777af1f9a17023b8a24": {
     "model_module": "@jupyter-widgets/base",
     "model_module_version": "1.2.0",
     "model_name": "LayoutModel",
     "state": {
      "_model_module": "@jupyter-widgets/base",
      "_model_module_version": "1.2.0",
      "_model_name": "LayoutModel",
      "_view_count": null,
      "_view_module": "@jupyter-widgets/base",
      "_view_module_version": "1.2.0",
      "_view_name": "LayoutView",
      "align_content": null,
      "align_items": null,
      "align_self": null,
      "border": null,
      "bottom": null,
      "display": null,
      "flex": null,
      "flex_flow": null,
      "grid_area": null,
      "grid_auto_columns": null,
      "grid_auto_flow": null,
      "grid_auto_rows": null,
      "grid_column": null,
      "grid_gap": null,
      "grid_row": null,
      "grid_template_areas": null,
      "grid_template_columns": null,
      "grid_template_rows": null,
      "height": null,
      "justify_content": null,
      "justify_items": null,
      "left": null,
      "margin": null,
      "max_height": null,
      "max_width": null,
      "min_height": null,
      "min_width": null,
      "object_fit": null,
      "object_position": null,
      "order": null,
      "overflow": null,
      "overflow_x": null,
      "overflow_y": null,
      "padding": null,
      "right": null,
      "top": null,
      "visibility": null,
      "width": null
     }
    },
    "0fe5c6c46a4a45bc8722b252b2061380": {
     "model_module": "@jupyter-widgets/controls",
     "model_module_version": "1.5.0",
     "model_name": "DescriptionStyleModel",
     "state": {
      "_model_module": "@jupyter-widgets/controls",
      "_model_module_version": "1.5.0",
      "_model_name": "DescriptionStyleModel",
      "_view_count": null,
      "_view_module": "@jupyter-widgets/base",
      "_view_module_version": "1.2.0",
      "_view_name": "StyleView",
      "description_width": ""
     }
    },
    "127d911f807946278206e260aef3e392": {
     "model_module": "@jupyter-widgets/controls",
     "model_module_version": "1.5.0",
     "model_name": "ProgressStyleModel",
     "state": {
      "_model_module": "@jupyter-widgets/controls",
      "_model_module_version": "1.5.0",
      "_model_name": "ProgressStyleModel",
      "_view_count": null,
      "_view_module": "@jupyter-widgets/base",
      "_view_module_version": "1.2.0",
      "_view_name": "StyleView",
      "bar_color": null,
      "description_width": ""
     }
    },
    "14824684827e497ea5573bf3acfe77ce": {
     "model_module": "@jupyter-widgets/controls",
     "model_module_version": "1.5.0",
     "model_name": "DescriptionStyleModel",
     "state": {
      "_model_module": "@jupyter-widgets/controls",
      "_model_module_version": "1.5.0",
      "_model_name": "DescriptionStyleModel",
      "_view_count": null,
      "_view_module": "@jupyter-widgets/base",
      "_view_module_version": "1.2.0",
      "_view_name": "StyleView",
      "description_width": ""
     }
    },
    "16d87487f571444f8643f5aaf00da255": {
     "model_module": "@jupyter-widgets/controls",
     "model_module_version": "1.5.0",
     "model_name": "FloatProgressModel",
     "state": {
      "_dom_classes": [],
      "_model_module": "@jupyter-widgets/controls",
      "_model_module_version": "1.5.0",
      "_model_name": "FloatProgressModel",
      "_view_count": null,
      "_view_module": "@jupyter-widgets/controls",
      "_view_module_version": "1.5.0",
      "_view_name": "ProgressView",
      "bar_style": "success",
      "description": "",
      "description_tooltip": null,
      "layout": "IPY_MODEL_929c47c55af644ff8b421778e4631ccf",
      "max": 437988463,
      "min": 0,
      "orientation": "horizontal",
      "style": "IPY_MODEL_405e76e59a6d4931b3cee9025ad93759",
      "value": 437988463
     }
    },
    "1b815eaf945946e38a56e0719617546b": {
     "model_module": "@jupyter-widgets/controls",
     "model_module_version": "1.5.0",
     "model_name": "ProgressStyleModel",
     "state": {
      "_model_module": "@jupyter-widgets/controls",
      "_model_module_version": "1.5.0",
      "_model_name": "ProgressStyleModel",
      "_view_count": null,
      "_view_module": "@jupyter-widgets/base",
      "_view_module_version": "1.2.0",
      "_view_name": "StyleView",
      "bar_color": null,
      "description_width": ""
     }
    },
    "1daed552d312484a88a92374ad13aff1": {
     "model_module": "@jupyter-widgets/base",
     "model_module_version": "1.2.0",
     "model_name": "LayoutModel",
     "state": {
      "_model_module": "@jupyter-widgets/base",
      "_model_module_version": "1.2.0",
      "_model_name": "LayoutModel",
      "_view_count": null,
      "_view_module": "@jupyter-widgets/base",
      "_view_module_version": "1.2.0",
      "_view_name": "LayoutView",
      "align_content": null,
      "align_items": null,
      "align_self": null,
      "border": null,
      "bottom": null,
      "display": null,
      "flex": null,
      "flex_flow": null,
      "grid_area": null,
      "grid_auto_columns": null,
      "grid_auto_flow": null,
      "grid_auto_rows": null,
      "grid_column": null,
      "grid_gap": null,
      "grid_row": null,
      "grid_template_areas": null,
      "grid_template_columns": null,
      "grid_template_rows": null,
      "height": null,
      "justify_content": null,
      "justify_items": null,
      "left": null,
      "margin": null,
      "max_height": null,
      "max_width": null,
      "min_height": null,
      "min_width": null,
      "object_fit": null,
      "object_position": null,
      "order": null,
      "overflow": null,
      "overflow_x": null,
      "overflow_y": null,
      "padding": null,
      "right": null,
      "top": null,
      "visibility": null,
      "width": null
     }
    },
    "1f484180b2a34c4181ca5004ae5e767a": {
     "model_module": "@jupyter-widgets/controls",
     "model_module_version": "1.5.0",
     "model_name": "FloatProgressModel",
     "state": {
      "_dom_classes": [],
      "_model_module": "@jupyter-widgets/controls",
      "_model_module_version": "1.5.0",
      "_model_name": "FloatProgressModel",
      "_view_count": null,
      "_view_module": "@jupyter-widgets/controls",
      "_view_module_version": "1.5.0",
      "_view_name": "ProgressView",
      "bar_style": "success",
      "description": "",
      "description_tooltip": null,
      "layout": "IPY_MODEL_cecc179303b842d38af247c21cce12cf",
      "max": 112,
      "min": 0,
      "orientation": "horizontal",
      "style": "IPY_MODEL_98345c40386d467dba152e3d95022572",
      "value": 112
     }
    },
    "2e870716634c40c0906fbbf3c0843b64": {
     "model_module": "@jupyter-widgets/base",
     "model_module_version": "1.2.0",
     "model_name": "LayoutModel",
     "state": {
      "_model_module": "@jupyter-widgets/base",
      "_model_module_version": "1.2.0",
      "_model_name": "LayoutModel",
      "_view_count": null,
      "_view_module": "@jupyter-widgets/base",
      "_view_module_version": "1.2.0",
      "_view_name": "LayoutView",
      "align_content": null,
      "align_items": null,
      "align_self": null,
      "border": null,
      "bottom": null,
      "display": null,
      "flex": null,
      "flex_flow": null,
      "grid_area": null,
      "grid_auto_columns": null,
      "grid_auto_flow": null,
      "grid_auto_rows": null,
      "grid_column": null,
      "grid_gap": null,
      "grid_row": null,
      "grid_template_areas": null,
      "grid_template_columns": null,
      "grid_template_rows": null,
      "height": null,
      "justify_content": null,
      "justify_items": null,
      "left": null,
      "margin": null,
      "max_height": null,
      "max_width": null,
      "min_height": null,
      "min_width": null,
      "object_fit": null,
      "object_position": null,
      "order": null,
      "overflow": null,
      "overflow_x": null,
      "overflow_y": null,
      "padding": null,
      "right": null,
      "top": null,
      "visibility": null,
      "width": null
     }
    },
    "378424ff268a4e1bbd73664e1bdc31f1": {
     "model_module": "@jupyter-widgets/controls",
     "model_module_version": "1.5.0",
     "model_name": "HBoxModel",
     "state": {
      "_dom_classes": [],
      "_model_module": "@jupyter-widgets/controls",
      "_model_module_version": "1.5.0",
      "_model_name": "HBoxModel",
      "_view_count": null,
      "_view_module": "@jupyter-widgets/controls",
      "_view_module_version": "1.5.0",
      "_view_name": "HBoxView",
      "box_style": "",
      "children": [
       "IPY_MODEL_99bad1c431684701916218807406cdde",
       "IPY_MODEL_ea824cbce2164593a05f62245832e562",
       "IPY_MODEL_bed94c5e421b467299cd3949b9f3fdb5"
      ],
      "layout": "IPY_MODEL_770fa680457044fbab171ec17894258f"
     }
    },
    "398328c7735142f784fad3072402e269": {
     "model_module": "@jupyter-widgets/controls",
     "model_module_version": "1.5.0",
     "model_name": "DescriptionStyleModel",
     "state": {
      "_model_module": "@jupyter-widgets/controls",
      "_model_module_version": "1.5.0",
      "_model_name": "DescriptionStyleModel",
      "_view_count": null,
      "_view_module": "@jupyter-widgets/base",
      "_view_module_version": "1.2.0",
      "_view_name": "StyleView",
      "description_width": ""
     }
    },
    "3bc54c495c7b4006a86d2defc85a7c7e": {
     "model_module": "@jupyter-widgets/base",
     "model_module_version": "1.2.0",
     "model_name": "LayoutModel",
     "state": {
      "_model_module": "@jupyter-widgets/base",
      "_model_module_version": "1.2.0",
      "_model_name": "LayoutModel",
      "_view_count": null,
      "_view_module": "@jupyter-widgets/base",
      "_view_module_version": "1.2.0",
      "_view_name": "LayoutView",
      "align_content": null,
      "align_items": null,
      "align_self": null,
      "border": null,
      "bottom": null,
      "display": null,
      "flex": null,
      "flex_flow": null,
      "grid_area": null,
      "grid_auto_columns": null,
      "grid_auto_flow": null,
      "grid_auto_rows": null,
      "grid_column": null,
      "grid_gap": null,
      "grid_row": null,
      "grid_template_areas": null,
      "grid_template_columns": null,
      "grid_template_rows": null,
      "height": null,
      "justify_content": null,
      "justify_items": null,
      "left": null,
      "margin": null,
      "max_height": null,
      "max_width": null,
      "min_height": null,
      "min_width": null,
      "object_fit": null,
      "object_position": null,
      "order": null,
      "overflow": null,
      "overflow_x": null,
      "overflow_y": null,
      "padding": null,
      "right": null,
      "top": null,
      "visibility": null,
      "width": null
     }
    },
    "405e76e59a6d4931b3cee9025ad93759": {
     "model_module": "@jupyter-widgets/controls",
     "model_module_version": "1.5.0",
     "model_name": "ProgressStyleModel",
     "state": {
      "_model_module": "@jupyter-widgets/controls",
      "_model_module_version": "1.5.0",
      "_model_name": "ProgressStyleModel",
      "_view_count": null,
      "_view_module": "@jupyter-widgets/base",
      "_view_module_version": "1.2.0",
      "_view_name": "StyleView",
      "bar_color": null,
      "description_width": ""
     }
    },
    "40de01a1d00e4f958a40fff8cd2bb025": {
     "model_module": "@jupyter-widgets/base",
     "model_module_version": "1.2.0",
     "model_name": "LayoutModel",
     "state": {
      "_model_module": "@jupyter-widgets/base",
      "_model_module_version": "1.2.0",
      "_model_name": "LayoutModel",
      "_view_count": null,
      "_view_module": "@jupyter-widgets/base",
      "_view_module_version": "1.2.0",
      "_view_name": "LayoutView",
      "align_content": null,
      "align_items": null,
      "align_self": null,
      "border": null,
      "bottom": null,
      "display": null,
      "flex": null,
      "flex_flow": null,
      "grid_area": null,
      "grid_auto_columns": null,
      "grid_auto_flow": null,
      "grid_auto_rows": null,
      "grid_column": null,
      "grid_gap": null,
      "grid_row": null,
      "grid_template_areas": null,
      "grid_template_columns": null,
      "grid_template_rows": null,
      "height": null,
      "justify_content": null,
      "justify_items": null,
      "left": null,
      "margin": null,
      "max_height": null,
      "max_width": null,
      "min_height": null,
      "min_width": null,
      "object_fit": null,
      "object_position": null,
      "order": null,
      "overflow": null,
      "overflow_x": null,
      "overflow_y": null,
      "padding": null,
      "right": null,
      "top": null,
      "visibility": null,
      "width": null
     }
    },
    "429fc1973afa419eab0e697a3710e657": {
     "model_module": "@jupyter-widgets/controls",
     "model_module_version": "1.5.0",
     "model_name": "HTMLModel",
     "state": {
      "_dom_classes": [],
      "_model_module": "@jupyter-widgets/controls",
      "_model_module_version": "1.5.0",
      "_model_name": "HTMLModel",
      "_view_count": null,
      "_view_module": "@jupyter-widgets/controls",
      "_view_module_version": "1.5.0",
      "_view_name": "HTMLView",
      "description": "",
      "description_tooltip": null,
      "layout": "IPY_MODEL_486258acf12147449d108b2acc8ba44b",
      "placeholder": "​",
      "style": "IPY_MODEL_f0fb37c5777a4752bbf55dabcb4ab55b",
      "value": "Downloading (…)solve/main/vocab.txt: 100%"
     }
    },
    "444f919fcec94eca842297de8c4eb4d3": {
     "model_module": "@jupyter-widgets/base",
     "model_module_version": "1.2.0",
     "model_name": "LayoutModel",
     "state": {
      "_model_module": "@jupyter-widgets/base",
      "_model_module_version": "1.2.0",
      "_model_name": "LayoutModel",
      "_view_count": null,
      "_view_module": "@jupyter-widgets/base",
      "_view_module_version": "1.2.0",
      "_view_name": "LayoutView",
      "align_content": null,
      "align_items": null,
      "align_self": null,
      "border": null,
      "bottom": null,
      "display": null,
      "flex": null,
      "flex_flow": null,
      "grid_area": null,
      "grid_auto_columns": null,
      "grid_auto_flow": null,
      "grid_auto_rows": null,
      "grid_column": null,
      "grid_gap": null,
      "grid_row": null,
      "grid_template_areas": null,
      "grid_template_columns": null,
      "grid_template_rows": null,
      "height": null,
      "justify_content": null,
      "justify_items": null,
      "left": null,
      "margin": null,
      "max_height": null,
      "max_width": null,
      "min_height": null,
      "min_width": null,
      "object_fit": null,
      "object_position": null,
      "order": null,
      "overflow": null,
      "overflow_x": null,
      "overflow_y": null,
      "padding": null,
      "right": null,
      "top": null,
      "visibility": null,
      "width": null
     }
    },
    "46b83315b2fb4d988a4c6600f9cbb83e": {
     "model_module": "@jupyter-widgets/controls",
     "model_module_version": "1.5.0",
     "model_name": "DescriptionStyleModel",
     "state": {
      "_model_module": "@jupyter-widgets/controls",
      "_model_module_version": "1.5.0",
      "_model_name": "DescriptionStyleModel",
      "_view_count": null,
      "_view_module": "@jupyter-widgets/base",
      "_view_module_version": "1.2.0",
      "_view_name": "StyleView",
      "description_width": ""
     }
    },
    "486258acf12147449d108b2acc8ba44b": {
     "model_module": "@jupyter-widgets/base",
     "model_module_version": "1.2.0",
     "model_name": "LayoutModel",
     "state": {
      "_model_module": "@jupyter-widgets/base",
      "_model_module_version": "1.2.0",
      "_model_name": "LayoutModel",
      "_view_count": null,
      "_view_module": "@jupyter-widgets/base",
      "_view_module_version": "1.2.0",
      "_view_name": "LayoutView",
      "align_content": null,
      "align_items": null,
      "align_self": null,
      "border": null,
      "bottom": null,
      "display": null,
      "flex": null,
      "flex_flow": null,
      "grid_area": null,
      "grid_auto_columns": null,
      "grid_auto_flow": null,
      "grid_auto_rows": null,
      "grid_column": null,
      "grid_gap": null,
      "grid_row": null,
      "grid_template_areas": null,
      "grid_template_columns": null,
      "grid_template_rows": null,
      "height": null,
      "justify_content": null,
      "justify_items": null,
      "left": null,
      "margin": null,
      "max_height": null,
      "max_width": null,
      "min_height": null,
      "min_width": null,
      "object_fit": null,
      "object_position": null,
      "order": null,
      "overflow": null,
      "overflow_x": null,
      "overflow_y": null,
      "padding": null,
      "right": null,
      "top": null,
      "visibility": null,
      "width": null
     }
    },
    "487a33a912a34b029552a7204263cf92": {
     "model_module": "@jupyter-widgets/base",
     "model_module_version": "1.2.0",
     "model_name": "LayoutModel",
     "state": {
      "_model_module": "@jupyter-widgets/base",
      "_model_module_version": "1.2.0",
      "_model_name": "LayoutModel",
      "_view_count": null,
      "_view_module": "@jupyter-widgets/base",
      "_view_module_version": "1.2.0",
      "_view_name": "LayoutView",
      "align_content": null,
      "align_items": null,
      "align_self": null,
      "border": null,
      "bottom": null,
      "display": null,
      "flex": null,
      "flex_flow": null,
      "grid_area": null,
      "grid_auto_columns": null,
      "grid_auto_flow": null,
      "grid_auto_rows": null,
      "grid_column": null,
      "grid_gap": null,
      "grid_row": null,
      "grid_template_areas": null,
      "grid_template_columns": null,
      "grid_template_rows": null,
      "height": null,
      "justify_content": null,
      "justify_items": null,
      "left": null,
      "margin": null,
      "max_height": null,
      "max_width": null,
      "min_height": null,
      "min_width": null,
      "object_fit": null,
      "object_position": null,
      "order": null,
      "overflow": null,
      "overflow_x": null,
      "overflow_y": null,
      "padding": null,
      "right": null,
      "top": null,
      "visibility": null,
      "width": null
     }
    },
    "4a96f4c295eb47fd80416618878672c5": {
     "model_module": "@jupyter-widgets/controls",
     "model_module_version": "1.5.0",
     "model_name": "FloatProgressModel",
     "state": {
      "_dom_classes": [],
      "_model_module": "@jupyter-widgets/controls",
      "_model_module_version": "1.5.0",
      "_model_name": "FloatProgressModel",
      "_view_count": null,
      "_view_module": "@jupyter-widgets/controls",
      "_view_module_version": "1.5.0",
      "_view_name": "ProgressView",
      "bar_style": "",
      "description": "",
      "description_tooltip": null,
      "layout": "IPY_MODEL_6f48441e9c7f4e6c819d0f17b55c3074",
      "max": 532,
      "min": 0,
      "orientation": "horizontal",
      "style": "IPY_MODEL_ea5dbade79d74f3f8ea1fef142a38f76",
      "value": 0
     }
    },
    "4af3b697d69848fe9c626433fd55c9d7": {
     "model_module": "@jupyter-widgets/base",
     "model_module_version": "1.2.0",
     "model_name": "LayoutModel",
     "state": {
      "_model_module": "@jupyter-widgets/base",
      "_model_module_version": "1.2.0",
      "_model_name": "LayoutModel",
      "_view_count": null,
      "_view_module": "@jupyter-widgets/base",
      "_view_module_version": "1.2.0",
      "_view_name": "LayoutView",
      "align_content": null,
      "align_items": null,
      "align_self": null,
      "border": null,
      "bottom": null,
      "display": null,
      "flex": null,
      "flex_flow": null,
      "grid_area": null,
      "grid_auto_columns": null,
      "grid_auto_flow": null,
      "grid_auto_rows": null,
      "grid_column": null,
      "grid_gap": null,
      "grid_row": null,
      "grid_template_areas": null,
      "grid_template_columns": null,
      "grid_template_rows": null,
      "height": null,
      "justify_content": null,
      "justify_items": null,
      "left": null,
      "margin": null,
      "max_height": null,
      "max_width": null,
      "min_height": null,
      "min_width": null,
      "object_fit": null,
      "object_position": null,
      "order": null,
      "overflow": null,
      "overflow_x": null,
      "overflow_y": null,
      "padding": null,
      "right": null,
      "top": null,
      "visibility": null,
      "width": null
     }
    },
    "533630bdf2d14480b1702f37a774c4f7": {
     "model_module": "@jupyter-widgets/controls",
     "model_module_version": "1.5.0",
     "model_name": "DescriptionStyleModel",
     "state": {
      "_model_module": "@jupyter-widgets/controls",
      "_model_module_version": "1.5.0",
      "_model_name": "DescriptionStyleModel",
      "_view_count": null,
      "_view_module": "@jupyter-widgets/base",
      "_view_module_version": "1.2.0",
      "_view_name": "StyleView",
      "description_width": ""
     }
    },
    "5a21d1c276e5471b9d5672c3eb928be3": {
     "model_module": "@jupyter-widgets/controls",
     "model_module_version": "1.5.0",
     "model_name": "HTMLModel",
     "state": {
      "_dom_classes": [],
      "_model_module": "@jupyter-widgets/controls",
      "_model_module_version": "1.5.0",
      "_model_name": "HTMLModel",
      "_view_count": null,
      "_view_module": "@jupyter-widgets/controls",
      "_view_module_version": "1.5.0",
      "_view_name": "HTMLView",
      "description": "",
      "description_tooltip": null,
      "layout": "IPY_MODEL_9be77e72117747a8bdb19619030581b2",
      "placeholder": "​",
      "style": "IPY_MODEL_6131ce7205cf4137be71a8077a6d8f4e",
      "value": "  0%"
     }
    },
    "6131ce7205cf4137be71a8077a6d8f4e": {
     "model_module": "@jupyter-widgets/controls",
     "model_module_version": "1.5.0",
     "model_name": "DescriptionStyleModel",
     "state": {
      "_model_module": "@jupyter-widgets/controls",
      "_model_module_version": "1.5.0",
      "_model_name": "DescriptionStyleModel",
      "_view_count": null,
      "_view_module": "@jupyter-widgets/base",
      "_view_module_version": "1.2.0",
      "_view_name": "StyleView",
      "description_width": ""
     }
    },
    "6d73d27a62054ad1a05814a17167a667": {
     "model_module": "@jupyter-widgets/base",
     "model_module_version": "1.2.0",
     "model_name": "LayoutModel",
     "state": {
      "_model_module": "@jupyter-widgets/base",
      "_model_module_version": "1.2.0",
      "_model_name": "LayoutModel",
      "_view_count": null,
      "_view_module": "@jupyter-widgets/base",
      "_view_module_version": "1.2.0",
      "_view_name": "LayoutView",
      "align_content": null,
      "align_items": null,
      "align_self": null,
      "border": null,
      "bottom": null,
      "display": null,
      "flex": null,
      "flex_flow": null,
      "grid_area": null,
      "grid_auto_columns": null,
      "grid_auto_flow": null,
      "grid_auto_rows": null,
      "grid_column": null,
      "grid_gap": null,
      "grid_row": null,
      "grid_template_areas": null,
      "grid_template_columns": null,
      "grid_template_rows": null,
      "height": null,
      "justify_content": null,
      "justify_items": null,
      "left": null,
      "margin": null,
      "max_height": null,
      "max_width": null,
      "min_height": null,
      "min_width": null,
      "object_fit": null,
      "object_position": null,
      "order": null,
      "overflow": null,
      "overflow_x": null,
      "overflow_y": null,
      "padding": null,
      "right": null,
      "top": null,
      "visibility": null,
      "width": null
     }
    },
    "6f48441e9c7f4e6c819d0f17b55c3074": {
     "model_module": "@jupyter-widgets/base",
     "model_module_version": "1.2.0",
     "model_name": "LayoutModel",
     "state": {
      "_model_module": "@jupyter-widgets/base",
      "_model_module_version": "1.2.0",
      "_model_name": "LayoutModel",
      "_view_count": null,
      "_view_module": "@jupyter-widgets/base",
      "_view_module_version": "1.2.0",
      "_view_name": "LayoutView",
      "align_content": null,
      "align_items": null,
      "align_self": null,
      "border": null,
      "bottom": null,
      "display": null,
      "flex": null,
      "flex_flow": null,
      "grid_area": null,
      "grid_auto_columns": null,
      "grid_auto_flow": null,
      "grid_auto_rows": null,
      "grid_column": null,
      "grid_gap": null,
      "grid_row": null,
      "grid_template_areas": null,
      "grid_template_columns": null,
      "grid_template_rows": null,
      "height": null,
      "justify_content": null,
      "justify_items": null,
      "left": null,
      "margin": null,
      "max_height": null,
      "max_width": null,
      "min_height": null,
      "min_width": null,
      "object_fit": null,
      "object_position": null,
      "order": null,
      "overflow": null,
      "overflow_x": null,
      "overflow_y": null,
      "padding": null,
      "right": null,
      "top": null,
      "visibility": null,
      "width": null
     }
    },
    "6fc0be663d7d478bb70742880d4ceba9": {
     "model_module": "@jupyter-widgets/controls",
     "model_module_version": "1.5.0",
     "model_name": "HBoxModel",
     "state": {
      "_dom_classes": [],
      "_model_module": "@jupyter-widgets/controls",
      "_model_module_version": "1.5.0",
      "_model_name": "HBoxModel",
      "_view_count": null,
      "_view_module": "@jupyter-widgets/controls",
      "_view_module_version": "1.5.0",
      "_view_name": "HBoxView",
      "box_style": "",
      "children": [
       "IPY_MODEL_027285a07f42427da0b48df404b1ee40",
       "IPY_MODEL_aa1eeeecbf284849995a3e785347f0cd",
       "IPY_MODEL_d387fa7150c14e3bb052f7b51adf12d1"
      ],
      "layout": "IPY_MODEL_b2879c34a35849a3afd6f4fdb8e6616f"
     }
    },
    "723ea23fb9064ab69eba8f7d65955a57": {
     "model_module": "@jupyter-widgets/base",
     "model_module_version": "1.2.0",
     "model_name": "LayoutModel",
     "state": {
      "_model_module": "@jupyter-widgets/base",
      "_model_module_version": "1.2.0",
      "_model_name": "LayoutModel",
      "_view_count": null,
      "_view_module": "@jupyter-widgets/base",
      "_view_module_version": "1.2.0",
      "_view_name": "LayoutView",
      "align_content": null,
      "align_items": null,
      "align_self": null,
      "border": null,
      "bottom": null,
      "display": null,
      "flex": null,
      "flex_flow": null,
      "grid_area": null,
      "grid_auto_columns": null,
      "grid_auto_flow": null,
      "grid_auto_rows": null,
      "grid_column": null,
      "grid_gap": null,
      "grid_row": null,
      "grid_template_areas": null,
      "grid_template_columns": null,
      "grid_template_rows": null,
      "height": null,
      "justify_content": null,
      "justify_items": null,
      "left": null,
      "margin": null,
      "max_height": null,
      "max_width": null,
      "min_height": null,
      "min_width": null,
      "object_fit": null,
      "object_position": null,
      "order": null,
      "overflow": null,
      "overflow_x": null,
      "overflow_y": null,
      "padding": null,
      "right": null,
      "top": null,
      "visibility": null,
      "width": null
     }
    },
    "7470d25d1f9f43e989c20accdf159776": {
     "model_module": "@jupyter-widgets/controls",
     "model_module_version": "1.5.0",
     "model_name": "DescriptionStyleModel",
     "state": {
      "_model_module": "@jupyter-widgets/controls",
      "_model_module_version": "1.5.0",
      "_model_name": "DescriptionStyleModel",
      "_view_count": null,
      "_view_module": "@jupyter-widgets/base",
      "_view_module_version": "1.2.0",
      "_view_name": "StyleView",
      "description_width": ""
     }
    },
    "770fa680457044fbab171ec17894258f": {
     "model_module": "@jupyter-widgets/base",
     "model_module_version": "1.2.0",
     "model_name": "LayoutModel",
     "state": {
      "_model_module": "@jupyter-widgets/base",
      "_model_module_version": "1.2.0",
      "_model_name": "LayoutModel",
      "_view_count": null,
      "_view_module": "@jupyter-widgets/base",
      "_view_module_version": "1.2.0",
      "_view_name": "LayoutView",
      "align_content": null,
      "align_items": null,
      "align_self": null,
      "border": null,
      "bottom": null,
      "display": null,
      "flex": null,
      "flex_flow": null,
      "grid_area": null,
      "grid_auto_columns": null,
      "grid_auto_flow": null,
      "grid_auto_rows": null,
      "grid_column": null,
      "grid_gap": null,
      "grid_row": null,
      "grid_template_areas": null,
      "grid_template_columns": null,
      "grid_template_rows": null,
      "height": null,
      "justify_content": null,
      "justify_items": null,
      "left": null,
      "margin": null,
      "max_height": null,
      "max_width": null,
      "min_height": null,
      "min_width": null,
      "object_fit": null,
      "object_position": null,
      "order": null,
      "overflow": null,
      "overflow_x": null,
      "overflow_y": null,
      "padding": null,
      "right": null,
      "top": null,
      "visibility": null,
      "width": null
     }
    },
    "800cebf225b54813b6e1394b074f163c": {
     "model_module": "@jupyter-widgets/base",
     "model_module_version": "1.2.0",
     "model_name": "LayoutModel",
     "state": {
      "_model_module": "@jupyter-widgets/base",
      "_model_module_version": "1.2.0",
      "_model_name": "LayoutModel",
      "_view_count": null,
      "_view_module": "@jupyter-widgets/base",
      "_view_module_version": "1.2.0",
      "_view_name": "LayoutView",
      "align_content": null,
      "align_items": null,
      "align_self": null,
      "border": null,
      "bottom": null,
      "display": null,
      "flex": null,
      "flex_flow": null,
      "grid_area": null,
      "grid_auto_columns": null,
      "grid_auto_flow": null,
      "grid_auto_rows": null,
      "grid_column": null,
      "grid_gap": null,
      "grid_row": null,
      "grid_template_areas": null,
      "grid_template_columns": null,
      "grid_template_rows": null,
      "height": null,
      "justify_content": null,
      "justify_items": null,
      "left": null,
      "margin": null,
      "max_height": null,
      "max_width": null,
      "min_height": null,
      "min_width": null,
      "object_fit": null,
      "object_position": null,
      "order": null,
      "overflow": null,
      "overflow_x": null,
      "overflow_y": null,
      "padding": null,
      "right": null,
      "top": null,
      "visibility": null,
      "width": null
     }
    },
    "8047341a42db499eb4b3340c50b190cb": {
     "model_module": "@jupyter-widgets/base",
     "model_module_version": "1.2.0",
     "model_name": "LayoutModel",
     "state": {
      "_model_module": "@jupyter-widgets/base",
      "_model_module_version": "1.2.0",
      "_model_name": "LayoutModel",
      "_view_count": null,
      "_view_module": "@jupyter-widgets/base",
      "_view_module_version": "1.2.0",
      "_view_name": "LayoutView",
      "align_content": null,
      "align_items": null,
      "align_self": null,
      "border": null,
      "bottom": null,
      "display": null,
      "flex": null,
      "flex_flow": null,
      "grid_area": null,
      "grid_auto_columns": null,
      "grid_auto_flow": null,
      "grid_auto_rows": null,
      "grid_column": null,
      "grid_gap": null,
      "grid_row": null,
      "grid_template_areas": null,
      "grid_template_columns": null,
      "grid_template_rows": null,
      "height": null,
      "justify_content": null,
      "justify_items": null,
      "left": null,
      "margin": null,
      "max_height": null,
      "max_width": null,
      "min_height": null,
      "min_width": null,
      "object_fit": null,
      "object_position": null,
      "order": null,
      "overflow": null,
      "overflow_x": null,
      "overflow_y": null,
      "padding": null,
      "right": null,
      "top": null,
      "visibility": null,
      "width": null
     }
    },
    "82fac9ae3c1743b8a06a4857f41484df": {
     "model_module": "@jupyter-widgets/base",
     "model_module_version": "1.2.0",
     "model_name": "LayoutModel",
     "state": {
      "_model_module": "@jupyter-widgets/base",
      "_model_module_version": "1.2.0",
      "_model_name": "LayoutModel",
      "_view_count": null,
      "_view_module": "@jupyter-widgets/base",
      "_view_module_version": "1.2.0",
      "_view_name": "LayoutView",
      "align_content": null,
      "align_items": null,
      "align_self": null,
      "border": null,
      "bottom": null,
      "display": null,
      "flex": null,
      "flex_flow": null,
      "grid_area": null,
      "grid_auto_columns": null,
      "grid_auto_flow": null,
      "grid_auto_rows": null,
      "grid_column": null,
      "grid_gap": null,
      "grid_row": null,
      "grid_template_areas": null,
      "grid_template_columns": null,
      "grid_template_rows": null,
      "height": null,
      "justify_content": null,
      "justify_items": null,
      "left": null,
      "margin": null,
      "max_height": null,
      "max_width": null,
      "min_height": null,
      "min_width": null,
      "object_fit": null,
      "object_position": null,
      "order": null,
      "overflow": null,
      "overflow_x": null,
      "overflow_y": null,
      "padding": null,
      "right": null,
      "top": null,
      "visibility": null,
      "width": null
     }
    },
    "869cc3152c3645aab47a4ef5906edd90": {
     "model_module": "@jupyter-widgets/controls",
     "model_module_version": "1.5.0",
     "model_name": "DescriptionStyleModel",
     "state": {
      "_model_module": "@jupyter-widgets/controls",
      "_model_module_version": "1.5.0",
      "_model_name": "DescriptionStyleModel",
      "_view_count": null,
      "_view_module": "@jupyter-widgets/base",
      "_view_module_version": "1.2.0",
      "_view_name": "StyleView",
      "description_width": ""
     }
    },
    "929c47c55af644ff8b421778e4631ccf": {
     "model_module": "@jupyter-widgets/base",
     "model_module_version": "1.2.0",
     "model_name": "LayoutModel",
     "state": {
      "_model_module": "@jupyter-widgets/base",
      "_model_module_version": "1.2.0",
      "_model_name": "LayoutModel",
      "_view_count": null,
      "_view_module": "@jupyter-widgets/base",
      "_view_module_version": "1.2.0",
      "_view_name": "LayoutView",
      "align_content": null,
      "align_items": null,
      "align_self": null,
      "border": null,
      "bottom": null,
      "display": null,
      "flex": null,
      "flex_flow": null,
      "grid_area": null,
      "grid_auto_columns": null,
      "grid_auto_flow": null,
      "grid_auto_rows": null,
      "grid_column": null,
      "grid_gap": null,
      "grid_row": null,
      "grid_template_areas": null,
      "grid_template_columns": null,
      "grid_template_rows": null,
      "height": null,
      "justify_content": null,
      "justify_items": null,
      "left": null,
      "margin": null,
      "max_height": null,
      "max_width": null,
      "min_height": null,
      "min_width": null,
      "object_fit": null,
      "object_position": null,
      "order": null,
      "overflow": null,
      "overflow_x": null,
      "overflow_y": null,
      "padding": null,
      "right": null,
      "top": null,
      "visibility": null,
      "width": null
     }
    },
    "93430e0258cd48b0bb039a5f22864945": {
     "model_module": "@jupyter-widgets/controls",
     "model_module_version": "1.5.0",
     "model_name": "HBoxModel",
     "state": {
      "_dom_classes": [],
      "_model_module": "@jupyter-widgets/controls",
      "_model_module_version": "1.5.0",
      "_model_name": "HBoxModel",
      "_view_count": null,
      "_view_module": "@jupyter-widgets/controls",
      "_view_module_version": "1.5.0",
      "_view_name": "HBoxView",
      "box_style": "",
      "children": [
       "IPY_MODEL_b27eb501d5a4461a9f49a8ecc1289e45",
       "IPY_MODEL_1f484180b2a34c4181ca5004ae5e767a",
       "IPY_MODEL_cd28cb8de25440539bfd5d1d6c28fa5c"
      ],
      "layout": "IPY_MODEL_6d73d27a62054ad1a05814a17167a667"
     }
    },
    "98345c40386d467dba152e3d95022572": {
     "model_module": "@jupyter-widgets/controls",
     "model_module_version": "1.5.0",
     "model_name": "ProgressStyleModel",
     "state": {
      "_model_module": "@jupyter-widgets/controls",
      "_model_module_version": "1.5.0",
      "_model_name": "ProgressStyleModel",
      "_view_count": null,
      "_view_module": "@jupyter-widgets/base",
      "_view_module_version": "1.2.0",
      "_view_name": "StyleView",
      "bar_color": null,
      "description_width": ""
     }
    },
    "99bad1c431684701916218807406cdde": {
     "model_module": "@jupyter-widgets/controls",
     "model_module_version": "1.5.0",
     "model_name": "HTMLModel",
     "state": {
      "_dom_classes": [],
      "_model_module": "@jupyter-widgets/controls",
      "_model_module_version": "1.5.0",
      "_model_name": "HTMLModel",
      "_view_count": null,
      "_view_module": "@jupyter-widgets/controls",
      "_view_module_version": "1.5.0",
      "_view_name": "HTMLView",
      "description": "",
      "description_tooltip": null,
      "layout": "IPY_MODEL_3bc54c495c7b4006a86d2defc85a7c7e",
      "placeholder": "​",
      "style": "IPY_MODEL_533630bdf2d14480b1702f37a774c4f7",
      "value": "Downloading (…)okenizer_config.json: 100%"
     }
    },
    "9be77e72117747a8bdb19619030581b2": {
     "model_module": "@jupyter-widgets/base",
     "model_module_version": "1.2.0",
     "model_name": "LayoutModel",
     "state": {
      "_model_module": "@jupyter-widgets/base",
      "_model_module_version": "1.2.0",
      "_model_name": "LayoutModel",
      "_view_count": null,
      "_view_module": "@jupyter-widgets/base",
      "_view_module_version": "1.2.0",
      "_view_name": "LayoutView",
      "align_content": null,
      "align_items": null,
      "align_self": null,
      "border": null,
      "bottom": null,
      "display": null,
      "flex": null,
      "flex_flow": null,
      "grid_area": null,
      "grid_auto_columns": null,
      "grid_auto_flow": null,
      "grid_auto_rows": null,
      "grid_column": null,
      "grid_gap": null,
      "grid_row": null,
      "grid_template_areas": null,
      "grid_template_columns": null,
      "grid_template_rows": null,
      "height": null,
      "justify_content": null,
      "justify_items": null,
      "left": null,
      "margin": null,
      "max_height": null,
      "max_width": null,
      "min_height": null,
      "min_width": null,
      "object_fit": null,
      "object_position": null,
      "order": null,
      "overflow": null,
      "overflow_x": null,
      "overflow_y": null,
      "padding": null,
      "right": null,
      "top": null,
      "visibility": null,
      "width": null
     }
    },
    "a68e9e7bb3d049ff84adb9564834d652": {
     "model_module": "@jupyter-widgets/controls",
     "model_module_version": "1.5.0",
     "model_name": "DescriptionStyleModel",
     "state": {
      "_model_module": "@jupyter-widgets/controls",
      "_model_module_version": "1.5.0",
      "_model_name": "DescriptionStyleModel",
      "_view_count": null,
      "_view_module": "@jupyter-widgets/base",
      "_view_module_version": "1.2.0",
      "_view_name": "StyleView",
      "description_width": ""
     }
    },
    "a78eb9ae941543a6af0df4c1ee2b2127": {
     "model_module": "@jupyter-widgets/controls",
     "model_module_version": "1.5.0",
     "model_name": "HTMLModel",
     "state": {
      "_dom_classes": [],
      "_model_module": "@jupyter-widgets/controls",
      "_model_module_version": "1.5.0",
      "_model_name": "HTMLModel",
      "_view_count": null,
      "_view_module": "@jupyter-widgets/controls",
      "_view_module_version": "1.5.0",
      "_view_name": "HTMLView",
      "description": "",
      "description_tooltip": null,
      "layout": "IPY_MODEL_723ea23fb9064ab69eba8f7d65955a57",
      "placeholder": "​",
      "style": "IPY_MODEL_46b83315b2fb4d988a4c6600f9cbb83e",
      "value": " 0/532 [00:00&lt;?, ?it/s]"
     }
    },
    "aa1eeeecbf284849995a3e785347f0cd": {
     "model_module": "@jupyter-widgets/controls",
     "model_module_version": "1.5.0",
     "model_name": "FloatProgressModel",
     "state": {
      "_dom_classes": [],
      "_model_module": "@jupyter-widgets/controls",
      "_model_module_version": "1.5.0",
      "_model_name": "FloatProgressModel",
      "_view_count": null,
      "_view_module": "@jupyter-widgets/controls",
      "_view_module_version": "1.5.0",
      "_view_name": "ProgressView",
      "bar_style": "success",
      "description": "",
      "description_tooltip": null,
      "layout": "IPY_MODEL_2e870716634c40c0906fbbf3c0843b64",
      "max": 1080,
      "min": 0,
      "orientation": "horizontal",
      "style": "IPY_MODEL_b7711ef065484542b120449fb0ab035c",
      "value": 1080
     }
    },
    "ac69d08b05974ed995160cb07cc657d6": {
     "model_module": "@jupyter-widgets/controls",
     "model_module_version": "1.5.0",
     "model_name": "DescriptionStyleModel",
     "state": {
      "_model_module": "@jupyter-widgets/controls",
      "_model_module_version": "1.5.0",
      "_model_name": "DescriptionStyleModel",
      "_view_count": null,
      "_view_module": "@jupyter-widgets/base",
      "_view_module_version": "1.2.0",
      "_view_name": "StyleView",
      "description_width": ""
     }
    },
    "b27eb501d5a4461a9f49a8ecc1289e45": {
     "model_module": "@jupyter-widgets/controls",
     "model_module_version": "1.5.0",
     "model_name": "HTMLModel",
     "state": {
      "_dom_classes": [],
      "_model_module": "@jupyter-widgets/controls",
      "_model_module_version": "1.5.0",
      "_model_name": "HTMLModel",
      "_view_count": null,
      "_view_module": "@jupyter-widgets/controls",
      "_view_module_version": "1.5.0",
      "_view_name": "HTMLView",
      "description": "",
      "description_tooltip": null,
      "layout": "IPY_MODEL_487a33a912a34b029552a7204263cf92",
      "placeholder": "​",
      "style": "IPY_MODEL_14824684827e497ea5573bf3acfe77ce",
      "value": "Downloading (…)cial_tokens_map.json: 100%"
     }
    },
    "b2879c34a35849a3afd6f4fdb8e6616f": {
     "model_module": "@jupyter-widgets/base",
     "model_module_version": "1.2.0",
     "model_name": "LayoutModel",
     "state": {
      "_model_module": "@jupyter-widgets/base",
      "_model_module_version": "1.2.0",
      "_model_name": "LayoutModel",
      "_view_count": null,
      "_view_module": "@jupyter-widgets/base",
      "_view_module_version": "1.2.0",
      "_view_name": "LayoutView",
      "align_content": null,
      "align_items": null,
      "align_self": null,
      "border": null,
      "bottom": null,
      "display": null,
      "flex": null,
      "flex_flow": null,
      "grid_area": null,
      "grid_auto_columns": null,
      "grid_auto_flow": null,
      "grid_auto_rows": null,
      "grid_column": null,
      "grid_gap": null,
      "grid_row": null,
      "grid_template_areas": null,
      "grid_template_columns": null,
      "grid_template_rows": null,
      "height": null,
      "justify_content": null,
      "justify_items": null,
      "left": null,
      "margin": null,
      "max_height": null,
      "max_width": null,
      "min_height": null,
      "min_width": null,
      "object_fit": null,
      "object_position": null,
      "order": null,
      "overflow": null,
      "overflow_x": null,
      "overflow_y": null,
      "padding": null,
      "right": null,
      "top": null,
      "visibility": null,
      "width": null
     }
    },
    "b3969f0885e643d19288402e622eb324": {
     "model_module": "@jupyter-widgets/controls",
     "model_module_version": "1.5.0",
     "model_name": "HTMLModel",
     "state": {
      "_dom_classes": [],
      "_model_module": "@jupyter-widgets/controls",
      "_model_module_version": "1.5.0",
      "_model_name": "HTMLModel",
      "_view_count": null,
      "_view_module": "@jupyter-widgets/controls",
      "_view_module_version": "1.5.0",
      "_view_name": "HTMLView",
      "description": "",
      "description_tooltip": null,
      "layout": "IPY_MODEL_bc77fb79c5144ec48f09d86dcec0f5f3",
      "placeholder": "​",
      "style": "IPY_MODEL_ac69d08b05974ed995160cb07cc657d6",
      "value": "Downloading pytorch_model.bin: 100%"
     }
    },
    "b7711ef065484542b120449fb0ab035c": {
     "model_module": "@jupyter-widgets/controls",
     "model_module_version": "1.5.0",
     "model_name": "ProgressStyleModel",
     "state": {
      "_model_module": "@jupyter-widgets/controls",
      "_model_module_version": "1.5.0",
      "_model_name": "ProgressStyleModel",
      "_view_count": null,
      "_view_module": "@jupyter-widgets/base",
      "_view_module_version": "1.2.0",
      "_view_name": "StyleView",
      "bar_color": null,
      "description_width": ""
     }
    },
    "ba7be7b1eba74cdc867fc4855e747875": {
     "model_module": "@jupyter-widgets/controls",
     "model_module_version": "1.5.0",
     "model_name": "HTMLModel",
     "state": {
      "_dom_classes": [],
      "_model_module": "@jupyter-widgets/controls",
      "_model_module_version": "1.5.0",
      "_model_name": "HTMLModel",
      "_view_count": null,
      "_view_module": "@jupyter-widgets/controls",
      "_view_module_version": "1.5.0",
      "_view_name": "HTMLView",
      "description": "",
      "description_tooltip": null,
      "layout": "IPY_MODEL_4af3b697d69848fe9c626433fd55c9d7",
      "placeholder": "​",
      "style": "IPY_MODEL_398328c7735142f784fad3072402e269",
      "value": " 232k/232k [00:00&lt;00:00, 3.41MB/s]"
     }
    },
    "bc77fb79c5144ec48f09d86dcec0f5f3": {
     "model_module": "@jupyter-widgets/base",
     "model_module_version": "1.2.0",
     "model_name": "LayoutModel",
     "state": {
      "_model_module": "@jupyter-widgets/base",
      "_model_module_version": "1.2.0",
      "_model_name": "LayoutModel",
      "_view_count": null,
      "_view_module": "@jupyter-widgets/base",
      "_view_module_version": "1.2.0",
      "_view_name": "LayoutView",
      "align_content": null,
      "align_items": null,
      "align_self": null,
      "border": null,
      "bottom": null,
      "display": null,
      "flex": null,
      "flex_flow": null,
      "grid_area": null,
      "grid_auto_columns": null,
      "grid_auto_flow": null,
      "grid_auto_rows": null,
      "grid_column": null,
      "grid_gap": null,
      "grid_row": null,
      "grid_template_areas": null,
      "grid_template_columns": null,
      "grid_template_rows": null,
      "height": null,
      "justify_content": null,
      "justify_items": null,
      "left": null,
      "margin": null,
      "max_height": null,
      "max_width": null,
      "min_height": null,
      "min_width": null,
      "object_fit": null,
      "object_position": null,
      "order": null,
      "overflow": null,
      "overflow_x": null,
      "overflow_y": null,
      "padding": null,
      "right": null,
      "top": null,
      "visibility": null,
      "width": null
     }
    },
    "bed94c5e421b467299cd3949b9f3fdb5": {
     "model_module": "@jupyter-widgets/controls",
     "model_module_version": "1.5.0",
     "model_name": "HTMLModel",
     "state": {
      "_dom_classes": [],
      "_model_module": "@jupyter-widgets/controls",
      "_model_module_version": "1.5.0",
      "_model_name": "HTMLModel",
      "_view_count": null,
      "_view_module": "@jupyter-widgets/controls",
      "_view_module_version": "1.5.0",
      "_view_name": "HTMLView",
      "description": "",
      "description_tooltip": null,
      "layout": "IPY_MODEL_82fac9ae3c1743b8a06a4857f41484df",
      "placeholder": "​",
      "style": "IPY_MODEL_a68e9e7bb3d049ff84adb9564834d652",
      "value": " 40.0/40.0 [00:00&lt;00:00, 1.90kB/s]"
     }
    },
    "bf107ed2a73d46c5becf88744ec39f82": {
     "model_module": "@jupyter-widgets/base",
     "model_module_version": "1.2.0",
     "model_name": "LayoutModel",
     "state": {
      "_model_module": "@jupyter-widgets/base",
      "_model_module_version": "1.2.0",
      "_model_name": "LayoutModel",
      "_view_count": null,
      "_view_module": "@jupyter-widgets/base",
      "_view_module_version": "1.2.0",
      "_view_name": "LayoutView",
      "align_content": null,
      "align_items": null,
      "align_self": null,
      "border": null,
      "bottom": null,
      "display": null,
      "flex": null,
      "flex_flow": null,
      "grid_area": null,
      "grid_auto_columns": null,
      "grid_auto_flow": null,
      "grid_auto_rows": null,
      "grid_column": null,
      "grid_gap": null,
      "grid_row": null,
      "grid_template_areas": null,
      "grid_template_columns": null,
      "grid_template_rows": null,
      "height": null,
      "justify_content": null,
      "justify_items": null,
      "left": null,
      "margin": null,
      "max_height": null,
      "max_width": null,
      "min_height": null,
      "min_width": null,
      "object_fit": null,
      "object_position": null,
      "order": null,
      "overflow": null,
      "overflow_x": null,
      "overflow_y": null,
      "padding": null,
      "right": null,
      "top": null,
      "visibility": null,
      "width": null
     }
    },
    "c06f11897d8348f3ab48eff61a10b598": {
     "model_module": "@jupyter-widgets/base",
     "model_module_version": "1.2.0",
     "model_name": "LayoutModel",
     "state": {
      "_model_module": "@jupyter-widgets/base",
      "_model_module_version": "1.2.0",
      "_model_name": "LayoutModel",
      "_view_count": null,
      "_view_module": "@jupyter-widgets/base",
      "_view_module_version": "1.2.0",
      "_view_name": "LayoutView",
      "align_content": null,
      "align_items": null,
      "align_self": null,
      "border": null,
      "bottom": null,
      "display": null,
      "flex": null,
      "flex_flow": null,
      "grid_area": null,
      "grid_auto_columns": null,
      "grid_auto_flow": null,
      "grid_auto_rows": null,
      "grid_column": null,
      "grid_gap": null,
      "grid_row": null,
      "grid_template_areas": null,
      "grid_template_columns": null,
      "grid_template_rows": null,
      "height": null,
      "justify_content": null,
      "justify_items": null,
      "left": null,
      "margin": null,
      "max_height": null,
      "max_width": null,
      "min_height": null,
      "min_width": null,
      "object_fit": null,
      "object_position": null,
      "order": null,
      "overflow": null,
      "overflow_x": null,
      "overflow_y": null,
      "padding": null,
      "right": null,
      "top": null,
      "visibility": null,
      "width": null
     }
    },
    "cd28cb8de25440539bfd5d1d6c28fa5c": {
     "model_module": "@jupyter-widgets/controls",
     "model_module_version": "1.5.0",
     "model_name": "HTMLModel",
     "state": {
      "_dom_classes": [],
      "_model_module": "@jupyter-widgets/controls",
      "_model_module_version": "1.5.0",
      "_model_name": "HTMLModel",
      "_view_count": null,
      "_view_module": "@jupyter-widgets/controls",
      "_view_module_version": "1.5.0",
      "_view_name": "HTMLView",
      "description": "",
      "description_tooltip": null,
      "layout": "IPY_MODEL_09a41ce67bc64777af1f9a17023b8a24",
      "placeholder": "​",
      "style": "IPY_MODEL_869cc3152c3645aab47a4ef5906edd90",
      "value": " 112/112 [00:00&lt;00:00, 2.81kB/s]"
     }
    },
    "cecc179303b842d38af247c21cce12cf": {
     "model_module": "@jupyter-widgets/base",
     "model_module_version": "1.2.0",
     "model_name": "LayoutModel",
     "state": {
      "_model_module": "@jupyter-widgets/base",
      "_model_module_version": "1.2.0",
      "_model_name": "LayoutModel",
      "_view_count": null,
      "_view_module": "@jupyter-widgets/base",
      "_view_module_version": "1.2.0",
      "_view_name": "LayoutView",
      "align_content": null,
      "align_items": null,
      "align_self": null,
      "border": null,
      "bottom": null,
      "display": null,
      "flex": null,
      "flex_flow": null,
      "grid_area": null,
      "grid_auto_columns": null,
      "grid_auto_flow": null,
      "grid_auto_rows": null,
      "grid_column": null,
      "grid_gap": null,
      "grid_row": null,
      "grid_template_areas": null,
      "grid_template_columns": null,
      "grid_template_rows": null,
      "height": null,
      "justify_content": null,
      "justify_items": null,
      "left": null,
      "margin": null,
      "max_height": null,
      "max_width": null,
      "min_height": null,
      "min_width": null,
      "object_fit": null,
      "object_position": null,
      "order": null,
      "overflow": null,
      "overflow_x": null,
      "overflow_y": null,
      "padding": null,
      "right": null,
      "top": null,
      "visibility": null,
      "width": null
     }
    },
    "d02a70a5f3d44a13919451ef0010ba0d": {
     "model_module": "@jupyter-widgets/controls",
     "model_module_version": "1.5.0",
     "model_name": "HBoxModel",
     "state": {
      "_dom_classes": [],
      "_model_module": "@jupyter-widgets/controls",
      "_model_module_version": "1.5.0",
      "_model_name": "HBoxModel",
      "_view_count": null,
      "_view_module": "@jupyter-widgets/controls",
      "_view_module_version": "1.5.0",
      "_view_name": "HBoxView",
      "box_style": "",
      "children": [
       "IPY_MODEL_b3969f0885e643d19288402e622eb324",
       "IPY_MODEL_16d87487f571444f8643f5aaf00da255",
       "IPY_MODEL_d108575164cd4de790c4708a5c161a1d"
      ],
      "layout": "IPY_MODEL_444f919fcec94eca842297de8c4eb4d3"
     }
    },
    "d108575164cd4de790c4708a5c161a1d": {
     "model_module": "@jupyter-widgets/controls",
     "model_module_version": "1.5.0",
     "model_name": "HTMLModel",
     "state": {
      "_dom_classes": [],
      "_model_module": "@jupyter-widgets/controls",
      "_model_module_version": "1.5.0",
      "_model_name": "HTMLModel",
      "_view_count": null,
      "_view_module": "@jupyter-widgets/controls",
      "_view_module_version": "1.5.0",
      "_view_name": "HTMLView",
      "description": "",
      "description_tooltip": null,
      "layout": "IPY_MODEL_40de01a1d00e4f958a40fff8cd2bb025",
      "placeholder": "​",
      "style": "IPY_MODEL_0fe5c6c46a4a45bc8722b252b2061380",
      "value": " 438M/438M [00:07&lt;00:00, 49.1MB/s]"
     }
    },
    "d1859e4ee5274258b440d618ab513459": {
     "model_module": "@jupyter-widgets/controls",
     "model_module_version": "1.5.0",
     "model_name": "DescriptionStyleModel",
     "state": {
      "_model_module": "@jupyter-widgets/controls",
      "_model_module_version": "1.5.0",
      "_model_name": "DescriptionStyleModel",
      "_view_count": null,
      "_view_module": "@jupyter-widgets/base",
      "_view_module_version": "1.2.0",
      "_view_name": "StyleView",
      "description_width": ""
     }
    },
    "d24203fc535c4de398ef31ae2556be4a": {
     "model_module": "@jupyter-widgets/base",
     "model_module_version": "1.2.0",
     "model_name": "LayoutModel",
     "state": {
      "_model_module": "@jupyter-widgets/base",
      "_model_module_version": "1.2.0",
      "_model_name": "LayoutModel",
      "_view_count": null,
      "_view_module": "@jupyter-widgets/base",
      "_view_module_version": "1.2.0",
      "_view_name": "LayoutView",
      "align_content": null,
      "align_items": null,
      "align_self": null,
      "border": null,
      "bottom": null,
      "display": null,
      "flex": null,
      "flex_flow": null,
      "grid_area": null,
      "grid_auto_columns": null,
      "grid_auto_flow": null,
      "grid_auto_rows": null,
      "grid_column": null,
      "grid_gap": null,
      "grid_row": null,
      "grid_template_areas": null,
      "grid_template_columns": null,
      "grid_template_rows": null,
      "height": null,
      "justify_content": null,
      "justify_items": null,
      "left": null,
      "margin": null,
      "max_height": null,
      "max_width": null,
      "min_height": null,
      "min_width": null,
      "object_fit": null,
      "object_position": null,
      "order": null,
      "overflow": null,
      "overflow_x": null,
      "overflow_y": null,
      "padding": null,
      "right": null,
      "top": null,
      "visibility": null,
      "width": null
     }
    },
    "d387fa7150c14e3bb052f7b51adf12d1": {
     "model_module": "@jupyter-widgets/controls",
     "model_module_version": "1.5.0",
     "model_name": "HTMLModel",
     "state": {
      "_dom_classes": [],
      "_model_module": "@jupyter-widgets/controls",
      "_model_module_version": "1.5.0",
      "_model_name": "HTMLModel",
      "_view_count": null,
      "_view_module": "@jupyter-widgets/controls",
      "_view_module_version": "1.5.0",
      "_view_name": "HTMLView",
      "description": "",
      "description_tooltip": null,
      "layout": "IPY_MODEL_d24203fc535c4de398ef31ae2556be4a",
      "placeholder": "​",
      "style": "IPY_MODEL_d1859e4ee5274258b440d618ab513459",
      "value": " 1.08k/1.08k [00:00&lt;00:00, 33.9kB/s]"
     }
    },
    "dd2df7f88cd74b18877819399062edf8": {
     "model_module": "@jupyter-widgets/controls",
     "model_module_version": "1.5.0",
     "model_name": "FloatProgressModel",
     "state": {
      "_dom_classes": [],
      "_model_module": "@jupyter-widgets/controls",
      "_model_module_version": "1.5.0",
      "_model_name": "FloatProgressModel",
      "_view_count": null,
      "_view_module": "@jupyter-widgets/controls",
      "_view_module_version": "1.5.0",
      "_view_name": "ProgressView",
      "bar_style": "success",
      "description": "",
      "description_tooltip": null,
      "layout": "IPY_MODEL_c06f11897d8348f3ab48eff61a10b598",
      "max": 231508,
      "min": 0,
      "orientation": "horizontal",
      "style": "IPY_MODEL_127d911f807946278206e260aef3e392",
      "value": 231508
     }
    },
    "e6b61238259b45ed95cbdd61f694ab6c": {
     "model_module": "@jupyter-widgets/controls",
     "model_module_version": "1.5.0",
     "model_name": "HBoxModel",
     "state": {
      "_dom_classes": [],
      "_model_module": "@jupyter-widgets/controls",
      "_model_module_version": "1.5.0",
      "_model_name": "HBoxModel",
      "_view_count": null,
      "_view_module": "@jupyter-widgets/controls",
      "_view_module_version": "1.5.0",
      "_view_name": "HBoxView",
      "box_style": "",
      "children": [
       "IPY_MODEL_5a21d1c276e5471b9d5672c3eb928be3",
       "IPY_MODEL_4a96f4c295eb47fd80416618878672c5",
       "IPY_MODEL_a78eb9ae941543a6af0df4c1ee2b2127"
      ],
      "layout": "IPY_MODEL_1daed552d312484a88a92374ad13aff1"
     }
    },
    "ea5dbade79d74f3f8ea1fef142a38f76": {
     "model_module": "@jupyter-widgets/controls",
     "model_module_version": "1.5.0",
     "model_name": "ProgressStyleModel",
     "state": {
      "_model_module": "@jupyter-widgets/controls",
      "_model_module_version": "1.5.0",
      "_model_name": "ProgressStyleModel",
      "_view_count": null,
      "_view_module": "@jupyter-widgets/base",
      "_view_module_version": "1.2.0",
      "_view_name": "StyleView",
      "bar_color": null,
      "description_width": ""
     }
    },
    "ea824cbce2164593a05f62245832e562": {
     "model_module": "@jupyter-widgets/controls",
     "model_module_version": "1.5.0",
     "model_name": "FloatProgressModel",
     "state": {
      "_dom_classes": [],
      "_model_module": "@jupyter-widgets/controls",
      "_model_module_version": "1.5.0",
      "_model_name": "FloatProgressModel",
      "_view_count": null,
      "_view_module": "@jupyter-widgets/controls",
      "_view_module_version": "1.5.0",
      "_view_name": "ProgressView",
      "bar_style": "success",
      "description": "",
      "description_tooltip": null,
      "layout": "IPY_MODEL_8047341a42db499eb4b3340c50b190cb",
      "max": 40,
      "min": 0,
      "orientation": "horizontal",
      "style": "IPY_MODEL_1b815eaf945946e38a56e0719617546b",
      "value": 40
     }
    },
    "f0fb37c5777a4752bbf55dabcb4ab55b": {
     "model_module": "@jupyter-widgets/controls",
     "model_module_version": "1.5.0",
     "model_name": "DescriptionStyleModel",
     "state": {
      "_model_module": "@jupyter-widgets/controls",
      "_model_module_version": "1.5.0",
      "_model_name": "DescriptionStyleModel",
      "_view_count": null,
      "_view_module": "@jupyter-widgets/base",
      "_view_module_version": "1.2.0",
      "_view_name": "StyleView",
      "description_width": ""
     }
    }
   }
  }
 },
 "nbformat": 4,
 "nbformat_minor": 5
}