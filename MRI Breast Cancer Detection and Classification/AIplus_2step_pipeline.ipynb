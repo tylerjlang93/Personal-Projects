{
 "cells": [
  {
   "attachments": {},
   "cell_type": "markdown",
   "metadata": {},
   "source": [
    "# 2-step Diagnosis Pipeline"
   ]
  },
  {
   "cell_type": "markdown",
   "metadata": {},
   "source": [
    "Import relevant functions"
   ]
  },
  {
   "cell_type": "code",
   "execution_count": 1,
   "metadata": {},
   "outputs": [
    {
     "name": "stdout",
     "output_type": "stream",
     "text": [
      "cpu\n"
     ]
    }
   ],
   "source": [
    "import os\n",
    "import json\n",
    "from glob import glob\n",
    "import AIplus_Utilities as PU\n",
    "\n",
    "import torch\n",
    "import torchmetrics as tm\n",
    "\n",
    "from PIL import Image\n",
    "from PIL.ImageOps import grayscale\n",
    "from numpy import mean\n",
    "from sklearn.metrics import confusion_matrix\n",
    "\n",
    "global device\n",
    "device = torch.device('cuda') if torch.cuda.is_available() else torch.device('cpu')\n",
    "print(device)"
   ]
  },
  {
   "cell_type": "markdown",
   "metadata": {},
   "source": [
    "Confirm CPU environment for YOLO"
   ]
  },
  {
   "cell_type": "code",
   "execution_count": 2,
   "metadata": {},
   "outputs": [
    {
     "name": "stderr",
     "output_type": "stream",
     "text": [
      "Ultralytics YOLOv8.0.142  Python-3.10.2 torch-2.0.1+cpu CPU (11th Gen Intel Core(TM) i7-1185G7 3.00GHz)\n",
      "Setup complete  (8 CPUs, 15.7 GB RAM, 408.0/952.6 GB disk)\n"
     ]
    },
    {
     "name": "stdout",
     "output_type": "stream",
     "text": [
      "None\n"
     ]
    }
   ],
   "source": [
    "import ultralytics\n",
    "from ultralytics import YOLO\n",
    "print(ultralytics.checks())\n"
   ]
  },
  {
   "attachments": {},
   "cell_type": "markdown",
   "metadata": {},
   "source": [
    "# Prediction Pipeline - Simple"
   ]
  },
  {
   "cell_type": "code",
   "execution_count": 4,
   "metadata": {},
   "outputs": [
    {
     "name": "stdout",
     "output_type": "stream",
     "text": [
      "Loading images and labels\n",
      "Predicting label segmentation boxes\n"
     ]
    },
    {
     "name": "stderr",
     "output_type": "stream",
     "text": [
      "\n",
      "0: 160x160 1 tumor, 1: 160x160 1 tumor, 2: 160x160 2 tumors, 3: 160x160 1 tumor, 95.4ms\n",
      "Speed: 1.3ms preprocess, 23.8ms inference, 3.1ms postprocess per image at shape (1, 3, 160, 160)\n"
     ]
    },
    {
     "name": "stdout",
     "output_type": "stream",
     "text": [
      "Segmentation error count: 0\n",
      "Creating Dataloader\n",
      "Predicting diagnosis class labels\n",
      "# batches / inputs: 1 4\n",
      "Overall DSC score for bounding box segmentation: 0.78\n",
      "     Based on 4 images\n",
      "Overall metrics for diagnosis:\n",
      "{'Accuracy': 0.25, 'Precision': 1.0, 'Recall': 0.25, 'F1': 0.4, 'ConfMat': tensor([[0, 0],\n",
      "        [3, 1]])}\n",
      "[0.25, 0.025]\n"
     ]
    }
   ],
   "source": [
    "# Set path to data\n",
    "this_path = os.getcwd()\n",
    "#data_basepath = label_basepath = this_path+'\\\\Data\\\\Ultrasound-labeled\\\\'\n",
    "#data_basepath = label_basepath = this_path+'\\\\Data\\\\External_Test_set\\\\'\n",
    "#data_basepath = label_basepath = this_path+'\\\\Data\\\\Simple_Test_Images\\\\'\n",
    "#data_basepath = label_basepath = this_path+'\\\\Data\\\\AIplus_validation\\\\'\n",
    "data_basepath = label_basepath = this_path+'\\\\Data\\\\External_test_cropped\\\\'\n",
    "model_basepath = this_path+'\\\\Trained_Models\\\\'\n",
    "\n",
    "# Set flag for detailed narrative output\n",
    "#verbose = 2    # full narrative plus labeled images, best for small dataset troubleshooting\n",
    "#verbose = True # narrative only\n",
    "verbose = False # minimum output narrative\n",
    "\n",
    "# Load segmentation model\n",
    "trained_seg_model = YOLO(model_basepath+'best_yolo_seg3.pt')    # trained on un-enhanced cropped AI+ and public datasets\n",
    "\n",
    "# Load classification model\n",
    "trained_class_model = torch.load(model_basepath+'best_densenet_6.pth',map_location=torch.device(device))\n",
    "\n",
    "# Get image names and provided labels from directories above\n",
    "print('Loading images and labels')\n",
    "label_df, label_list = PU.load_aiplus_labels(label_basepath)\n",
    "image_df, image_list = PU.load_aiplus_images(data_basepath,label_list)\n",
    "\n",
    "# Predict labels using segmentation model\n",
    "print('Predicting label segmentation boxes')\n",
    "pred_label_df = PU.run_seg_model(trained_seg_model,list(image_df['image_path']),verbose=verbose)\n",
    "pred_label_df['label_bool'] = label_df['label_bool']\n",
    "pred_label_df['image_path'] = label_df['image_path']\n",
    "\n",
    "# Create Dataloader for test images, using dataframe and provided labels\n",
    "print('Creating Dataloader')\n",
    "pred_dl = PU.make_dataloader(pred_label_df,data_basepath,verbose=verbose)\n",
    "\n",
    "# Predict labels from classification model\n",
    "print('Predicting diagnosis class labels')\n",
    "preds, true_y = PU.predict_classes(pred_dl,trained_class_model,device,verbose=verbose)\n",
    "p = torch.Tensor.tolist(preds)\n",
    "ty = torch.Tensor.tolist(true_y)\n",
    "pred_label_df['label_bool'] = [int(pi) for pi in p]\n",
    "\n",
    "# Evaluate DSC score for seg model bounding boxes against provided labels\n",
    "pred_label_scores = PU.score_labels_dsc(label_df,pred_label_df,verbose=verbose)\n",
    "print('Overall DSC score for bounding box segmentation:',round(mean(pred_label_scores*100),3))\n",
    "print('     Based on',len(pred_label_scores),'images')\n",
    "\n",
    "# Return metrics\n",
    "metrics = PU.score_classes(preds,true_y)\n",
    "map_scores = PU.map_scores(PU.label_df_to_dict(label_df),PU.label_df_to_dict(pred_label_df))\n",
    "print('Overall metrics for diagnosis:')\n",
    "print(metrics)\n",
    "print(map_scores)\n",
    "\n",
    "# Predict BI-RADS ratings\n",
    "# pending"
   ]
  }
 ],
 "metadata": {
  "kernelspec": {
   "display_name": ".venv",
   "language": "python",
   "name": "python3"
  },
  "language_info": {
   "codemirror_mode": {
    "name": "ipython",
    "version": 3
   },
   "file_extension": ".py",
   "mimetype": "text/x-python",
   "name": "python",
   "nbconvert_exporter": "python",
   "pygments_lexer": "ipython3",
   "version": "3.10.2"
  },
  "orig_nbformat": 4
 },
 "nbformat": 4,
 "nbformat_minor": 2
}
