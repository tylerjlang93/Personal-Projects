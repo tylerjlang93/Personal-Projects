{
 "cells": [
  {
   "cell_type": "code",
   "execution_count": 1,
   "metadata": {},
   "outputs": [
    {
     "name": "stderr",
     "output_type": "stream",
     "text": [
      "Ultralytics YOLOv8.0.114  Python-3.9.16 torch-2.0.1 CUDA:0 (NVIDIA GeForce RTX 3080 Ti Laptop GPU, 16384MiB)\n",
      "Setup complete  (20 CPUs, 31.7 GB RAM, 811.4/934.5 GB disk)\n"
     ]
    }
   ],
   "source": [
    "import os\n",
    "import cv2\n",
    "import sys\n",
    "import json\n",
    "\n",
    "from tqdm import tqdm\n",
    "import pandas as pd\n",
    "\n",
    "import ultralytics\n",
    "\n",
    "from ultralytics import YOLO\n",
    "from matplotlib import pyplot as plt\n",
    "\n",
    "from glob import glob\n",
    "import numpy as np\n",
    "from mapcalc import calculate_map, calculate_map_range\n",
    "\n",
    "ultralytics.checks()"
   ]
  },
  {
   "cell_type": "code",
   "execution_count": 2,
   "metadata": {},
   "outputs": [],
   "source": [
    "def draw_boxes(image_path, boxes, labels, scores, ground_truth_boxes, ground_truth_labels, output_path, normalized_bbox=True):\n",
    "    # Read the image\n",
    "    image = cv2.imread(image_path)\n",
    "\n",
    "    # Get the image dimensions\n",
    "    height, width = image.shape[:2]\n",
    "\n",
    "    # Iterate over the boxes\n",
    "    for (box, label, score) in zip(boxes, labels, scores):\n",
    "        # Convert normalized coordinates to pixel coordinates\n",
    "        x1, y1, x2, y2 = tuple(box)\n",
    "        if normalized_bbox:\n",
    "            x1, y1, x2, y2 = int(x1 * width), int(y1 * height), int(x2 * width), int(y2 * height)\n",
    "        else:\n",
    "            x1, y1, x2, y2 = int(x1), int(y1), int(x2), int(y2)\n",
    "\n",
    "        # Draw the box\n",
    "\n",
    "        # Multi-class\n",
    "        if label == 0:\n",
    "            tumor = \"benign\"\n",
    "            color = (0, 255, 0)\n",
    "        elif label == 1:\n",
    "            tumor = \"malignant\"\n",
    "            color = (0, 0, 255)\n",
    "        \n",
    "        # # Single-class\n",
    "        # if label == 0:\n",
    "        #     tumor = \"tumor\"\n",
    "        #     color = (255, 0, 0)\n",
    "\n",
    "        cv2.rectangle(image, (x1, y1), (x2, y2), color, 2)\n",
    "\n",
    "        # Prepare the label and confidence\n",
    "        text = f\"{tumor}: {score:.2f}\"\n",
    "\n",
    "        # Draw the label and confidence\n",
    "        cv2.putText(image, text, (x1, y1 - 10), cv2.FONT_HERSHEY_SIMPLEX, 0.5, color, 2, cv2.LINE_AA)\n",
    "\n",
    "    for (box, label) in zip(ground_truth_boxes, ground_truth_labels):\n",
    "        # Convert normalized coordinates to pixel coordinates\n",
    "        x1, y1, x2, y2 = tuple(box)\n",
    "        x1, y1, x2, y2 = int(x1), int(y1), int(x2), int(y2)\n",
    "\n",
    "        # Draw the box\n",
    "\n",
    "        if label == 0:\n",
    "            tumor = \"I-benign\"\n",
    "            color = (0, 255, 0)\n",
    "        elif label == 1:\n",
    "            tumor = \"I-malignant\"\n",
    "            color = (0, 0, 255)\n",
    "\n",
    "        # Draw the label and confidence\n",
    "        cv2.putText(image, tumor, (x1, y1 - 10), cv2.FONT_HERSHEY_SIMPLEX, 0.5, color, 2, cv2.LINE_AA)\n",
    "\n",
    "        print(image_path)\n",
    "        print(label)\n",
    "\n",
    "        cv2.rectangle(image, (x1, y1), (x2, y2), color, 1)\n",
    "\n",
    "    # Save the image\n",
    "    cv2.imwrite(output_path, image)"
   ]
  },
  {
   "cell_type": "code",
   "execution_count": 3,
   "metadata": {},
   "outputs": [],
   "source": [
    "# Best model for multi-class classification\n",
    "MODEL_PATH = \"C:/Users/FrankW/Desktop/test/Code_Monkeys/yolov8/AIPlus_BC_Practicum-main/AIPlus_BC_Practicum-main/yolov8/runs/detect/multi_cls_wholeset/yolo8l_0.00001/weights/best.pt\"\n",
    "TEST_SET_PATH = \"C:/Users/FrankW/Desktop/test/Code_Monkeys/yolov8/dataset/external_test_cropped/\""
   ]
  },
  {
   "cell_type": "code",
   "execution_count": 4,
   "metadata": {},
   "outputs": [],
   "source": [
    "imgs_dir = os.path.join(TEST_SET_PATH, \"imgs\")\n",
    "output_dir = os.path.join(TEST_SET_PATH, \"outputs\")\n",
    "jsons_dir= os.path.join(TEST_SET_PATH, \"jsons\")\n",
    "img_list = glob(os.path.join(imgs_dir, \"*.jpg\"))\n",
    "\n",
    "print(f\"Total Number of Test Images: {len(img_list)}\")"
   ]
  },
  {
   "cell_type": "code",
   "execution_count": 7,
   "metadata": {},
   "outputs": [],
   "source": [
    "# Load Trained Model\n",
    "model = YOLO(MODEL_PATH)"
   ]
  },
  {
   "attachments": {},
   "cell_type": "markdown",
   "metadata": {},
   "source": [
    "## Predict"
   ]
  },
  {
   "cell_type": "code",
   "execution_count": 8,
   "metadata": {},
   "outputs": [
    {
     "name": "stderr",
     "output_type": "stream",
     "text": [
      "  0%|          | 0/239 [00:00<?, ?it/s]\n",
      "image 1/1 C:\\Users\\FrankW\\Desktop\\test\\Code_Monkeys\\yolov8\\dataset\\external_test_cropped\\imgs\\01E6C75C2D5E418DAB90F7562CA4083B_2645110.jpg: 608x640 1 malignant, 321.2ms\n",
      "Speed: 5.5ms preprocess, 321.2ms inference, 5.0ms postprocess per image at shape (1, 3, 640, 640)\n",
      "  0%|          | 1/239 [00:03<15:23,  3.88s/it]\n"
     ]
    },
    {
     "name": "stdout",
     "output_type": "stream",
     "text": [
      "C:/Users/FrankW/Desktop/test/Code_Monkeys/yolov8/dataset/external_test_cropped/imgs\\01E6C75C2D5E418DAB90F7562CA4083B_2645110.jpg\n",
      "1\n"
     ]
    },
    {
     "name": "stderr",
     "output_type": "stream",
     "text": [
      "image 1/1 C:\\Users\\FrankW\\Desktop\\test\\Code_Monkeys\\yolov8\\dataset\\external_test_cropped\\imgs\\01E6C75C2D5E418DAB90F7562CA4083B_2645117.jpg: 640x640 1 malignant, 253.2ms\n",
      "Speed: 3.0ms preprocess, 253.2ms inference, 2.5ms postprocess per image at shape (1, 3, 640, 640)\n",
      "  1%|          | 2/239 [00:04<06:56,  1.76s/it]\n",
      "image 1/1 C:\\Users\\FrankW\\Desktop\\test\\Code_Monkeys\\yolov8\\dataset\\external_test_cropped\\imgs\\01E6C75C2D5E418DAB90F7562CA4083B_2645118.jpg: 640x640 1 malignant, 59.5ms\n",
      "Speed: 3.0ms preprocess, 59.5ms inference, 1.0ms postprocess per image at shape (1, 3, 640, 640)\n",
      "\n",
      "image 1/1 C:\\Users\\FrankW\\Desktop\\test\\Code_Monkeys\\yolov8\\dataset\\external_test_cropped\\imgs\\01E6C75C2D5E418DAB90F7562CA4083B_2645163.jpg: 640x640 1 malignant, 61.0ms\n",
      "Speed: 3.0ms preprocess, 61.0ms inference, 1.0ms postprocess per image at shape (1, 3, 640, 640)\n",
      "  2%|▏         | 4/239 [00:04<02:45,  1.42it/s]\n"
     ]
    },
    {
     "name": "stdout",
     "output_type": "stream",
     "text": [
      "C:/Users/FrankW/Desktop/test/Code_Monkeys/yolov8/dataset/external_test_cropped/imgs\\01E6C75C2D5E418DAB90F7562CA4083B_2645117.jpg\n",
      "1\n",
      "C:/Users/FrankW/Desktop/test/Code_Monkeys/yolov8/dataset/external_test_cropped/imgs\\01E6C75C2D5E418DAB90F7562CA4083B_2645118.jpg\n",
      "1\n",
      "C:/Users/FrankW/Desktop/test/Code_Monkeys/yolov8/dataset/external_test_cropped/imgs\\01E6C75C2D5E418DAB90F7562CA4083B_2645163.jpg\n",
      "1\n"
     ]
    },
    {
     "name": "stderr",
     "output_type": "stream",
     "text": [
      "image 1/1 C:\\Users\\FrankW\\Desktop\\test\\Code_Monkeys\\yolov8\\dataset\\external_test_cropped\\imgs\\04A195C7193647B599073C0FD2EF4D7D_2620119.jpg: 608x640 1 malignant, 59.9ms\n",
      "Speed: 2.0ms preprocess, 59.9ms inference, 1.0ms postprocess per image at shape (1, 3, 640, 640)\n",
      "\n",
      "image 1/1 C:\\Users\\FrankW\\Desktop\\test\\Code_Monkeys\\yolov8\\dataset\\external_test_cropped\\imgs\\04A195C7193647B599073C0FD2EF4D7D_2620171.jpg: 640x640 1 malignant, 57.2ms\n",
      "Speed: 3.0ms preprocess, 57.2ms inference, 1.1ms postprocess per image at shape (1, 3, 640, 640)\n",
      "  3%|▎         | 6/239 [00:04<01:34,  2.46it/s]\n"
     ]
    },
    {
     "name": "stdout",
     "output_type": "stream",
     "text": [
      "C:/Users/FrankW/Desktop/test/Code_Monkeys/yolov8/dataset/external_test_cropped/imgs\\04A195C7193647B599073C0FD2EF4D7D_2620119.jpg\n",
      "1\n",
      "C:/Users/FrankW/Desktop/test/Code_Monkeys/yolov8/dataset/external_test_cropped/imgs\\04A195C7193647B599073C0FD2EF4D7D_2620171.jpg\n",
      "1\n"
     ]
    },
    {
     "name": "stderr",
     "output_type": "stream",
     "text": [
      "image 1/1 C:\\Users\\FrankW\\Desktop\\test\\Code_Monkeys\\yolov8\\dataset\\external_test_cropped\\imgs\\0AD131A0D42742098EE0ADD670C4C5C2_2737480.jpg: 448x640 1 malignant, 359.9ms\n",
      "Speed: 1.1ms preprocess, 359.9ms inference, 2.0ms postprocess per image at shape (1, 3, 640, 640)\n",
      "  3%|▎         | 7/239 [00:04<01:32,  2.50it/s]\n"
     ]
    },
    {
     "name": "stdout",
     "output_type": "stream",
     "text": [
      "C:/Users/FrankW/Desktop/test/Code_Monkeys/yolov8/dataset/external_test_cropped/imgs\\0AD131A0D42742098EE0ADD670C4C5C2_2737480.jpg\n",
      "1\n"
     ]
    },
    {
     "name": "stderr",
     "output_type": "stream",
     "text": [
      "image 1/1 C:\\Users\\FrankW\\Desktop\\test\\Code_Monkeys\\yolov8\\dataset\\external_test_cropped\\imgs\\0AD131A0D42742098EE0ADD670C4C5C2_2737481.jpg: 480x640 1 malignant, 439.9ms\n",
      "Speed: 3.0ms preprocess, 439.9ms inference, 2.0ms postprocess per image at shape (1, 3, 640, 640)\n",
      "  3%|▎         | 8/239 [00:05<01:36,  2.39it/s]\n"
     ]
    },
    {
     "name": "stdout",
     "output_type": "stream",
     "text": [
      "C:/Users/FrankW/Desktop/test/Code_Monkeys/yolov8/dataset/external_test_cropped/imgs\\0AD131A0D42742098EE0ADD670C4C5C2_2737481.jpg\n",
      "1\n"
     ]
    },
    {
     "name": "stderr",
     "output_type": "stream",
     "text": [
      "image 1/1 C:\\Users\\FrankW\\Desktop\\test\\Code_Monkeys\\yolov8\\dataset\\external_test_cropped\\imgs\\0AD131A0D42742098EE0ADD670C4C5C2_2737487.jpg: 576x640 2 malignants, 307.6ms\n",
      "Speed: 4.0ms preprocess, 307.6ms inference, 2.0ms postprocess per image at shape (1, 3, 640, 640)\n",
      "  4%|▍         | 9/239 [00:05<01:31,  2.52it/s]\n",
      "image 1/1 C:\\Users\\FrankW\\Desktop\\test\\Code_Monkeys\\yolov8\\dataset\\external_test_cropped\\imgs\\0AD131A0D42742098EE0ADD670C4C5C2_2737488.jpg: 576x640 1 malignant, 50.0ms\n",
      "Speed: 2.0ms preprocess, 50.0ms inference, 2.0ms postprocess per image at shape (1, 3, 640, 640)\n",
      "\n"
     ]
    },
    {
     "name": "stdout",
     "output_type": "stream",
     "text": [
      "C:/Users/FrankW/Desktop/test/Code_Monkeys/yolov8/dataset/external_test_cropped/imgs\\0AD131A0D42742098EE0ADD670C4C5C2_2737487.jpg\n",
      "1\n",
      "C:/Users/FrankW/Desktop/test/Code_Monkeys/yolov8/dataset/external_test_cropped/imgs\\0AD131A0D42742098EE0ADD670C4C5C2_2737488.jpg\n",
      "1\n"
     ]
    },
    {
     "name": "stderr",
     "output_type": "stream",
     "text": [
      "image 1/1 C:\\Users\\FrankW\\Desktop\\test\\Code_Monkeys\\yolov8\\dataset\\external_test_cropped\\imgs\\0C4795391AAE4A2A9FB7A2F2349C0A30_2595323.jpg: 320x640 1 malignant, 394.2ms\n",
      "Speed: 2.0ms preprocess, 394.2ms inference, 3.0ms postprocess per image at shape (1, 3, 640, 640)\n",
      "  5%|▍         | 11/239 [00:06<01:15,  3.03it/s]\n",
      "image 1/1 C:\\Users\\FrankW\\Desktop\\test\\Code_Monkeys\\yolov8\\dataset\\external_test_cropped\\imgs\\0C4795391AAE4A2A9FB7A2F2349C0A30_2595324.jpg: 320x640 1 malignant, 37.0ms\n",
      "Speed: 2.0ms preprocess, 37.0ms inference, 3.0ms postprocess per image at shape (1, 3, 640, 640)\n",
      "\n",
      "image 1/1 C:\\Users\\FrankW\\Desktop\\test\\Code_Monkeys\\yolov8\\dataset\\external_test_cropped\\imgs\\0C4795391AAE4A2A9FB7A2F2349C0A30_2595338.jpg: 480x640 1 benign, 1 malignant, 46.0ms\n",
      "Speed: 3.0ms preprocess, 46.0ms inference, 1.5ms postprocess per image at shape (1, 3, 640, 640)\n",
      "  5%|▌         | 13/239 [00:06<00:51,  4.42it/s]\n",
      "image 1/1 C:\\Users\\FrankW\\Desktop\\test\\Code_Monkeys\\yolov8\\dataset\\external_test_cropped\\imgs\\0C4795391AAE4A2A9FB7A2F2349C0A30_2595431.jpg: 320x640 1 malignant, 37.0ms\n",
      "Speed: 1.0ms preprocess, 37.0ms inference, 1.5ms postprocess per image at shape (1, 3, 640, 640)\n",
      "\n"
     ]
    },
    {
     "name": "stdout",
     "output_type": "stream",
     "text": [
      "C:/Users/FrankW/Desktop/test/Code_Monkeys/yolov8/dataset/external_test_cropped/imgs\\0C4795391AAE4A2A9FB7A2F2349C0A30_2595323.jpg\n",
      "1\n",
      "C:/Users/FrankW/Desktop/test/Code_Monkeys/yolov8/dataset/external_test_cropped/imgs\\0C4795391AAE4A2A9FB7A2F2349C0A30_2595324.jpg\n",
      "1\n",
      "C:/Users/FrankW/Desktop/test/Code_Monkeys/yolov8/dataset/external_test_cropped/imgs\\0C4795391AAE4A2A9FB7A2F2349C0A30_2595338.jpg\n",
      "1\n",
      "C:/Users/FrankW/Desktop/test/Code_Monkeys/yolov8/dataset/external_test_cropped/imgs\\0C4795391AAE4A2A9FB7A2F2349C0A30_2595431.jpg\n",
      "1\n"
     ]
    },
    {
     "name": "stderr",
     "output_type": "stream",
     "text": [
      "image 1/1 C:\\Users\\FrankW\\Desktop\\test\\Code_Monkeys\\yolov8\\dataset\\external_test_cropped\\imgs\\1.2.826.0.1.3680043.2.461.11138042.3929624197.jpg: 640x640 2 benigns, 56.6ms\n",
      "Speed: 2.9ms preprocess, 56.6ms inference, 1.8ms postprocess per image at shape (1, 3, 640, 640)\n",
      "  6%|▋         | 15/239 [00:06<00:37,  5.94it/s]\n",
      "image 1/1 C:\\Users\\FrankW\\Desktop\\test\\Code_Monkeys\\yolov8\\dataset\\external_test_cropped\\imgs\\1.2.826.0.1.3680043.2.461.11138042.567820987.jpg: 640x640 1 benign, 54.5ms\n",
      "Speed: 3.0ms preprocess, 54.5ms inference, 2.1ms postprocess per image at shape (1, 3, 640, 640)\n",
      "\n",
      "image 1/1 C:\\Users\\FrankW\\Desktop\\test\\Code_Monkeys\\yolov8\\dataset\\external_test_cropped\\imgs\\1.2.826.0.1.3680043.2.461.11138045.2447351363.jpg: 576x640 1 benign, 51.8ms\n",
      "Speed: 3.0ms preprocess, 51.8ms inference, 1.5ms postprocess per image at shape (1, 3, 640, 640)\n",
      "  7%|▋         | 17/239 [00:06<00:30,  7.39it/s]\n"
     ]
    },
    {
     "name": "stdout",
     "output_type": "stream",
     "text": [
      "C:/Users/FrankW/Desktop/test/Code_Monkeys/yolov8/dataset/external_test_cropped/imgs\\1.2.826.0.1.3680043.2.461.11138042.3929624197.jpg\n",
      "0\n",
      "C:/Users/FrankW/Desktop/test/Code_Monkeys/yolov8/dataset/external_test_cropped/imgs\\1.2.826.0.1.3680043.2.461.11138042.567820987.jpg\n",
      "0\n",
      "C:/Users/FrankW/Desktop/test/Code_Monkeys/yolov8/dataset/external_test_cropped/imgs\\1.2.826.0.1.3680043.2.461.11138045.2447351363.jpg\n",
      "0\n"
     ]
    },
    {
     "name": "stderr",
     "output_type": "stream",
     "text": [
      "image 1/1 C:\\Users\\FrankW\\Desktop\\test\\Code_Monkeys\\yolov8\\dataset\\external_test_cropped\\imgs\\1.2.826.0.1.3680043.2.461.11138045.3733191965.jpg: 608x640 1 benign, 52.5ms\n",
      "Speed: 2.5ms preprocess, 52.5ms inference, 1.5ms postprocess per image at shape (1, 3, 640, 640)\n",
      "\n"
     ]
    },
    {
     "name": "stdout",
     "output_type": "stream",
     "text": [
      "C:/Users/FrankW/Desktop/test/Code_Monkeys/yolov8/dataset/external_test_cropped/imgs\\1.2.826.0.1.3680043.2.461.11138045.3733191965.jpg\n",
      "0\n"
     ]
    },
    {
     "name": "stderr",
     "output_type": "stream",
     "text": [
      "image 1/1 C:\\Users\\FrankW\\Desktop\\test\\Code_Monkeys\\yolov8\\dataset\\external_test_cropped\\imgs\\1.2.826.0.1.3680043.2.461.12094090.3740944130.jpg: 384x640 1 benign, 361.7ms\n",
      "Speed: 1.0ms preprocess, 361.7ms inference, 2.0ms postprocess per image at shape (1, 3, 640, 640)\n",
      "  8%|▊         | 19/239 [00:06<00:35,  6.11it/s]\n"
     ]
    },
    {
     "name": "stdout",
     "output_type": "stream",
     "text": [
      "C:/Users/FrankW/Desktop/test/Code_Monkeys/yolov8/dataset/external_test_cropped/imgs\\1.2.826.0.1.3680043.2.461.12094090.3740944130.jpg\n",
      "0\n"
     ]
    },
    {
     "name": "stderr",
     "output_type": "stream",
     "text": [
      "image 1/1 C:\\Users\\FrankW\\Desktop\\test\\Code_Monkeys\\yolov8\\dataset\\external_test_cropped\\imgs\\1.2.826.0.1.3680043.2.461.12094102.675802694.jpg: 352x640 1 benign, 257.4ms\n",
      "Speed: 2.0ms preprocess, 257.4ms inference, 3.0ms postprocess per image at shape (1, 3, 640, 640)\n",
      "  8%|▊         | 20/239 [00:07<00:40,  5.40it/s]\n",
      "image 1/1 C:\\Users\\FrankW\\Desktop\\test\\Code_Monkeys\\yolov8\\dataset\\external_test_cropped\\imgs\\1.2.826.0.1.3680043.2.461.12094143.2341210406.jpg: 352x640 1 benign, 38.5ms\n",
      "Speed: 2.5ms preprocess, 38.5ms inference, 2.0ms postprocess per image at shape (1, 3, 640, 640)\n",
      "\n"
     ]
    },
    {
     "name": "stdout",
     "output_type": "stream",
     "text": [
      "C:/Users/FrankW/Desktop/test/Code_Monkeys/yolov8/dataset/external_test_cropped/imgs\\1.2.826.0.1.3680043.2.461.12094102.675802694.jpg\n",
      "0\n",
      "C:/Users/FrankW/Desktop/test/Code_Monkeys/yolov8/dataset/external_test_cropped/imgs\\1.2.826.0.1.3680043.2.461.12094143.2341210406.jpg\n",
      "0\n"
     ]
    },
    {
     "name": "stderr",
     "output_type": "stream",
     "text": [
      "image 1/1 C:\\Users\\FrankW\\Desktop\\test\\Code_Monkeys\\yolov8\\dataset\\external_test_cropped\\imgs\\1.2.826.0.1.3680043.2.461.12094164.3765850570.jpg: 416x640 1 benign, 258.3ms\n",
      "Speed: 2.0ms preprocess, 258.3ms inference, 1.0ms postprocess per image at shape (1, 3, 640, 640)\n",
      "  9%|▉         | 22/239 [00:07<00:38,  5.60it/s]\n",
      "image 1/1 C:\\Users\\FrankW\\Desktop\\test\\Code_Monkeys\\yolov8\\dataset\\external_test_cropped\\imgs\\1.2.826.0.1.3680043.2.461.12096081.2390486006.jpg: 416x640 1 benign, 36.4ms\n",
      "Speed: 3.1ms preprocess, 36.4ms inference, 3.0ms postprocess per image at shape (1, 3, 640, 640)\n",
      "\n",
      "image 1/1 C:\\Users\\FrankW\\Desktop\\test\\Code_Monkeys\\yolov8\\dataset\\external_test_cropped\\imgs\\1.2.826.0.1.3680043.2.461.12098227.1818880044.jpg: 352x640 1 benign, 32.4ms\n",
      "Speed: 2.0ms preprocess, 32.4ms inference, 1.3ms postprocess per image at shape (1, 3, 640, 640)\n",
      " 10%|█         | 24/239 [00:07<00:29,  7.34it/s]\n",
      "image 1/1 C:\\Users\\FrankW\\Desktop\\test\\Code_Monkeys\\yolov8\\dataset\\external_test_cropped\\imgs\\1.2.826.0.1.3680043.2.461.12098231.2342102529.jpg: 352x640 1 benign, 35.7ms\n",
      "Speed: 1.0ms preprocess, 35.7ms inference, 3.0ms postprocess per image at shape (1, 3, 640, 640)\n",
      "\n"
     ]
    },
    {
     "name": "stdout",
     "output_type": "stream",
     "text": [
      "C:/Users/FrankW/Desktop/test/Code_Monkeys/yolov8/dataset/external_test_cropped/imgs\\1.2.826.0.1.3680043.2.461.12094164.3765850570.jpg\n",
      "0\n",
      "C:/Users/FrankW/Desktop/test/Code_Monkeys/yolov8/dataset/external_test_cropped/imgs\\1.2.826.0.1.3680043.2.461.12096081.2390486006.jpg\n",
      "0\n",
      "C:/Users/FrankW/Desktop/test/Code_Monkeys/yolov8/dataset/external_test_cropped/imgs\\1.2.826.0.1.3680043.2.461.12098227.1818880044.jpg\n",
      "0\n",
      "C:/Users/FrankW/Desktop/test/Code_Monkeys/yolov8/dataset/external_test_cropped/imgs\\1.2.826.0.1.3680043.2.461.12098231.2342102529.jpg\n",
      "0\n"
     ]
    },
    {
     "name": "stderr",
     "output_type": "stream",
     "text": [
      "image 1/1 C:\\Users\\FrankW\\Desktop\\test\\Code_Monkeys\\yolov8\\dataset\\external_test_cropped\\imgs\\1.2.826.0.1.3680043.2.461.12104308.1532744786.jpg: 480x640 1 benign, 42.2ms\n",
      "Speed: 2.4ms preprocess, 42.2ms inference, 2.2ms postprocess per image at shape (1, 3, 640, 640)\n",
      " 11%|█         | 26/239 [00:07<00:23,  9.05it/s]\n",
      "image 1/1 C:\\Users\\FrankW\\Desktop\\test\\Code_Monkeys\\yolov8\\dataset\\external_test_cropped\\imgs\\1.2.826.0.1.3680043.2.461.12104339.1303490203.jpg: 352x640 1 benign, 39.0ms\n",
      "Speed: 1.0ms preprocess, 39.0ms inference, 3.0ms postprocess per image at shape (1, 3, 640, 640)\n",
      "\n",
      "image 1/1 C:\\Users\\FrankW\\Desktop\\test\\Code_Monkeys\\yolov8\\dataset\\external_test_cropped\\imgs\\1.2.826.0.1.3680043.2.461.12104365.437772924.jpg: 416x640 1 benign, 40.3ms\n",
      "Speed: 1.0ms preprocess, 40.3ms inference, 2.0ms postprocess per image at shape (1, 3, 640, 640)\n",
      " 12%|█▏        | 28/239 [00:07<00:19, 10.68it/s]\n",
      "image 1/1 C:\\Users\\FrankW\\Desktop\\test\\Code_Monkeys\\yolov8\\dataset\\external_test_cropped\\imgs\\1.2.826.0.1.3680043.2.461.12104378.1460747387.jpg: 416x640 1 benign, 39.3ms\n",
      "Speed: 1.0ms preprocess, 39.3ms inference, 2.8ms postprocess per image at shape (1, 3, 640, 640)\n",
      "\n"
     ]
    },
    {
     "name": "stdout",
     "output_type": "stream",
     "text": [
      "C:/Users/FrankW/Desktop/test/Code_Monkeys/yolov8/dataset/external_test_cropped/imgs\\1.2.826.0.1.3680043.2.461.12104308.1532744786.jpg\n",
      "0\n",
      "C:/Users/FrankW/Desktop/test/Code_Monkeys/yolov8/dataset/external_test_cropped/imgs\\1.2.826.0.1.3680043.2.461.12104339.1303490203.jpg\n",
      "0\n",
      "C:/Users/FrankW/Desktop/test/Code_Monkeys/yolov8/dataset/external_test_cropped/imgs\\1.2.826.0.1.3680043.2.461.12104365.437772924.jpg\n",
      "0\n",
      "C:/Users/FrankW/Desktop/test/Code_Monkeys/yolov8/dataset/external_test_cropped/imgs\\1.2.826.0.1.3680043.2.461.12104378.1460747387.jpg\n",
      "0\n"
     ]
    },
    {
     "name": "stderr",
     "output_type": "stream",
     "text": [
      "image 1/1 C:\\Users\\FrankW\\Desktop\\test\\Code_Monkeys\\yolov8\\dataset\\external_test_cropped\\imgs\\1.2.826.0.1.3680043.2.461.12104402.1506635559.jpg: 352x640 1 benign, 45.2ms\n",
      "Speed: 1.0ms preprocess, 45.2ms inference, 3.0ms postprocess per image at shape (1, 3, 640, 640)\n",
      " 13%|█▎        | 30/239 [00:08<00:17, 12.00it/s]\n",
      "image 1/1 C:\\Users\\FrankW\\Desktop\\test\\Code_Monkeys\\yolov8\\dataset\\external_test_cropped\\imgs\\1.2.826.0.1.3680043.2.461.12108337.2473463309.jpg: 352x640 1 benign, 45.0ms\n",
      "Speed: 2.0ms preprocess, 45.0ms inference, 1.5ms postprocess per image at shape (1, 3, 640, 640)\n",
      "\n",
      "image 1/1 C:\\Users\\FrankW\\Desktop\\test\\Code_Monkeys\\yolov8\\dataset\\external_test_cropped\\imgs\\1.2.826.0.1.3680043.2.461.12108391.695619934.jpg: 352x640 1 benign, 39.2ms\n",
      "Speed: 1.5ms preprocess, 39.2ms inference, 3.0ms postprocess per image at shape (1, 3, 640, 640)\n",
      " 13%|█▎        | 32/239 [00:08<00:15, 13.18it/s]\n",
      "image 1/1 C:\\Users\\FrankW\\Desktop\\test\\Code_Monkeys\\yolov8\\dataset\\external_test_cropped\\imgs\\1.2.826.0.1.3680043.2.461.12108430.20131095.jpg: 352x640 1 benign, 37.0ms\n",
      "Speed: 1.2ms preprocess, 37.0ms inference, 2.0ms postprocess per image at shape (1, 3, 640, 640)\n",
      "\n"
     ]
    },
    {
     "name": "stdout",
     "output_type": "stream",
     "text": [
      "C:/Users/FrankW/Desktop/test/Code_Monkeys/yolov8/dataset/external_test_cropped/imgs\\1.2.826.0.1.3680043.2.461.12104402.1506635559.jpg\n",
      "0\n",
      "C:/Users/FrankW/Desktop/test/Code_Monkeys/yolov8/dataset/external_test_cropped/imgs\\1.2.826.0.1.3680043.2.461.12108337.2473463309.jpg\n",
      "0\n",
      "C:/Users/FrankW/Desktop/test/Code_Monkeys/yolov8/dataset/external_test_cropped/imgs\\1.2.826.0.1.3680043.2.461.12108391.695619934.jpg\n",
      "0\n",
      "C:/Users/FrankW/Desktop/test/Code_Monkeys/yolov8/dataset/external_test_cropped/imgs\\1.2.826.0.1.3680043.2.461.12108430.20131095.jpg\n",
      "0\n"
     ]
    },
    {
     "name": "stderr",
     "output_type": "stream",
     "text": [
      "image 1/1 C:\\Users\\FrankW\\Desktop\\test\\Code_Monkeys\\yolov8\\dataset\\external_test_cropped\\imgs\\1.2.826.0.1.3680043.2.461.12252158.1548460376.jpg: 512x640 1 benign, 269.1ms\n",
      "Speed: 2.0ms preprocess, 269.1ms inference, 2.0ms postprocess per image at shape (1, 3, 640, 640)\n",
      " 14%|█▍        | 34/239 [00:08<00:21,  9.57it/s]\n",
      "image 1/1 C:\\Users\\FrankW\\Desktop\\test\\Code_Monkeys\\yolov8\\dataset\\external_test_cropped\\imgs\\1.2.826.0.1.3680043.2.461.12252164.1434129875.jpg: 480x640 1 benign, 42.5ms\n",
      "Speed: 3.0ms preprocess, 42.5ms inference, 2.0ms postprocess per image at shape (1, 3, 640, 640)\n",
      "\n",
      "image 1/1 C:\\Users\\FrankW\\Desktop\\test\\Code_Monkeys\\yolov8\\dataset\\external_test_cropped\\imgs\\1.2.826.0.1.3680043.2.461.12366818.1116120710.jpg: 640x640 1 benign, 56.0ms\n",
      "Speed: 4.0ms preprocess, 56.0ms inference, 1.0ms postprocess per image at shape (1, 3, 640, 640)\n",
      " 15%|█▌        | 36/239 [00:08<00:18, 10.82it/s]\n",
      "image 1/1 C:\\Users\\FrankW\\Desktop\\test\\Code_Monkeys\\yolov8\\dataset\\external_test_cropped\\imgs\\1.2.826.0.1.3680043.2.461.12366867.2401015087.jpg: 448x640 1 benign, 43.5ms\n"
     ]
    },
    {
     "name": "stdout",
     "output_type": "stream",
     "text": [
      "C:/Users/FrankW/Desktop/test/Code_Monkeys/yolov8/dataset/external_test_cropped/imgs\\1.2.826.0.1.3680043.2.461.12252158.1548460376.jpg\n",
      "0\n",
      "C:/Users/FrankW/Desktop/test/Code_Monkeys/yolov8/dataset/external_test_cropped/imgs\\1.2.826.0.1.3680043.2.461.12252164.1434129875.jpg\n",
      "0\n",
      "C:/Users/FrankW/Desktop/test/Code_Monkeys/yolov8/dataset/external_test_cropped/imgs\\1.2.826.0.1.3680043.2.461.12366818.1116120710.jpg\n",
      "0\n"
     ]
    },
    {
     "name": "stderr",
     "output_type": "stream",
     "text": [
      "Speed: 1.0ms preprocess, 43.5ms inference, 2.0ms postprocess per image at shape (1, 3, 640, 640)\n",
      "\n",
      "image 1/1 C:\\Users\\FrankW\\Desktop\\test\\Code_Monkeys\\yolov8\\dataset\\external_test_cropped\\imgs\\1.2.826.0.1.3680043.2.461.12366869.964420852.jpg: 320x640 2 benigns, 52.0ms\n",
      "Speed: 2.0ms preprocess, 52.0ms inference, 2.0ms postprocess per image at shape (1, 3, 640, 640)\n",
      " 16%|█▌        | 38/239 [00:08<00:16, 11.85it/s]\n",
      "image 1/1 C:\\Users\\FrankW\\Desktop\\test\\Code_Monkeys\\yolov8\\dataset\\external_test_cropped\\imgs\\1.2.826.0.1.3680043.2.461.12366871.2671941392.jpg: 448x640 1 benign, 45.9ms\n",
      "Speed: 2.0ms preprocess, 45.9ms inference, 1.0ms postprocess per image at shape (1, 3, 640, 640)\n",
      "\n",
      "image 1/1 C:\\Users\\FrankW\\Desktop\\test\\Code_Monkeys\\yolov8\\dataset\\external_test_cropped\\imgs\\1.2.826.0.1.3680043.2.461.12366876.2743880599.jpg: 320x640 1 benign, 1 malignant, 43.5ms\n"
     ]
    },
    {
     "name": "stdout",
     "output_type": "stream",
     "text": [
      "C:/Users/FrankW/Desktop/test/Code_Monkeys/yolov8/dataset/external_test_cropped/imgs\\1.2.826.0.1.3680043.2.461.12366867.2401015087.jpg\n",
      "0\n",
      "C:/Users/FrankW/Desktop/test/Code_Monkeys/yolov8/dataset/external_test_cropped/imgs\\1.2.826.0.1.3680043.2.461.12366869.964420852.jpg\n",
      "0\n",
      "C:/Users/FrankW/Desktop/test/Code_Monkeys/yolov8/dataset/external_test_cropped/imgs\\1.2.826.0.1.3680043.2.461.12366871.2671941392.jpg\n",
      "0\n"
     ]
    },
    {
     "name": "stderr",
     "output_type": "stream",
     "text": [
      "Speed: 1.0ms preprocess, 43.5ms inference, 2.0ms postprocess per image at shape (1, 3, 640, 640)\n",
      " 17%|█▋        | 40/239 [00:08<00:15, 12.83it/s]\n",
      "image 1/1 C:\\Users\\FrankW\\Desktop\\test\\Code_Monkeys\\yolov8\\dataset\\external_test_cropped\\imgs\\1.2.826.0.1.3680043.2.461.12366890.608463644.jpg: 448x640 1 benign, 44.0ms\n",
      "Speed: 2.0ms preprocess, 44.0ms inference, 1.5ms postprocess per image at shape (1, 3, 640, 640)\n",
      "\n",
      "image 1/1 C:\\Users\\FrankW\\Desktop\\test\\Code_Monkeys\\yolov8\\dataset\\external_test_cropped\\imgs\\1.2.826.0.1.3680043.2.461.12366893.30078441.jpg: 448x640 1 benign, 41.9ms\n",
      "Speed: 1.5ms preprocess, 41.9ms inference, 1.0ms postprocess per image at shape (1, 3, 640, 640)\n",
      " 18%|█▊        | 42/239 [00:08<00:14, 13.88it/s]\n",
      "image 1/1 C:\\Users\\FrankW\\Desktop\\test\\Code_Monkeys\\yolov8\\dataset\\external_test_cropped\\imgs\\1.2.826.0.1.3680043.2.461.12368799.365920172.jpg: 448x640 1 benign, 44.4ms\n",
      "Speed: 1.0ms preprocess, 44.4ms inference, 1.5ms postprocess per image at shape (1, 3, 640, 640)\n",
      "\n"
     ]
    },
    {
     "name": "stdout",
     "output_type": "stream",
     "text": [
      "C:/Users/FrankW/Desktop/test/Code_Monkeys/yolov8/dataset/external_test_cropped/imgs\\1.2.826.0.1.3680043.2.461.12366876.2743880599.jpg\n",
      "0\n",
      "C:/Users/FrankW/Desktop/test/Code_Monkeys/yolov8/dataset/external_test_cropped/imgs\\1.2.826.0.1.3680043.2.461.12366890.608463644.jpg\n",
      "0\n",
      "C:/Users/FrankW/Desktop/test/Code_Monkeys/yolov8/dataset/external_test_cropped/imgs\\1.2.826.0.1.3680043.2.461.12366893.30078441.jpg\n",
      "0\n",
      "C:/Users/FrankW/Desktop/test/Code_Monkeys/yolov8/dataset/external_test_cropped/imgs\\1.2.826.0.1.3680043.2.461.12368799.365920172.jpg\n",
      "0\n"
     ]
    },
    {
     "name": "stderr",
     "output_type": "stream",
     "text": [
      "image 1/1 C:\\Users\\FrankW\\Desktop\\test\\Code_Monkeys\\yolov8\\dataset\\external_test_cropped\\imgs\\1.2.826.0.1.3680043.2.461.12368861.3298875551.jpg: 384x640 1 benign, 41.6ms\n",
      "Speed: 1.4ms preprocess, 41.6ms inference, 2.0ms postprocess per image at shape (1, 3, 640, 640)\n",
      " 18%|█▊        | 44/239 [00:09<00:13, 14.42it/s]\n",
      "image 1/1 C:\\Users\\FrankW\\Desktop\\test\\Code_Monkeys\\yolov8\\dataset\\external_test_cropped\\imgs\\1.2.826.0.1.3680043.2.461.12368871.3668076894.jpg: 384x640 1 benign, 40.6ms\n",
      "Speed: 2.0ms preprocess, 40.6ms inference, 2.1ms postprocess per image at shape (1, 3, 640, 640)\n",
      "\n",
      "image 1/1 C:\\Users\\FrankW\\Desktop\\test\\Code_Monkeys\\yolov8\\dataset\\external_test_cropped\\imgs\\1.2.826.0.1.3680043.2.461.12395237.2766746155.jpg: 352x640 1 benign, 37.0ms\n",
      "Speed: 1.0ms preprocess, 37.0ms inference, 2.0ms postprocess per image at shape (1, 3, 640, 640)\n",
      " 19%|█▉        | 46/239 [00:09<00:12, 15.30it/s]\n",
      "image 1/1 C:\\Users\\FrankW\\Desktop\\test\\Code_Monkeys\\yolov8\\dataset\\external_test_cropped\\imgs\\1.2.826.0.1.3680043.2.461.12395445.2381830716.jpg: 352x640 1 benign, 36.1ms\n",
      "Speed: 1.4ms preprocess, 36.1ms inference, 3.2ms postprocess per image at shape (1, 3, 640, 640)\n",
      "\n"
     ]
    },
    {
     "name": "stdout",
     "output_type": "stream",
     "text": [
      "C:/Users/FrankW/Desktop/test/Code_Monkeys/yolov8/dataset/external_test_cropped/imgs\\1.2.826.0.1.3680043.2.461.12368861.3298875551.jpg\n",
      "0\n",
      "C:/Users/FrankW/Desktop/test/Code_Monkeys/yolov8/dataset/external_test_cropped/imgs\\1.2.826.0.1.3680043.2.461.12368871.3668076894.jpg\n",
      "0\n",
      "C:/Users/FrankW/Desktop/test/Code_Monkeys/yolov8/dataset/external_test_cropped/imgs\\1.2.826.0.1.3680043.2.461.12395237.2766746155.jpg\n",
      "0\n",
      "C:/Users/FrankW/Desktop/test/Code_Monkeys/yolov8/dataset/external_test_cropped/imgs\\1.2.826.0.1.3680043.2.461.12395445.2381830716.jpg\n",
      "0\n"
     ]
    },
    {
     "name": "stderr",
     "output_type": "stream",
     "text": [
      "image 1/1 C:\\Users\\FrankW\\Desktop\\test\\Code_Monkeys\\yolov8\\dataset\\external_test_cropped\\imgs\\1.2.826.0.1.3680043.2.461.12395498.1507797335.jpg: 384x640 1 benign, 42.2ms\n",
      "Speed: 1.0ms preprocess, 42.2ms inference, 1.3ms postprocess per image at shape (1, 3, 640, 640)\n",
      " 20%|██        | 48/239 [00:09<00:11, 15.96it/s]\n",
      "image 1/1 C:\\Users\\FrankW\\Desktop\\test\\Code_Monkeys\\yolov8\\dataset\\external_test_cropped\\imgs\\1.2.826.0.1.3680043.2.461.12524044.1254329076.jpg: 448x640 1 benign, 43.0ms\n",
      "Speed: 2.0ms preprocess, 43.0ms inference, 2.0ms postprocess per image at shape (1, 3, 640, 640)\n",
      "\n",
      "image 1/1 C:\\Users\\FrankW\\Desktop\\test\\Code_Monkeys\\yolov8\\dataset\\external_test_cropped\\imgs\\1.2.826.0.1.3680043.2.461.12524154.4050822154.jpg: 352x640 1 benign, 37.0ms\n",
      "Speed: 1.0ms preprocess, 37.0ms inference, 2.0ms postprocess per image at shape (1, 3, 640, 640)\n",
      " 21%|██        | 50/239 [00:09<00:11, 16.07it/s]\n",
      "image 1/1 C:\\Users\\FrankW\\Desktop\\test\\Code_Monkeys\\yolov8\\dataset\\external_test_cropped\\imgs\\1.2.826.0.1.3680043.2.461.12524181.249068788.jpg: 352x640 1 benign, 38.3ms\n",
      "Speed: 1.0ms preprocess, 38.3ms inference, 2.0ms postprocess per image at shape (1, 3, 640, 640)\n",
      "\n"
     ]
    },
    {
     "name": "stdout",
     "output_type": "stream",
     "text": [
      "C:/Users/FrankW/Desktop/test/Code_Monkeys/yolov8/dataset/external_test_cropped/imgs\\1.2.826.0.1.3680043.2.461.12395498.1507797335.jpg\n",
      "0\n",
      "C:/Users/FrankW/Desktop/test/Code_Monkeys/yolov8/dataset/external_test_cropped/imgs\\1.2.826.0.1.3680043.2.461.12524044.1254329076.jpg\n",
      "0\n",
      "C:/Users/FrankW/Desktop/test/Code_Monkeys/yolov8/dataset/external_test_cropped/imgs\\1.2.826.0.1.3680043.2.461.12524154.4050822154.jpg\n",
      "0\n",
      "C:/Users/FrankW/Desktop/test/Code_Monkeys/yolov8/dataset/external_test_cropped/imgs\\1.2.826.0.1.3680043.2.461.12524181.249068788.jpg\n",
      "0\n"
     ]
    },
    {
     "name": "stderr",
     "output_type": "stream",
     "text": [
      "image 1/1 C:\\Users\\FrankW\\Desktop\\test\\Code_Monkeys\\yolov8\\dataset\\external_test_cropped\\imgs\\1.2.826.0.1.3680043.2.461.12524216.2233356514.jpg: 448x640 1 benign, 46.0ms\n",
      "Speed: 1.9ms preprocess, 46.0ms inference, 0.4ms postprocess per image at shape (1, 3, 640, 640)\n",
      " 22%|██▏       | 52/239 [00:09<00:11, 16.00it/s]\n",
      "image 1/1 C:\\Users\\FrankW\\Desktop\\test\\Code_Monkeys\\yolov8\\dataset\\external_test_cropped\\imgs\\1.2.826.0.1.3680043.2.461.12524229.2102254446.jpg: 512x640 1 benign, 50.2ms\n",
      "Speed: 3.0ms preprocess, 50.2ms inference, 2.0ms postprocess per image at shape (1, 3, 640, 640)\n",
      "\n",
      "image 1/1 C:\\Users\\FrankW\\Desktop\\test\\Code_Monkeys\\yolov8\\dataset\\external_test_cropped\\imgs\\1.2.826.0.1.3680043.2.461.12524243.1573887775.jpg: 448x640 1 benign, 45.9ms\n",
      "Speed: 1.0ms preprocess, 45.9ms inference, 1.5ms postprocess per image at shape (1, 3, 640, 640)\n",
      " 23%|██▎       | 54/239 [00:09<00:11, 15.58it/s]\n",
      "image 1/1 C:\\Users\\FrankW\\Desktop\\test\\Code_Monkeys\\yolov8\\dataset\\external_test_cropped\\imgs\\1.2.826.0.1.3680043.2.461.12524280.3896993253.jpg: 352x640 1 benign, 38.5ms\n"
     ]
    },
    {
     "name": "stdout",
     "output_type": "stream",
     "text": [
      "C:/Users/FrankW/Desktop/test/Code_Monkeys/yolov8/dataset/external_test_cropped/imgs\\1.2.826.0.1.3680043.2.461.12524216.2233356514.jpg\n",
      "0\n",
      "C:/Users/FrankW/Desktop/test/Code_Monkeys/yolov8/dataset/external_test_cropped/imgs\\1.2.826.0.1.3680043.2.461.12524229.2102254446.jpg\n",
      "0\n",
      "C:/Users/FrankW/Desktop/test/Code_Monkeys/yolov8/dataset/external_test_cropped/imgs\\1.2.826.0.1.3680043.2.461.12524243.1573887775.jpg\n",
      "0\n"
     ]
    },
    {
     "name": "stderr",
     "output_type": "stream",
     "text": [
      "Speed: 1.4ms preprocess, 38.5ms inference, 1.9ms postprocess per image at shape (1, 3, 640, 640)\n",
      "\n",
      "image 1/1 C:\\Users\\FrankW\\Desktop\\test\\Code_Monkeys\\yolov8\\dataset\\external_test_cropped\\imgs\\1.2.826.0.1.3680043.2.461.12524445.4096469205.jpg: 640x640 2 benigns, 51.0ms\n",
      "Speed: 3.0ms preprocess, 51.0ms inference, 1.0ms postprocess per image at shape (1, 3, 640, 640)\n",
      " 23%|██▎       | 56/239 [00:09<00:11, 15.90it/s]\n",
      "image 1/1 C:\\Users\\FrankW\\Desktop\\test\\Code_Monkeys\\yolov8\\dataset\\external_test_cropped\\imgs\\1.2.826.0.1.3680043.2.461.12524449.1602313011.jpg: 480x640 1 benign, 46.0ms\n",
      "Speed: 1.0ms preprocess, 46.0ms inference, 2.0ms postprocess per image at shape (1, 3, 640, 640)\n",
      "\n"
     ]
    },
    {
     "name": "stdout",
     "output_type": "stream",
     "text": [
      "C:/Users/FrankW/Desktop/test/Code_Monkeys/yolov8/dataset/external_test_cropped/imgs\\1.2.826.0.1.3680043.2.461.12524280.3896993253.jpg\n",
      "0\n",
      "C:/Users/FrankW/Desktop/test/Code_Monkeys/yolov8/dataset/external_test_cropped/imgs\\1.2.826.0.1.3680043.2.461.12524445.4096469205.jpg\n",
      "0\n",
      "C:/Users/FrankW/Desktop/test/Code_Monkeys/yolov8/dataset/external_test_cropped/imgs\\1.2.826.0.1.3680043.2.461.12524449.1602313011.jpg\n",
      "0\n"
     ]
    },
    {
     "name": "stderr",
     "output_type": "stream",
     "text": [
      "image 1/1 C:\\Users\\FrankW\\Desktop\\test\\Code_Monkeys\\yolov8\\dataset\\external_test_cropped\\imgs\\1.2.826.0.1.3680043.2.461.12524452.3781220872..jpg: 640x544 1 benign, 521.2ms\n",
      "Speed: 2.0ms preprocess, 521.2ms inference, 0.0ms postprocess per image at shape (1, 3, 640, 640)\n",
      " 24%|██▍       | 58/239 [00:10<00:24,  7.44it/s]\n",
      "image 1/1 C:\\Users\\FrankW\\Desktop\\test\\Code_Monkeys\\yolov8\\dataset\\external_test_cropped\\imgs\\1.2.826.0.1.3680043.2.461.12524453.1913309536.jpg: 352x640 2 benigns, 49.5ms\n",
      "Speed: 2.7ms preprocess, 49.5ms inference, 3.0ms postprocess per image at shape (1, 3, 640, 640)\n",
      "\n",
      "image 1/1 C:\\Users\\FrankW\\Desktop\\test\\Code_Monkeys\\yolov8\\dataset\\external_test_cropped\\imgs\\1.2.826.0.1.3680043.2.461.12524464.3699194074.jpg: 480x640 3 benigns, 57.5ms\n",
      "Speed: 5.5ms preprocess, 57.5ms inference, 2.0ms postprocess per image at shape (1, 3, 640, 640)\n",
      " 25%|██▌       | 60/239 [00:10<00:21,  8.50it/s]\n"
     ]
    },
    {
     "name": "stdout",
     "output_type": "stream",
     "text": [
      "C:/Users/FrankW/Desktop/test/Code_Monkeys/yolov8/dataset/external_test_cropped/imgs\\1.2.826.0.1.3680043.2.461.12524452.3781220872..jpg\n",
      "0\n",
      "C:/Users/FrankW/Desktop/test/Code_Monkeys/yolov8/dataset/external_test_cropped/imgs\\1.2.826.0.1.3680043.2.461.12524453.1913309536.jpg\n",
      "0\n",
      "C:/Users/FrankW/Desktop/test/Code_Monkeys/yolov8/dataset/external_test_cropped/imgs\\1.2.826.0.1.3680043.2.461.12524464.3699194074.jpg\n",
      "0\n"
     ]
    },
    {
     "name": "stderr",
     "output_type": "stream",
     "text": [
      "image 1/1 C:\\Users\\FrankW\\Desktop\\test\\Code_Monkeys\\yolov8\\dataset\\external_test_cropped\\imgs\\1.2.826.0.1.3680043.2.461.12524493.954088636.jpg: 544x640 1 benign, 314.7ms\n",
      "Speed: 3.0ms preprocess, 314.7ms inference, 2.0ms postprocess per image at shape (1, 3, 640, 640)\n",
      "\n"
     ]
    },
    {
     "name": "stdout",
     "output_type": "stream",
     "text": [
      "C:/Users/FrankW/Desktop/test/Code_Monkeys/yolov8/dataset/external_test_cropped/imgs\\1.2.826.0.1.3680043.2.461.12524493.954088636.jpg\n",
      "0\n"
     ]
    },
    {
     "name": "stderr",
     "output_type": "stream",
     "text": [
      "image 1/1 C:\\Users\\FrankW\\Desktop\\test\\Code_Monkeys\\yolov8\\dataset\\external_test_cropped\\imgs\\1.2.826.0.1.3680043.2.461.12524511.3529452855.jpg: 544x640 1 benign, 183.5ms\n",
      "Speed: 3.9ms preprocess, 183.5ms inference, 4.0ms postprocess per image at shape (1, 3, 640, 640)\n",
      " 26%|██▌       | 62/239 [00:11<00:29,  6.05it/s]\n"
     ]
    },
    {
     "name": "stdout",
     "output_type": "stream",
     "text": [
      "C:/Users/FrankW/Desktop/test/Code_Monkeys/yolov8/dataset/external_test_cropped/imgs\\1.2.826.0.1.3680043.2.461.12524511.3529452855.jpg\n",
      "0\n"
     ]
    },
    {
     "name": "stderr",
     "output_type": "stream",
     "text": [
      "image 1/1 C:\\Users\\FrankW\\Desktop\\test\\Code_Monkeys\\yolov8\\dataset\\external_test_cropped\\imgs\\1.2.826.0.1.3680043.2.461.12524526.1795596202.jpg: 640x576 1 benign, 386.9ms\n",
      "Speed: 4.0ms preprocess, 386.9ms inference, 1.5ms postprocess per image at shape (1, 3, 640, 640)\n",
      " 26%|██▋       | 63/239 [00:11<00:36,  4.78it/s]\n",
      "image 1/1 C:\\Users\\FrankW\\Desktop\\test\\Code_Monkeys\\yolov8\\dataset\\external_test_cropped\\imgs\\1.2.826.0.1.3680043.2.461.12524527.1464833612.jpg: 640x640 1 benign, 62.5ms\n",
      "Speed: 3.5ms preprocess, 62.5ms inference, 2.0ms postprocess per image at shape (1, 3, 640, 640)\n",
      "\n",
      "image 1/1 C:\\Users\\FrankW\\Desktop\\test\\Code_Monkeys\\yolov8\\dataset\\external_test_cropped\\imgs\\1.2.826.0.1.3680043.2.461.12524529.4105966651.jpg: 640x576 1 benign, 51.9ms\n",
      "Speed: 3.5ms preprocess, 51.9ms inference, 2.0ms postprocess per image at shape (1, 3, 640, 640)\n",
      " 27%|██▋       | 65/239 [00:11<00:28,  6.10it/s]\n"
     ]
    },
    {
     "name": "stdout",
     "output_type": "stream",
     "text": [
      "C:/Users/FrankW/Desktop/test/Code_Monkeys/yolov8/dataset/external_test_cropped/imgs\\1.2.826.0.1.3680043.2.461.12524526.1795596202.jpg\n",
      "0\n",
      "C:/Users/FrankW/Desktop/test/Code_Monkeys/yolov8/dataset/external_test_cropped/imgs\\1.2.826.0.1.3680043.2.461.12524527.1464833612.jpg\n",
      "0\n",
      "C:/Users/FrankW/Desktop/test/Code_Monkeys/yolov8/dataset/external_test_cropped/imgs\\1.2.826.0.1.3680043.2.461.12524529.4105966651.jpg\n",
      "0\n"
     ]
    },
    {
     "name": "stderr",
     "output_type": "stream",
     "text": [
      "image 1/1 C:\\Users\\FrankW\\Desktop\\test\\Code_Monkeys\\yolov8\\dataset\\external_test_cropped\\imgs\\1.2.826.0.1.3680043.2.461.12524530.1614135765.jpg: 512x640 1 benign, 55.2ms\n",
      "Speed: 0.0ms preprocess, 55.2ms inference, 0.0ms postprocess per image at shape (1, 3, 640, 640)\n",
      "\n",
      "image 1/1 C:\\Users\\FrankW\\Desktop\\test\\Code_Monkeys\\yolov8\\dataset\\external_test_cropped\\imgs\\1.2.826.0.1.3680043.2.461.12524543.418844481.jpg: 352x640 1 benign, 43.6ms\n",
      "Speed: 0.0ms preprocess, 43.6ms inference, 2.0ms postprocess per image at shape (1, 3, 640, 640)\n",
      " 28%|██▊       | 67/239 [00:11<00:23,  7.44it/s]\n",
      "image 1/1 C:\\Users\\FrankW\\Desktop\\test\\Code_Monkeys\\yolov8\\dataset\\external_test_cropped\\imgs\\1.2.826.0.1.3680043.2.461.12524546.4214449701.jpg: 448x640 1 benign, 43.2ms\n",
      "Speed: 2.0ms preprocess, 43.2ms inference, 1.0ms postprocess per image at shape (1, 3, 640, 640)\n",
      "\n",
      "image 1/1 C:\\Users\\FrankW\\Desktop\\test\\Code_Monkeys\\yolov8\\dataset\\external_test_cropped\\imgs\\1.2.826.0.1.3680043.2.461.12524547.1380966744.jpg: 640x640 1 benign, 55.0ms\n"
     ]
    },
    {
     "name": "stdout",
     "output_type": "stream",
     "text": [
      "C:/Users/FrankW/Desktop/test/Code_Monkeys/yolov8/dataset/external_test_cropped/imgs\\1.2.826.0.1.3680043.2.461.12524530.1614135765.jpg\n",
      "0\n",
      "C:/Users/FrankW/Desktop/test/Code_Monkeys/yolov8/dataset/external_test_cropped/imgs\\1.2.826.0.1.3680043.2.461.12524543.418844481.jpg\n",
      "0\n",
      "C:/Users/FrankW/Desktop/test/Code_Monkeys/yolov8/dataset/external_test_cropped/imgs\\1.2.826.0.1.3680043.2.461.12524546.4214449701.jpg\n",
      "0\n"
     ]
    },
    {
     "name": "stderr",
     "output_type": "stream",
     "text": [
      "Speed: 4.0ms preprocess, 55.0ms inference, 2.5ms postprocess per image at shape (1, 3, 640, 640)\n",
      " 29%|██▉       | 69/239 [00:12<00:19,  8.78it/s]\n",
      "image 1/1 C:\\Users\\FrankW\\Desktop\\test\\Code_Monkeys\\yolov8\\dataset\\external_test_cropped\\imgs\\1.2.826.0.1.3680043.2.461.12524548.2255582289.jpg: 416x640 1 benign, 45.2ms\n",
      "Speed: 1.5ms preprocess, 45.2ms inference, 2.0ms postprocess per image at shape (1, 3, 640, 640)\n",
      "\n",
      "image 1/1 C:\\Users\\FrankW\\Desktop\\test\\Code_Monkeys\\yolov8\\dataset\\external_test_cropped\\imgs\\1.2.826.0.1.3680043.2.461.12526187.1510250972.jpg: 448x640 1 benign, 58.0ms\n",
      "Speed: 1.0ms preprocess, 58.0ms inference, 4.0ms postprocess per image at shape (1, 3, 640, 640)\n",
      " 30%|██▉       | 71/239 [00:12<00:16,  9.89it/s]\n"
     ]
    },
    {
     "name": "stdout",
     "output_type": "stream",
     "text": [
      "C:/Users/FrankW/Desktop/test/Code_Monkeys/yolov8/dataset/external_test_cropped/imgs\\1.2.826.0.1.3680043.2.461.12524547.1380966744.jpg\n",
      "0\n",
      "C:/Users/FrankW/Desktop/test/Code_Monkeys/yolov8/dataset/external_test_cropped/imgs\\1.2.826.0.1.3680043.2.461.12524548.2255582289.jpg\n",
      "0\n",
      "C:/Users/FrankW/Desktop/test/Code_Monkeys/yolov8/dataset/external_test_cropped/imgs\\1.2.826.0.1.3680043.2.461.12526187.1510250972.jpg\n",
      "0\n"
     ]
    },
    {
     "name": "stderr",
     "output_type": "stream",
     "text": [
      "image 1/1 C:\\Users\\FrankW\\Desktop\\test\\Code_Monkeys\\yolov8\\dataset\\external_test_cropped\\imgs\\1.2.826.0.1.3680043.2.461.12526187.523108928.jpg: 448x640 1 benign, 50.5ms\n",
      "Speed: 1.5ms preprocess, 50.5ms inference, 2.0ms postprocess per image at shape (1, 3, 640, 640)\n",
      "\n",
      "image 1/1 C:\\Users\\FrankW\\Desktop\\test\\Code_Monkeys\\yolov8\\dataset\\external_test_cropped\\imgs\\1.2.826.0.1.3680043.2.461.12526193.18502729.jpg: 448x640 1 benign, 48.5ms\n",
      "Speed: 2.0ms preprocess, 48.5ms inference, 2.1ms postprocess per image at shape (1, 3, 640, 640)\n",
      " 31%|███       | 73/239 [00:12<00:15, 11.00it/s]\n",
      "image 1/1 C:\\Users\\FrankW\\Desktop\\test\\Code_Monkeys\\yolov8\\dataset\\external_test_cropped\\imgs\\1.2.826.0.1.3680043.2.461.12526193.2053790918.jpg: 448x640 1 benign, 47.1ms\n",
      "Speed: 2.0ms preprocess, 47.1ms inference, 2.0ms postprocess per image at shape (1, 3, 640, 640)\n",
      "\n",
      "image 1/1 C:\\Users\\FrankW\\Desktop\\test\\Code_Monkeys\\yolov8\\dataset\\external_test_cropped\\imgs\\1.2.826.0.1.3680043.2.461.12526211.4007806445.jpg: 480x640 1 benign, 44.3ms\n"
     ]
    },
    {
     "name": "stdout",
     "output_type": "stream",
     "text": [
      "C:/Users/FrankW/Desktop/test/Code_Monkeys/yolov8/dataset/external_test_cropped/imgs\\1.2.826.0.1.3680043.2.461.12526187.523108928.jpg\n",
      "0\n",
      "C:/Users/FrankW/Desktop/test/Code_Monkeys/yolov8/dataset/external_test_cropped/imgs\\1.2.826.0.1.3680043.2.461.12526193.18502729.jpg\n",
      "0\n",
      "C:/Users/FrankW/Desktop/test/Code_Monkeys/yolov8/dataset/external_test_cropped/imgs\\1.2.826.0.1.3680043.2.461.12526193.2053790918.jpg\n",
      "0\n"
     ]
    },
    {
     "name": "stderr",
     "output_type": "stream",
     "text": [
      "Speed: 1.5ms preprocess, 44.3ms inference, 1.5ms postprocess per image at shape (1, 3, 640, 640)\n",
      " 31%|███▏      | 75/239 [00:12<00:13, 12.10it/s]\n"
     ]
    },
    {
     "name": "stdout",
     "output_type": "stream",
     "text": [
      "C:/Users/FrankW/Desktop/test/Code_Monkeys/yolov8/dataset/external_test_cropped/imgs\\1.2.826.0.1.3680043.2.461.12526211.4007806445.jpg\n",
      "0\n"
     ]
    },
    {
     "name": "stderr",
     "output_type": "stream",
     "text": [
      "image 1/1 C:\\Users\\FrankW\\Desktop\\test\\Code_Monkeys\\yolov8\\dataset\\external_test_cropped\\imgs\\1.2.826.0.1.3680043.2.461.12538468.3315998925.jpg: 640x416 1 benign, 396.1ms\n",
      "Speed: 1.5ms preprocess, 396.1ms inference, 1.1ms postprocess per image at shape (1, 3, 640, 640)\n",
      "\n",
      "image 1/1 C:\\Users\\FrankW\\Desktop\\test\\Code_Monkeys\\yolov8\\dataset\\external_test_cropped\\imgs\\1.2.826.0.1.3680043.2.461.12538471.4202910759.jpg: 480x640 1 benign, 44.0ms\n",
      "Speed: 2.0ms preprocess, 44.0ms inference, 2.0ms postprocess per image at shape (1, 3, 640, 640)\n",
      " 32%|███▏      | 77/239 [00:12<00:20,  7.73it/s]\n",
      "image 1/1 C:\\Users\\FrankW\\Desktop\\test\\Code_Monkeys\\yolov8\\dataset\\external_test_cropped\\imgs\\1.2.826.0.1.3680043.2.461.12538535.4160364928.jpg: 416x640 1 benign, 38.0ms\n",
      "Speed: 1.0ms preprocess, 38.0ms inference, 2.0ms postprocess per image at shape (1, 3, 640, 640)\n",
      "\n",
      "image 1/1 C:\\Users\\FrankW\\Desktop\\test\\Code_Monkeys\\yolov8\\dataset\\external_test_cropped\\imgs\\1.2.826.0.1.3680043.2.461.12538560.2446094280.jpg: 416x640 1 benign, 44.4ms\n",
      "Speed: 1.0ms preprocess, 44.4ms inference, 1.5ms postprocess per image at shape (1, 3, 640, 640)\n",
      " 33%|███▎      | 79/239 [00:13<00:17,  9.26it/s]"
     ]
    },
    {
     "name": "stdout",
     "output_type": "stream",
     "text": [
      "C:/Users/FrankW/Desktop/test/Code_Monkeys/yolov8/dataset/external_test_cropped/imgs\\1.2.826.0.1.3680043.2.461.12538468.3315998925.jpg\n",
      "0\n",
      "C:/Users/FrankW/Desktop/test/Code_Monkeys/yolov8/dataset/external_test_cropped/imgs\\1.2.826.0.1.3680043.2.461.12538471.4202910759.jpg\n",
      "0\n",
      "C:/Users/FrankW/Desktop/test/Code_Monkeys/yolov8/dataset/external_test_cropped/imgs\\1.2.826.0.1.3680043.2.461.12538535.4160364928.jpg\n",
      "0\n",
      "C:/Users/FrankW/Desktop/test/Code_Monkeys/yolov8/dataset/external_test_cropped/imgs\\1.2.826.0.1.3680043.2.461.12538560.2446094280.jpg\n",
      "0\n"
     ]
    },
    {
     "name": "stderr",
     "output_type": "stream",
     "text": [
      "\n",
      "image 1/1 C:\\Users\\FrankW\\Desktop\\test\\Code_Monkeys\\yolov8\\dataset\\external_test_cropped\\imgs\\1.2.826.0.1.3680043.2.461.12538561.1357273357.jpg: 416x640 1 benign, 44.0ms\n",
      "Speed: 1.5ms preprocess, 44.0ms inference, 1.5ms postprocess per image at shape (1, 3, 640, 640)\n",
      "\n",
      "image 1/1 C:\\Users\\FrankW\\Desktop\\test\\Code_Monkeys\\yolov8\\dataset\\external_test_cropped\\imgs\\1.2.826.0.1.3680043.2.461.12538563.4236888543.jpg: 416x640 1 benign, 43.0ms\n",
      "Speed: 1.0ms preprocess, 43.0ms inference, 2.0ms postprocess per image at shape (1, 3, 640, 640)\n",
      " 34%|███▍      | 81/239 [00:13<00:14, 10.67it/s]\n"
     ]
    },
    {
     "name": "stdout",
     "output_type": "stream",
     "text": [
      "C:/Users/FrankW/Desktop/test/Code_Monkeys/yolov8/dataset/external_test_cropped/imgs\\1.2.826.0.1.3680043.2.461.12538561.1357273357.jpg\n",
      "0\n",
      "C:/Users/FrankW/Desktop/test/Code_Monkeys/yolov8/dataset/external_test_cropped/imgs\\1.2.826.0.1.3680043.2.461.12538563.4236888543.jpg\n",
      "0\n"
     ]
    },
    {
     "name": "stderr",
     "output_type": "stream",
     "text": [
      "image 1/1 C:\\Users\\FrankW\\Desktop\\test\\Code_Monkeys\\yolov8\\dataset\\external_test_cropped\\imgs\\1.2.826.0.1.3680043.2.461.12538565.386167160.jpg: 640x608 1 benign, 331.4ms\n",
      "Speed: 3.0ms preprocess, 331.4ms inference, 1.0ms postprocess per image at shape (1, 3, 640, 640)\n",
      "\n",
      "image 1/1 C:\\Users\\FrankW\\Desktop\\test\\Code_Monkeys\\yolov8\\dataset\\external_test_cropped\\imgs\\1.2.826.0.1.3680043.2.461.12538570.1698528291.jpg: 416x640 1 benign, 38.0ms\n",
      "Speed: 3.0ms preprocess, 38.0ms inference, 2.0ms postprocess per image at shape (1, 3, 640, 640)\n",
      " 35%|███▍      | 83/239 [00:13<00:19,  7.91it/s]\n",
      "image 1/1 C:\\Users\\FrankW\\Desktop\\test\\Code_Monkeys\\yolov8\\dataset\\external_test_cropped\\imgs\\1.2.826.0.1.3680043.2.461.12538571.1755266164.jpg: 416x640 1 benign, 43.1ms\n",
      "Speed: 1.0ms preprocess, 43.1ms inference, 1.7ms postprocess per image at shape (1, 3, 640, 640)\n",
      "\n",
      "image 1/1 C:\\Users\\FrankW\\Desktop\\test\\Code_Monkeys\\yolov8\\dataset\\external_test_cropped\\imgs\\1.2.826.0.1.3680043.2.461.12538578.3712941166.jpg: 416x640 1 benign, 41.3ms\n",
      "Speed: 1.0ms preprocess, 41.3ms inference, 3.0ms postprocess per image at shape (1, 3, 640, 640)\n",
      " 36%|███▌      | 85/239 [00:13<00:16,  9.43it/s]\n"
     ]
    },
    {
     "name": "stdout",
     "output_type": "stream",
     "text": [
      "C:/Users/FrankW/Desktop/test/Code_Monkeys/yolov8/dataset/external_test_cropped/imgs\\1.2.826.0.1.3680043.2.461.12538565.386167160.jpg\n",
      "0\n",
      "C:/Users/FrankW/Desktop/test/Code_Monkeys/yolov8/dataset/external_test_cropped/imgs\\1.2.826.0.1.3680043.2.461.12538570.1698528291.jpg\n",
      "0\n",
      "C:/Users/FrankW/Desktop/test/Code_Monkeys/yolov8/dataset/external_test_cropped/imgs\\1.2.826.0.1.3680043.2.461.12538571.1755266164.jpg\n",
      "0\n",
      "C:/Users/FrankW/Desktop/test/Code_Monkeys/yolov8/dataset/external_test_cropped/imgs\\1.2.826.0.1.3680043.2.461.12538578.3712941166.jpg\n",
      "0\n"
     ]
    },
    {
     "name": "stderr",
     "output_type": "stream",
     "text": [
      "image 1/1 C:\\Users\\FrankW\\Desktop\\test\\Code_Monkeys\\yolov8\\dataset\\external_test_cropped\\imgs\\1.2.826.0.1.3680043.2.461.12556914.2210019597.jpg: 352x640 1 benign, 41.6ms\n",
      "Speed: 1.0ms preprocess, 41.6ms inference, 2.0ms postprocess per image at shape (1, 3, 640, 640)\n",
      "\n",
      "image 1/1 C:\\Users\\FrankW\\Desktop\\test\\Code_Monkeys\\yolov8\\dataset\\external_test_cropped\\imgs\\1.2.826.0.1.3680043.2.461.12556919.4227471810.jpg: 352x640 1 benign, 38.9ms\n",
      "Speed: 1.0ms preprocess, 38.9ms inference, 2.5ms postprocess per image at shape (1, 3, 640, 640)\n",
      " 36%|███▋      | 87/239 [00:13<00:13, 10.92it/s]\n",
      "image 1/1 C:\\Users\\FrankW\\Desktop\\test\\Code_Monkeys\\yolov8\\dataset\\external_test_cropped\\imgs\\1.2.826.0.1.3680043.2.461.12567148.2936533888.jpg: 512x640 1 benign, 48.5ms\n",
      "Speed: 2.5ms preprocess, 48.5ms inference, 3.5ms postprocess per image at shape (1, 3, 640, 640)\n",
      "\n",
      "image 1/1 C:\\Users\\FrankW\\Desktop\\test\\Code_Monkeys\\yolov8\\dataset\\external_test_cropped\\imgs\\1.2.826.0.1.3680043.2.461.12567150.3070973663.jpg: 480x640 1 benign, 52.0ms\n"
     ]
    },
    {
     "name": "stdout",
     "output_type": "stream",
     "text": [
      "C:/Users/FrankW/Desktop/test/Code_Monkeys/yolov8/dataset/external_test_cropped/imgs\\1.2.826.0.1.3680043.2.461.12556914.2210019597.jpg\n",
      "0\n",
      "C:/Users/FrankW/Desktop/test/Code_Monkeys/yolov8/dataset/external_test_cropped/imgs\\1.2.826.0.1.3680043.2.461.12556919.4227471810.jpg\n",
      "0\n",
      "C:/Users/FrankW/Desktop/test/Code_Monkeys/yolov8/dataset/external_test_cropped/imgs\\1.2.826.0.1.3680043.2.461.12567148.2936533888.jpg\n",
      "0\n"
     ]
    },
    {
     "name": "stderr",
     "output_type": "stream",
     "text": [
      "Speed: 2.0ms preprocess, 52.0ms inference, 2.0ms postprocess per image at shape (1, 3, 640, 640)\n",
      " 37%|███▋      | 89/239 [00:13<00:12, 11.68it/s]\n",
      "image 1/1 C:\\Users\\FrankW\\Desktop\\test\\Code_Monkeys\\yolov8\\dataset\\external_test_cropped\\imgs\\1.2.826.0.1.3680043.2.461.12567234.1611648192.jpg: 544x640 1 benign, 51.2ms\n",
      "Speed: 3.0ms preprocess, 51.2ms inference, 2.0ms postprocess per image at shape (1, 3, 640, 640)\n",
      "\n",
      "image 1/1 C:\\Users\\FrankW\\Desktop\\test\\Code_Monkeys\\yolov8\\dataset\\external_test_cropped\\imgs\\1.2.826.0.1.3680043.2.461.12569206.347101608.jpg: 512x640 1 benign, 53.9ms\n",
      "Speed: 2.0ms preprocess, 53.9ms inference, 3.1ms postprocess per image at shape (1, 3, 640, 640)\n",
      " 38%|███▊      | 91/239 [00:14<00:12, 11.87it/s]\n"
     ]
    },
    {
     "name": "stdout",
     "output_type": "stream",
     "text": [
      "C:/Users/FrankW/Desktop/test/Code_Monkeys/yolov8/dataset/external_test_cropped/imgs\\1.2.826.0.1.3680043.2.461.12567150.3070973663.jpg\n",
      "0\n",
      "C:/Users/FrankW/Desktop/test/Code_Monkeys/yolov8/dataset/external_test_cropped/imgs\\1.2.826.0.1.3680043.2.461.12567234.1611648192.jpg\n",
      "0\n",
      "C:/Users/FrankW/Desktop/test/Code_Monkeys/yolov8/dataset/external_test_cropped/imgs\\1.2.826.0.1.3680043.2.461.12569206.347101608.jpg\n",
      "0\n"
     ]
    },
    {
     "name": "stderr",
     "output_type": "stream",
     "text": [
      "image 1/1 C:\\Users\\FrankW\\Desktop\\test\\Code_Monkeys\\yolov8\\dataset\\external_test_cropped\\imgs\\1.2.826.0.1.3680043.2.461.12571339.2073833324.jpg: 384x640 1 benign, 47.8ms\n",
      "Speed: 2.6ms preprocess, 47.8ms inference, 2.0ms postprocess per image at shape (1, 3, 640, 640)\n",
      "\n",
      "image 1/1 C:\\Users\\FrankW\\Desktop\\test\\Code_Monkeys\\yolov8\\dataset\\external_test_cropped\\imgs\\1.2.826.0.1.3680043.2.461.12579409.575188637.jpg: 416x640 1 benign, 44.1ms\n",
      "Speed: 2.0ms preprocess, 44.1ms inference, 2.0ms postprocess per image at shape (1, 3, 640, 640)\n",
      " 39%|███▉      | 93/239 [00:14<00:11, 12.72it/s]\n",
      "image 1/1 C:\\Users\\FrankW\\Desktop\\test\\Code_Monkeys\\yolov8\\dataset\\external_test_cropped\\imgs\\1.2.826.0.1.3680043.2.461.12581475.1082962004.jpg: 480x640 1 benign, 42.8ms\n",
      "Speed: 2.0ms preprocess, 42.8ms inference, 2.0ms postprocess per image at shape (1, 3, 640, 640)\n",
      "\n",
      "image 1/1 C:\\Users\\FrankW\\Desktop\\test\\Code_Monkeys\\yolov8\\dataset\\external_test_cropped\\imgs\\1.2.826.0.1.3680043.2.461.12581481.3999949596.jpg: 352x640 1 benign, 39.3ms\n",
      "Speed: 1.0ms preprocess, 39.3ms inference, 1.5ms postprocess per image at shape (1, 3, 640, 640)\n",
      " 40%|███▉      | 95/239 [00:14<00:10, 13.76it/s]"
     ]
    },
    {
     "name": "stdout",
     "output_type": "stream",
     "text": [
      "C:/Users/FrankW/Desktop/test/Code_Monkeys/yolov8/dataset/external_test_cropped/imgs\\1.2.826.0.1.3680043.2.461.12571339.2073833324.jpg\n",
      "0\n",
      "C:/Users/FrankW/Desktop/test/Code_Monkeys/yolov8/dataset/external_test_cropped/imgs\\1.2.826.0.1.3680043.2.461.12579409.575188637.jpg\n",
      "0\n",
      "C:/Users/FrankW/Desktop/test/Code_Monkeys/yolov8/dataset/external_test_cropped/imgs\\1.2.826.0.1.3680043.2.461.12581475.1082962004.jpg\n",
      "0\n",
      "C:/Users/FrankW/Desktop/test/Code_Monkeys/yolov8/dataset/external_test_cropped/imgs\\1.2.826.0.1.3680043.2.461.12581481.3999949596.jpg\n",
      "0\n"
     ]
    },
    {
     "name": "stderr",
     "output_type": "stream",
     "text": [
      "\n",
      "image 1/1 C:\\Users\\FrankW\\Desktop\\test\\Code_Monkeys\\yolov8\\dataset\\external_test_cropped\\imgs\\1.2.826.0.1.3680043.2.461.12581502.4292642861.jpg: 416x640 1 benign, 52.5ms\n",
      "Speed: 1.5ms preprocess, 52.5ms inference, 1.5ms postprocess per image at shape (1, 3, 640, 640)\n",
      "\n",
      "image 1/1 C:\\Users\\FrankW\\Desktop\\test\\Code_Monkeys\\yolov8\\dataset\\external_test_cropped\\imgs\\1.2.826.0.1.3680043.2.461.12581508.1325020250.jpg: 480x640 1 benign, 52.0ms\n",
      "Speed: 2.0ms preprocess, 52.0ms inference, 2.0ms postprocess per image at shape (1, 3, 640, 640)\n",
      " 41%|████      | 97/239 [00:14<00:10, 13.63it/s]\n",
      "image 1/1 C:\\Users\\FrankW\\Desktop\\test\\Code_Monkeys\\yolov8\\dataset\\external_test_cropped\\imgs\\1.2.826.0.1.3680043.2.461.12581554.4277809629.jpg: 384x640 1 benign, 42.3ms\n",
      "Speed: 2.5ms preprocess, 42.3ms inference, 2.0ms postprocess per image at shape (1, 3, 640, 640)\n",
      "\n"
     ]
    },
    {
     "name": "stdout",
     "output_type": "stream",
     "text": [
      "C:/Users/FrankW/Desktop/test/Code_Monkeys/yolov8/dataset/external_test_cropped/imgs\\1.2.826.0.1.3680043.2.461.12581502.4292642861.jpg\n",
      "0\n",
      "C:/Users/FrankW/Desktop/test/Code_Monkeys/yolov8/dataset/external_test_cropped/imgs\\1.2.826.0.1.3680043.2.461.12581508.1325020250.jpg\n",
      "0\n",
      "C:/Users/FrankW/Desktop/test/Code_Monkeys/yolov8/dataset/external_test_cropped/imgs\\1.2.826.0.1.3680043.2.461.12581554.4277809629.jpg\n",
      "0\n"
     ]
    },
    {
     "name": "stderr",
     "output_type": "stream",
     "text": [
      "image 1/1 C:\\Users\\FrankW\\Desktop\\test\\Code_Monkeys\\yolov8\\dataset\\external_test_cropped\\imgs\\1.2.826.0.1.3680043.2.461.12583566.2974374378.jpg: 448x640 1 benign, 43.8ms\n",
      "Speed: 1.6ms preprocess, 43.8ms inference, 3.3ms postprocess per image at shape (1, 3, 640, 640)\n",
      " 41%|████▏     | 99/239 [00:14<00:09, 14.06it/s]\n",
      "image 1/1 C:\\Users\\FrankW\\Desktop\\test\\Code_Monkeys\\yolov8\\dataset\\external_test_cropped\\imgs\\1.2.826.0.1.3680043.2.461.12583569.1907021304.jpg: 416x640 1 benign, 43.8ms\n",
      "Speed: 2.0ms preprocess, 43.8ms inference, 0.0ms postprocess per image at shape (1, 3, 640, 640)\n",
      "\n",
      "image 1/1 C:\\Users\\FrankW\\Desktop\\test\\Code_Monkeys\\yolov8\\dataset\\external_test_cropped\\imgs\\1.2.826.0.1.3680043.2.461.12585556.1772108994.jpg: 480x640 1 benign, 44.6ms\n",
      "Speed: 2.0ms preprocess, 44.6ms inference, 0.0ms postprocess per image at shape (1, 3, 640, 640)\n",
      " 42%|████▏     | 101/239 [00:14<00:09, 14.22it/s]\n",
      "image 1/1 C:\\Users\\FrankW\\Desktop\\test\\Code_Monkeys\\yolov8\\dataset\\external_test_cropped\\imgs\\1.2.826.0.1.3680043.2.461.12585562.3698411258.jpg: 480x640 1 benign, 45.7ms\n"
     ]
    },
    {
     "name": "stdout",
     "output_type": "stream",
     "text": [
      "C:/Users/FrankW/Desktop/test/Code_Monkeys/yolov8/dataset/external_test_cropped/imgs\\1.2.826.0.1.3680043.2.461.12583566.2974374378.jpg\n",
      "0\n",
      "C:/Users/FrankW/Desktop/test/Code_Monkeys/yolov8/dataset/external_test_cropped/imgs\\1.2.826.0.1.3680043.2.461.12583569.1907021304.jpg\n",
      "0\n",
      "C:/Users/FrankW/Desktop/test/Code_Monkeys/yolov8/dataset/external_test_cropped/imgs\\1.2.826.0.1.3680043.2.461.12585556.1772108994.jpg\n",
      "0\n"
     ]
    },
    {
     "name": "stderr",
     "output_type": "stream",
     "text": [
      "Speed: 2.0ms preprocess, 45.7ms inference, 2.0ms postprocess per image at shape (1, 3, 640, 640)\n",
      "\n",
      "image 1/1 C:\\Users\\FrankW\\Desktop\\test\\Code_Monkeys\\yolov8\\dataset\\external_test_cropped\\imgs\\1.2.826.0.1.3680043.2.461.12585574.2746857312.jpg: 352x640 1 benign, 37.0ms\n",
      "Speed: 2.0ms preprocess, 37.0ms inference, 1.0ms postprocess per image at shape (1, 3, 640, 640)\n",
      " 43%|████▎     | 103/239 [00:14<00:09, 14.73it/s]\n",
      "image 1/1 C:\\Users\\FrankW\\Desktop\\test\\Code_Monkeys\\yolov8\\dataset\\external_test_cropped\\imgs\\1.2.826.0.1.3680043.2.461.12587542.1685659423.jpg: 352x640 1 benign, 42.0ms\n",
      "Speed: 1.0ms preprocess, 42.0ms inference, 2.0ms postprocess per image at shape (1, 3, 640, 640)\n",
      "\n",
      "image 1/1 C:\\Users\\FrankW\\Desktop\\test\\Code_Monkeys\\yolov8\\dataset\\external_test_cropped\\imgs\\1.2.826.0.1.3680043.2.461.12595794.1508934146.jpg: 480x640 1 benign, 44.9ms\n",
      "Speed: 1.0ms preprocess, 44.9ms inference, 1.0ms postprocess per image at shape (1, 3, 640, 640)\n",
      " 44%|████▍     | 105/239 [00:14<00:08, 15.22it/s]\n"
     ]
    },
    {
     "name": "stdout",
     "output_type": "stream",
     "text": [
      "C:/Users/FrankW/Desktop/test/Code_Monkeys/yolov8/dataset/external_test_cropped/imgs\\1.2.826.0.1.3680043.2.461.12585562.3698411258.jpg\n",
      "0\n",
      "C:/Users/FrankW/Desktop/test/Code_Monkeys/yolov8/dataset/external_test_cropped/imgs\\1.2.826.0.1.3680043.2.461.12585574.2746857312.jpg\n",
      "0\n",
      "C:/Users/FrankW/Desktop/test/Code_Monkeys/yolov8/dataset/external_test_cropped/imgs\\1.2.826.0.1.3680043.2.461.12587542.1685659423.jpg\n",
      "0\n",
      "C:/Users/FrankW/Desktop/test/Code_Monkeys/yolov8/dataset/external_test_cropped/imgs\\1.2.826.0.1.3680043.2.461.12595794.1508934146.jpg\n",
      "0\n"
     ]
    },
    {
     "name": "stderr",
     "output_type": "stream",
     "text": [
      "image 1/1 C:\\Users\\FrankW\\Desktop\\test\\Code_Monkeys\\yolov8\\dataset\\external_test_cropped\\imgs\\1.2.826.0.1.3680043.2.461.12595799.4179651817.jpg: 416x640 1 benign, 41.5ms\n",
      "Speed: 1.0ms preprocess, 41.5ms inference, 2.0ms postprocess per image at shape (1, 3, 640, 640)\n",
      "\n",
      "image 1/1 C:\\Users\\FrankW\\Desktop\\test\\Code_Monkeys\\yolov8\\dataset\\external_test_cropped\\imgs\\1.2.826.0.1.3680043.2.461.12595853.158491401.jpg: 480x640 1 benign, 45.6ms\n",
      "Speed: 1.0ms preprocess, 45.6ms inference, 1.0ms postprocess per image at shape (1, 3, 640, 640)\n",
      " 45%|████▍     | 107/239 [00:15<00:08, 15.42it/s]\n",
      "image 1/1 C:\\Users\\FrankW\\Desktop\\test\\Code_Monkeys\\yolov8\\dataset\\external_test_cropped\\imgs\\1.2.826.0.1.3680043.2.461.12595881.3606794892.jpg: 448x640 1 benign, 45.2ms\n",
      "Speed: 2.0ms preprocess, 45.2ms inference, 2.0ms postprocess per image at shape (1, 3, 640, 640)\n",
      "\n",
      "image 1/1 C:\\Users\\FrankW\\Desktop\\test\\Code_Monkeys\\yolov8\\dataset\\external_test_cropped\\imgs\\1.2.826.0.1.3680043.2.461.12595881.3853898007.jpg: 544x640 1 benign, 50.6ms\n"
     ]
    },
    {
     "name": "stdout",
     "output_type": "stream",
     "text": [
      "C:/Users/FrankW/Desktop/test/Code_Monkeys/yolov8/dataset/external_test_cropped/imgs\\1.2.826.0.1.3680043.2.461.12595799.4179651817.jpg\n",
      "0\n",
      "C:/Users/FrankW/Desktop/test/Code_Monkeys/yolov8/dataset/external_test_cropped/imgs\\1.2.826.0.1.3680043.2.461.12595853.158491401.jpg\n",
      "0\n",
      "C:/Users/FrankW/Desktop/test/Code_Monkeys/yolov8/dataset/external_test_cropped/imgs\\1.2.826.0.1.3680043.2.461.12595881.3606794892.jpg\n",
      "0\n"
     ]
    },
    {
     "name": "stderr",
     "output_type": "stream",
     "text": [
      "Speed: 3.0ms preprocess, 50.6ms inference, 1.0ms postprocess per image at shape (1, 3, 640, 640)\n",
      " 46%|████▌     | 109/239 [00:15<00:08, 15.14it/s]\n",
      "image 1/1 C:\\Users\\FrankW\\Desktop\\test\\Code_Monkeys\\yolov8\\dataset\\external_test_cropped\\imgs\\1.2.826.0.1.3680043.2.461.12634788.181759682.jpg: 512x640 1 benign, 50.6ms\n",
      "Speed: 0.0ms preprocess, 50.6ms inference, 2.0ms postprocess per image at shape (1, 3, 640, 640)\n",
      "\n",
      "image 1/1 C:\\Users\\FrankW\\Desktop\\test\\Code_Monkeys\\yolov8\\dataset\\external_test_cropped\\imgs\\1.2.826.0.1.3680043.2.461.12634794.40009445.jpg: 416x640 1 benign, 40.5ms\n",
      "Speed: 1.0ms preprocess, 40.5ms inference, 1.5ms postprocess per image at shape (1, 3, 640, 640)\n",
      " 46%|████▋     | 111/239 [00:15<00:08, 15.53it/s]\n",
      "image 1/1 C:\\Users\\FrankW\\Desktop\\test\\Code_Monkeys\\yolov8\\dataset\\external_test_cropped\\imgs\\1.2.826.0.1.3680043.2.461.12638760.3079405872.jpg: 480x640 1 benign, 41.2ms\n",
      "Speed: 1.0ms preprocess, 41.2ms inference, 2.0ms postprocess per image at shape (1, 3, 640, 640)\n",
      "\n"
     ]
    },
    {
     "name": "stdout",
     "output_type": "stream",
     "text": [
      "C:/Users/FrankW/Desktop/test/Code_Monkeys/yolov8/dataset/external_test_cropped/imgs\\1.2.826.0.1.3680043.2.461.12595881.3853898007.jpg\n",
      "0\n",
      "C:/Users/FrankW/Desktop/test/Code_Monkeys/yolov8/dataset/external_test_cropped/imgs\\1.2.826.0.1.3680043.2.461.12634788.181759682.jpg\n",
      "0\n",
      "C:/Users/FrankW/Desktop/test/Code_Monkeys/yolov8/dataset/external_test_cropped/imgs\\1.2.826.0.1.3680043.2.461.12634794.40009445.jpg\n",
      "0\n",
      "C:/Users/FrankW/Desktop/test/Code_Monkeys/yolov8/dataset/external_test_cropped/imgs\\1.2.826.0.1.3680043.2.461.12638760.3079405872.jpg\n",
      "0\n"
     ]
    },
    {
     "name": "stderr",
     "output_type": "stream",
     "text": [
      "image 1/1 C:\\Users\\FrankW\\Desktop\\test\\Code_Monkeys\\yolov8\\dataset\\external_test_cropped\\imgs\\1.2.826.0.1.3680043.2.461.12638783.3961392787.jpg: 416x640 1 benign, 42.8ms\n",
      "Speed: 1.0ms preprocess, 42.8ms inference, 2.0ms postprocess per image at shape (1, 3, 640, 640)\n",
      " 47%|████▋     | 113/239 [00:15<00:07, 15.84it/s]\n",
      "image 1/1 C:\\Users\\FrankW\\Desktop\\test\\Code_Monkeys\\yolov8\\dataset\\external_test_cropped\\imgs\\1.2.826.0.1.3680043.2.461.12638790.1517737936.jpg: 416x640 1 benign, 47.0ms\n",
      "Speed: 1.0ms preprocess, 47.0ms inference, 1.0ms postprocess per image at shape (1, 3, 640, 640)\n",
      "\n",
      "image 1/1 C:\\Users\\FrankW\\Desktop\\test\\Code_Monkeys\\yolov8\\dataset\\external_test_cropped\\imgs\\1.2.826.0.1.3680043.2.461.12638840.163889883.jpg: 352x640 1 benign, 37.4ms\n",
      "Speed: 1.0ms preprocess, 37.4ms inference, 1.0ms postprocess per image at shape (1, 3, 640, 640)\n",
      " 48%|████▊     | 115/239 [00:15<00:07, 16.06it/s]\n",
      "image 1/1 C:\\Users\\FrankW\\Desktop\\test\\Code_Monkeys\\yolov8\\dataset\\external_test_cropped\\imgs\\1.2.826.0.1.3680043.2.461.12638879.3310681631.jpg: 352x640 1 benign, 36.3ms\n",
      "Speed: 1.0ms preprocess, 36.3ms inference, 1.0ms postprocess per image at shape (1, 3, 640, 640)\n",
      "\n"
     ]
    },
    {
     "name": "stdout",
     "output_type": "stream",
     "text": [
      "C:/Users/FrankW/Desktop/test/Code_Monkeys/yolov8/dataset/external_test_cropped/imgs\\1.2.826.0.1.3680043.2.461.12638783.3961392787.jpg\n",
      "0\n",
      "C:/Users/FrankW/Desktop/test/Code_Monkeys/yolov8/dataset/external_test_cropped/imgs\\1.2.826.0.1.3680043.2.461.12638790.1517737936.jpg\n",
      "0\n",
      "C:/Users/FrankW/Desktop/test/Code_Monkeys/yolov8/dataset/external_test_cropped/imgs\\1.2.826.0.1.3680043.2.461.12638840.163889883.jpg\n",
      "0\n",
      "C:/Users/FrankW/Desktop/test/Code_Monkeys/yolov8/dataset/external_test_cropped/imgs\\1.2.826.0.1.3680043.2.461.12638879.3310681631.jpg\n",
      "0\n"
     ]
    },
    {
     "name": "stderr",
     "output_type": "stream",
     "text": [
      "image 1/1 C:\\Users\\FrankW\\Desktop\\test\\Code_Monkeys\\yolov8\\dataset\\external_test_cropped\\imgs\\1.2.826.0.1.3680043.2.461.12638881.4195592931.jpg: 416x640 1 benign, 44.8ms\n",
      "Speed: 1.0ms preprocess, 44.8ms inference, 2.0ms postprocess per image at shape (1, 3, 640, 640)\n",
      " 49%|████▉     | 117/239 [00:15<00:07, 16.31it/s]\n",
      "image 1/1 C:\\Users\\FrankW\\Desktop\\test\\Code_Monkeys\\yolov8\\dataset\\external_test_cropped\\imgs\\1.2.826.0.1.3680043.2.461.12642937.2500551087.jpg: 352x640 1 benign, 42.4ms\n",
      "Speed: 1.0ms preprocess, 42.4ms inference, 2.0ms postprocess per image at shape (1, 3, 640, 640)\n",
      "\n",
      "image 1/1 C:\\Users\\FrankW\\Desktop\\test\\Code_Monkeys\\yolov8\\dataset\\external_test_cropped\\imgs\\1.2.826.0.1.3680043.2.461.12642940.2453233777.jpg: 352x640 1 benign, 38.6ms\n",
      "Speed: 1.0ms preprocess, 38.6ms inference, 1.0ms postprocess per image at shape (1, 3, 640, 640)\n",
      " 50%|████▉     | 119/239 [00:15<00:07, 16.66it/s]\n"
     ]
    },
    {
     "name": "stdout",
     "output_type": "stream",
     "text": [
      "C:/Users/FrankW/Desktop/test/Code_Monkeys/yolov8/dataset/external_test_cropped/imgs\\1.2.826.0.1.3680043.2.461.12638881.4195592931.jpg\n",
      "0\n",
      "C:/Users/FrankW/Desktop/test/Code_Monkeys/yolov8/dataset/external_test_cropped/imgs\\1.2.826.0.1.3680043.2.461.12642937.2500551087.jpg\n",
      "0\n",
      "C:/Users/FrankW/Desktop/test/Code_Monkeys/yolov8/dataset/external_test_cropped/imgs\\1.2.826.0.1.3680043.2.461.12642940.2453233777.jpg\n",
      "0\n"
     ]
    },
    {
     "name": "stderr",
     "output_type": "stream",
     "text": [
      "image 1/1 C:\\Users\\FrankW\\Desktop\\test\\Code_Monkeys\\yolov8\\dataset\\external_test_cropped\\imgs\\1.2.826.0.1.3680043.2.461.12642944.3094097699.jpg: 352x640 1 benign, 76.5ms\n",
      "Speed: 1.0ms preprocess, 76.5ms inference, 3.7ms postprocess per image at shape (1, 3, 640, 640)\n",
      "\n",
      "image 1/1 C:\\Users\\FrankW\\Desktop\\test\\Code_Monkeys\\yolov8\\dataset\\external_test_cropped\\imgs\\1.2.826.0.1.3680043.2.461.12649018.3241922827.jpg: 416x640 2 benigns, 47.5ms\n",
      "Speed: 2.5ms preprocess, 47.5ms inference, 2.0ms postprocess per image at shape (1, 3, 640, 640)\n",
      " 51%|█████     | 121/239 [00:16<00:08, 14.65it/s]\n",
      "image 1/1 C:\\Users\\FrankW\\Desktop\\test\\Code_Monkeys\\yolov8\\dataset\\external_test_cropped\\imgs\\1.2.826.0.1.3680043.2.461.12653071.1790144048.jpg: 384x640 1 benign, 42.0ms\n",
      "Speed: 1.5ms preprocess, 42.0ms inference, 1.5ms postprocess per image at shape (1, 3, 640, 640)\n",
      "\n",
      "image 1/1 C:\\Users\\FrankW\\Desktop\\test\\Code_Monkeys\\yolov8\\dataset\\external_test_cropped\\imgs\\1.2.826.0.1.3680043.2.461.12653156.2300035343.jpg: 448x640 1 benign, 1 malignant, 41.9ms\n"
     ]
    },
    {
     "name": "stdout",
     "output_type": "stream",
     "text": [
      "C:/Users/FrankW/Desktop/test/Code_Monkeys/yolov8/dataset/external_test_cropped/imgs\\1.2.826.0.1.3680043.2.461.12642944.3094097699.jpg\n",
      "0\n",
      "C:/Users/FrankW/Desktop/test/Code_Monkeys/yolov8/dataset/external_test_cropped/imgs\\1.2.826.0.1.3680043.2.461.12649018.3241922827.jpg\n",
      "0\n",
      "C:/Users/FrankW/Desktop/test/Code_Monkeys/yolov8/dataset/external_test_cropped/imgs\\1.2.826.0.1.3680043.2.461.12653071.1790144048.jpg\n",
      "0\n"
     ]
    },
    {
     "name": "stderr",
     "output_type": "stream",
     "text": [
      "Speed: 2.0ms preprocess, 41.9ms inference, 2.2ms postprocess per image at shape (1, 3, 640, 640)\n",
      " 51%|█████▏    | 123/239 [00:16<00:07, 15.14it/s]\n",
      "image 1/1 C:\\Users\\FrankW\\Desktop\\test\\Code_Monkeys\\yolov8\\dataset\\external_test_cropped\\imgs\\1.2.826.0.1.3680043.2.461.12653163.2922819003.jpg: 480x640 1 benign, 1 malignant, 43.0ms\n",
      "Speed: 2.0ms preprocess, 43.0ms inference, 3.0ms postprocess per image at shape (1, 3, 640, 640)\n",
      "\n",
      "image 1/1 C:\\Users\\FrankW\\Desktop\\test\\Code_Monkeys\\yolov8\\dataset\\external_test_cropped\\imgs\\1.2.826.0.1.3680043.2.461.12653175.2894740660.jpg: 352x640 1 benign, 37.8ms\n",
      "Speed: 1.0ms preprocess, 37.8ms inference, 2.0ms postprocess per image at shape (1, 3, 640, 640)\n",
      " 52%|█████▏    | 125/239 [00:16<00:07, 15.67it/s]\n",
      "image 1/1 C:\\Users\\FrankW\\Desktop\\test\\Code_Monkeys\\yolov8\\dataset\\external_test_cropped\\imgs\\1.2.826.0.1.3680043.2.461.12653183.2283587921.jpg: 416x640 1 benign, 41.0ms\n",
      "Speed: 2.0ms preprocess, 41.0ms inference, 2.5ms postprocess per image at shape (1, 3, 640, 640)\n",
      "\n"
     ]
    },
    {
     "name": "stdout",
     "output_type": "stream",
     "text": [
      "C:/Users/FrankW/Desktop/test/Code_Monkeys/yolov8/dataset/external_test_cropped/imgs\\1.2.826.0.1.3680043.2.461.12653156.2300035343.jpg\n",
      "0\n",
      "C:/Users/FrankW/Desktop/test/Code_Monkeys/yolov8/dataset/external_test_cropped/imgs\\1.2.826.0.1.3680043.2.461.12653163.2922819003.jpg\n",
      "0\n",
      "C:/Users/FrankW/Desktop/test/Code_Monkeys/yolov8/dataset/external_test_cropped/imgs\\1.2.826.0.1.3680043.2.461.12653175.2894740660.jpg\n",
      "0\n",
      "C:/Users/FrankW/Desktop/test/Code_Monkeys/yolov8/dataset/external_test_cropped/imgs\\1.2.826.0.1.3680043.2.461.12653183.2283587921.jpg\n",
      "0\n"
     ]
    },
    {
     "name": "stderr",
     "output_type": "stream",
     "text": [
      "image 1/1 C:\\Users\\FrankW\\Desktop\\test\\Code_Monkeys\\yolov8\\dataset\\external_test_cropped\\imgs\\1.2.826.0.1.3680043.2.461.12653189.1151821398.jpg: 416x640 1 benign, 41.6ms\n",
      "Speed: 2.0ms preprocess, 41.6ms inference, 1.0ms postprocess per image at shape (1, 3, 640, 640)\n",
      " 53%|█████▎    | 127/239 [00:16<00:06, 16.02it/s]\n",
      "image 1/1 C:\\Users\\FrankW\\Desktop\\test\\Code_Monkeys\\yolov8\\dataset\\external_test_cropped\\imgs\\15BF10B1977B4032BFB036212E61B003_699198.jpg: 480x640 2 malignants, 43.6ms\n",
      "Speed: 1.0ms preprocess, 43.6ms inference, 2.0ms postprocess per image at shape (1, 3, 640, 640)\n",
      "\n",
      "image 1/1 C:\\Users\\FrankW\\Desktop\\test\\Code_Monkeys\\yolov8\\dataset\\external_test_cropped\\imgs\\15BF10B1977B4032BFB036212E61B003_699201.jpg: 576x640 2 malignants, 51.2ms\n",
      "Speed: 4.0ms preprocess, 51.2ms inference, 1.0ms postprocess per image at shape (1, 3, 640, 640)\n",
      " 54%|█████▍    | 129/239 [00:16<00:07, 15.38it/s]\n",
      "image 1/1 C:\\Users\\FrankW\\Desktop\\test\\Code_Monkeys\\yolov8\\dataset\\external_test_cropped\\imgs\\15BF10B1977B4032BFB036212E61B003_699202.jpg: 576x640 2 malignants, 49.0ms\n"
     ]
    },
    {
     "name": "stdout",
     "output_type": "stream",
     "text": [
      "C:/Users/FrankW/Desktop/test/Code_Monkeys/yolov8/dataset/external_test_cropped/imgs\\1.2.826.0.1.3680043.2.461.12653189.1151821398.jpg\n",
      "0\n",
      "C:/Users/FrankW/Desktop/test/Code_Monkeys/yolov8/dataset/external_test_cropped/imgs\\15BF10B1977B4032BFB036212E61B003_699198.jpg\n",
      "1\n",
      "C:/Users/FrankW/Desktop/test/Code_Monkeys/yolov8/dataset/external_test_cropped/imgs\\15BF10B1977B4032BFB036212E61B003_699201.jpg\n",
      "1\n"
     ]
    },
    {
     "name": "stderr",
     "output_type": "stream",
     "text": [
      "Speed: 3.0ms preprocess, 49.0ms inference, 2.0ms postprocess per image at shape (1, 3, 640, 640)\n",
      "\n",
      "image 1/1 C:\\Users\\FrankW\\Desktop\\test\\Code_Monkeys\\yolov8\\dataset\\external_test_cropped\\imgs\\15BF10B1977B4032BFB036212E61B003_699203.jpg: 576x640 1 malignant, 50.3ms\n",
      "Speed: 3.0ms preprocess, 50.3ms inference, 1.5ms postprocess per image at shape (1, 3, 640, 640)\n",
      " 55%|█████▍    | 131/239 [00:16<00:07, 14.82it/s]\n",
      "image 1/1 C:\\Users\\FrankW\\Desktop\\test\\Code_Monkeys\\yolov8\\dataset\\external_test_cropped\\imgs\\1698B28D48354CCABFE4EB233B9376D9_2620695.jpg: 640x640 1 malignant, 53.0ms\n",
      "Speed: 3.0ms preprocess, 53.0ms inference, 3.0ms postprocess per image at shape (1, 3, 640, 640)\n",
      "\n"
     ]
    },
    {
     "name": "stdout",
     "output_type": "stream",
     "text": [
      "C:/Users/FrankW/Desktop/test/Code_Monkeys/yolov8/dataset/external_test_cropped/imgs\\15BF10B1977B4032BFB036212E61B003_699202.jpg\n",
      "1\n",
      "C:/Users/FrankW/Desktop/test/Code_Monkeys/yolov8/dataset/external_test_cropped/imgs\\15BF10B1977B4032BFB036212E61B003_699203.jpg\n",
      "1\n",
      "C:/Users/FrankW/Desktop/test/Code_Monkeys/yolov8/dataset/external_test_cropped/imgs\\1698B28D48354CCABFE4EB233B9376D9_2620695.jpg\n",
      "1\n"
     ]
    },
    {
     "name": "stderr",
     "output_type": "stream",
     "text": [
      "image 1/1 C:\\Users\\FrankW\\Desktop\\test\\Code_Monkeys\\yolov8\\dataset\\external_test_cropped\\imgs\\1DA4F47999634F35A85B06405FE1710D_2738630.jpg: 608x640 1 benign, 1 malignant, 52.0ms\n",
      "Speed: 3.0ms preprocess, 52.0ms inference, 2.0ms postprocess per image at shape (1, 3, 640, 640)\n",
      " 56%|█████▌    | 133/239 [00:16<00:07, 14.76it/s]\n",
      "image 1/1 C:\\Users\\FrankW\\Desktop\\test\\Code_Monkeys\\yolov8\\dataset\\external_test_cropped\\imgs\\237CC5B1D994476EB08CB5F79CF15220_2704307.jpg: 448x640 1 malignant, 43.6ms\n",
      "Speed: 2.9ms preprocess, 43.6ms inference, 1.0ms postprocess per image at shape (1, 3, 640, 640)\n",
      "\n",
      "image 1/1 C:\\Users\\FrankW\\Desktop\\test\\Code_Monkeys\\yolov8\\dataset\\external_test_cropped\\imgs\\237CC5B1D994476EB08CB5F79CF15220_2704319.jpg: 448x640 2 malignants, 44.0ms\n",
      "Speed: 2.0ms preprocess, 44.0ms inference, 3.0ms postprocess per image at shape (1, 3, 640, 640)\n",
      " 56%|█████▋    | 135/239 [00:16<00:07, 14.56it/s]\n"
     ]
    },
    {
     "name": "stdout",
     "output_type": "stream",
     "text": [
      "C:/Users/FrankW/Desktop/test/Code_Monkeys/yolov8/dataset/external_test_cropped/imgs\\1DA4F47999634F35A85B06405FE1710D_2738630.jpg\n",
      "1\n",
      "C:/Users/FrankW/Desktop/test/Code_Monkeys/yolov8/dataset/external_test_cropped/imgs\\237CC5B1D994476EB08CB5F79CF15220_2704307.jpg\n",
      "1\n",
      "C:/Users/FrankW/Desktop/test/Code_Monkeys/yolov8/dataset/external_test_cropped/imgs\\237CC5B1D994476EB08CB5F79CF15220_2704319.jpg\n",
      "1\n"
     ]
    },
    {
     "name": "stderr",
     "output_type": "stream",
     "text": [
      "image 1/1 C:\\Users\\FrankW\\Desktop\\test\\Code_Monkeys\\yolov8\\dataset\\external_test_cropped\\imgs\\29C71F8FC50C4104B07BB55C96A8AA95_7704698.jpg: 640x640 1 benign, 1 malignant, 51.0ms\n",
      "Speed: 3.0ms preprocess, 51.0ms inference, 1.9ms postprocess per image at shape (1, 3, 640, 640)\n",
      "\n",
      "image 1/1 C:\\Users\\FrankW\\Desktop\\test\\Code_Monkeys\\yolov8\\dataset\\external_test_cropped\\imgs\\29C71F8FC50C4104B07BB55C96A8AA95_7704699.jpg: 640x608 1 malignant, 49.0ms\n",
      "Speed: 4.0ms preprocess, 49.0ms inference, 2.0ms postprocess per image at shape (1, 3, 640, 640)\n",
      " 57%|█████▋    | 137/239 [00:17<00:07, 14.06it/s]\n",
      "image 1/1 C:\\Users\\FrankW\\Desktop\\test\\Code_Monkeys\\yolov8\\dataset\\external_test_cropped\\imgs\\29C71F8FC50C4104B07BB55C96A8AA95_7704703.jpg: 640x576 1 benign, 49.2ms\n",
      "Speed: 3.0ms preprocess, 49.2ms inference, 2.0ms postprocess per image at shape (1, 3, 640, 640)\n",
      "\n",
      "image 1/1 C:\\Users\\FrankW\\Desktop\\test\\Code_Monkeys\\yolov8\\dataset\\external_test_cropped\\imgs\\2C0BABF072AC4A4488ED9582898C7058_699028.jpg: 480x640 1 malignant, 40.2ms\n"
     ]
    },
    {
     "name": "stdout",
     "output_type": "stream",
     "text": [
      "C:/Users/FrankW/Desktop/test/Code_Monkeys/yolov8/dataset/external_test_cropped/imgs\\29C71F8FC50C4104B07BB55C96A8AA95_7704698.jpg\n",
      "0\n",
      "C:/Users/FrankW/Desktop/test/Code_Monkeys/yolov8/dataset/external_test_cropped/imgs\\29C71F8FC50C4104B07BB55C96A8AA95_7704699.jpg\n",
      "0\n",
      "C:/Users/FrankW/Desktop/test/Code_Monkeys/yolov8/dataset/external_test_cropped/imgs\\29C71F8FC50C4104B07BB55C96A8AA95_7704703.jpg\n",
      "0\n"
     ]
    },
    {
     "name": "stderr",
     "output_type": "stream",
     "text": [
      "Speed: 1.0ms preprocess, 40.2ms inference, 2.0ms postprocess per image at shape (1, 3, 640, 640)\n",
      " 58%|█████▊    | 139/239 [00:17<00:06, 14.36it/s]\n",
      "image 1/1 C:\\Users\\FrankW\\Desktop\\test\\Code_Monkeys\\yolov8\\dataset\\external_test_cropped\\imgs\\2C0BABF072AC4A4488ED9582898C7058_699032.jpg: 448x640 1 malignant, 43.3ms\n",
      "Speed: 1.0ms preprocess, 43.3ms inference, 2.0ms postprocess per image at shape (1, 3, 640, 640)\n",
      "\n",
      "image 1/1 C:\\Users\\FrankW\\Desktop\\test\\Code_Monkeys\\yolov8\\dataset\\external_test_cropped\\imgs\\2C0BABF072AC4A4488ED9582898C7058_699060.jpg: 480x640 1 malignant, 42.7ms\n",
      "Speed: 1.8ms preprocess, 42.7ms inference, 2.0ms postprocess per image at shape (1, 3, 640, 640)\n",
      " 59%|█████▉    | 141/239 [00:17<00:06, 14.95it/s]\n",
      "image 1/1 C:\\Users\\FrankW\\Desktop\\test\\Code_Monkeys\\yolov8\\dataset\\external_test_cropped\\imgs\\2FED195D76084719BA2983FD9799266C_2747378.jpg: 416x640 1 malignant, 42.5ms\n",
      "Speed: 1.0ms preprocess, 42.5ms inference, 2.0ms postprocess per image at shape (1, 3, 640, 640)\n",
      "\n"
     ]
    },
    {
     "name": "stdout",
     "output_type": "stream",
     "text": [
      "C:/Users/FrankW/Desktop/test/Code_Monkeys/yolov8/dataset/external_test_cropped/imgs\\2C0BABF072AC4A4488ED9582898C7058_699028.jpg\n",
      "1\n",
      "C:/Users/FrankW/Desktop/test/Code_Monkeys/yolov8/dataset/external_test_cropped/imgs\\2C0BABF072AC4A4488ED9582898C7058_699032.jpg\n",
      "1\n",
      "C:/Users/FrankW/Desktop/test/Code_Monkeys/yolov8/dataset/external_test_cropped/imgs\\2C0BABF072AC4A4488ED9582898C7058_699060.jpg\n",
      "1\n",
      "C:/Users/FrankW/Desktop/test/Code_Monkeys/yolov8/dataset/external_test_cropped/imgs\\2FED195D76084719BA2983FD9799266C_2747378.jpg\n",
      "1\n"
     ]
    },
    {
     "name": "stderr",
     "output_type": "stream",
     "text": [
      "image 1/1 C:\\Users\\FrankW\\Desktop\\test\\Code_Monkeys\\yolov8\\dataset\\external_test_cropped\\imgs\\2FED195D76084719BA2983FD9799266C_2747409.jpg: 448x640 1 malignant, 45.6ms\n",
      "Speed: 2.0ms preprocess, 45.6ms inference, 2.0ms postprocess per image at shape (1, 3, 640, 640)\n",
      " 60%|█████▉    | 143/239 [00:17<00:06, 15.50it/s]\n",
      "image 1/1 C:\\Users\\FrankW\\Desktop\\test\\Code_Monkeys\\yolov8\\dataset\\external_test_cropped\\imgs\\39591C33F58F4078A3A00F839DB62608_2815811.jpg: 480x640 1 malignant, 50.8ms\n",
      "Speed: 2.0ms preprocess, 50.8ms inference, 2.0ms postprocess per image at shape (1, 3, 640, 640)\n",
      "\n",
      "image 1/1 C:\\Users\\FrankW\\Desktop\\test\\Code_Monkeys\\yolov8\\dataset\\external_test_cropped\\imgs\\39591C33F58F4078A3A00F839DB62608_2815812.jpg: 416x640 1 malignant, 54.8ms\n",
      "Speed: 1.0ms preprocess, 54.8ms inference, 3.0ms postprocess per image at shape (1, 3, 640, 640)\n",
      " 61%|██████    | 145/239 [00:17<00:06, 14.18it/s]\n"
     ]
    },
    {
     "name": "stdout",
     "output_type": "stream",
     "text": [
      "C:/Users/FrankW/Desktop/test/Code_Monkeys/yolov8/dataset/external_test_cropped/imgs\\2FED195D76084719BA2983FD9799266C_2747409.jpg\n",
      "1\n",
      "C:/Users/FrankW/Desktop/test/Code_Monkeys/yolov8/dataset/external_test_cropped/imgs\\39591C33F58F4078A3A00F839DB62608_2815811.jpg\n",
      "1\n",
      "C:/Users/FrankW/Desktop/test/Code_Monkeys/yolov8/dataset/external_test_cropped/imgs\\39591C33F58F4078A3A00F839DB62608_2815812.jpg\n",
      "1\n"
     ]
    },
    {
     "name": "stderr",
     "output_type": "stream",
     "text": [
      "image 1/1 C:\\Users\\FrankW\\Desktop\\test\\Code_Monkeys\\yolov8\\dataset\\external_test_cropped\\imgs\\39591C33F58F4078A3A00F839DB62608_2815843.jpg: 416x640 1 malignant, 41.9ms\n",
      "Speed: 1.0ms preprocess, 41.9ms inference, 2.0ms postprocess per image at shape (1, 3, 640, 640)\n",
      "\n",
      "image 1/1 C:\\Users\\FrankW\\Desktop\\test\\Code_Monkeys\\yolov8\\dataset\\external_test_cropped\\imgs\\3B8AD6EB99C3477984402F7D633DF506_2073397.jpg: 640x640 1 malignant, 53.0ms\n",
      "Speed: 3.0ms preprocess, 53.0ms inference, 2.0ms postprocess per image at shape (1, 3, 640, 640)\n",
      " 62%|██████▏   | 147/239 [00:17<00:06, 14.33it/s]\n",
      "image 1/1 C:\\Users\\FrankW\\Desktop\\test\\Code_Monkeys\\yolov8\\dataset\\external_test_cropped\\imgs\\3B8AD6EB99C3477984402F7D633DF506_2073401.jpg: 640x640 1 malignant, 52.3ms\n",
      "Speed: 2.6ms preprocess, 52.3ms inference, 1.8ms postprocess per image at shape (1, 3, 640, 640)\n",
      "\n"
     ]
    },
    {
     "name": "stdout",
     "output_type": "stream",
     "text": [
      "C:/Users/FrankW/Desktop/test/Code_Monkeys/yolov8/dataset/external_test_cropped/imgs\\39591C33F58F4078A3A00F839DB62608_2815843.jpg\n",
      "1\n",
      "C:/Users/FrankW/Desktop/test/Code_Monkeys/yolov8/dataset/external_test_cropped/imgs\\3B8AD6EB99C3477984402F7D633DF506_2073397.jpg\n",
      "1\n",
      "C:/Users/FrankW/Desktop/test/Code_Monkeys/yolov8/dataset/external_test_cropped/imgs\\3B8AD6EB99C3477984402F7D633DF506_2073401.jpg\n",
      "1\n"
     ]
    },
    {
     "name": "stderr",
     "output_type": "stream",
     "text": [
      "image 1/1 C:\\Users\\FrankW\\Desktop\\test\\Code_Monkeys\\yolov8\\dataset\\external_test_cropped\\imgs\\3B8AD6EB99C3477984402F7D633DF506_2073429.jpg: 640x576 (no detections), 52.4ms\n",
      "Speed: 3.0ms preprocess, 52.4ms inference, 0.0ms postprocess per image at shape (1, 3, 640, 640)\n",
      " 62%|██████▏   | 149/239 [00:17<00:06, 14.66it/s]\n",
      "image 1/1 C:\\Users\\FrankW\\Desktop\\test\\Code_Monkeys\\yolov8\\dataset\\external_test_cropped\\imgs\\43644362EF25401D9C04F2A752C426CB_2567434.jpg: 416x640 1 malignant, 42.9ms\n",
      "Speed: 1.0ms preprocess, 42.9ms inference, 1.0ms postprocess per image at shape (1, 3, 640, 640)\n",
      "\n",
      "image 1/1 C:\\Users\\FrankW\\Desktop\\test\\Code_Monkeys\\yolov8\\dataset\\external_test_cropped\\imgs\\47A993B38D1C4998A797E34E40092134_746114 (2).jpg: 544x640 1 malignant, 46.0ms\n",
      "Speed: 2.5ms preprocess, 46.0ms inference, 2.0ms postprocess per image at shape (1, 3, 640, 640)\n",
      " 63%|██████▎   | 151/239 [00:18<00:05, 14.85it/s]\n",
      "image 1/1 C:\\Users\\FrankW\\Desktop\\test\\Code_Monkeys\\yolov8\\dataset\\external_test_cropped\\imgs\\47A993B38D1C4998A797E34E40092134_746115 (2).jpg: 544x640 1 malignant, 49.2ms\n"
     ]
    },
    {
     "name": "stdout",
     "output_type": "stream",
     "text": [
      "C:/Users/FrankW/Desktop/test/Code_Monkeys/yolov8/dataset/external_test_cropped/imgs\\3B8AD6EB99C3477984402F7D633DF506_2073429.jpg\n",
      "1\n",
      "C:/Users/FrankW/Desktop/test/Code_Monkeys/yolov8/dataset/external_test_cropped/imgs\\43644362EF25401D9C04F2A752C426CB_2567434.jpg\n",
      "1\n",
      "C:/Users/FrankW/Desktop/test/Code_Monkeys/yolov8/dataset/external_test_cropped/imgs\\47A993B38D1C4998A797E34E40092134_746114 (2).jpg\n",
      "1\n"
     ]
    },
    {
     "name": "stderr",
     "output_type": "stream",
     "text": [
      "Speed: 2.0ms preprocess, 49.2ms inference, 1.0ms postprocess per image at shape (1, 3, 640, 640)\n",
      "\n",
      "image 1/1 C:\\Users\\FrankW\\Desktop\\test\\Code_Monkeys\\yolov8\\dataset\\external_test_cropped\\imgs\\47A993B38D1C4998A797E34E40092134_746130.jpg: 640x576 1 benign, 54.1ms\n",
      "Speed: 2.5ms preprocess, 54.1ms inference, 2.0ms postprocess per image at shape (1, 3, 640, 640)\n",
      " 64%|██████▍   | 153/239 [00:18<00:05, 14.50it/s]\n",
      "image 1/1 C:\\Users\\FrankW\\Desktop\\test\\Code_Monkeys\\yolov8\\dataset\\external_test_cropped\\imgs\\47F69B65B8CC4BB1A45759DE7836488B_727294.jpg: 512x640 1 malignant, 47.0ms\n",
      "Speed: 2.0ms preprocess, 47.0ms inference, 2.0ms postprocess per image at shape (1, 3, 640, 640)\n",
      "\n"
     ]
    },
    {
     "name": "stdout",
     "output_type": "stream",
     "text": [
      "C:/Users/FrankW/Desktop/test/Code_Monkeys/yolov8/dataset/external_test_cropped/imgs\\47A993B38D1C4998A797E34E40092134_746115 (2).jpg\n",
      "1\n",
      "C:/Users/FrankW/Desktop/test/Code_Monkeys/yolov8/dataset/external_test_cropped/imgs\\47A993B38D1C4998A797E34E40092134_746130.jpg\n",
      "1\n",
      "C:/Users/FrankW/Desktop/test/Code_Monkeys/yolov8/dataset/external_test_cropped/imgs\\47F69B65B8CC4BB1A45759DE7836488B_727294.jpg\n",
      "1\n"
     ]
    },
    {
     "name": "stderr",
     "output_type": "stream",
     "text": [
      "image 1/1 C:\\Users\\FrankW\\Desktop\\test\\Code_Monkeys\\yolov8\\dataset\\external_test_cropped\\imgs\\47F69B65B8CC4BB1A45759DE7836488B_727295.jpg: 512x640 1 malignant, 44.9ms\n",
      "Speed: 2.0ms preprocess, 44.9ms inference, 1.0ms postprocess per image at shape (1, 3, 640, 640)\n",
      " 65%|██████▍   | 155/239 [00:18<00:05, 14.37it/s]\n",
      "image 1/1 C:\\Users\\FrankW\\Desktop\\test\\Code_Monkeys\\yolov8\\dataset\\external_test_cropped\\imgs\\47F69B65B8CC4BB1A45759DE7836488B_727299.jpg: 640x640 1 malignant, 51.5ms\n",
      "Speed: 4.0ms preprocess, 51.5ms inference, 2.0ms postprocess per image at shape (1, 3, 640, 640)\n",
      "\n",
      "image 1/1 C:\\Users\\FrankW\\Desktop\\test\\Code_Monkeys\\yolov8\\dataset\\external_test_cropped\\imgs\\4973CD2EEDC84BB491A8CBBC8FE98542_2551475.jpg: 512x640 1 malignant, 48.8ms\n",
      "Speed: 2.0ms preprocess, 48.8ms inference, 3.0ms postprocess per image at shape (1, 3, 640, 640)\n",
      " 66%|██████▌   | 157/239 [00:18<00:05, 13.85it/s]\n"
     ]
    },
    {
     "name": "stdout",
     "output_type": "stream",
     "text": [
      "C:/Users/FrankW/Desktop/test/Code_Monkeys/yolov8/dataset/external_test_cropped/imgs\\47F69B65B8CC4BB1A45759DE7836488B_727295.jpg\n",
      "1\n",
      "C:/Users/FrankW/Desktop/test/Code_Monkeys/yolov8/dataset/external_test_cropped/imgs\\47F69B65B8CC4BB1A45759DE7836488B_727299.jpg\n",
      "1\n",
      "C:/Users/FrankW/Desktop/test/Code_Monkeys/yolov8/dataset/external_test_cropped/imgs\\4973CD2EEDC84BB491A8CBBC8FE98542_2551475.jpg\n",
      "1\n"
     ]
    },
    {
     "name": "stderr",
     "output_type": "stream",
     "text": [
      "image 1/1 C:\\Users\\FrankW\\Desktop\\test\\Code_Monkeys\\yolov8\\dataset\\external_test_cropped\\imgs\\4973CD2EEDC84BB491A8CBBC8FE98542_2551476.jpg: 448x640 1 malignant, 41.7ms\n",
      "Speed: 2.0ms preprocess, 41.7ms inference, 2.0ms postprocess per image at shape (1, 3, 640, 640)\n",
      "\n",
      "image 1/1 C:\\Users\\FrankW\\Desktop\\test\\Code_Monkeys\\yolov8\\dataset\\external_test_cropped\\imgs\\5144E616DB694C0D84E19A0CC169ABAD_680377.jpg: 608x640 1 benign, 51.8ms\n",
      "Speed: 2.7ms preprocess, 51.8ms inference, 3.0ms postprocess per image at shape (1, 3, 640, 640)\n",
      " 67%|██████▋   | 159/239 [00:18<00:05, 13.82it/s]\n",
      "image 1/1 C:\\Users\\FrankW\\Desktop\\test\\Code_Monkeys\\yolov8\\dataset\\external_test_cropped\\imgs\\52A58D887E0E43C29155FA9348704EFA_3149553.jpg: 544x640 1 malignant, 50.0ms\n",
      "Speed: 2.5ms preprocess, 50.0ms inference, 1.5ms postprocess per image at shape (1, 3, 640, 640)\n",
      "\n"
     ]
    },
    {
     "name": "stdout",
     "output_type": "stream",
     "text": [
      "C:/Users/FrankW/Desktop/test/Code_Monkeys/yolov8/dataset/external_test_cropped/imgs\\4973CD2EEDC84BB491A8CBBC8FE98542_2551476.jpg\n",
      "1\n",
      "C:/Users/FrankW/Desktop/test/Code_Monkeys/yolov8/dataset/external_test_cropped/imgs\\5144E616DB694C0D84E19A0CC169ABAD_680377.jpg\n",
      "1\n",
      "C:/Users/FrankW/Desktop/test/Code_Monkeys/yolov8/dataset/external_test_cropped/imgs\\52A58D887E0E43C29155FA9348704EFA_3149553.jpg\n",
      "1\n"
     ]
    },
    {
     "name": "stderr",
     "output_type": "stream",
     "text": [
      "image 1/1 C:\\Users\\FrankW\\Desktop\\test\\Code_Monkeys\\yolov8\\dataset\\external_test_cropped\\imgs\\52A58D887E0E43C29155FA9348704EFA_31495531.jpg: 512x640 (no detections), 49.3ms\n",
      "Speed: 1.5ms preprocess, 49.3ms inference, 0.5ms postprocess per image at shape (1, 3, 640, 640)\n",
      " 67%|██████▋   | 161/239 [00:18<00:05, 14.04it/s]\n",
      "image 1/1 C:\\Users\\FrankW\\Desktop\\test\\Code_Monkeys\\yolov8\\dataset\\external_test_cropped\\imgs\\52A58D887E0E43C29155FA9348704EFA_3149558.jpg: 512x640 1 malignant, 48.5ms\n",
      "Speed: 1.5ms preprocess, 48.5ms inference, 2.0ms postprocess per image at shape (1, 3, 640, 640)\n",
      "\n",
      "image 1/1 C:\\Users\\FrankW\\Desktop\\test\\Code_Monkeys\\yolov8\\dataset\\external_test_cropped\\imgs\\52A58D887E0E43C29155FA9348704EFA_31495581.jpg: 512x640 1 malignant, 50.5ms\n",
      "Speed: 2.0ms preprocess, 50.5ms inference, 1.5ms postprocess per image at shape (1, 3, 640, 640)\n",
      " 68%|██████▊   | 163/239 [00:18<00:05, 14.17it/s]\n"
     ]
    },
    {
     "name": "stdout",
     "output_type": "stream",
     "text": [
      "C:/Users/FrankW/Desktop/test/Code_Monkeys/yolov8/dataset/external_test_cropped/imgs\\52A58D887E0E43C29155FA9348704EFA_31495531.jpg\n",
      "1\n",
      "C:/Users/FrankW/Desktop/test/Code_Monkeys/yolov8/dataset/external_test_cropped/imgs\\52A58D887E0E43C29155FA9348704EFA_3149558.jpg\n",
      "1\n",
      "C:/Users/FrankW/Desktop/test/Code_Monkeys/yolov8/dataset/external_test_cropped/imgs\\52A58D887E0E43C29155FA9348704EFA_31495581.jpg\n",
      "1\n"
     ]
    },
    {
     "name": "stderr",
     "output_type": "stream",
     "text": [
      "image 1/1 C:\\Users\\FrankW\\Desktop\\test\\Code_Monkeys\\yolov8\\dataset\\external_test_cropped\\imgs\\52A58D887E0E43C29155FA9348704EFA_3149564.jpg: 640x640 1 malignant, 54.0ms\n",
      "Speed: 4.5ms preprocess, 54.0ms inference, 1.0ms postprocess per image at shape (1, 3, 640, 640)\n",
      "\n",
      "image 1/1 C:\\Users\\FrankW\\Desktop\\test\\Code_Monkeys\\yolov8\\dataset\\external_test_cropped\\imgs\\52A58D887E0E43C29155FA9348704EFA_3149575.jpg: 576x640 1 malignant, 58.3ms\n",
      "Speed: 4.0ms preprocess, 58.3ms inference, 2.0ms postprocess per image at shape (1, 3, 640, 640)\n",
      " 69%|██████▉   | 165/239 [00:19<00:05, 13.21it/s]\n",
      "image 1/1 C:\\Users\\FrankW\\Desktop\\test\\Code_Monkeys\\yolov8\\dataset\\external_test_cropped\\imgs\\52A58D887E0E43C29155FA9348704EFA_3149582.jpg: 608x640 1 malignant, 50.5ms\n",
      "Speed: 4.2ms preprocess, 50.5ms inference, 1.5ms postprocess per image at shape (1, 3, 640, 640)\n",
      "\n"
     ]
    },
    {
     "name": "stdout",
     "output_type": "stream",
     "text": [
      "C:/Users/FrankW/Desktop/test/Code_Monkeys/yolov8/dataset/external_test_cropped/imgs\\52A58D887E0E43C29155FA9348704EFA_3149564.jpg\n",
      "1\n",
      "C:/Users/FrankW/Desktop/test/Code_Monkeys/yolov8/dataset/external_test_cropped/imgs\\52A58D887E0E43C29155FA9348704EFA_3149575.jpg\n",
      "1\n",
      "C:/Users/FrankW/Desktop/test/Code_Monkeys/yolov8/dataset/external_test_cropped/imgs\\52A58D887E0E43C29155FA9348704EFA_3149582.jpg\n",
      "1\n"
     ]
    },
    {
     "name": "stderr",
     "output_type": "stream",
     "text": [
      "image 1/1 C:\\Users\\FrankW\\Desktop\\test\\Code_Monkeys\\yolov8\\dataset\\external_test_cropped\\imgs\\52A58D887E0E43C29155FA9348704EFA_31495821.jpg: 608x640 1 malignant, 49.5ms\n",
      "Speed: 3.5ms preprocess, 49.5ms inference, 2.0ms postprocess per image at shape (1, 3, 640, 640)\n",
      " 70%|██████▉   | 167/239 [00:19<00:05, 13.02it/s]\n",
      "image 1/1 C:\\Users\\FrankW\\Desktop\\test\\Code_Monkeys\\yolov8\\dataset\\external_test_cropped\\imgs\\5859B584BCCA45B488F73686F0345FB4_1060363.jpg: 480x640 1 malignant, 42.5ms\n",
      "Speed: 2.0ms preprocess, 42.5ms inference, 1.0ms postprocess per image at shape (1, 3, 640, 640)\n",
      "\n",
      "image 1/1 C:\\Users\\FrankW\\Desktop\\test\\Code_Monkeys\\yolov8\\dataset\\external_test_cropped\\imgs\\5859B584BCCA45B488F73686F0345FB4_1060373.jpg: 416x640 1 malignant, 42.0ms\n",
      "Speed: 2.0ms preprocess, 42.0ms inference, 3.0ms postprocess per image at shape (1, 3, 640, 640)\n",
      " 71%|███████   | 169/239 [00:19<00:05, 13.25it/s]\n",
      "image 1/1 C:\\Users\\FrankW\\Desktop\\test\\Code_Monkeys\\yolov8\\dataset\\external_test_cropped\\imgs\\59364BCA6823473BB9D77F8AAE25EE4B_1119671.jpg: 384x640 1 malignant, 38.8ms\n"
     ]
    },
    {
     "name": "stdout",
     "output_type": "stream",
     "text": [
      "C:/Users/FrankW/Desktop/test/Code_Monkeys/yolov8/dataset/external_test_cropped/imgs\\52A58D887E0E43C29155FA9348704EFA_31495821.jpg\n",
      "1\n",
      "C:/Users/FrankW/Desktop/test/Code_Monkeys/yolov8/dataset/external_test_cropped/imgs\\5859B584BCCA45B488F73686F0345FB4_1060363.jpg\n",
      "1\n",
      "C:/Users/FrankW/Desktop/test/Code_Monkeys/yolov8/dataset/external_test_cropped/imgs\\5859B584BCCA45B488F73686F0345FB4_1060373.jpg\n",
      "1\n"
     ]
    },
    {
     "name": "stderr",
     "output_type": "stream",
     "text": [
      "Speed: 2.0ms preprocess, 38.8ms inference, 3.0ms postprocess per image at shape (1, 3, 640, 640)\n",
      "\n",
      "image 1/1 C:\\Users\\FrankW\\Desktop\\test\\Code_Monkeys\\yolov8\\dataset\\external_test_cropped\\imgs\\59364BCA6823473BB9D77F8AAE25EE4B_1119672.jpg: 448x640 2 malignants, 43.5ms\n",
      "Speed: 2.0ms preprocess, 43.5ms inference, 3.0ms postprocess per image at shape (1, 3, 640, 640)\n",
      " 72%|███████▏  | 171/239 [00:19<00:04, 13.72it/s]\n",
      "image 1/1 C:\\Users\\FrankW\\Desktop\\test\\Code_Monkeys\\yolov8\\dataset\\external_test_cropped\\imgs\\59364BCA6823473BB9D77F8AAE25EE4B_1119673.jpg: 480x640 1 malignant, 44.7ms\n",
      "Speed: 1.0ms preprocess, 44.7ms inference, 1.0ms postprocess per image at shape (1, 3, 640, 640)\n",
      "\n",
      "image 1/1 C:\\Users\\FrankW\\Desktop\\test\\Code_Monkeys\\yolov8\\dataset\\external_test_cropped\\imgs\\59364BCA6823473BB9D77F8AAE25EE4B_1119674.jpg: 416x640 1 malignant, 42.3ms\n"
     ]
    },
    {
     "name": "stdout",
     "output_type": "stream",
     "text": [
      "C:/Users/FrankW/Desktop/test/Code_Monkeys/yolov8/dataset/external_test_cropped/imgs\\59364BCA6823473BB9D77F8AAE25EE4B_1119671.jpg\n",
      "1\n",
      "C:/Users/FrankW/Desktop/test/Code_Monkeys/yolov8/dataset/external_test_cropped/imgs\\59364BCA6823473BB9D77F8AAE25EE4B_1119672.jpg\n",
      "1\n",
      "C:/Users/FrankW/Desktop/test/Code_Monkeys/yolov8/dataset/external_test_cropped/imgs\\59364BCA6823473BB9D77F8AAE25EE4B_1119673.jpg\n",
      "1\n"
     ]
    },
    {
     "name": "stderr",
     "output_type": "stream",
     "text": [
      "Speed: 1.0ms preprocess, 42.3ms inference, 2.0ms postprocess per image at shape (1, 3, 640, 640)\n",
      " 72%|███████▏  | 173/239 [00:19<00:04, 13.95it/s]\n",
      "image 1/1 C:\\Users\\FrankW\\Desktop\\test\\Code_Monkeys\\yolov8\\dataset\\external_test_cropped\\imgs\\61CEB2DFE7614B8490472DB85266EAC2_7159639.jpg: 544x640 1 benign, 48.6ms\n",
      "Speed: 3.0ms preprocess, 48.6ms inference, 1.0ms postprocess per image at shape (1, 3, 640, 640)\n",
      "\n",
      "image 1/1 C:\\Users\\FrankW\\Desktop\\test\\Code_Monkeys\\yolov8\\dataset\\external_test_cropped\\imgs\\61CEB2DFE7614B8490472DB85266EAC2_7159642.jpg: 480x640 1 benign, 44.0ms\n",
      "Speed: 1.7ms preprocess, 44.0ms inference, 2.0ms postprocess per image at shape (1, 3, 640, 640)\n",
      " 73%|███████▎  | 175/239 [00:19<00:04, 14.23it/s]\n",
      "image 1/1 C:\\Users\\FrankW\\Desktop\\test\\Code_Monkeys\\yolov8\\dataset\\external_test_cropped\\imgs\\61CEB2DFE7614B8490472DB85266EAC2_7159854.jpg: 608x640 1 benign, 51.0ms\n"
     ]
    },
    {
     "name": "stdout",
     "output_type": "stream",
     "text": [
      "C:/Users/FrankW/Desktop/test/Code_Monkeys/yolov8/dataset/external_test_cropped/imgs\\59364BCA6823473BB9D77F8AAE25EE4B_1119674.jpg\n",
      "1\n",
      "C:/Users/FrankW/Desktop/test/Code_Monkeys/yolov8/dataset/external_test_cropped/imgs\\61CEB2DFE7614B8490472DB85266EAC2_7159639.jpg\n",
      "0\n",
      "C:/Users/FrankW/Desktop/test/Code_Monkeys/yolov8/dataset/external_test_cropped/imgs\\61CEB2DFE7614B8490472DB85266EAC2_7159642.jpg\n",
      "0\n"
     ]
    },
    {
     "name": "stderr",
     "output_type": "stream",
     "text": [
      "Speed: 5.0ms preprocess, 51.0ms inference, 1.5ms postprocess per image at shape (1, 3, 640, 640)\n",
      "\n",
      "image 1/1 C:\\Users\\FrankW\\Desktop\\test\\Code_Monkeys\\yolov8\\dataset\\external_test_cropped\\imgs\\635D611A61474230A4A88A8ADCF8A37B_2606866.jpg: 416x640 1 malignant, 42.7ms\n",
      "Speed: 1.0ms preprocess, 42.7ms inference, 2.0ms postprocess per image at shape (1, 3, 640, 640)\n",
      " 74%|███████▍  | 177/239 [00:19<00:04, 14.49it/s]\n",
      "image 1/1 C:\\Users\\FrankW\\Desktop\\test\\Code_Monkeys\\yolov8\\dataset\\external_test_cropped\\imgs\\641730334B40464983D87BACBE1B02EC_855787 (2).jpg: 640x576 1 malignant, 67.1ms\n",
      "Speed: 4.0ms preprocess, 67.1ms inference, 2.0ms postprocess per image at shape (1, 3, 640, 640)\n",
      "\n"
     ]
    },
    {
     "name": "stdout",
     "output_type": "stream",
     "text": [
      "C:/Users/FrankW/Desktop/test/Code_Monkeys/yolov8/dataset/external_test_cropped/imgs\\61CEB2DFE7614B8490472DB85266EAC2_7159854.jpg\n",
      "0\n",
      "C:/Users/FrankW/Desktop/test/Code_Monkeys/yolov8/dataset/external_test_cropped/imgs\\635D611A61474230A4A88A8ADCF8A37B_2606866.jpg\n",
      "1\n",
      "C:/Users/FrankW/Desktop/test/Code_Monkeys/yolov8/dataset/external_test_cropped/imgs\\641730334B40464983D87BACBE1B02EC_855787 (2).jpg\n",
      "1\n"
     ]
    },
    {
     "name": "stderr",
     "output_type": "stream",
     "text": [
      "image 1/1 C:\\Users\\FrankW\\Desktop\\test\\Code_Monkeys\\yolov8\\dataset\\external_test_cropped\\imgs\\641730334B40464983D87BACBE1B02EC_855787 (3).jpg: 640x448 1 benign, 1 malignant, 586.3ms\n",
      "Speed: 3.6ms preprocess, 586.3ms inference, 2.0ms postprocess per image at shape (1, 3, 640, 640)\n",
      " 75%|███████▍  | 179/239 [00:20<00:09,  6.48it/s]\n",
      "image 1/1 C:\\Users\\FrankW\\Desktop\\test\\Code_Monkeys\\yolov8\\dataset\\external_test_cropped\\imgs\\641730334B40464983D87BACBE1B02EC_855800 (2).jpg: 640x640 (no detections), 52.4ms\n",
      "Speed: 3.0ms preprocess, 52.4ms inference, 0.5ms postprocess per image at shape (1, 3, 640, 640)\n",
      "\n",
      "image 1/1 C:\\Users\\FrankW\\Desktop\\test\\Code_Monkeys\\yolov8\\dataset\\external_test_cropped\\imgs\\641730334B40464983D87BACBE1B02EC_855800 (3).jpg: 640x544 (no detections), 69.1ms\n",
      "Speed: 4.3ms preprocess, 69.1ms inference, 1.0ms postprocess per image at shape (1, 3, 640, 640)\n",
      " 76%|███████▌  | 181/239 [00:20<00:07,  7.62it/s]\n"
     ]
    },
    {
     "name": "stdout",
     "output_type": "stream",
     "text": [
      "C:/Users/FrankW/Desktop/test/Code_Monkeys/yolov8/dataset/external_test_cropped/imgs\\641730334B40464983D87BACBE1B02EC_855787 (3).jpg\n",
      "1\n",
      "C:/Users/FrankW/Desktop/test/Code_Monkeys/yolov8/dataset/external_test_cropped/imgs\\641730334B40464983D87BACBE1B02EC_855800 (2).jpg\n",
      "1\n",
      "C:/Users/FrankW/Desktop/test/Code_Monkeys/yolov8/dataset/external_test_cropped/imgs\\641730334B40464983D87BACBE1B02EC_855800 (3).jpg\n",
      "1\n"
     ]
    },
    {
     "name": "stderr",
     "output_type": "stream",
     "text": [
      "image 1/1 C:\\Users\\FrankW\\Desktop\\test\\Code_Monkeys\\yolov8\\dataset\\external_test_cropped\\imgs\\6DBDDC00007646BC94062A13BDDDC921_3073465.jpg: 512x640 2 malignants, 48.7ms\n",
      "Speed: 2.5ms preprocess, 48.7ms inference, 1.0ms postprocess per image at shape (1, 3, 640, 640)\n",
      "\n",
      "image 1/1 C:\\Users\\FrankW\\Desktop\\test\\Code_Monkeys\\yolov8\\dataset\\external_test_cropped\\imgs\\710850E78E534525AFDFB8C8F9FC5466_25558153.jpg: 640x640 (no detections), 60.9ms\n",
      "Speed: 6.2ms preprocess, 60.9ms inference, 0.5ms postprocess per image at shape (1, 3, 640, 640)\n",
      " 77%|███████▋  | 183/239 [00:20<00:06,  8.73it/s]\n",
      "image 1/1 C:\\Users\\FrankW\\Desktop\\test\\Code_Monkeys\\yolov8\\dataset\\external_test_cropped\\imgs\\7C1638D465054C4384F07B6E2607DAFE_5821350.jpg: 576x640 1 benign, 75.1ms\n"
     ]
    },
    {
     "name": "stdout",
     "output_type": "stream",
     "text": [
      "C:/Users/FrankW/Desktop/test/Code_Monkeys/yolov8/dataset/external_test_cropped/imgs\\6DBDDC00007646BC94062A13BDDDC921_3073465.jpg\n",
      "1\n",
      "C:/Users/FrankW/Desktop/test/Code_Monkeys/yolov8/dataset/external_test_cropped/imgs\\710850E78E534525AFDFB8C8F9FC5466_25558153.jpg\n",
      "1\n"
     ]
    },
    {
     "name": "stderr",
     "output_type": "stream",
     "text": [
      "Speed: 3.0ms preprocess, 75.1ms inference, 3.0ms postprocess per image at shape (1, 3, 640, 640)\n",
      "\n"
     ]
    },
    {
     "name": "stdout",
     "output_type": "stream",
     "text": [
      "C:/Users/FrankW/Desktop/test/Code_Monkeys/yolov8/dataset/external_test_cropped/imgs\\7C1638D465054C4384F07B6E2607DAFE_5821350.jpg\n",
      "0\n"
     ]
    },
    {
     "name": "stderr",
     "output_type": "stream",
     "text": [
      "image 1/1 C:\\Users\\FrankW\\Desktop\\test\\Code_Monkeys\\yolov8\\dataset\\external_test_cropped\\imgs\\7C1638D465054C4384F07B6E2607DAFE_5821355.jpg: 544x640 1 benign, 172.4ms\n",
      "Speed: 4.6ms preprocess, 172.4ms inference, 8.4ms postprocess per image at shape (1, 3, 640, 640)\n",
      " 77%|███████▋  | 185/239 [00:21<00:07,  7.68it/s]\n",
      "image 1/1 C:\\Users\\FrankW\\Desktop\\test\\Code_Monkeys\\yolov8\\dataset\\external_test_cropped\\imgs\\7C1638D465054C4384F07B6E2607DAFE_5821366.jpg: 544x640 1 benign, 70.7ms\n",
      "Speed: 4.0ms preprocess, 70.7ms inference, 2.0ms postprocess per image at shape (1, 3, 640, 640)\n",
      "\n"
     ]
    },
    {
     "name": "stdout",
     "output_type": "stream",
     "text": [
      "C:/Users/FrankW/Desktop/test/Code_Monkeys/yolov8/dataset/external_test_cropped/imgs\\7C1638D465054C4384F07B6E2607DAFE_5821355.jpg\n",
      "0\n",
      "C:/Users/FrankW/Desktop/test/Code_Monkeys/yolov8/dataset/external_test_cropped/imgs\\7C1638D465054C4384F07B6E2607DAFE_5821366.jpg\n",
      "0\n"
     ]
    },
    {
     "name": "stderr",
     "output_type": "stream",
     "text": [
      "image 1/1 C:\\Users\\FrankW\\Desktop\\test\\Code_Monkeys\\yolov8\\dataset\\external_test_cropped\\imgs\\7C1638D465054C4384F07B6E2607DAFE_5821410.jpg: 544x640 1 benign, 59.3ms\n",
      "Speed: 4.0ms preprocess, 59.3ms inference, 3.5ms postprocess per image at shape (1, 3, 640, 640)\n",
      " 78%|███████▊  | 187/239 [00:21<00:06,  8.25it/s]\n",
      "image 1/1 C:\\Users\\FrankW\\Desktop\\test\\Code_Monkeys\\yolov8\\dataset\\external_test_cropped\\imgs\\7E6A464380CB49C7A50051D02AE216A5_857740.jpg: 512x640 2 malignants, 52.5ms\n",
      "Speed: 2.5ms preprocess, 52.5ms inference, 3.5ms postprocess per image at shape (1, 3, 640, 640)\n",
      "\n",
      "image 1/1 C:\\Users\\FrankW\\Desktop\\test\\Code_Monkeys\\yolov8\\dataset\\external_test_cropped\\imgs\\7E6A464380CB49C7A50051D02AE216A5_857753.jpg: 512x640 1 malignant, 49.1ms\n",
      "Speed: 2.0ms preprocess, 49.1ms inference, 2.0ms postprocess per image at shape (1, 3, 640, 640)\n",
      " 79%|███████▉  | 189/239 [00:21<00:05,  9.00it/s]"
     ]
    },
    {
     "name": "stdout",
     "output_type": "stream",
     "text": [
      "C:/Users/FrankW/Desktop/test/Code_Monkeys/yolov8/dataset/external_test_cropped/imgs\\7C1638D465054C4384F07B6E2607DAFE_5821410.jpg\n",
      "0\n",
      "C:/Users/FrankW/Desktop/test/Code_Monkeys/yolov8/dataset/external_test_cropped/imgs\\7E6A464380CB49C7A50051D02AE216A5_857740.jpg\n",
      "1\n",
      "C:/Users/FrankW/Desktop/test/Code_Monkeys/yolov8/dataset/external_test_cropped/imgs\\7E6A464380CB49C7A50051D02AE216A5_857753.jpg\n",
      "1\n"
     ]
    },
    {
     "name": "stderr",
     "output_type": "stream",
     "text": [
      "\n",
      "image 1/1 C:\\Users\\FrankW\\Desktop\\test\\Code_Monkeys\\yolov8\\dataset\\external_test_cropped\\imgs\\7E6A464380CB49C7A50051D02AE216A5_857774.jpg: 512x640 1 malignant, 49.7ms\n",
      "Speed: 2.0ms preprocess, 49.7ms inference, 2.0ms postprocess per image at shape (1, 3, 640, 640)\n",
      "\n",
      "image 1/1 C:\\Users\\FrankW\\Desktop\\test\\Code_Monkeys\\yolov8\\dataset\\external_test_cropped\\imgs\\83190846DCAA4C56A171725CDE41F7E7_2463374.jpg: 640x608 1 malignant, 50.0ms\n",
      "Speed: 3.0ms preprocess, 50.0ms inference, 2.0ms postprocess per image at shape (1, 3, 640, 640)\n",
      " 80%|███████▉  | 191/239 [00:21<00:04, 10.00it/s]\n",
      "image 1/1 C:\\Users\\FrankW\\Desktop\\test\\Code_Monkeys\\yolov8\\dataset\\external_test_cropped\\imgs\\83190846DCAA4C56A171725CDE41F7E7_2463376.jpg: 640x608 1 malignant, 54.9ms\n",
      "Speed: 3.0ms preprocess, 54.9ms inference, 1.4ms postprocess per image at shape (1, 3, 640, 640)\n",
      "\n"
     ]
    },
    {
     "name": "stdout",
     "output_type": "stream",
     "text": [
      "C:/Users/FrankW/Desktop/test/Code_Monkeys/yolov8/dataset/external_test_cropped/imgs\\7E6A464380CB49C7A50051D02AE216A5_857774.jpg\n",
      "1\n",
      "C:/Users/FrankW/Desktop/test/Code_Monkeys/yolov8/dataset/external_test_cropped/imgs\\83190846DCAA4C56A171725CDE41F7E7_2463374.jpg\n",
      "1\n",
      "C:/Users/FrankW/Desktop/test/Code_Monkeys/yolov8/dataset/external_test_cropped/imgs\\83190846DCAA4C56A171725CDE41F7E7_2463376.jpg\n",
      "1\n"
     ]
    },
    {
     "name": "stderr",
     "output_type": "stream",
     "text": [
      "image 1/1 C:\\Users\\FrankW\\Desktop\\test\\Code_Monkeys\\yolov8\\dataset\\external_test_cropped\\imgs\\83190846DCAA4C56A171725CDE41F7E7_2463380.jpg: 640x608 1 malignant, 55.3ms\n",
      "Speed: 3.4ms preprocess, 55.3ms inference, 2.0ms postprocess per image at shape (1, 3, 640, 640)\n",
      " 81%|████████  | 193/239 [00:21<00:04, 11.00it/s]\n",
      "image 1/1 C:\\Users\\FrankW\\Desktop\\test\\Code_Monkeys\\yolov8\\dataset\\external_test_cropped\\imgs\\8490F82E28A24E99AA5ADFF343F90DB3_2624289.jpg: 512x640 1 malignant, 50.3ms\n",
      "Speed: 2.6ms preprocess, 50.3ms inference, 2.0ms postprocess per image at shape (1, 3, 640, 640)\n",
      "\n",
      "image 1/1 C:\\Users\\FrankW\\Desktop\\test\\Code_Monkeys\\yolov8\\dataset\\external_test_cropped\\imgs\\8490F82E28A24E99AA5ADFF343F90DB3_2624294.jpg: 512x640 1 benign, 1 malignant, 47.7ms\n",
      "Speed: 3.0ms preprocess, 47.7ms inference, 2.0ms postprocess per image at shape (1, 3, 640, 640)\n",
      " 82%|████████▏ | 195/239 [00:22<00:03, 11.69it/s]\n"
     ]
    },
    {
     "name": "stdout",
     "output_type": "stream",
     "text": [
      "C:/Users/FrankW/Desktop/test/Code_Monkeys/yolov8/dataset/external_test_cropped/imgs\\83190846DCAA4C56A171725CDE41F7E7_2463380.jpg\n",
      "1\n",
      "C:/Users/FrankW/Desktop/test/Code_Monkeys/yolov8/dataset/external_test_cropped/imgs\\8490F82E28A24E99AA5ADFF343F90DB3_2624289.jpg\n",
      "1\n",
      "C:/Users/FrankW/Desktop/test/Code_Monkeys/yolov8/dataset/external_test_cropped/imgs\\8490F82E28A24E99AA5ADFF343F90DB3_2624294.jpg\n",
      "1\n"
     ]
    },
    {
     "name": "stderr",
     "output_type": "stream",
     "text": [
      "image 1/1 C:\\Users\\FrankW\\Desktop\\test\\Code_Monkeys\\yolov8\\dataset\\external_test_cropped\\imgs\\8490F82E28A24E99AA5ADFF343F90DB3_2624328.jpg: 608x640 2 malignants, 51.0ms\n",
      "Speed: 4.0ms preprocess, 51.0ms inference, 2.8ms postprocess per image at shape (1, 3, 640, 640)\n",
      "\n",
      "image 1/1 C:\\Users\\FrankW\\Desktop\\test\\Code_Monkeys\\yolov8\\dataset\\external_test_cropped\\imgs\\8490F82E28A24E99AA5ADFF343F90DB3_2624334.jpg: 640x640 1 malignant, 52.6ms\n",
      "Speed: 5.0ms preprocess, 52.6ms inference, 2.0ms postprocess per image at shape (1, 3, 640, 640)\n",
      " 82%|████████▏ | 197/239 [00:22<00:03, 12.13it/s]\n",
      "image 1/1 C:\\Users\\FrankW\\Desktop\\test\\Code_Monkeys\\yolov8\\dataset\\external_test_cropped\\imgs\\8490F82E28A24E99AA5ADFF343F90DB3_2624335.jpg: 608x640 1 malignant, 51.6ms\n",
      "Speed: 4.0ms preprocess, 51.6ms inference, 2.0ms postprocess per image at shape (1, 3, 640, 640)\n",
      "\n"
     ]
    },
    {
     "name": "stdout",
     "output_type": "stream",
     "text": [
      "C:/Users/FrankW/Desktop/test/Code_Monkeys/yolov8/dataset/external_test_cropped/imgs\\8490F82E28A24E99AA5ADFF343F90DB3_2624328.jpg\n",
      "1\n",
      "C:/Users/FrankW/Desktop/test/Code_Monkeys/yolov8/dataset/external_test_cropped/imgs\\8490F82E28A24E99AA5ADFF343F90DB3_2624334.jpg\n",
      "1\n",
      "C:/Users/FrankW/Desktop/test/Code_Monkeys/yolov8/dataset/external_test_cropped/imgs\\8490F82E28A24E99AA5ADFF343F90DB3_2624335.jpg\n",
      "1\n"
     ]
    },
    {
     "name": "stderr",
     "output_type": "stream",
     "text": [
      "image 1/1 C:\\Users\\FrankW\\Desktop\\test\\Code_Monkeys\\yolov8\\dataset\\external_test_cropped\\imgs\\9C29FBF3D5884969BB7136ED6EF150E1_2933567.jpg: 480x640 1 malignant, 49.1ms\n",
      "Speed: 2.0ms preprocess, 49.1ms inference, 3.0ms postprocess per image at shape (1, 3, 640, 640)\n",
      " 83%|████████▎ | 199/239 [00:22<00:03, 12.57it/s]\n",
      "image 1/1 C:\\Users\\FrankW\\Desktop\\test\\Code_Monkeys\\yolov8\\dataset\\external_test_cropped\\imgs\\9C29FBF3D5884969BB7136ED6EF150E1_2933584.jpg: 416x640 (no detections), 46.9ms\n",
      "Speed: 3.0ms preprocess, 46.9ms inference, 1.0ms postprocess per image at shape (1, 3, 640, 640)\n",
      "\n",
      "image 1/1 C:\\Users\\FrankW\\Desktop\\test\\Code_Monkeys\\yolov8\\dataset\\external_test_cropped\\imgs\\9DA65CC58C9E44759AE8E9B844087FED_2756082.jpg: 512x640 1 malignant, 52.3ms\n",
      "Speed: 2.0ms preprocess, 52.3ms inference, 2.0ms postprocess per image at shape (1, 3, 640, 640)\n",
      " 84%|████████▍ | 201/239 [00:22<00:02, 13.16it/s]\n"
     ]
    },
    {
     "name": "stdout",
     "output_type": "stream",
     "text": [
      "C:/Users/FrankW/Desktop/test/Code_Monkeys/yolov8/dataset/external_test_cropped/imgs\\9C29FBF3D5884969BB7136ED6EF150E1_2933567.jpg\n",
      "1\n",
      "C:/Users/FrankW/Desktop/test/Code_Monkeys/yolov8/dataset/external_test_cropped/imgs\\9C29FBF3D5884969BB7136ED6EF150E1_2933584.jpg\n",
      "1\n",
      "C:/Users/FrankW/Desktop/test/Code_Monkeys/yolov8/dataset/external_test_cropped/imgs\\9DA65CC58C9E44759AE8E9B844087FED_2756082.jpg\n",
      "1\n"
     ]
    },
    {
     "name": "stderr",
     "output_type": "stream",
     "text": [
      "image 1/1 C:\\Users\\FrankW\\Desktop\\test\\Code_Monkeys\\yolov8\\dataset\\external_test_cropped\\imgs\\A4C7111C3D0947C4AA6039500ACA630D_3137207.jpg: 512x640 1 malignant, 49.0ms\n",
      "Speed: 1.0ms preprocess, 49.0ms inference, 3.0ms postprocess per image at shape (1, 3, 640, 640)\n",
      "\n",
      "image 1/1 C:\\Users\\FrankW\\Desktop\\test\\Code_Monkeys\\yolov8\\dataset\\external_test_cropped\\imgs\\A4C7111C3D0947C4AA6039500ACA630D_3137220.jpg: 640x608 1 malignant, 51.6ms\n",
      "Speed: 4.0ms preprocess, 51.6ms inference, 2.0ms postprocess per image at shape (1, 3, 640, 640)\n",
      " 85%|████████▍ | 203/239 [00:22<00:02, 13.57it/s]\n",
      "image 1/1 C:\\Users\\FrankW\\Desktop\\test\\Code_Monkeys\\yolov8\\dataset\\external_test_cropped\\imgs\\A4C8B67E9F4A4CE3B68F7CFEE4ABF621_2605661.jpg: 640x640 1 malignant, 52.0ms\n",
      "Speed: 4.0ms preprocess, 52.0ms inference, 2.0ms postprocess per image at shape (1, 3, 640, 640)\n",
      "\n"
     ]
    },
    {
     "name": "stdout",
     "output_type": "stream",
     "text": [
      "C:/Users/FrankW/Desktop/test/Code_Monkeys/yolov8/dataset/external_test_cropped/imgs\\A4C7111C3D0947C4AA6039500ACA630D_3137207.jpg\n",
      "1\n",
      "C:/Users/FrankW/Desktop/test/Code_Monkeys/yolov8/dataset/external_test_cropped/imgs\\A4C7111C3D0947C4AA6039500ACA630D_3137220.jpg\n",
      "1\n",
      "C:/Users/FrankW/Desktop/test/Code_Monkeys/yolov8/dataset/external_test_cropped/imgs\\A4C8B67E9F4A4CE3B68F7CFEE4ABF621_2605661.jpg\n",
      "1\n"
     ]
    },
    {
     "name": "stderr",
     "output_type": "stream",
     "text": [
      "image 1/1 C:\\Users\\FrankW\\Desktop\\test\\Code_Monkeys\\yolov8\\dataset\\external_test_cropped\\imgs\\A5BE28CD4CF84BC79A088432D19081EC_1437585.jpg: 448x640 1 malignant, 45.0ms\n",
      "Speed: 2.0ms preprocess, 45.0ms inference, 2.0ms postprocess per image at shape (1, 3, 640, 640)\n",
      " 86%|████████▌ | 205/239 [00:22<00:02, 13.71it/s]\n",
      "image 1/1 C:\\Users\\FrankW\\Desktop\\test\\Code_Monkeys\\yolov8\\dataset\\external_test_cropped\\imgs\\A5BE28CD4CF84BC79A088432D19081EC_1437587.jpg: 384x640 1 malignant, 43.9ms\n",
      "Speed: 1.0ms preprocess, 43.9ms inference, 2.0ms postprocess per image at shape (1, 3, 640, 640)\n",
      "\n",
      "image 1/1 C:\\Users\\FrankW\\Desktop\\test\\Code_Monkeys\\yolov8\\dataset\\external_test_cropped\\imgs\\A5BE28CD4CF84BC79A088432D19081EC_1437590.jpg: 384x640 1 malignant, 40.0ms\n",
      "Speed: 2.0ms preprocess, 40.0ms inference, 3.0ms postprocess per image at shape (1, 3, 640, 640)\n",
      " 87%|████████▋ | 207/239 [00:22<00:02, 14.00it/s]\n"
     ]
    },
    {
     "name": "stdout",
     "output_type": "stream",
     "text": [
      "C:/Users/FrankW/Desktop/test/Code_Monkeys/yolov8/dataset/external_test_cropped/imgs\\A5BE28CD4CF84BC79A088432D19081EC_1437585.jpg\n",
      "1\n",
      "C:/Users/FrankW/Desktop/test/Code_Monkeys/yolov8/dataset/external_test_cropped/imgs\\A5BE28CD4CF84BC79A088432D19081EC_1437587.jpg\n",
      "1\n",
      "C:/Users/FrankW/Desktop/test/Code_Monkeys/yolov8/dataset/external_test_cropped/imgs\\A5BE28CD4CF84BC79A088432D19081EC_1437590.jpg\n",
      "1\n"
     ]
    },
    {
     "name": "stderr",
     "output_type": "stream",
     "text": [
      "image 1/1 C:\\Users\\FrankW\\Desktop\\test\\Code_Monkeys\\yolov8\\dataset\\external_test_cropped\\imgs\\B1EEDC0FCCAA4679BC9DBA6E2BE75FD0_7156625.jpg: 448x640 1 benign, 61.6ms\n",
      "Speed: 1.0ms preprocess, 61.6ms inference, 2.0ms postprocess per image at shape (1, 3, 640, 640)\n",
      "\n",
      "image 1/1 C:\\Users\\FrankW\\Desktop\\test\\Code_Monkeys\\yolov8\\dataset\\external_test_cropped\\imgs\\B1EEDC0FCCAA4679BC9DBA6E2BE75FD0_7156627.jpg: 416x640 1 benign, 41.3ms\n",
      "Speed: 2.0ms preprocess, 41.3ms inference, 2.0ms postprocess per image at shape (1, 3, 640, 640)\n",
      " 87%|████████▋ | 209/239 [00:23<00:02, 13.28it/s]\n",
      "image 1/1 C:\\Users\\FrankW\\Desktop\\test\\Code_Monkeys\\yolov8\\dataset\\external_test_cropped\\imgs\\B1EEDC0FCCAA4679BC9DBA6E2BE75FD0_7156636.jpg: 480x640 1 benign, 42.0ms\n",
      "Speed: 2.0ms preprocess, 42.0ms inference, 1.0ms postprocess per image at shape (1, 3, 640, 640)\n",
      "\n"
     ]
    },
    {
     "name": "stdout",
     "output_type": "stream",
     "text": [
      "C:/Users/FrankW/Desktop/test/Code_Monkeys/yolov8/dataset/external_test_cropped/imgs\\B1EEDC0FCCAA4679BC9DBA6E2BE75FD0_7156625.jpg\n",
      "0\n",
      "C:/Users/FrankW/Desktop/test/Code_Monkeys/yolov8/dataset/external_test_cropped/imgs\\B1EEDC0FCCAA4679BC9DBA6E2BE75FD0_7156627.jpg\n",
      "0\n",
      "C:/Users/FrankW/Desktop/test/Code_Monkeys/yolov8/dataset/external_test_cropped/imgs\\B1EEDC0FCCAA4679BC9DBA6E2BE75FD0_7156636.jpg\n",
      "0\n"
     ]
    },
    {
     "name": "stderr",
     "output_type": "stream",
     "text": [
      "image 1/1 C:\\Users\\FrankW\\Desktop\\test\\Code_Monkeys\\yolov8\\dataset\\external_test_cropped\\imgs\\B1EEDC0FCCAA4679BC9DBA6E2BE75FD0_7156638.jpg: 416x640 1 benign, 47.3ms\n",
      "Speed: 2.0ms preprocess, 47.3ms inference, 1.5ms postprocess per image at shape (1, 3, 640, 640)\n",
      " 88%|████████▊ | 211/239 [00:23<00:02, 13.05it/s]\n",
      "image 1/1 C:\\Users\\FrankW\\Desktop\\test\\Code_Monkeys\\yolov8\\dataset\\external_test_cropped\\imgs\\B1EEDC0FCCAA4679BC9DBA6E2BE75FD0_7156641.jpg: 416x640 1 benign, 42.5ms\n",
      "Speed: 2.0ms preprocess, 42.5ms inference, 1.5ms postprocess per image at shape (1, 3, 640, 640)\n",
      "\n",
      "image 1/1 C:\\Users\\FrankW\\Desktop\\test\\Code_Monkeys\\yolov8\\dataset\\external_test_cropped\\imgs\\B1EEDC0FCCAA4679BC9DBA6E2BE75FD0_7156732.jpg: 480x640 1 benign, 46.0ms\n",
      "Speed: 1.5ms preprocess, 46.0ms inference, 2.0ms postprocess per image at shape (1, 3, 640, 640)\n",
      " 89%|████████▉ | 213/239 [00:23<00:02, 12.79it/s]\n"
     ]
    },
    {
     "name": "stdout",
     "output_type": "stream",
     "text": [
      "C:/Users/FrankW/Desktop/test/Code_Monkeys/yolov8/dataset/external_test_cropped/imgs\\B1EEDC0FCCAA4679BC9DBA6E2BE75FD0_7156638.jpg\n",
      "0\n",
      "C:/Users/FrankW/Desktop/test/Code_Monkeys/yolov8/dataset/external_test_cropped/imgs\\B1EEDC0FCCAA4679BC9DBA6E2BE75FD0_7156641.jpg\n",
      "0\n",
      "C:/Users/FrankW/Desktop/test/Code_Monkeys/yolov8/dataset/external_test_cropped/imgs\\B1EEDC0FCCAA4679BC9DBA6E2BE75FD0_7156732.jpg\n",
      "0\n"
     ]
    },
    {
     "name": "stderr",
     "output_type": "stream",
     "text": [
      "image 1/1 C:\\Users\\FrankW\\Desktop\\test\\Code_Monkeys\\yolov8\\dataset\\external_test_cropped\\imgs\\B1EEDC0FCCAA4679BC9DBA6E2BE75FD0_7156735.jpg: 448x640 1 benign, 44.9ms\n",
      "Speed: 2.0ms preprocess, 44.9ms inference, 2.0ms postprocess per image at shape (1, 3, 640, 640)\n",
      "\n",
      "image 1/1 C:\\Users\\FrankW\\Desktop\\test\\Code_Monkeys\\yolov8\\dataset\\external_test_cropped\\imgs\\B1EEDC0FCCAA4679BC9DBA6E2BE75FD0_7156786.jpg: 512x640 1 benign, 49.9ms\n",
      "Speed: 2.0ms preprocess, 49.9ms inference, 2.0ms postprocess per image at shape (1, 3, 640, 640)\n",
      " 90%|████████▉ | 215/239 [00:23<00:01, 12.35it/s]\n",
      "image 1/1 C:\\Users\\FrankW\\Desktop\\test\\Code_Monkeys\\yolov8\\dataset\\external_test_cropped\\imgs\\B411B939FABC4118A9A445CEAA6EC87B_3061561.jpg: 512x640 1 malignant, 51.5ms\n",
      "Speed: 2.0ms preprocess, 51.5ms inference, 3.1ms postprocess per image at shape (1, 3, 640, 640)\n",
      "\n"
     ]
    },
    {
     "name": "stdout",
     "output_type": "stream",
     "text": [
      "C:/Users/FrankW/Desktop/test/Code_Monkeys/yolov8/dataset/external_test_cropped/imgs\\B1EEDC0FCCAA4679BC9DBA6E2BE75FD0_7156735.jpg\n",
      "0\n",
      "C:/Users/FrankW/Desktop/test/Code_Monkeys/yolov8/dataset/external_test_cropped/imgs\\B1EEDC0FCCAA4679BC9DBA6E2BE75FD0_7156786.jpg\n",
      "0\n",
      "C:/Users/FrankW/Desktop/test/Code_Monkeys/yolov8/dataset/external_test_cropped/imgs\\B411B939FABC4118A9A445CEAA6EC87B_3061561.jpg\n",
      "1\n"
     ]
    },
    {
     "name": "stderr",
     "output_type": "stream",
     "text": [
      "image 1/1 C:\\Users\\FrankW\\Desktop\\test\\Code_Monkeys\\yolov8\\dataset\\external_test_cropped\\imgs\\B411B939FABC4118A9A445CEAA6EC87B_3061585.jpg: 544x640 1 malignant, 53.3ms\n",
      "Speed: 3.0ms preprocess, 53.3ms inference, 2.5ms postprocess per image at shape (1, 3, 640, 640)\n",
      " 91%|█████████ | 217/239 [00:23<00:01, 12.38it/s]\n",
      "image 1/1 C:\\Users\\FrankW\\Desktop\\test\\Code_Monkeys\\yolov8\\dataset\\external_test_cropped\\imgs\\B411B939FABC4118A9A445CEAA6EC87B_3061587.jpg: 640x640 1 malignant, 56.5ms\n",
      "Speed: 5.0ms preprocess, 56.5ms inference, 2.0ms postprocess per image at shape (1, 3, 640, 640)\n",
      "\n",
      "image 1/1 C:\\Users\\FrankW\\Desktop\\test\\Code_Monkeys\\yolov8\\dataset\\external_test_cropped\\imgs\\B411B939FABC4118A9A445CEAA6EC87B_3061648.jpg: 640x640 1 malignant, 54.2ms\n",
      "Speed: 4.0ms preprocess, 54.2ms inference, 2.5ms postprocess per image at shape (1, 3, 640, 640)\n",
      " 92%|█████████▏| 219/239 [00:23<00:01, 12.18it/s]"
     ]
    },
    {
     "name": "stdout",
     "output_type": "stream",
     "text": [
      "C:/Users/FrankW/Desktop/test/Code_Monkeys/yolov8/dataset/external_test_cropped/imgs\\B411B939FABC4118A9A445CEAA6EC87B_3061585.jpg\n",
      "1\n",
      "C:/Users/FrankW/Desktop/test/Code_Monkeys/yolov8/dataset/external_test_cropped/imgs\\B411B939FABC4118A9A445CEAA6EC87B_3061587.jpg\n",
      "1\n",
      "C:/Users/FrankW/Desktop/test/Code_Monkeys/yolov8/dataset/external_test_cropped/imgs\\B411B939FABC4118A9A445CEAA6EC87B_3061648.jpg\n",
      "1\n"
     ]
    },
    {
     "name": "stderr",
     "output_type": "stream",
     "text": [
      "\n",
      "image 1/1 C:\\Users\\FrankW\\Desktop\\test\\Code_Monkeys\\yolov8\\dataset\\external_test_cropped\\imgs\\B411B939FABC4118A9A445CEAA6EC87B_3061656.jpg: 640x640 1 malignant, 54.7ms\n",
      "Speed: 4.0ms preprocess, 54.7ms inference, 3.0ms postprocess per image at shape (1, 3, 640, 640)\n",
      "\n",
      "image 1/1 C:\\Users\\FrankW\\Desktop\\test\\Code_Monkeys\\yolov8\\dataset\\external_test_cropped\\imgs\\B5252D64C9A349D091CCA8F042809BFD_8438140.jpg: 640x640 1 malignant, 53.9ms\n",
      "Speed: 4.0ms preprocess, 53.9ms inference, 2.0ms postprocess per image at shape (1, 3, 640, 640)\n",
      " 92%|█████████▏| 221/239 [00:24<00:01, 12.15it/s]\n",
      "image 1/1 C:\\Users\\FrankW\\Desktop\\test\\Code_Monkeys\\yolov8\\dataset\\external_test_cropped\\imgs\\B896A06F30F444E49B45BB84A3B2A5AC_2602115.jpg: 448x640 1 malignant, 48.0ms\n",
      "Speed: 2.0ms preprocess, 48.0ms inference, 1.5ms postprocess per image at shape (1, 3, 640, 640)\n",
      "\n"
     ]
    },
    {
     "name": "stdout",
     "output_type": "stream",
     "text": [
      "C:/Users/FrankW/Desktop/test/Code_Monkeys/yolov8/dataset/external_test_cropped/imgs\\B411B939FABC4118A9A445CEAA6EC87B_3061656.jpg\n",
      "1\n",
      "C:/Users/FrankW/Desktop/test/Code_Monkeys/yolov8/dataset/external_test_cropped/imgs\\B5252D64C9A349D091CCA8F042809BFD_8438140.jpg\n",
      "1\n",
      "C:/Users/FrankW/Desktop/test/Code_Monkeys/yolov8/dataset/external_test_cropped/imgs\\B896A06F30F444E49B45BB84A3B2A5AC_2602115.jpg\n",
      "1\n"
     ]
    },
    {
     "name": "stderr",
     "output_type": "stream",
     "text": [
      "image 1/1 C:\\Users\\FrankW\\Desktop\\test\\Code_Monkeys\\yolov8\\dataset\\external_test_cropped\\imgs\\B896A06F30F444E49B45BB84A3B2A5AC_2602164.jpg: 448x640 1 malignant, 55.1ms\n",
      "Speed: 2.0ms preprocess, 55.1ms inference, 2.0ms postprocess per image at shape (1, 3, 640, 640)\n",
      " 93%|█████████▎| 223/239 [00:24<00:01, 11.99it/s]\n",
      "image 1/1 C:\\Users\\FrankW\\Desktop\\test\\Code_Monkeys\\yolov8\\dataset\\external_test_cropped\\imgs\\B896A06F30F444E49B45BB84A3B2A5AC_2602168.jpg: 416x640 1 malignant, 48.7ms\n",
      "Speed: 2.0ms preprocess, 48.7ms inference, 2.0ms postprocess per image at shape (1, 3, 640, 640)\n",
      "\n",
      "image 1/1 C:\\Users\\FrankW\\Desktop\\test\\Code_Monkeys\\yolov8\\dataset\\external_test_cropped\\imgs\\CB72B7E54FD44317B722CD766ED98C4B_2975082.jpg: 640x640 (no detections), 53.5ms\n",
      "Speed: 4.0ms preprocess, 53.5ms inference, 1.0ms postprocess per image at shape (1, 3, 640, 640)\n",
      " 94%|█████████▍| 225/239 [00:24<00:01, 12.18it/s]\n"
     ]
    },
    {
     "name": "stdout",
     "output_type": "stream",
     "text": [
      "C:/Users/FrankW/Desktop/test/Code_Monkeys/yolov8/dataset/external_test_cropped/imgs\\B896A06F30F444E49B45BB84A3B2A5AC_2602164.jpg\n",
      "1\n",
      "C:/Users/FrankW/Desktop/test/Code_Monkeys/yolov8/dataset/external_test_cropped/imgs\\B896A06F30F444E49B45BB84A3B2A5AC_2602168.jpg\n",
      "1\n",
      "C:/Users/FrankW/Desktop/test/Code_Monkeys/yolov8/dataset/external_test_cropped/imgs\\CB72B7E54FD44317B722CD766ED98C4B_2975082.jpg\n",
      "1\n"
     ]
    },
    {
     "name": "stderr",
     "output_type": "stream",
     "text": [
      "image 1/1 C:\\Users\\FrankW\\Desktop\\test\\Code_Monkeys\\yolov8\\dataset\\external_test_cropped\\imgs\\CB9AA8C049A44532A4CC5E1D9597423E_2828858.jpg: 512x640 1 malignant, 53.2ms\n",
      "Speed: 2.0ms preprocess, 53.2ms inference, 3.0ms postprocess per image at shape (1, 3, 640, 640)\n",
      "\n",
      "image 1/1 C:\\Users\\FrankW\\Desktop\\test\\Code_Monkeys\\yolov8\\dataset\\external_test_cropped\\imgs\\CCF21CCF218E47BF9710E8F5B7ED299F_2667894.jpg: 480x640 1 malignant, 49.2ms\n",
      "Speed: 2.0ms preprocess, 49.2ms inference, 3.0ms postprocess per image at shape (1, 3, 640, 640)\n",
      " 95%|█████████▍| 227/239 [00:24<00:00, 12.37it/s]\n",
      "image 1/1 C:\\Users\\FrankW\\Desktop\\test\\Code_Monkeys\\yolov8\\dataset\\external_test_cropped\\imgs\\CCF21CCF218E47BF9710E8F5B7ED299F_2667900.jpg: 544x640 1 malignant, 47.7ms\n",
      "Speed: 3.5ms preprocess, 47.7ms inference, 3.0ms postprocess per image at shape (1, 3, 640, 640)\n",
      "\n"
     ]
    },
    {
     "name": "stdout",
     "output_type": "stream",
     "text": [
      "C:/Users/FrankW/Desktop/test/Code_Monkeys/yolov8/dataset/external_test_cropped/imgs\\CB9AA8C049A44532A4CC5E1D9597423E_2828858.jpg\n",
      "1\n",
      "C:/Users/FrankW/Desktop/test/Code_Monkeys/yolov8/dataset/external_test_cropped/imgs\\CCF21CCF218E47BF9710E8F5B7ED299F_2667894.jpg\n",
      "1\n",
      "C:/Users/FrankW/Desktop/test/Code_Monkeys/yolov8/dataset/external_test_cropped/imgs\\CCF21CCF218E47BF9710E8F5B7ED299F_2667900.jpg\n",
      "1\n"
     ]
    },
    {
     "name": "stderr",
     "output_type": "stream",
     "text": [
      "image 1/1 C:\\Users\\FrankW\\Desktop\\test\\Code_Monkeys\\yolov8\\dataset\\external_test_cropped\\imgs\\CCF21CCF218E47BF9710E8F5B7ED299F_2667917.jpg: 480x640 2 malignants, 48.0ms\n",
      "Speed: 2.0ms preprocess, 48.0ms inference, 2.0ms postprocess per image at shape (1, 3, 640, 640)\n",
      " 96%|█████████▌| 229/239 [00:24<00:00, 12.58it/s]\n",
      "image 1/1 C:\\Users\\FrankW\\Desktop\\test\\Code_Monkeys\\yolov8\\dataset\\external_test_cropped\\imgs\\CCF21CCF218E47BF9710E8F5B7ED299F_2667924.jpg: 480x640 1 malignant, 47.3ms\n",
      "Speed: 2.5ms preprocess, 47.3ms inference, 3.0ms postprocess per image at shape (1, 3, 640, 640)\n",
      "\n",
      "image 1/1 C:\\Users\\FrankW\\Desktop\\test\\Code_Monkeys\\yolov8\\dataset\\external_test_cropped\\imgs\\CCF21CCF218E47BF9710E8F5B7ED299F_2667928.jpg: 480x640 1 malignant, 46.8ms\n",
      "Speed: 2.0ms preprocess, 46.8ms inference, 2.0ms postprocess per image at shape (1, 3, 640, 640)\n",
      " 97%|█████████▋| 231/239 [00:24<00:00, 12.91it/s]\n"
     ]
    },
    {
     "name": "stdout",
     "output_type": "stream",
     "text": [
      "C:/Users/FrankW/Desktop/test/Code_Monkeys/yolov8/dataset/external_test_cropped/imgs\\CCF21CCF218E47BF9710E8F5B7ED299F_2667917.jpg\n",
      "1\n",
      "C:/Users/FrankW/Desktop/test/Code_Monkeys/yolov8/dataset/external_test_cropped/imgs\\CCF21CCF218E47BF9710E8F5B7ED299F_2667924.jpg\n",
      "1\n",
      "C:/Users/FrankW/Desktop/test/Code_Monkeys/yolov8/dataset/external_test_cropped/imgs\\CCF21CCF218E47BF9710E8F5B7ED299F_2667928.jpg\n",
      "1\n"
     ]
    },
    {
     "name": "stderr",
     "output_type": "stream",
     "text": [
      "image 1/1 C:\\Users\\FrankW\\Desktop\\test\\Code_Monkeys\\yolov8\\dataset\\external_test_cropped\\imgs\\CCF21CCF218E47BF9710E8F5B7ED299F_2667929.jpg: 448x640 1 malignant, 48.0ms\n",
      "Speed: 2.0ms preprocess, 48.0ms inference, 2.0ms postprocess per image at shape (1, 3, 640, 640)\n",
      "\n",
      "image 1/1 C:\\Users\\FrankW\\Desktop\\test\\Code_Monkeys\\yolov8\\dataset\\external_test_cropped\\imgs\\D8DEE6B5198D41C7A3BDE3BD5AB3A987_2757865.jpg: 384x640 1 malignant, 49.7ms\n",
      "Speed: 2.0ms preprocess, 49.7ms inference, 2.0ms postprocess per image at shape (1, 3, 640, 640)\n",
      " 97%|█████████▋| 233/239 [00:25<00:00, 13.09it/s]\n",
      "image 1/1 C:\\Users\\FrankW\\Desktop\\test\\Code_Monkeys\\yolov8\\dataset\\external_test_cropped\\imgs\\E6913F34515D46AEA59A3015AD70D71E_2800523.jpg: 480x640 1 benign, 45.2ms\n",
      "Speed: 2.0ms preprocess, 45.2ms inference, 2.0ms postprocess per image at shape (1, 3, 640, 640)\n",
      "\n",
      "image 1/1 C:\\Users\\FrankW\\Desktop\\test\\Code_Monkeys\\yolov8\\dataset\\external_test_cropped\\imgs\\E6913F34515D46AEA59A3015AD70D71E_2800563.jpg: 512x640 1 benign, 49.0ms\n"
     ]
    },
    {
     "name": "stdout",
     "output_type": "stream",
     "text": [
      "C:/Users/FrankW/Desktop/test/Code_Monkeys/yolov8/dataset/external_test_cropped/imgs\\CCF21CCF218E47BF9710E8F5B7ED299F_2667929.jpg\n",
      "1\n",
      "C:/Users/FrankW/Desktop/test/Code_Monkeys/yolov8/dataset/external_test_cropped/imgs\\D8DEE6B5198D41C7A3BDE3BD5AB3A987_2757865.jpg\n",
      "1\n",
      "C:/Users/FrankW/Desktop/test/Code_Monkeys/yolov8/dataset/external_test_cropped/imgs\\E6913F34515D46AEA59A3015AD70D71E_2800523.jpg\n",
      "1\n"
     ]
    },
    {
     "name": "stderr",
     "output_type": "stream",
     "text": [
      "Speed: 2.0ms preprocess, 49.0ms inference, 2.0ms postprocess per image at shape (1, 3, 640, 640)\n",
      " 98%|█████████▊| 235/239 [00:25<00:00, 13.69it/s]\n",
      "image 1/1 C:\\Users\\FrankW\\Desktop\\test\\Code_Monkeys\\yolov8\\dataset\\external_test_cropped\\imgs\\E73534BF231E40D3806A253D249E73B4_2846495.jpg: 512x640 1 malignant, 66.3ms\n",
      "Speed: 2.5ms preprocess, 66.3ms inference, 2.0ms postprocess per image at shape (1, 3, 640, 640)\n",
      "\n",
      "image 1/1 C:\\Users\\FrankW\\Desktop\\test\\Code_Monkeys\\yolov8\\dataset\\external_test_cropped\\imgs\\E9CC5D13DDEC4A0FAF45D9920D5E414F_2489528.jpg: 544x640 1 malignant, 54.0ms\n",
      "Speed: 3.5ms preprocess, 54.0ms inference, 3.5ms postprocess per image at shape (1, 3, 640, 640)\n",
      " 99%|█████████▉| 237/239 [00:25<00:00, 13.19it/s]\n"
     ]
    },
    {
     "name": "stdout",
     "output_type": "stream",
     "text": [
      "C:/Users/FrankW/Desktop/test/Code_Monkeys/yolov8/dataset/external_test_cropped/imgs\\E6913F34515D46AEA59A3015AD70D71E_2800563.jpg\n",
      "1\n",
      "C:/Users/FrankW/Desktop/test/Code_Monkeys/yolov8/dataset/external_test_cropped/imgs\\E73534BF231E40D3806A253D249E73B4_2846495.jpg\n",
      "1\n",
      "C:/Users/FrankW/Desktop/test/Code_Monkeys/yolov8/dataset/external_test_cropped/imgs\\E9CC5D13DDEC4A0FAF45D9920D5E414F_2489528.jpg\n",
      "1\n"
     ]
    },
    {
     "name": "stderr",
     "output_type": "stream",
     "text": [
      "image 1/1 C:\\Users\\FrankW\\Desktop\\test\\Code_Monkeys\\yolov8\\dataset\\external_test_cropped\\imgs\\E9CC5D13DDEC4A0FAF45D9920D5E414F_2489549.jpg: 544x640 1 malignant, 51.5ms\n",
      "Speed: 4.2ms preprocess, 51.5ms inference, 2.0ms postprocess per image at shape (1, 3, 640, 640)\n",
      "\n",
      "image 1/1 C:\\Users\\FrankW\\Desktop\\test\\Code_Monkeys\\yolov8\\dataset\\external_test_cropped\\imgs\\F5B281A3EFB54F188F4E20843DAF8262_2283978.jpg: 640x448 1 benign, 49.2ms\n",
      "Speed: 2.0ms preprocess, 49.2ms inference, 2.0ms postprocess per image at shape (1, 3, 640, 640)\n",
      "100%|██████████| 239/239 [00:25<00:00,  9.39it/s]"
     ]
    },
    {
     "name": "stdout",
     "output_type": "stream",
     "text": [
      "C:/Users/FrankW/Desktop/test/Code_Monkeys/yolov8/dataset/external_test_cropped/imgs\\E9CC5D13DDEC4A0FAF45D9920D5E414F_2489549.jpg\n",
      "1\n",
      "C:/Users/FrankW/Desktop/test/Code_Monkeys/yolov8/dataset/external_test_cropped/imgs\\F5B281A3EFB54F188F4E20843DAF8262_2283978.jpg\n",
      "0\n"
     ]
    },
    {
     "name": "stderr",
     "output_type": "stream",
     "text": [
      "\n"
     ]
    }
   ],
   "source": [
    "\n",
    "map_dict = {\"img_name\":[], \"mAP50\":[], \"mAP50-95\":[]}\n",
    "\n",
    "for img in tqdm(img_list):\n",
    "\n",
    "    result = model.predict(img, imgsz=640, conf=0.5, iou=0.7, augment=True)\n",
    "    # result = model.predict(img, imgsz=640, conf=0.25, iou=0.7, augment=True)\n",
    "\n",
    "    img_name = os.path.basename(img)\n",
    "    output_path = os.path.join(output_dir, img_name)\n",
    "    json_file = os.path.join(jsons_dir, img_name.replace(\".jpg\", \".json\"))\n",
    "\n",
    "    with open(json_file, \"r\") as f:\n",
    "        test_data = json.load(f)\n",
    "\n",
    "    ground_truth = {\"boxes\":[], \"labels\":[]}\n",
    "    result_dict = {\"boxes\":[], \"labels\":[], \"scores\":[]}\n",
    "\n",
    "    for shape in test_data[\"shapes\"]:\n",
    "        # if shape['label'] != \"border\":\n",
    "        #     ground_truth[\"labels\"].append(shape[\"label\"])\n",
    "        #     ground_truth[\"boxes\"].append([shape[\"points\"][0][0], shape[\"points\"][0][1], shape[\"points\"][1][0], shape[\"points\"][1][1]])   \n",
    "\n",
    "        # Multi-class\n",
    "        if shape['label'] == \"benign\":\n",
    "            shape['label'] = 0\n",
    "            ground_truth[\"labels\"].append(shape[\"label\"])\n",
    "            ground_truth[\"boxes\"].append([shape[\"points\"][0][0], shape[\"points\"][0][1], shape[\"points\"][1][0], shape[\"points\"][1][1]])            \n",
    "        elif shape['label'] == \"malignant\":\n",
    "            shape['label'] = 1\n",
    "            ground_truth[\"labels\"].append(shape[\"label\"])\n",
    "            ground_truth[\"boxes\"].append([shape[\"points\"][0][0], shape[\"points\"][0][1], shape[\"points\"][1][0], shape[\"points\"][1][1]])\n",
    "        \n",
    "        # if shape['label'] != 'border':\n",
    "        #     shape['label'] = 0\n",
    "        #     ground_truth[\"labels\"].append(shape[\"label\"])\n",
    "        #     ground_truth[\"boxes\"].append([shape[\"points\"][0][0], shape[\"points\"][0][1], shape[\"points\"][1][0], shape[\"points\"][1][1]])\n",
    "\n",
    "    cls_list = []\n",
    "    conf_list = []\n",
    "    nboxes_list = []\n",
    "    boxes_list = []\n",
    "\n",
    "    for i in range(len(result[0].boxes.cls.cpu().detach().numpy())):\n",
    "        cls_list.append(int(result[0].boxes.cls.cpu().detach().numpy()[i].tolist()))\n",
    "        conf_list.append(result[0].boxes.conf.cpu().detach().numpy()[i].tolist())\n",
    "        nboxes_list.append(result[0].boxes.xyxyn.cpu().detach().numpy()[i].tolist())\n",
    "        boxes_list.append(result[0].boxes.xyxy.cpu().detach().numpy()[i].tolist())\n",
    "\n",
    "        result_dict[\"labels\"].append(int(result[0].boxes.cls.cpu().detach().numpy()[i].tolist()))\n",
    "        result_dict[\"boxes\"].append(result[0].boxes.xyxy.cpu().detach().numpy()[i].tolist())\n",
    "        result_dict[\"scores\"].append(result[0].boxes.conf.cpu().detach().numpy()[i].tolist())\n",
    "    \n",
    "    draw_boxes(img, nboxes_list, cls_list, conf_list, ground_truth['boxes'], ground_truth['labels'], output_path)\n",
    "\n",
    "    # print(ground_truth)\n",
    "    # print(result_dict)\n",
    "\n",
    "    map50 = calculate_map(ground_truth, result_dict, 0.5)\n",
    "    map5095 = calculate_map_range(ground_truth, result_dict, 0.5, 0.95, 0.05)\n",
    "\n",
    "    map_dict[\"img_name\"].append(img_name)\n",
    "    map_dict[\"mAP50\"].append(map50)\n",
    "    map_dict[\"mAP50-95\"].append(map5095)"
   ]
  },
  {
   "cell_type": "code",
   "execution_count": 9,
   "metadata": {},
   "outputs": [],
   "source": [
    "df = pd.DataFrame(map_dict)"
   ]
  },
  {
   "cell_type": "code",
   "execution_count": 10,
   "metadata": {},
   "outputs": [
    {
     "data": {
      "text/html": [
       "<div>\n",
       "<style scoped>\n",
       "    .dataframe tbody tr th:only-of-type {\n",
       "        vertical-align: middle;\n",
       "    }\n",
       "\n",
       "    .dataframe tbody tr th {\n",
       "        vertical-align: top;\n",
       "    }\n",
       "\n",
       "    .dataframe thead th {\n",
       "        text-align: right;\n",
       "    }\n",
       "</style>\n",
       "<table border=\"1\" class=\"dataframe\">\n",
       "  <thead>\n",
       "    <tr style=\"text-align: right;\">\n",
       "      <th></th>\n",
       "      <th>img_name</th>\n",
       "      <th>mAP50</th>\n",
       "      <th>mAP50-95</th>\n",
       "    </tr>\n",
       "  </thead>\n",
       "  <tbody>\n",
       "    <tr>\n",
       "      <th>0</th>\n",
       "      <td>01E6C75C2D5E418DAB90F7562CA4083B_2645110.jpg</td>\n",
       "      <td>1.0</td>\n",
       "      <td>0.6</td>\n",
       "    </tr>\n",
       "    <tr>\n",
       "      <th>1</th>\n",
       "      <td>01E6C75C2D5E418DAB90F7562CA4083B_2645117.jpg</td>\n",
       "      <td>1.0</td>\n",
       "      <td>0.5</td>\n",
       "    </tr>\n",
       "    <tr>\n",
       "      <th>2</th>\n",
       "      <td>01E6C75C2D5E418DAB90F7562CA4083B_2645118.jpg</td>\n",
       "      <td>1.0</td>\n",
       "      <td>0.6</td>\n",
       "    </tr>\n",
       "    <tr>\n",
       "      <th>3</th>\n",
       "      <td>01E6C75C2D5E418DAB90F7562CA4083B_2645163.jpg</td>\n",
       "      <td>1.0</td>\n",
       "      <td>0.5</td>\n",
       "    </tr>\n",
       "    <tr>\n",
       "      <th>4</th>\n",
       "      <td>04A195C7193647B599073C0FD2EF4D7D_2620119.jpg</td>\n",
       "      <td>1.0</td>\n",
       "      <td>0.9</td>\n",
       "    </tr>\n",
       "    <tr>\n",
       "      <th>...</th>\n",
       "      <td>...</td>\n",
       "      <td>...</td>\n",
       "      <td>...</td>\n",
       "    </tr>\n",
       "    <tr>\n",
       "      <th>234</th>\n",
       "      <td>E6913F34515D46AEA59A3015AD70D71E_2800563.jpg</td>\n",
       "      <td>0.0</td>\n",
       "      <td>0.0</td>\n",
       "    </tr>\n",
       "    <tr>\n",
       "      <th>235</th>\n",
       "      <td>E73534BF231E40D3806A253D249E73B4_2846495.jpg</td>\n",
       "      <td>1.0</td>\n",
       "      <td>0.4</td>\n",
       "    </tr>\n",
       "    <tr>\n",
       "      <th>236</th>\n",
       "      <td>E9CC5D13DDEC4A0FAF45D9920D5E414F_2489528.jpg</td>\n",
       "      <td>1.0</td>\n",
       "      <td>0.9</td>\n",
       "    </tr>\n",
       "    <tr>\n",
       "      <th>237</th>\n",
       "      <td>E9CC5D13DDEC4A0FAF45D9920D5E414F_2489549.jpg</td>\n",
       "      <td>1.0</td>\n",
       "      <td>0.9</td>\n",
       "    </tr>\n",
       "    <tr>\n",
       "      <th>238</th>\n",
       "      <td>F5B281A3EFB54F188F4E20843DAF8262_2283978.jpg</td>\n",
       "      <td>1.0</td>\n",
       "      <td>0.4</td>\n",
       "    </tr>\n",
       "  </tbody>\n",
       "</table>\n",
       "<p>239 rows × 3 columns</p>\n",
       "</div>"
      ],
      "text/plain": [
       "                                         img_name  mAP50  mAP50-95\n",
       "0    01E6C75C2D5E418DAB90F7562CA4083B_2645110.jpg    1.0       0.6\n",
       "1    01E6C75C2D5E418DAB90F7562CA4083B_2645117.jpg    1.0       0.5\n",
       "2    01E6C75C2D5E418DAB90F7562CA4083B_2645118.jpg    1.0       0.6\n",
       "3    01E6C75C2D5E418DAB90F7562CA4083B_2645163.jpg    1.0       0.5\n",
       "4    04A195C7193647B599073C0FD2EF4D7D_2620119.jpg    1.0       0.9\n",
       "..                                            ...    ...       ...\n",
       "234  E6913F34515D46AEA59A3015AD70D71E_2800563.jpg    0.0       0.0\n",
       "235  E73534BF231E40D3806A253D249E73B4_2846495.jpg    1.0       0.4\n",
       "236  E9CC5D13DDEC4A0FAF45D9920D5E414F_2489528.jpg    1.0       0.9\n",
       "237  E9CC5D13DDEC4A0FAF45D9920D5E414F_2489549.jpg    1.0       0.9\n",
       "238  F5B281A3EFB54F188F4E20843DAF8262_2283978.jpg    1.0       0.4\n",
       "\n",
       "[239 rows x 3 columns]"
      ]
     },
     "execution_count": 10,
     "metadata": {},
     "output_type": "execute_result"
    }
   ],
   "source": [
    "df"
   ]
  },
  {
   "cell_type": "code",
   "execution_count": 11,
   "metadata": {},
   "outputs": [
    {
     "data": {
      "text/plain": [
       "0.9058577405857741"
      ]
     },
     "execution_count": 11,
     "metadata": {},
     "output_type": "execute_result"
    }
   ],
   "source": [
    "# mAP50\n",
    "df['mAP50'].mean()"
   ]
  },
  {
   "cell_type": "code",
   "execution_count": 12,
   "metadata": {},
   "outputs": [
    {
     "data": {
      "text/html": [
       "<div>\n",
       "<style scoped>\n",
       "    .dataframe tbody tr th:only-of-type {\n",
       "        vertical-align: middle;\n",
       "    }\n",
       "\n",
       "    .dataframe tbody tr th {\n",
       "        vertical-align: top;\n",
       "    }\n",
       "\n",
       "    .dataframe thead th {\n",
       "        text-align: right;\n",
       "    }\n",
       "</style>\n",
       "<table border=\"1\" class=\"dataframe\">\n",
       "  <thead>\n",
       "    <tr style=\"text-align: right;\">\n",
       "      <th></th>\n",
       "      <th>img_name</th>\n",
       "      <th>mAP50</th>\n",
       "      <th>mAP50-95</th>\n",
       "    </tr>\n",
       "  </thead>\n",
       "  <tbody>\n",
       "    <tr>\n",
       "      <th>53</th>\n",
       "      <td>1.2.826.0.1.3680043.2.461.12524243.1573887775.jpg</td>\n",
       "      <td>0.0</td>\n",
       "      <td>0.0</td>\n",
       "    </tr>\n",
       "    <tr>\n",
       "      <th>97</th>\n",
       "      <td>1.2.826.0.1.3680043.2.461.12581554.4277809629.jpg</td>\n",
       "      <td>0.0</td>\n",
       "      <td>0.0</td>\n",
       "    </tr>\n",
       "    <tr>\n",
       "      <th>98</th>\n",
       "      <td>1.2.826.0.1.3680043.2.461.12583566.2974374378.jpg</td>\n",
       "      <td>0.0</td>\n",
       "      <td>0.0</td>\n",
       "    </tr>\n",
       "    <tr>\n",
       "      <th>99</th>\n",
       "      <td>1.2.826.0.1.3680043.2.461.12583569.1907021304.jpg</td>\n",
       "      <td>0.0</td>\n",
       "      <td>0.0</td>\n",
       "    </tr>\n",
       "    <tr>\n",
       "      <th>108</th>\n",
       "      <td>1.2.826.0.1.3680043.2.461.12595881.3853898007.jpg</td>\n",
       "      <td>0.0</td>\n",
       "      <td>0.0</td>\n",
       "    </tr>\n",
       "    <tr>\n",
       "      <th>111</th>\n",
       "      <td>1.2.826.0.1.3680043.2.461.12638760.3079405872.jpg</td>\n",
       "      <td>0.0</td>\n",
       "      <td>0.0</td>\n",
       "    </tr>\n",
       "    <tr>\n",
       "      <th>114</th>\n",
       "      <td>1.2.826.0.1.3680043.2.461.12638840.163889883.jpg</td>\n",
       "      <td>0.0</td>\n",
       "      <td>0.0</td>\n",
       "    </tr>\n",
       "    <tr>\n",
       "      <th>136</th>\n",
       "      <td>29C71F8FC50C4104B07BB55C96A8AA95_7704699.jpg</td>\n",
       "      <td>0.0</td>\n",
       "      <td>0.0</td>\n",
       "    </tr>\n",
       "    <tr>\n",
       "      <th>137</th>\n",
       "      <td>29C71F8FC50C4104B07BB55C96A8AA95_7704703.jpg</td>\n",
       "      <td>0.0</td>\n",
       "      <td>0.0</td>\n",
       "    </tr>\n",
       "    <tr>\n",
       "      <th>148</th>\n",
       "      <td>3B8AD6EB99C3477984402F7D633DF506_2073429.jpg</td>\n",
       "      <td>0.0</td>\n",
       "      <td>0.0</td>\n",
       "    </tr>\n",
       "    <tr>\n",
       "      <th>152</th>\n",
       "      <td>47A993B38D1C4998A797E34E40092134_746130.jpg</td>\n",
       "      <td>0.0</td>\n",
       "      <td>0.0</td>\n",
       "    </tr>\n",
       "    <tr>\n",
       "      <th>158</th>\n",
       "      <td>5144E616DB694C0D84E19A0CC169ABAD_680377.jpg</td>\n",
       "      <td>0.0</td>\n",
       "      <td>0.0</td>\n",
       "    </tr>\n",
       "    <tr>\n",
       "      <th>159</th>\n",
       "      <td>52A58D887E0E43C29155FA9348704EFA_3149553.jpg</td>\n",
       "      <td>0.0</td>\n",
       "      <td>0.0</td>\n",
       "    </tr>\n",
       "    <tr>\n",
       "      <th>160</th>\n",
       "      <td>52A58D887E0E43C29155FA9348704EFA_31495531.jpg</td>\n",
       "      <td>0.0</td>\n",
       "      <td>0.0</td>\n",
       "    </tr>\n",
       "    <tr>\n",
       "      <th>179</th>\n",
       "      <td>641730334B40464983D87BACBE1B02EC_855800 (2).jpg</td>\n",
       "      <td>0.0</td>\n",
       "      <td>0.0</td>\n",
       "    </tr>\n",
       "    <tr>\n",
       "      <th>180</th>\n",
       "      <td>641730334B40464983D87BACBE1B02EC_855800 (3).jpg</td>\n",
       "      <td>0.0</td>\n",
       "      <td>0.0</td>\n",
       "    </tr>\n",
       "    <tr>\n",
       "      <th>182</th>\n",
       "      <td>710850E78E534525AFDFB8C8F9FC5466_25558153.jpg</td>\n",
       "      <td>0.0</td>\n",
       "      <td>0.0</td>\n",
       "    </tr>\n",
       "    <tr>\n",
       "      <th>199</th>\n",
       "      <td>9C29FBF3D5884969BB7136ED6EF150E1_2933584.jpg</td>\n",
       "      <td>0.0</td>\n",
       "      <td>0.0</td>\n",
       "    </tr>\n",
       "    <tr>\n",
       "      <th>224</th>\n",
       "      <td>CB72B7E54FD44317B722CD766ED98C4B_2975082.jpg</td>\n",
       "      <td>0.0</td>\n",
       "      <td>0.0</td>\n",
       "    </tr>\n",
       "    <tr>\n",
       "      <th>233</th>\n",
       "      <td>E6913F34515D46AEA59A3015AD70D71E_2800523.jpg</td>\n",
       "      <td>0.0</td>\n",
       "      <td>0.0</td>\n",
       "    </tr>\n",
       "    <tr>\n",
       "      <th>234</th>\n",
       "      <td>E6913F34515D46AEA59A3015AD70D71E_2800563.jpg</td>\n",
       "      <td>0.0</td>\n",
       "      <td>0.0</td>\n",
       "    </tr>\n",
       "  </tbody>\n",
       "</table>\n",
       "</div>"
      ],
      "text/plain": [
       "                                              img_name  mAP50  mAP50-95\n",
       "53   1.2.826.0.1.3680043.2.461.12524243.1573887775.jpg    0.0       0.0\n",
       "97   1.2.826.0.1.3680043.2.461.12581554.4277809629.jpg    0.0       0.0\n",
       "98   1.2.826.0.1.3680043.2.461.12583566.2974374378.jpg    0.0       0.0\n",
       "99   1.2.826.0.1.3680043.2.461.12583569.1907021304.jpg    0.0       0.0\n",
       "108  1.2.826.0.1.3680043.2.461.12595881.3853898007.jpg    0.0       0.0\n",
       "111  1.2.826.0.1.3680043.2.461.12638760.3079405872.jpg    0.0       0.0\n",
       "114   1.2.826.0.1.3680043.2.461.12638840.163889883.jpg    0.0       0.0\n",
       "136       29C71F8FC50C4104B07BB55C96A8AA95_7704699.jpg    0.0       0.0\n",
       "137       29C71F8FC50C4104B07BB55C96A8AA95_7704703.jpg    0.0       0.0\n",
       "148       3B8AD6EB99C3477984402F7D633DF506_2073429.jpg    0.0       0.0\n",
       "152        47A993B38D1C4998A797E34E40092134_746130.jpg    0.0       0.0\n",
       "158        5144E616DB694C0D84E19A0CC169ABAD_680377.jpg    0.0       0.0\n",
       "159       52A58D887E0E43C29155FA9348704EFA_3149553.jpg    0.0       0.0\n",
       "160      52A58D887E0E43C29155FA9348704EFA_31495531.jpg    0.0       0.0\n",
       "179    641730334B40464983D87BACBE1B02EC_855800 (2).jpg    0.0       0.0\n",
       "180    641730334B40464983D87BACBE1B02EC_855800 (3).jpg    0.0       0.0\n",
       "182      710850E78E534525AFDFB8C8F9FC5466_25558153.jpg    0.0       0.0\n",
       "199       9C29FBF3D5884969BB7136ED6EF150E1_2933584.jpg    0.0       0.0\n",
       "224       CB72B7E54FD44317B722CD766ED98C4B_2975082.jpg    0.0       0.0\n",
       "233       E6913F34515D46AEA59A3015AD70D71E_2800523.jpg    0.0       0.0\n",
       "234       E6913F34515D46AEA59A3015AD70D71E_2800563.jpg    0.0       0.0"
      ]
     },
     "execution_count": 12,
     "metadata": {},
     "output_type": "execute_result"
    }
   ],
   "source": [
    "# Images Not detected Correctly\n",
    "df[df['mAP50']==0]"
   ]
  },
  {
   "cell_type": "code",
   "execution_count": 13,
   "metadata": {},
   "outputs": [
    {
     "data": {
      "text/plain": [
       "21"
      ]
     },
     "execution_count": 13,
     "metadata": {},
     "output_type": "execute_result"
    }
   ],
   "source": [
    "len(df[df['mAP50']==0])"
   ]
  },
  {
   "cell_type": "code",
   "execution_count": 14,
   "metadata": {},
   "outputs": [
    {
     "data": {
      "text/plain": [
       "0.4853556485355649"
      ]
     },
     "execution_count": 14,
     "metadata": {},
     "output_type": "execute_result"
    }
   ],
   "source": [
    "# mAP50-95\n",
    "df['mAP50-95'].mean()"
   ]
  },
  {
   "cell_type": "code",
   "execution_count": 15,
   "metadata": {},
   "outputs": [],
   "source": [
    "# Save mAP results to csv files\n",
    "df.to_csv(os.path.join(TEST_SET_PATH, \"mAP_results.csv\"))"
   ]
  },
  {
   "cell_type": "code",
   "execution_count": null,
   "metadata": {},
   "outputs": [],
   "source": []
  }
 ],
 "metadata": {
  "kernelspec": {
   "display_name": "yolov8",
   "language": "python",
   "name": "python3"
  },
  "language_info": {
   "codemirror_mode": {
    "name": "ipython",
    "version": 3
   },
   "file_extension": ".py",
   "mimetype": "text/x-python",
   "name": "python",
   "nbconvert_exporter": "python",
   "pygments_lexer": "ipython3",
   "version": "3.9.16"
  },
  "orig_nbformat": 4
 },
 "nbformat": 4,
 "nbformat_minor": 2
}
