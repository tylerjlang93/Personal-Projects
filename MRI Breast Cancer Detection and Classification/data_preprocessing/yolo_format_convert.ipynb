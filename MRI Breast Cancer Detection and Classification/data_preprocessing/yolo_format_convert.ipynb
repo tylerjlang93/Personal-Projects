{
 "cells": [
  {
   "cell_type": "code",
   "execution_count": 1,
   "metadata": {},
   "outputs": [],
   "source": [
    "import os\n",
    "import cv2\n",
    "import json\n",
    "import shutil\n",
    "\n",
    "import numpy as np\n",
    "import pandas as pd\n",
    "\n",
    "from glob import glob"
   ]
  },
  {
   "attachments": {},
   "cell_type": "markdown",
   "metadata": {},
   "source": [
    "# Generate yolov8 txt format Binary Class"
   ]
  },
  {
   "cell_type": "code",
   "execution_count": 2,
   "metadata": {},
   "outputs": [],
   "source": [
    "# img_list = glob('C:/Users/frank/OneDrive/Desktop/GT_Practicum/data/preprocessed/AI+_processed/imgs/*.jpg')\n",
    "# json_list = glob('C:/Users/frank/OneDrive/Desktop/GT_Practicum/data/preprocessed/AI+_processed/jsons/*.json')\n",
    "\n",
    "# img_list = glob('C:/Users/frank/OneDrive/Desktop/GT_Practicum/data/preprocessed/BUSI/imgs/*.png')\n",
    "# json_list = glob('C:/Users/frank/OneDrive/Desktop/GT_Practicum/data/preprocessed/BUSI/jsons/*.json')\n",
    "\n",
    "img_list = glob('C:/Users/frank/OneDrive/Desktop/GT_Practicum/data/preprocessed/OASBUD/imgs/*.png')\n",
    "json_list = glob('C:/Users/frank/OneDrive/Desktop/GT_Practicum/data/preprocessed/OASBUD/jsons/*.json')\n",
    "\n",
    "img_list.sort()\n",
    "json_list.sort()\n",
    "\n",
    "assert len(img_list) == len(json_list)"
   ]
  },
  {
   "cell_type": "code",
   "execution_count": 3,
   "metadata": {},
   "outputs": [],
   "source": [
    "# txt_file_path = \"C:/Users/frank/OneDrive/Desktop/GT_Practicum/data/preprocessed/AI+_processed/texts/\"\n",
    "# txt_file_path = \"C:/Users/frank/OneDrive/Desktop/GT_Practicum/data/preprocessed/BUSI/texts/\"\n",
    "txt_file_path = \"C:/Users/frank/OneDrive/Desktop/GT_Practicum/data/preprocessed/OASBUD/texts/\"\n",
    "\n",
    "for img_path, json_path in zip(img_list, json_list):\n",
    "    assert os.path.basename(img_path)[:-4] == os.path.basename(json_path)[:-5]\n",
    "\n",
    "    img_name = os.path.basename(img_path)[:-4]   # Same for .jpg and .png\n",
    "\n",
    "    img = cv2.imread(img_path)\n",
    "    h, w, _ = img.shape\n",
    "\n",
    "    with open(json_path, 'r') as f:\n",
    "        json_data = json.load(f)\n",
    "        assert h == json_data['imageHeight']\n",
    "        assert w == json_data['imageWidth']\n",
    "    \n",
    "    for shape in json_data['shapes']:\n",
    "        \n",
    "        label = shape['label']\n",
    "\n",
    "        # Treat 'benign' and 'malignant' as the same for binary classification\n",
    "        if label == 'benign' or label == 'malignant':\n",
    "            num_label = 0\n",
    "\n",
    "        x_upper_left = shape['points'][0][0]\n",
    "        y_upper_left = shape['points'][0][1]\n",
    "\n",
    "        x_lower_right = shape['points'][1][0]\n",
    "        y_lower_right = shape['points'][1][1]\n",
    "\n",
    "        relative_x = (x_upper_left + x_lower_right) / 2 / w\n",
    "        relative_y = (y_upper_left + y_lower_right) / 2 / h\n",
    "\n",
    "        relative_box_width = (x_lower_right - x_upper_left) / w\n",
    "        relative_box_height = (y_lower_right - y_upper_left) / h\n",
    "\n",
    "        txt_save_path = os.path.join(txt_file_path, img_name + '.txt')\n",
    "\n",
    "        with open(txt_save_path, 'a') as f:\n",
    "            f.write(str(num_label) + ' ' + str(relative_x) + ' ' + str(relative_y) + ' ' + str(relative_box_width) + ' ' + str(relative_box_height) + '\\n')\n"
   ]
  },
  {
   "attachments": {},
   "cell_type": "markdown",
   "metadata": {},
   "source": [
    "# Train-Test split"
   ]
  },
  {
   "cell_type": "code",
   "execution_count": 45,
   "metadata": {},
   "outputs": [
    {
     "data": {
      "text/html": [
       "<div>\n",
       "<style scoped>\n",
       "    .dataframe tbody tr th:only-of-type {\n",
       "        vertical-align: middle;\n",
       "    }\n",
       "\n",
       "    .dataframe tbody tr th {\n",
       "        vertical-align: top;\n",
       "    }\n",
       "\n",
       "    .dataframe thead th {\n",
       "        text-align: right;\n",
       "    }\n",
       "</style>\n",
       "<table border=\"1\" class=\"dataframe\">\n",
       "  <thead>\n",
       "    <tr style=\"text-align: right;\">\n",
       "      <th></th>\n",
       "      <th>image_name</th>\n",
       "      <th>image_type</th>\n",
       "      <th>image_height</th>\n",
       "      <th>image_width</th>\n",
       "      <th>label</th>\n",
       "      <th>dataset</th>\n",
       "      <th>case_id</th>\n",
       "    </tr>\n",
       "  </thead>\n",
       "  <tbody>\n",
       "    <tr>\n",
       "      <th>0</th>\n",
       "      <td>04A195C7193647B599073C0FD2EF4D7D_2620171 (2)</td>\n",
       "      <td>jpg</td>\n",
       "      <td>235</td>\n",
       "      <td>347</td>\n",
       "      <td>malignant</td>\n",
       "      <td>AIplus</td>\n",
       "      <td>1385682</td>\n",
       "    </tr>\n",
       "    <tr>\n",
       "      <th>1</th>\n",
       "      <td>051D402B1CE1483B9D6519C3CFE6CFAF_8277284</td>\n",
       "      <td>jpg</td>\n",
       "      <td>473</td>\n",
       "      <td>734</td>\n",
       "      <td>malignant</td>\n",
       "      <td>AIplus</td>\n",
       "      <td>13136661</td>\n",
       "    </tr>\n",
       "    <tr>\n",
       "      <th>2</th>\n",
       "      <td>051D402B1CE1483B9D6519C3CFE6CFAF_8277285</td>\n",
       "      <td>jpg</td>\n",
       "      <td>473</td>\n",
       "      <td>734</td>\n",
       "      <td>malignant</td>\n",
       "      <td>AIplus</td>\n",
       "      <td>13136661</td>\n",
       "    </tr>\n",
       "    <tr>\n",
       "      <th>3</th>\n",
       "      <td>051D402B1CE1483B9D6519C3CFE6CFAF_8277286</td>\n",
       "      <td>jpg</td>\n",
       "      <td>473</td>\n",
       "      <td>734</td>\n",
       "      <td>malignant</td>\n",
       "      <td>AIplus</td>\n",
       "      <td>13136661</td>\n",
       "    </tr>\n",
       "    <tr>\n",
       "      <th>4</th>\n",
       "      <td>1.2.826.0.1.3680043.2.461.10889799.1302130936</td>\n",
       "      <td>jpg</td>\n",
       "      <td>331</td>\n",
       "      <td>474</td>\n",
       "      <td>benign</td>\n",
       "      <td>AIplus</td>\n",
       "      <td>13121058</td>\n",
       "    </tr>\n",
       "  </tbody>\n",
       "</table>\n",
       "</div>"
      ],
      "text/plain": [
       "                                      image_name image_type  image_height  \\\n",
       "0   04A195C7193647B599073C0FD2EF4D7D_2620171 (2)        jpg           235   \n",
       "1       051D402B1CE1483B9D6519C3CFE6CFAF_8277284        jpg           473   \n",
       "2       051D402B1CE1483B9D6519C3CFE6CFAF_8277285        jpg           473   \n",
       "3       051D402B1CE1483B9D6519C3CFE6CFAF_8277286        jpg           473   \n",
       "4  1.2.826.0.1.3680043.2.461.10889799.1302130936        jpg           331   \n",
       "\n",
       "   image_width      label dataset   case_id  \n",
       "0          347  malignant  AIplus   1385682  \n",
       "1          734  malignant  AIplus  13136661  \n",
       "2          734  malignant  AIplus  13136661  \n",
       "3          734  malignant  AIplus  13136661  \n",
       "4          474     benign  AIplus  13121058  "
      ]
     },
     "execution_count": 45,
     "metadata": {},
     "output_type": "execute_result"
    }
   ],
   "source": [
    "df = pd.read_csv(\"C:/Users/frank/OneDrive/Desktop/GT_Practicum/data/preprocessed/metadata_df_aiplus.csv\")\n",
    "df.head()"
   ]
  },
  {
   "cell_type": "code",
   "execution_count": 46,
   "metadata": {},
   "outputs": [
    {
     "data": {
      "text/plain": [
       "1149"
      ]
     },
     "execution_count": 46,
     "metadata": {},
     "output_type": "execute_result"
    }
   ],
   "source": [
    "len(df)"
   ]
  },
  {
   "cell_type": "code",
   "execution_count": 47,
   "metadata": {},
   "outputs": [],
   "source": [
    "case_id_list = df['case_id'].tolist()\n",
    "\n",
    "# Do a train-test split based on case_id, need to be random choice with random seed\n",
    "np.random.seed(17)\n",
    "train_case_id_list = np.random.choice(case_id_list, size=round(len(case_id_list) * 0.6), replace=False)\n",
    "\n",
    "\n"
   ]
  },
  {
   "cell_type": "code",
   "execution_count": 48,
   "metadata": {},
   "outputs": [
    {
     "data": {
      "text/plain": [
       "1149"
      ]
     },
     "execution_count": 48,
     "metadata": {},
     "output_type": "execute_result"
    }
   ],
   "source": [
    "len(case_id_list)"
   ]
  },
  {
   "cell_type": "code",
   "execution_count": 49,
   "metadata": {},
   "outputs": [
    {
     "data": {
      "text/plain": [
       "689"
      ]
     },
     "execution_count": 49,
     "metadata": {},
     "output_type": "execute_result"
    }
   ],
   "source": [
    "len(train_case_id_list)"
   ]
  },
  {
   "cell_type": "code",
   "execution_count": 50,
   "metadata": {},
   "outputs": [],
   "source": [
    "# Set default split to train\n",
    "df['split'] = 'test'\n",
    "\n",
    "# Set train case_id to train\n",
    "\n",
    "for case_id in train_case_id_list:\n",
    "    df.loc[df['case_id'] == case_id, 'split'] = 'train'"
   ]
  },
  {
   "cell_type": "code",
   "execution_count": 51,
   "metadata": {},
   "outputs": [
    {
     "data": {
      "text/plain": [
       "<AxesSubplot:>"
      ]
     },
     "execution_count": 51,
     "metadata": {},
     "output_type": "execute_result"
    },
    {
     "data": {
      "image/png": "[encoded data removed]",
      "text/plain": [
       "<Figure size 640x480 with 1 Axes>"
      ]
     },
     "metadata": {},
     "output_type": "display_data"
    }
   ],
   "source": [
    "# show histogram of train-test split\n",
    "df['split'].hist()"
   ]
  },
  {
   "cell_type": "code",
   "execution_count": 52,
   "metadata": {},
   "outputs": [
    {
     "data": {
      "text/plain": [
       "0.1566579634464752"
      ]
     },
     "execution_count": 52,
     "metadata": {},
     "output_type": "execute_result"
    }
   ],
   "source": [
    "len(df[df['split'] == 'test']) / len(df)"
   ]
  },
  {
   "cell_type": "code",
   "execution_count": 53,
   "metadata": {},
   "outputs": [
    {
     "data": {
      "text/plain": [
       "<AxesSubplot:>"
      ]
     },
     "execution_count": 53,
     "metadata": {},
     "output_type": "execute_result"
    },
    {
     "data": {
      "image/png": "[encoded data removed]",
      "text/plain": [
       "<Figure size 640x480 with 1 Axes>"
      ]
     },
     "metadata": {},
     "output_type": "display_data"
    }
   ],
   "source": [
    "df[df['label'] == 'benign']['split'].hist()"
   ]
  },
  {
   "cell_type": "code",
   "execution_count": 54,
   "metadata": {},
   "outputs": [
    {
     "data": {
      "text/plain": [
       "<AxesSubplot:>"
      ]
     },
     "execution_count": 54,
     "metadata": {},
     "output_type": "execute_result"
    },
    {
     "data": {
      "image/png": "[encoded data removed]",
      "text/plain": [
       "<Figure size 640x480 with 1 Axes>"
      ]
     },
     "metadata": {},
     "output_type": "display_data"
    }
   ],
   "source": [
    "df[df['label'] == 'malignant']['split'].hist()"
   ]
  },
  {
   "cell_type": "code",
   "execution_count": 13,
   "metadata": {},
   "outputs": [],
   "source": [
    "# Save updated dataframe\n",
    "df.to_csv(\"C:/Users/frank/OneDrive/Desktop/GT_Practicum/data/preprocessed/AI+_processed/texts_split/metadata_df_aiplus_split.csv\", index=False)"
   ]
  },
  {
   "cell_type": "code",
   "execution_count": 14,
   "metadata": {},
   "outputs": [],
   "source": [
    "df_train = df[df['split'] == 'train']\n",
    "df_test = df[df['split'] == 'test']\n",
    "# Copy training data to train folder\n",
    "for image_name in df_train['image_name'].to_list():\n",
    "    # Copy images for training set\n",
    "    shutil.copy(\"C:/Users/frank/OneDrive/Desktop/GT_Practicum/data/preprocessed/AI+_processed/imgs/\" + image_name + \".jpg\",\n",
    "                \"C:/Users/frank/OneDrive/Desktop/GT_Practicum/data/preprocessed/AI+_processed/texts_split/images/train/\" + image_name + \".jpg\")\n",
    "\n",
    "    # Copy txts for training set\n",
    "    shutil.copy(\"C:/Users/frank/OneDrive/Desktop/GT_Practicum/data/preprocessed/AI+_processed/texts/\" + image_name + \".txt\",\n",
    "                \"C:/Users/frank/OneDrive/Desktop/GT_Practicum/data/preprocessed/AI+_processed/texts_split/labels/train/\" + image_name + \".txt\")\n",
    "    \n",
    "# Copy test data to test folder\n",
    "for image_name in df_test['image_name'].to_list():\n",
    "    # Copy images for test set\n",
    "    shutil.copy(\"C:/Users/frank/OneDrive/Desktop/GT_Practicum/data/preprocessed/AI+_processed/imgs/\" + image_name + \".jpg\",\n",
    "                \"C:/Users/frank/OneDrive/Desktop/GT_Practicum/data/preprocessed/AI+_processed/texts_split/images/val/\" + image_name + \".jpg\")\n",
    "    \n",
    "    # Copy txts for test set\n",
    "    shutil.copy(\"C:/Users/frank/OneDrive/Desktop/GT_Practicum/data/preprocessed/AI+_processed/texts/\" + image_name + \".txt\",\n",
    "                \"C:/Users/frank/OneDrive/Desktop/GT_Practicum/data/preprocessed/AI+_processed/texts_split/labels/val/\" + image_name + \".txt\")"
   ]
  },
  {
   "attachments": {},
   "cell_type": "markdown",
   "metadata": {},
   "source": [
    "# Create YOLOV8 Multiclass text format"
   ]
  },
  {
   "cell_type": "code",
   "execution_count": 14,
   "metadata": {},
   "outputs": [],
   "source": [
    "# img_list = glob('C:/Users/frank/OneDrive/Desktop/GT_Practicum/data/preprocessed/AI+_processed/imgs/*.jpg')\n",
    "# json_list = glob('C:/Users/frank/OneDrive/Desktop/GT_Practicum/data/preprocessed/AI+_processed/jsons/*.json')\n",
    "\n",
    "# img_list = glob('C:/Users/frank/OneDrive/Desktop/GT_Practicum/data/preprocessed/BUSI/imgs/*.png')\n",
    "# json_list = glob('C:/Users/frank/OneDrive/Desktop/GT_Practicum/data/preprocessed/BUSI/jsons/*.json')\n",
    "\n",
    "img_list = glob('C:/Users/frank/OneDrive/Desktop/GT_Practicum/data/preprocessed/OASBUD/imgs/*.png')\n",
    "json_list = glob('C:/Users/frank/OneDrive/Desktop/GT_Practicum/data/preprocessed/OASBUD/jsons/*.json')\n",
    "\n",
    "img_list.sort()\n",
    "json_list.sort()\n",
    "\n",
    "assert len(img_list) == len(json_list)"
   ]
  },
  {
   "cell_type": "code",
   "execution_count": 15,
   "metadata": {},
   "outputs": [],
   "source": [
    "txt_file_path = \"C:/Users/frank/OneDrive/Desktop/GT_Practicum/data/preprocessed/OASBUD/texts_mc/\"\n",
    "\n",
    "for img_path, json_path in zip(img_list, json_list):\n",
    "    assert os.path.basename(img_path)[:-4] == os.path.basename(json_path)[:-5]\n",
    "\n",
    "    img_name = os.path.basename(img_path)[:-4]   # Same for .jpg and .png\n",
    "\n",
    "    img = cv2.imread(img_path)\n",
    "    h, w, _ = img.shape\n",
    "\n",
    "    with open(json_path, 'r') as f:\n",
    "        json_data = json.load(f)\n",
    "        assert h == json_data['imageHeight']\n",
    "        assert w == json_data['imageWidth']\n",
    "    \n",
    "    if len(json_data['shapes']) > 1:\n",
    "        print(img_name, len(json_data['shapes']))\n",
    "\n",
    "    for shape in json_data['shapes']:\n",
    "        \n",
    "        label = shape['label']\n",
    "\n",
    "        # Benign: 0, Malignant: 1\n",
    "        if label == 'benign':\n",
    "            num_label = 0\n",
    "        elif label == 'malignant':\n",
    "            num_label = 1\n",
    "\n",
    "        x_upper_left = shape['points'][0][0]\n",
    "        y_upper_left = shape['points'][0][1]\n",
    "\n",
    "        x_lower_right = shape['points'][1][0]\n",
    "        y_lower_right = shape['points'][1][1]\n",
    "\n",
    "        relative_x = (x_upper_left + x_lower_right) / 2 / w\n",
    "        relative_y = (y_upper_left + y_lower_right) / 2 / h\n",
    "\n",
    "        relative_box_width = (x_lower_right - x_upper_left) / w\n",
    "        relative_box_height = (y_lower_right - y_upper_left) / h\n",
    "\n",
    "        txt_save_path = os.path.join(txt_file_path, img_name + '.txt')\n",
    "\n",
    "        # Write multiple lines for multiple boxes\n",
    "        with open(txt_save_path, 'a') as f:\n",
    "            f.write(str(num_label) + ' ' + str(relative_x) + ' ' + str(relative_y) + ' ' + str(relative_box_width) + ' ' + str(relative_box_height) + '\\n')"
   ]
  },
  {
   "attachments": {},
   "cell_type": "markdown",
   "metadata": {},
   "source": [
    "## Load pre-splitted dataframe"
   ]
  },
  {
   "cell_type": "code",
   "execution_count": 3,
   "metadata": {},
   "outputs": [
    {
     "data": {
      "text/html": [
       "<div>\n",
       "<style scoped>\n",
       "    .dataframe tbody tr th:only-of-type {\n",
       "        vertical-align: middle;\n",
       "    }\n",
       "\n",
       "    .dataframe tbody tr th {\n",
       "        vertical-align: top;\n",
       "    }\n",
       "\n",
       "    .dataframe thead th {\n",
       "        text-align: right;\n",
       "    }\n",
       "</style>\n",
       "<table border=\"1\" class=\"dataframe\">\n",
       "  <thead>\n",
       "    <tr style=\"text-align: right;\">\n",
       "      <th></th>\n",
       "      <th>image_name</th>\n",
       "      <th>image_type</th>\n",
       "      <th>image_height</th>\n",
       "      <th>image_width</th>\n",
       "      <th>label</th>\n",
       "      <th>dataset</th>\n",
       "      <th>case_id</th>\n",
       "      <th>split</th>\n",
       "    </tr>\n",
       "  </thead>\n",
       "  <tbody>\n",
       "    <tr>\n",
       "      <th>0</th>\n",
       "      <td>04A195C7193647B599073C0FD2EF4D7D_2620171 (2)</td>\n",
       "      <td>jpg</td>\n",
       "      <td>235</td>\n",
       "      <td>347</td>\n",
       "      <td>malignant</td>\n",
       "      <td>AIplus</td>\n",
       "      <td>1385682</td>\n",
       "      <td>test</td>\n",
       "    </tr>\n",
       "    <tr>\n",
       "      <th>1</th>\n",
       "      <td>051D402B1CE1483B9D6519C3CFE6CFAF_8277284</td>\n",
       "      <td>jpg</td>\n",
       "      <td>473</td>\n",
       "      <td>734</td>\n",
       "      <td>malignant</td>\n",
       "      <td>AIplus</td>\n",
       "      <td>13136661</td>\n",
       "      <td>train</td>\n",
       "    </tr>\n",
       "    <tr>\n",
       "      <th>2</th>\n",
       "      <td>051D402B1CE1483B9D6519C3CFE6CFAF_8277285</td>\n",
       "      <td>jpg</td>\n",
       "      <td>473</td>\n",
       "      <td>734</td>\n",
       "      <td>malignant</td>\n",
       "      <td>AIplus</td>\n",
       "      <td>13136661</td>\n",
       "      <td>train</td>\n",
       "    </tr>\n",
       "    <tr>\n",
       "      <th>3</th>\n",
       "      <td>051D402B1CE1483B9D6519C3CFE6CFAF_8277286</td>\n",
       "      <td>jpg</td>\n",
       "      <td>473</td>\n",
       "      <td>734</td>\n",
       "      <td>malignant</td>\n",
       "      <td>AIplus</td>\n",
       "      <td>13136661</td>\n",
       "      <td>train</td>\n",
       "    </tr>\n",
       "    <tr>\n",
       "      <th>4</th>\n",
       "      <td>1.2.826.0.1.3680043.2.461.10889799.1302130936</td>\n",
       "      <td>jpg</td>\n",
       "      <td>331</td>\n",
       "      <td>474</td>\n",
       "      <td>benign</td>\n",
       "      <td>AIplus</td>\n",
       "      <td>13121058</td>\n",
       "      <td>train</td>\n",
       "    </tr>\n",
       "  </tbody>\n",
       "</table>\n",
       "</div>"
      ],
      "text/plain": [
       "                                      image_name image_type  image_height  \\\n",
       "0   04A195C7193647B599073C0FD2EF4D7D_2620171 (2)        jpg           235   \n",
       "1       051D402B1CE1483B9D6519C3CFE6CFAF_8277284        jpg           473   \n",
       "2       051D402B1CE1483B9D6519C3CFE6CFAF_8277285        jpg           473   \n",
       "3       051D402B1CE1483B9D6519C3CFE6CFAF_8277286        jpg           473   \n",
       "4  1.2.826.0.1.3680043.2.461.10889799.1302130936        jpg           331   \n",
       "\n",
       "   image_width      label dataset   case_id  split  \n",
       "0          347  malignant  AIplus   1385682   test  \n",
       "1          734  malignant  AIplus  13136661  train  \n",
       "2          734  malignant  AIplus  13136661  train  \n",
       "3          734  malignant  AIplus  13136661  train  \n",
       "4          474     benign  AIplus  13121058  train  "
      ]
     },
     "execution_count": 3,
     "metadata": {},
     "output_type": "execute_result"
    }
   ],
   "source": [
    "df = pd.read_csv(\"C:/Users/frank/OneDrive/Desktop/GT_Practicum/data/preprocessed/AI+_processed/texts_split_binary/metadata_df_aiplus_split.csv\")\n",
    "df.head()"
   ]
  },
  {
   "cell_type": "code",
   "execution_count": 4,
   "metadata": {},
   "outputs": [],
   "source": [
    "df_train = df[df['split'] == 'train']\n",
    "df_test = df[df['split'] == 'test']\n",
    "# Copy training data to train folder\n",
    "for image_name in df_train['image_name'].to_list():\n",
    "    # Copy images for training set\n",
    "    shutil.copy(\"C:/Users/frank/OneDrive/Desktop/GT_Practicum/data/preprocessed/AI+_processed/imgs/\" + image_name + \".jpg\",\n",
    "                \"C:/Users/frank/OneDrive/Desktop/GT_Practicum/data/preprocessed/AI+_processed/texts_split_multiclass/images/train/\" + image_name + \".jpg\")\n",
    "\n",
    "    # Copy txts for training set\n",
    "    shutil.copy(\"C:/Users/frank/OneDrive/Desktop/GT_Practicum/data/preprocessed/AI+_processed/texts_mc/\" + image_name + \".txt\",\n",
    "                \"C:/Users/frank/OneDrive/Desktop/GT_Practicum/data/preprocessed/AI+_processed/texts_split_multiclass/labels/train/\" + image_name + \".txt\")\n",
    "    \n",
    "# Copy test data to test folder\n",
    "for image_name in df_test['image_name'].to_list():\n",
    "    # Copy images for test set\n",
    "    shutil.copy(\"C:/Users/frank/OneDrive/Desktop/GT_Practicum/data/preprocessed/AI+_processed/imgs/\" + image_name + \".jpg\",\n",
    "                \"C:/Users/frank/OneDrive/Desktop/GT_Practicum/data/preprocessed/AI+_processed/texts_split_multiclass/images/val/\" + image_name + \".jpg\")\n",
    "    \n",
    "    # Copy txts for test set\n",
    "    shutil.copy(\"C:/Users/frank/OneDrive/Desktop/GT_Practicum/data/preprocessed/AI+_processed/texts_mc/\" + image_name + \".txt\",\n",
    "                \"C:/Users/frank/OneDrive/Desktop/GT_Practicum/data/preprocessed/AI+_processed/texts_split_multiclass/labels/val/\" + image_name + \".txt\")"
   ]
  },
  {
   "cell_type": "code",
   "execution_count": null,
   "metadata": {},
   "outputs": [],
   "source": []
  }
 ],
 "metadata": {
  "kernelspec": {
   "display_name": "Python 3",
   "language": "python",
   "name": "python3"
  },
  "language_info": {
   "codemirror_mode": {
    "name": "ipython",
    "version": 3
   },
   "file_extension": ".py",
   "mimetype": "text/x-python",
   "name": "python",
   "nbconvert_exporter": "python",
   "pygments_lexer": "ipython3",
   "version": "3.10.11"
  },
  "orig_nbformat": 4
 },
 "nbformat": 4,
 "nbformat_minor": 2
}
