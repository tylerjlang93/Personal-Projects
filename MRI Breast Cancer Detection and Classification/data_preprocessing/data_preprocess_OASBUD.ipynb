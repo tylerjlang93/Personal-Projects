{
 "cells": [
  {
   "cell_type": "code",
   "execution_count": 1,
   "metadata": {},
   "outputs": [],
   "source": [
    "import os\n",
    "\n",
    "import numpy as np\n",
    "import pandas as pd\n",
    "import json\n",
    "\n",
    "from glob import glob\n",
    "from tqdm import tqdm\n",
    "\n",
    "from torchvision.io import read_image\n",
    "from torchvision.ops import masks_to_boxes\n",
    "import scipy.io\n",
    "import matplotlib.pyplot as plt"
   ]
  },
  {
   "cell_type": "markdown",
   "metadata": {},
   "source": [
    "Data from the Public Dataset OASBUD contain images and semantic segmentation masks. \n",
    "\n",
    "See file \"colab_Oasbud_convert\" for details of how to download OASBUD images and masks.\n",
    "\n",
    "This script is to convert all the semantic segmentation masks to .json files in Labelme format (same as data provided by Sponsor)"
   ]
  },
  {
   "attachments": {},
   "cell_type": "markdown",
   "metadata": {},
   "source": [
    "# Get Labels"
   ]
  },
  {
   "cell_type": "markdown",
   "metadata": {},
   "source": [
    "\"label_list\" contains ground truth labels which is achieved from the file \"colab_Oasbud_convert\"."
   ]
  },
  {
   "cell_type": "code",
   "execution_count": 31,
   "metadata": {},
   "outputs": [],
   "source": [
    "# Use Label list from Colab TFDS Oasbud Addition Demo\n",
    "label_list = [0,\n",
    " 0,\n",
    " 0,\n",
    " 1,\n",
    " 0,\n",
    " 0,\n",
    " 1,\n",
    " 0,\n",
    " 0,\n",
    " 1,\n",
    " 1,\n",
    " 1,\n",
    " 1,\n",
    " 1,\n",
    " 1,\n",
    " 1,\n",
    " 1,\n",
    " 0,\n",
    " 1,\n",
    " 0,\n",
    " 1,\n",
    " 0,\n",
    " 1,\n",
    " 0,\n",
    " 0,\n",
    " 0,\n",
    " 1,\n",
    " 1,\n",
    " 0,\n",
    " 1,\n",
    " 0,\n",
    " 1,\n",
    " 1,\n",
    " 0,\n",
    " 0,\n",
    " 0,\n",
    " 0,\n",
    " 1,\n",
    " 1,\n",
    " 0,\n",
    " 1,\n",
    " 0,\n",
    " 0,\n",
    " 0,\n",
    " 0,\n",
    " 0,\n",
    " 1,\n",
    " 1,\n",
    " 1,\n",
    " 0,\n",
    " 0,\n",
    " 1,\n",
    " 1,\n",
    " 1,\n",
    " 0,\n",
    " 0,\n",
    " 1,\n",
    " 1,\n",
    " 0,\n",
    " 0,\n",
    " 0,\n",
    " 0,\n",
    " 1,\n",
    " 0,\n",
    " 1,\n",
    " 1,\n",
    " 1,\n",
    " 0,\n",
    " 1,\n",
    " 1,\n",
    " 1,\n",
    " 1,\n",
    " 0,\n",
    " 1,\n",
    " 1,\n",
    " 1,\n",
    " 0,\n",
    " 0,\n",
    " 0,\n",
    " 1,\n",
    " 0,\n",
    " 0,\n",
    " 0,\n",
    " 1,\n",
    " 1,\n",
    " 0,\n",
    " 1,\n",
    " 1,\n",
    " 0,\n",
    " 1,\n",
    " 1,\n",
    " 1,\n",
    " 0,\n",
    " 1,\n",
    " 1,\n",
    " 0,\n",
    " 1,\n",
    " 1,\n",
    " 0,\n",
    " 0]\n"
   ]
  },
  {
   "attachments": {},
   "cell_type": "markdown",
   "metadata": {},
   "source": [
    "# Generate Jsons"
   ]
  },
  {
   "attachments": {},
   "cell_type": "markdown",
   "metadata": {},
   "source": [
    "## Update Images & Masks Names"
   ]
  },
  {
   "cell_type": "code",
   "execution_count": 6,
   "metadata": {},
   "outputs": [],
   "source": [
    "image_list = glob(os.path.join('C:/Users/frank/OneDrive/Desktop/GT_Practicum/data/OASBUD/imgs/', \"*.png\"))\n",
    "mask_list = glob(os.path.join('C:/Users/frank/OneDrive/Desktop/GT_Practicum/data/OASBUD/masks/', \"*.png\"))\n",
    "\n",
    "print(f\"Total Image Numbers: {len(image_list)}\")\n",
    "assert len(image_list) == len(mask_list)"
   ]
  },
  {
   "cell_type": "code",
   "execution_count": 69,
   "metadata": {},
   "outputs": [],
   "source": [
    "# for item in image_list:\n",
    "for item in mask_list:\n",
    "    current_file_name = item\n",
    "    new_file_name = os.path.dirname(item) + '/' + os.path.basename(item)[5:]\n",
    "    os.rename(current_file_name, new_file_name)"
   ]
  },
  {
   "attachments": {},
   "cell_type": "markdown",
   "metadata": {},
   "source": [
    "## Genrate jsons using masks"
   ]
  },
  {
   "cell_type": "code",
   "execution_count": 33,
   "metadata": {},
   "outputs": [],
   "source": [
    "image_list = glob(os.path.join('C:/Users/frank/OneDrive/Desktop/GT_Practicum/data/OASBUD/imgs/', \"*.png\"))\n",
    "mask_list = glob(os.path.join('C:/Users/frank/OneDrive/Desktop/GT_Practicum/data/OASBUD/masks/', \"*.png\"))\n",
    "image_list.sort()\n",
    "mask_list.sort()"
   ]
  },
  {
   "cell_type": "code",
   "execution_count": 38,
   "metadata": {},
   "outputs": [
    {
     "name": "stderr",
     "output_type": "stream",
     "text": [
      "200it [00:04, 47.36it/s]\n"
     ]
    }
   ],
   "source": [
    "for i, mask_path in tqdm(enumerate(mask_list)):\n",
    "    mask = read_image(mask_path)\n",
    "    width, height = mask.shape[2], mask.shape[1]\n",
    "    \n",
    "    bool_mask = mask > 0\n",
    "    box = masks_to_boxes(bool_mask)\n",
    "\n",
    "    img_path = os.path.basename(mask_path).split('_mask')[0] + '.png'\n",
    "\n",
    "    json_path = os.path.join('C:/Users/frank/OneDrive/Desktop/GT_Practicum/data/OASBUD/jsons/', img_path.split('.')[0] + '.json')\n",
    "\n",
    "    image_id = int(os.path.basename(mask_path).split('_')[1])\n",
    "    label_id = label_list[image_id]\n",
    "\n",
    "    if label_id == 0:\n",
    "        label = 'benign'\n",
    "    elif label_id == 1:\n",
    "        label = 'malignant'\n",
    "\n",
    "    if os.path.exists(json_path):\n",
    "        with open(json_path, 'r') as f:\n",
    "            label_dic = json.load(f)\n",
    "            \n",
    "        shapes = {\"label\" : label,\n",
    "                    \"points\" : [\n",
    "                            [float(box[0][0]), float(box[0][1])],\n",
    "                            [float(box[0][2]), float(box[0][3])]\n",
    "                    ],\n",
    "                    \"group_id\": None,\n",
    "                    \"shape_type\": \"rectangle\",\n",
    "                    \"flags\": {}\n",
    "                    }\n",
    "        label_dic['shapes'].append(shapes)\n",
    "        \n",
    "    else:\n",
    "        label_dic = {\"version\" : \"5.0.1\",\n",
    "             \"flags\" : {},\n",
    "             \"shapes\" : [],\n",
    "             \"imagePath\" : img_path,\n",
    "             \"imageData\": None,\n",
    "             \"imageHeight\" : height,\n",
    "             \"imageWidth\" : width\n",
    "             }\n",
    "        \n",
    "        shapes = {\"label\" : label,\n",
    "            \"points\" : [\n",
    "                    [float(box[0][0]), float(box[0][1])],\n",
    "                    [float(box[0][2]), float(box[0][3])]\n",
    "            ],\n",
    "            \"group_id\": None,\n",
    "            \"shape_type\": \"rectangle\",\n",
    "            \"flags\": {}\n",
    "            }\n",
    "        label_dic['shapes'].append(shapes)\n",
    "\n",
    "    with open(json_path, 'w') as f:\n",
    "        json.dump(label_dic, f)"
   ]
  },
  {
   "cell_type": "code",
   "execution_count": null,
   "metadata": {},
   "outputs": [],
   "source": []
  }
 ],
 "metadata": {
  "kernelspec": {
   "display_name": "Python 3",
   "language": "python",
   "name": "python3"
  },
  "language_info": {
   "codemirror_mode": {
    "name": "ipython",
    "version": 3
   },
   "file_extension": ".py",
   "mimetype": "text/x-python",
   "name": "python",
   "nbconvert_exporter": "python",
   "pygments_lexer": "ipython3",
   "version": "3.10.11"
  },
  "orig_nbformat": 4
 },
 "nbformat": 4,
 "nbformat_minor": 2
}
