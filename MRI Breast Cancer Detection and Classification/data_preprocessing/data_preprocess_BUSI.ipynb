{
 "cells": [
  {
   "cell_type": "code",
   "execution_count": 1,
   "metadata": {},
   "outputs": [],
   "source": [
    "import os\n",
    "import torch\n",
    "import cv2\n",
    "import shutil\n",
    "import json\n",
    "\n",
    "import numpy as np\n",
    "import pandas as pd\n",
    "\n",
    "from glob import glob\n",
    "from tqdm import tqdm\n",
    "\n",
    "from torchvision.io import read_image\n",
    "from torchvision.ops import masks_to_boxes\n"
   ]
  },
  {
   "cell_type": "markdown",
   "metadata": {},
   "source": [
    "Data from the Public Dataset BUSI contain images and semantic segmentation masks.\n",
    "\n",
    "This script is to convert all the semantic segmentation masks to .json files in Labelme format (same as data provided by Sponsor)"
   ]
  },
  {
   "attachments": {},
   "cell_type": "markdown",
   "metadata": {},
   "source": [
    "# Seperate Images and Labels"
   ]
  },
  {
   "cell_type": "code",
   "execution_count": 2,
   "metadata": {},
   "outputs": [],
   "source": [
    "data_path = \"C:/Users/frank/OneDrive/Desktop/GT_Practicum/data/Dataset_BUSI_with_GT/malignant/\"\n",
    "data_list = glob(os.path.join(data_path, \"*.png\"))\n",
    "len(data_list)"
   ]
  },
  {
   "cell_type": "code",
   "execution_count": 5,
   "metadata": {},
   "outputs": [
    {
     "data": {
      "text/plain": [
       "['C:/Users/frank/OneDrive/Desktop/GT',\n",
       " 'Practicum/data/Dataset',\n",
       " 'BUSI',\n",
       " 'with',\n",
       " 'GT/malignant\\\\malignant (1).png']"
      ]
     },
     "execution_count": 5,
     "metadata": {},
     "output_type": "execute_result"
    }
   ],
   "source": [
    "data_list[0].split('_')"
   ]
  },
  {
   "cell_type": "code",
   "execution_count": 13,
   "metadata": {},
   "outputs": [
    {
     "name": "stderr",
     "output_type": "stream",
     "text": [
      "100%|██████████| 421/421 [00:00<00:00, 538.63it/s]\n"
     ]
    }
   ],
   "source": [
    "for data_path in tqdm(data_list):\n",
    "    if data_path.split('_')[-1] == 'mask.png':\n",
    "        new_data_path = os.path.join('C:/Users/frank/OneDrive/Desktop/GT_Practicum/data/Dataset_BUSI_with_GT/malignant/masks/', os.path.basename(data_path))\n",
    "        shutil.copy(data_path, new_data_path)\n",
    "    else:\n",
    "        new_data_path = os.path.join('C:/Users/frank/OneDrive/Desktop/GT_Practicum/data/Dataset_BUSI_with_GT/malignant/imgs/', os.path.basename(data_path))\n",
    "        shutil.copy(data_path, new_data_path)"
   ]
  },
  {
   "attachments": {},
   "cell_type": "markdown",
   "metadata": {},
   "source": [
    "# Generate jsons using mask"
   ]
  },
  {
   "cell_type": "code",
   "execution_count": 2,
   "metadata": {},
   "outputs": [],
   "source": [
    "image_list = glob(os.path.join('C:/Users/frank/OneDrive/Desktop/GT_Practicum/data/Dataset_BUSI_with_GT/benign/imgs/', \"*.png\"))\n",
    "mask_list = glob(os.path.join('C:/Users/frank/OneDrive/Desktop/GT_Practicum/data/Dataset_BUSI_with_GT/benign/masks/', \"*.png\"))\n",
    "image_list.sort()\n",
    "mask_list.sort()"
   ]
  },
  {
   "cell_type": "code",
   "execution_count": 3,
   "metadata": {},
   "outputs": [
    {
     "name": "stderr",
     "output_type": "stream",
     "text": [
      "100%|██████████| 454/454 [00:01<00:00, 260.62it/s]\n"
     ]
    }
   ],
   "source": [
    "for mask_path in tqdm(mask_list):\n",
    "    mask = read_image(mask_path)\n",
    "    width, height = mask.shape[2], mask.shape[1]\n",
    "    \n",
    "    bool_mask = mask > 0\n",
    "    box = masks_to_boxes(bool_mask)\n",
    "\n",
    "    img_path = os.path.basename(mask_path).split('_')[0] + '.png'\n",
    "\n",
    "    json_path = os.path.join('C:/Users/frank/OneDrive/Desktop/GT_Practicum/data/Dataset_BUSI_with_GT/benign/jsons/', img_path.split('.')[0] + '.json')\n",
    "\n",
    "    if os.path.exists(json_path):\n",
    "        with open(json_path, 'r') as f:\n",
    "            label_dic = json.load(f)\n",
    "            \n",
    "        shapes = {\"label\" : \"benign\",\n",
    "                    \"points\" : [\n",
    "                            [float(box[0][1]), float(box[0][0])],\n",
    "                            [float(box[0][3]), float(box[0][2])]\n",
    "                    ],\n",
    "                    \"group_id\": None,\n",
    "                    \"shape_type\": \"rectangle\",\n",
    "                    \"flags\": {}\n",
    "                    }\n",
    "        label_dic['shapes'].append(shapes)\n",
    "        \n",
    "    else:\n",
    "        label_dic = {\"version\" : \"5.0.1\",\n",
    "             \"flags\" : {},\n",
    "             \"shapes\" : [],\n",
    "             \"imagePath\" : img_path,\n",
    "             \"imageData\": None,\n",
    "             \"imageHeight\" : height,\n",
    "             \"imageWidth\" : width\n",
    "             }\n",
    "        \n",
    "        shapes = {\"label\" : \"benign\",\n",
    "            \"points\" : [\n",
    "                    [float(box[0][1]), float(box[0][0])],\n",
    "                    [float(box[0][3]), float(box[0][2])]\n",
    "            ],\n",
    "            \"group_id\": None,\n",
    "            \"shape_type\": \"rectangle\",\n",
    "            \"flags\": {}\n",
    "            }\n",
    "        label_dic['shapes'].append(shapes)\n",
    "\n",
    "    with open(json_path, 'w') as f:\n",
    "        json.dump(label_dic, f)\n",
    "    "
   ]
  },
  {
   "cell_type": "code",
   "execution_count": null,
   "metadata": {},
   "outputs": [],
   "source": []
  }
 ],
 "metadata": {
  "kernelspec": {
   "display_name": "Python 3",
   "language": "python",
   "name": "python3"
  },
  "language_info": {
   "codemirror_mode": {
    "name": "ipython",
    "version": 3
   },
   "file_extension": ".py",
   "mimetype": "text/x-python",
   "name": "python",
   "nbconvert_exporter": "python",
   "pygments_lexer": "ipython3",
   "version": "3.10.11"
  },
  "orig_nbformat": 4
 },
 "nbformat": 4,
 "nbformat_minor": 2
}
