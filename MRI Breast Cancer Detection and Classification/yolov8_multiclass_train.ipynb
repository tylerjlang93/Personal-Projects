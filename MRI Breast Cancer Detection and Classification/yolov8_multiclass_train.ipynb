{
 "cells": [
  {
   "cell_type": "code",
   "execution_count": 1,
   "metadata": {},
   "outputs": [
    {
     "name": "stderr",
     "output_type": "stream",
     "text": [
      "Ultralytics YOLOv8.0.114  Python-3.9.16 torch-2.0.1 CUDA:0 (NVIDIA GeForce RTX 3080 Ti Laptop GPU, 16384MiB)\n",
      "Setup complete  (20 CPUs, 31.7 GB RAM, 800.4/934.5 GB disk)\n"
     ]
    }
   ],
   "source": [
    "import os\n",
    "import sys\n",
    "\n",
    "import ultralytics\n",
    "from ultralytics import YOLO\n",
    "\n",
    "ultralytics.checks()"
   ]
  },
  {
   "attachments": {},
   "cell_type": "markdown",
   "metadata": {},
   "source": [
    "# Train"
   ]
  },
  {
   "cell_type": "code",
   "execution_count": null,
   "metadata": {},
   "outputs": [],
   "source": [
    "# Load a model\n",
    "# model = YOLO('yolov8n.pt')  # load a pretrained model (recommended for training)\n",
    "# model = YOLO('yolov8s.pt')  # load a pretrained model (recommended for training)\n",
    "# model = YOLO('yolov8m.pt')  # load a pretrained model (recommended for training)\n",
    "model = YOLO('yolov8l.pt')  # load a pretrained model (recommended for training)\n",
    "# model = YOLO('yolov8x.pt')  # load a pretrained model (recommended for training)\n",
    "\n",
    "model.train(data='./wholeset_raw_mc.yaml',   # aiplus_mc.yaml is for multi-class\n",
    "# model.train(data='./wholeset_raw_mc_clbp.yaml',   # aiplus_mc.yaml is for multi-class\n",
    "# model.train(data='./wholeset_raw_aiplus_mc.yaml',   # aiplus_mc.yaml is for multi-class\n",
    "# model.train(data='./wholeset_mc_clahe_bp.yaml',   # aiplus_mc.yaml is for multi-class \n",
    "            lr0=0.00001, \n",
    "            epochs=400,\n",
    "            # batch=32,\n",
    "            batch=16,  \n",
    "            imgsz=640,\n",
    "            # imgsz=160,\n",
    "            # optimizer='SGD', \n",
    "            optimizer = 'Adam',\n",
    "            task='detect')"
   ]
  },
  {
   "attachments": {},
   "cell_type": "markdown",
   "metadata": {},
   "source": [
    "# Val"
   ]
  },
  {
   "attachments": {},
   "cell_type": "markdown",
   "metadata": {},
   "source": [
    "## Yolo8n"
   ]
  },
  {
   "cell_type": "code",
   "execution_count": null,
   "metadata": {},
   "outputs": [],
   "source": [
    "val_model = YOLO('runs/detect/mc_wholeset_raw/yolo8l_0.00001/weights/best.pt')\n",
    "metrics = val_model.val(data='./wholeset_mc.yaml', batch=16, imgsz=640)"
   ]
  },
  {
   "cell_type": "code",
   "execution_count": null,
   "metadata": {},
   "outputs": [],
   "source": []
  }
 ],
 "metadata": {
  "kernelspec": {
   "display_name": "yolov8",
   "language": "python",
   "name": "python3"
  },
  "language_info": {
   "codemirror_mode": {
    "name": "ipython",
    "version": 3
   },
   "file_extension": ".py",
   "mimetype": "text/x-python",
   "name": "python",
   "nbconvert_exporter": "python",
   "pygments_lexer": "ipython3",
   "version": "3.9.16"
  },
  "orig_nbformat": 4
 },
 "nbformat": 4,
 "nbformat_minor": 2
}
